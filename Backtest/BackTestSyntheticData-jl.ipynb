{
 "cells": [
  {
   "cell_type": "code",
   "execution_count": 4,
   "metadata": {},
   "outputs": [
    {
     "name": "stderr",
     "output_type": "stream",
     "text": [
      "WARNING: using Plots.heatmap in module Main conflicts with an existing identifier.\n"
     ]
    }
   ],
   "source": [
    "using Distributions\n",
    "using Statistics\n",
    "using PyCall\n",
    "using Plots\n",
    "using IterTools\n",
    "using DataFrames, GLM\n",
    "using LinearAlgebra\n",
    "using PlotlyJS"
   ]
  },
  {
   "cell_type": "code",
   "execution_count": 2,
   "metadata": {},
   "outputs": [
    {
     "data": {
      "text/plain": [
       "Syntheticbacktesting (generic function with 2 methods)"
      ]
     },
     "metadata": {},
     "output_type": "display_data"
    }
   ],
   "source": [
    "include(\"BackTestSyntheticData.jl\")"
   ]
  },
  {
   "cell_type": "code",
   "execution_count": 3,
   "metadata": {},
   "outputs": [
    {
     "ename": "UndefVarError",
     "evalue": "UndefVarError: Plots not defined",
     "output_type": "error",
     "traceback": [
      "UndefVarError: Plots not defined\n",
      "\n",
      "Stacktrace:\n",
      " [1] top-level scope\n",
      "   @ c:\\Users\\hamid\\OneDrive\\Coding\\RiskLabAI\\RiskLab Code\\2018-13BacktestingSyntheticData\\JL\\BackTestSyntheticData-jl.ipynb:7"
     ]
    }
   ],
   "source": [
    "forcast = [0 5 10 -5 -10] \n",
    "halfLife = [5 10 25 50 100]\n",
    "a = [] \n",
    "\n",
    "for p in product(forcast,halfLife)\n",
    "    out = Syntheticbacktesting(p[1],p[2],1)\n",
    "    Plots.display(heatmap(LinRange(0.5,10,20),LinRange(0.5,10,20), transpose(out),c=cgrad([:yellow, :blue]), xlabel = \"Profit-Taking\",\n",
    "        ylabel = \"Stop-Loss\",title = \"Forecast = $(p[1]) | H-L=$(p[2]) | Sigma=1\", \n",
    "        background = :transparent))\n",
    "    sleep(0.1)\n",
    "end"
   ]
  },
  {
   "cell_type": "code",
   "execution_count": null,
   "metadata": {},
   "outputs": [],
   "source": [
    "forcast = [0 5 10 -5 -10] \n",
    "halfLife = [5 10 25 50 100]\n",
    "a = [] \n",
    "@thread for p in product(forcast,halfLife)\n",
    "    #IJulia.clear_output(true)\n",
    "    out = Syntheticbacktesting(p[1],p[2],1)\n",
    "    Plots.display(heatmap(LinRange(0.5,10,20),LinRange(0.5,10,20),transpose(out),c=cgrad([:black, :white]), xlabel = \"Profit-Taking\",ylabel = \"Stop-Loss\",title = \"Forecast = $(p[1]) | H-L=$(p[2]) | Sigma=1\"))\n",
    "    sleep(0.1)\n",
    "end"
   ]
  },
  {
   "cell_type": "code",
   "execution_count": null,
   "metadata": {},
   "outputs": [],
   "source": [
    "py\"\"\"\n",
    "import yfinance\n",
    "import datetime as dt\n",
    "def get_data():\n",
    "  data = yfinance.download(tickers=\"SPY\", period=\"700d\", interval=\"1d\")\n",
    "  return data[\"Close\"].values\n",
    "\"\"\"\n",
    "price = py\"get_data\"();"
   ]
  },
  {
   "cell_type": "code",
   "execution_count": null,
   "metadata": {},
   "outputs": [],
   "source": [
    "out = Syntheticbacktesting(price,seed = price[1]);"
   ]
  },
  {
   "cell_type": "code",
   "execution_count": null,
   "metadata": {},
   "outputs": [],
   "source": [
    "a,b,c = fit_O_U_process(price)\n",
    "simulated_price = simulate_O_U_process(a,b,c,price[1],length(price));\n",
    "plot(price;legend_position =:topleft,label = \"actual\")\n",
    "plot!(simulated_price,label = \"simulated\")"
   ]
  }
 ],
 "metadata": {
  "kernelspec": {
   "display_name": "Julia 1.8.0",
   "language": "julia",
   "name": "julia-1.8"
  },
  "language_info": {
   "file_extension": ".jl",
   "mimetype": "application/julia",
   "name": "julia",
   "version": "1.8.0"
  },
  "orig_nbformat": 4
 },
 "nbformat": 4,
 "nbformat_minor": 2
}
