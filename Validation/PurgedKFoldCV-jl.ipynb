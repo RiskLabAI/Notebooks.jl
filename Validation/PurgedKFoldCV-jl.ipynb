{
 "cells": [
  {
   "attachments": {},
   "cell_type": "markdown",
   "metadata": {},
   "source": [
    "# Cross Validation in Finance"
   ]
  },
  {
   "cell_type": "code",
   "execution_count": 8,
   "metadata": {},
   "outputs": [
    {
     "ename": "ArgumentError",
     "evalue": "ArgumentError: Package MarketTechnicals not found in current path.\n- Run `import Pkg; Pkg.add(\"MarketTechnicals\")` to install the MarketTechnicals package.",
     "output_type": "error",
     "traceback": [
      "ArgumentError: Package MarketTechnicals not found in current path.\n",
      "- Run `import Pkg; Pkg.add(\"MarketTechnicals\")` to install the MarketTechnicals package.\n",
      "\n",
      "Stacktrace:\n",
      "  [1] macro expansion\n",
      "    @ .\\loading.jl:1163 [inlined]\n",
      "  [2] macro expansion\n",
      "    @ .\\lock.jl:223 [inlined]\n",
      "  [3] require(into::Module, mod::Symbol)\n",
      "    @ Base .\\loading.jl:1144\n",
      "  [4] eval\n",
      "    @ .\\boot.jl:368 [inlined]\n",
      "  [5] include_string(mapexpr::typeof(REPL.softscope), mod::Module, code::String, filename::String)\n",
      "    @ Base .\\loading.jl:1428\n",
      "  [6] #invokelatest#2\n",
      "    @ .\\essentials.jl:729 [inlined]\n",
      "  [7] invokelatest\n",
      "    @ .\\essentials.jl:726 [inlined]\n",
      "  [8] (::VSCodeServer.var\"#198#199\"{VSCodeServer.NotebookRunCellArguments, String})()\n",
      "    @ VSCodeServer c:\\Users\\hamid\\.vscode\\extensions\\julialang.language-julia-1.38.2\\scripts\\packages\\VSCodeServer\\src\\serve_notebook.jl:19\n",
      "  [9] withpath(f::VSCodeServer.var\"#198#199\"{VSCodeServer.NotebookRunCellArguments, String}, path::String)\n",
      "    @ VSCodeServer c:\\Users\\hamid\\.vscode\\extensions\\julialang.language-julia-1.38.2\\scripts\\packages\\VSCodeServer\\src\\repl.jl:249\n",
      " [10] notebook_runcell_request(conn::VSCodeServer.JSONRPC.JSONRPCEndpoint{Base.PipeEndpoint, Base.PipeEndpoint}, params::VSCodeServer.NotebookRunCellArguments)\n",
      "    @ VSCodeServer c:\\Users\\hamid\\.vscode\\extensions\\julialang.language-julia-1.38.2\\scripts\\packages\\VSCodeServer\\src\\serve_notebook.jl:13\n",
      " [11] dispatch_msg(x::VSCodeServer.JSONRPC.JSONRPCEndpoint{Base.PipeEndpoint, Base.PipeEndpoint}, dispatcher::VSCodeServer.JSONRPC.MsgDispatcher, msg::Dict{String, Any})\n",
      "    @ VSCodeServer.JSONRPC c:\\Users\\hamid\\.vscode\\extensions\\julialang.language-julia-1.38.2\\scripts\\packages\\JSONRPC\\src\\typed.jl:67\n",
      " [12] serve_notebook(pipename::String, outputchannel_logger::Base.CoreLogging.SimpleLogger; crashreporting_pipename::String)\n",
      "    @ VSCodeServer c:\\Users\\hamid\\.vscode\\extensions\\julialang.language-julia-1.38.2\\scripts\\packages\\VSCodeServer\\src\\serve_notebook.jl:139\n",
      " [13] top-level scope\n",
      "    @ c:\\Users\\hamid\\.vscode\\extensions\\julialang.language-julia-1.38.2\\scripts\\notebook\\notebook.jl:32"
     ]
    }
   ],
   "source": [
    "using Dates\n",
    "using MarketData\n",
    "using StatsBase\n",
    "# using Plots\n",
    "using DataFrames\n",
    "using Statistics\n",
    "using MarketTechnicals\n",
    "# using Lathe\n",
    "using TimeSeries\n",
    "using Pkg; Pkg.activate(\"my_MLJ_env\", shared=true)\n",
    "# using MLJ\n",
    "# using MLDataUtils\n",
    "# include(\"RiskLabAI-jl\\Validation\\PurgedKFoldCV.jl\")\n",
    "include(\"PurgedKFoldCV.jl\")\n",
    "using RiskLabAI"
   ]
  },
  {
   "cell_type": "markdown",
   "metadata": {},
   "source": [
    "# Data\n",
    "We import bitcoin data from Yahoo finance from 2021."
   ]
  },
  {
   "cell_type": "code",
   "execution_count": 4,
   "metadata": {},
   "outputs": [
    {
     "data": {
      "text/plain": [
       "335×1 TimeArray{Float64, 1, Date, Vector{Float64}} 2021-01-01 to 2021-12-01\n",
       "│            │ Close      │\n",
       "├────────────┼────────────┤\n",
       "│ 2021-01-01 │ 29374.1523 │\n",
       "│ 2021-01-02 │ 32127.2676 │\n",
       "│ 2021-01-03 │ 32782.0234 │\n",
       "│ 2021-01-04 │ 31971.9141 │\n",
       "│ 2021-01-05 │ 33992.4297 │\n",
       "│ 2021-01-06 │ 36824.3633 │\n",
       "│ 2021-01-07 │ 39371.043  │\n",
       "│ 2021-01-08 │ 40797.6094 │\n",
       "│ ⋮          │ ⋮          │\n",
       "│ 2021-11-25 │ 57274.6797 │\n",
       "│ 2021-11-26 │ 53569.7656 │\n",
       "│ 2021-11-27 │ 54815.0781 │\n",
       "│ 2021-11-28 │ 57248.457  │\n",
       "│ 2021-11-29 │ 57806.5664 │\n",
       "│ 2021-11-30 │ 57005.4258 │\n",
       "│ 2021-12-01 │ 57229.8281 │"
      ]
     },
     "metadata": {},
     "output_type": "display_data"
    }
   ],
   "source": [
    "btc = yahoo(\"BTC-USD\", YahooOpt(period1 = DateTime(2021, 1, 1), period2 = DateTime(2021, 12, 1)))[\"Close\"]"
   ]
  },
  {
   "cell_type": "code",
   "execution_count": 5,
   "metadata": {},
   "outputs": [
    {
     "ename": "UndefVarError",
     "evalue": "UndefVarError: ema not defined",
     "output_type": "error",
     "traceback": [
      "UndefVarError: ema not defined\n",
      "\n",
      "Stacktrace:\n",
      " [1] top-level scope\n",
      "   @ c:\\Users\\hamid\\OneDrive\\Coding\\RiskLabAI\\RiskLab Code\\2018-07CV12BacktestingCV\\JL\\PurgedKFoldCV-jl.ipynb:2"
     ]
    }
   ],
   "source": [
    "btc_df = DataFrame(btc[55:end])\n",
    "btc_df[!, \"Expected 55\"] = ema(values(btc), 55)[1:end]\n",
    "btc_df[!, \"Expected 15\"] = ema(values(btc), 15)[55 - 15 + 1: end]\n",
    "btc_df[!, :Cross] .= 0\n",
    "btc_df[!, :Cross] = ifelse.(btc_df[:, \"Expected 55\"] .< btc_df[:, \"Expected 15\"], 1, 0)\n",
    "btc_ts = TimeArray(btc_df, timestamp = :timestamp)"
   ]
  },
  {
   "cell_type": "code",
   "execution_count": null,
   "metadata": {},
   "outputs": [],
   "source": [
    "targetPositions = string.(btc_ts.Cross) # labels\n",
    "data = btc_ts[:Close, Symbol(\"Expected 55\"), Symbol(\"Expected 15\")]\n",
    "times = TimeArray(DataFrame(startTime = timestamp(btc_ts), endTime = append!(timestamp(btc_ts)[2:end], [timestamp(btc_ts)[end] + (timestamp(btc_ts)[2]-timestamp(btc_ts)[1])])), timestamp = :startTime)\n",
    "train_index, test_index = Lathe.preprocess.UniformSplit(collect(1:length(btc_ts)))"
   ]
  },
  {
   "cell_type": "markdown",
   "metadata": {},
   "source": [
    "# Purged Training Times\n",
    "Purges test observations in the training set"
   ]
  },
  {
   "cell_type": "code",
   "execution_count": null,
   "metadata": {},
   "outputs": [],
   "source": [
    "purgedTrainTimes(times, times[test_index])"
   ]
  },
  {
   "cell_type": "markdown",
   "metadata": {},
   "source": [
    "# Embargo Times\n",
    "Gets embargo time for each bar"
   ]
  },
  {
   "cell_type": "code",
   "execution_count": null,
   "metadata": {},
   "outputs": [],
   "source": [
    "embargoTimes(timestamp(btc_ts), 0.05)"
   ]
  },
  {
   "cell_type": "markdown",
   "metadata": {},
   "source": [
    "# Purged KFold and Cross Validation Score\n",
    "Uses the PurgedKFold struct and functions to achieve CV score"
   ]
  },
  {
   "cell_type": "code",
   "execution_count": null,
   "metadata": {},
   "outputs": [],
   "source": [
    "purgedKFold = PurgedKFold(5, times, 0.05)"
   ]
  },
  {
   "cell_type": "code",
   "execution_count": null,
   "metadata": {},
   "outputs": [],
   "source": [
    "collect(purgedKFoldSplit(purgedKFold, btc_ts))"
   ]
  },
  {
   "cell_type": "code",
   "execution_count": null,
   "metadata": {},
   "outputs": [],
   "source": [
    "tree_model = @load RandomForestClassifier pkg=\"DecisionTree\" verbosity=0 "
   ]
  },
  {
   "cell_type": "code",
   "execution_count": null,
   "metadata": {},
   "outputs": [],
   "source": [
    "crossValidationScore(tree_model, data, targetPositions, ones(length(data)), \"Log Loss\", times, purgedKFold, 5, 0.05)"
   ]
  }
 ],
 "metadata": {
  "kernelspec": {
   "display_name": "Julia 1.8.3",
   "language": "julia",
   "name": "julia-1.8"
  },
  "language_info": {
   "file_extension": ".jl",
   "mimetype": "application/julia",
   "name": "julia",
   "version": "1.8.3"
  },
  "orig_nbformat": 4
 },
 "nbformat": 4,
 "nbformat_minor": 2
}
