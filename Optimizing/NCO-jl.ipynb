{
 "cells": [
  {
   "cell_type": "markdown",
   "metadata": {},
   "source": [
    "# Packages"
   ]
  },
  {
   "cell_type": "code",
   "execution_count": 2,
   "metadata": {},
   "outputs": [],
   "source": [
    "using Pkg\n",
    "using Plots\n",
    "using Random\n",
    "using Dates\n",
    "using DataFrames\n",
    "using Statistics\n",
    "using AlphaVantage\n",
    "using Distributions\n",
    "using HypothesisTests\n",
    "using FractionalCalculus\n",
    "using Downloads\n",
    "using CSV\n",
    "using MarketData\n",
    "using Pandas\n",
    "using SciPy\n",
    "using BlockArrays\n",
    "using LinearAlgebra\n",
    "using Pkg\n",
    "using KernelDensity\n",
    "using Distributions\n",
    "using MultiKDE\n",
    "using Optim\n",
    "using Clustering"
   ]
  },
  {
   "cell_type": "code",
   "execution_count": 10,
   "metadata": {},
   "outputs": [],
   "source": [
    "using ScikitLearn"
   ]
  },
  {
   "cell_type": "code",
   "execution_count": 11,
   "metadata": {},
   "outputs": [
    {
     "name": "stderr",
     "output_type": "stream",
     "text": [
      "┌ Info: Installing sklearn via the Conda scikit-learn package...\n",
      "└ @ PyCall C:\\Users\\hamid\\.julia\\packages\\PyCall\\ygXW2\\src\\PyCall.jl:719\n",
      "┌ Info: Running `conda install -y scikit-learn` in root environment\n",
      "└ @ Conda C:\\Users\\hamid\\.julia\\packages\\Conda\\x2UxR\\src\\Conda.jl:127\n"
     ]
    },
    {
     "name": "stdout",
     "output_type": "stream",
     "text": [
      "Collecting package metadata (current_repodata.json): ...working... failed\n"
     ]
    },
    {
     "name": "stderr",
     "output_type": "stream",
     "text": [
      "WARNING conda.exceptions:print_unexpected_error_report(1251): KeyError('pkgs_dirs')\n",
      "Traceback (most recent call last):\n",
      "  File \"C:\\Users\\hamid\\.julia\\conda\\3\\lib\\site-packages\\conda\\exceptions.py\", line 1129, in __call__\n",
      "    return func(*args, **kwargs)\n",
      "  File \"C:\\Users\\hamid\\.julia\\conda\\3\\lib\\site-packages\\conda\\cli\\main.py\", line 86, in main_subshell\n",
      "    exit_code = do_call(args, p)\n",
      "  File \"C:\\Users\\hamid\\.julia\\conda\\3\\lib\\site-packages\\conda\\cli\\conda_argparse.py\", line 93, in do_call\n",
      "    return getattr(module, func_name)(args, parser)\n",
      "  File \"C:\\Users\\hamid\\.julia\\conda\\3\\lib\\site-packages\\conda\\notices\\core.py\", line 72, in wrapper\n",
      "    return_value = func(*args, **kwargs)\n",
      "  File \"C:\\Users\\hamid\\.julia\\conda\\3\\lib\\site-packages\\conda\\cli\\main_install.py\", line 22, in execute\n",
      "    install(args, parser, 'install')\n",
      "  File \"C:\\Users\\hamid\\.julia\\conda\\3\\lib\\site-packages\\conda\\cli\\install.py\", line 261, in install\n",
      "    unlink_link_transaction = solver.solve_for_transaction(\n",
      "  File \"C:\\Users\\hamid\\.julia\\conda\\3\\lib\\site-packages\\conda\\core\\solve.py\", line 156, in solve_for_transaction\n",
      "    unlink_precs, link_precs = self.solve_for_diff(update_modifier, deps_modifier,\n",
      "  File \"C:\\Users\\hamid\\.julia\\conda\\3\\lib\\site-packages\\conda\\core\\solve.py\", line 199, in solve_for_diff\n",
      "    final_precs = self.solve_final_state(update_modifier, deps_modifier, prune, ignore_pinned,\n",
      "  File \"C:\\Users\\hamid\\.julia\\conda\\3\\lib\\site-packages\\conda\\core\\solve.py\", line 304, in solve_final_state\n",
      "    ssc = self._collect_all_metadata(ssc)\n",
      "  File \"C:\\Users\\hamid\\.julia\\conda\\3\\lib\\site-packages\\conda\\common\\io.py\", line 86, in decorated\n",
      "    return f(*args, **kwds)\n",
      "  File \"C:\\Users\\hamid\\.julia\\conda\\3\\lib\\site-packages\\conda\\core\\solve.py\", line 467, in _collect_all_metadata\n",
      "    index, r = self._prepare(prepared_specs)\n",
      "  File \"C:\\Users\\hamid\\.julia\\conda\\3\\lib\\site-packages\\conda\\core\\solve.py\", line 1061, in _prepare\n",
      "    reduced_index = get_reduced_index(self.prefix, self.channels,\n",
      "  File \"C:\\Users\\hamid\\.julia\\conda\\3\\lib\\site-packages\\conda\\core\\index.py\", line 301, in get_reduced_index\n",
      "    new_records = SubdirData.query_all(spec, channels=channels, subdirs=subdirs,\n",
      "  File \"C:\\Users\\hamid\\.julia\\conda\\3\\lib\\site-packages\\conda\\core\\subdir_data.py\", line 115, in query_all\n",
      "    create_cache_dir()\n",
      "  File \"C:\\Users\\hamid\\.julia\\conda\\3\\lib\\site-packages\\conda\\core\\subdir_data.py\", line 737, in create_cache_dir\n",
      "    cache_dir = join(PackageCacheData.first_writable().pkgs_dir, 'cache')\n",
      "  File \"C:\\Users\\hamid\\.julia\\conda\\3\\lib\\site-packages\\conda\\core\\package_cache_data.py\", line 158, in first_writable\n",
      "    pkgs_dirs = context.pkgs_dirs\n",
      "  File \"C:\\Users\\hamid\\.julia\\conda\\3\\lib\\site-packages\\conda\\base\\context.py\", line 555, in pkgs_dirs\n",
      "    fixed_dirs += user_data_dir(APP_NAME, APP_NAME),\n",
      "  File \"C:\\Users\\hamid\\.julia\\conda\\3\\lib\\site-packages\\conda\\_vendor\\appdirs.py\", line 67, in user_data_dir\n",
      "    path = os.path.join(_get_win_folder(const), appauthor, appname)\n",
      "  File \"C:\\Users\\hamid\\.julia\\conda\\3\\lib\\site-packages\\conda\\_vendor\\appdirs.py\", line 265, in _get_win_folder_with_pywin32\n",
      "    from win32com.shell import shellcon, shell\n",
      "ImportError: DLL load failed while importing shell: The specified procedure could not be found.\n",
      "\n",
      "During handling of the above exception, another exception occurred:\n",
      "\n",
      "Traceback (most recent call last):\n",
      "  File \"C:\\Users\\hamid\\.julia\\conda\\3\\lib\\site-packages\\conda\\exceptions.py\", line 1249, in print_unexpected_error_report\n",
      "    message_builder.append(get_main_info_str(error_report['conda_info']))\n",
      "  File \"C:\\Users\\hamid\\.julia\\conda\\3\\lib\\site-packages\\conda\\cli\\main_info.py\", line 237, in get_main_info_str\n",
      "    info_dict['_' + key] = ('\\n' + 26 * ' ').join(info_dict[key])\n",
      "KeyError: 'pkgs_dirs'\n",
      "\n",
      "# >>>>>>>>>>>>>>>>>>>>>> ERROR REPORT <<<<<<<<<<<<<<<<<<<<<<\n",
      "\n",
      "    Traceback (most recent call last):\n",
      "      File \"C:\\Users\\hamid\\.julia\\conda\\3\\lib\\site-packages\\conda\\exceptions.py\", line 1129, in __call__\n",
      "        return func(*args, **kwargs)\n",
      "      File \"C:\\Users\\hamid\\.julia\\conda\\3\\lib\\site-packages\\conda\\cli\\main.py\", line 86, in main_subshell\n",
      "        exit_code = do_call(args, p)\n",
      "      File \"C:\\Users\\hamid\\.julia\\conda\\3\\lib\\site-packages\\conda\\cli\\conda_argparse.py\", line 93, in do_call\n",
      "        return getattr(module, func_name)(args, parser)\n",
      "      File \"C:\\Users\\hamid\\.julia\\conda\\3\\lib\\site-packages\\conda\\notices\\core.py\", line 72, in wrapper\n",
      "        return_value = func(*args, **kwargs)\n",
      "      File \"C:\\Users\\hamid\\.julia\\conda\\3\\lib\\site-packages\\conda\\cli\\main_install.py\", line 22, in execute\n",
      "        install(args, parser, 'install')\n",
      "      File \"C:\\Users\\hamid\\.julia\\conda\\3\\lib\\site-packages\\conda\\cli\\install.py\", line 261, in install\n",
      "        unlink_link_transaction = solver.solve_for_transaction(\n",
      "      File \"C:\\Users\\hamid\\.julia\\conda\\3\\lib\\site-packages\\conda\\core\\solve.py\", line 156, in solve_for_transaction\n",
      "        unlink_precs, link_precs = self.solve_for_diff(update_modifier, deps_modifier,\n",
      "      File \"C:\\Users\\hamid\\.julia\\conda\\3\\lib\\site-packages\\conda\\core\\solve.py\", line 199, in solve_for_diff\n",
      "        final_precs = self.solve_final_state(update_modifier, deps_modifier, prune, ignore_pinned,\n",
      "      File \"C:\\Users\\hamid\\.julia\\conda\\3\\lib\\site-packages\\conda\\core\\solve.py\", line 304, in solve_final_state\n",
      "        ssc = self._collect_all_metadata(ssc)\n",
      "      File \"C:\\Users\\hamid\\.julia\\conda\\3\\lib\\site-packages\\conda\\common\\io.py\", line 86, in decorated\n",
      "        return f(*args, **kwds)\n",
      "      File \"C:\\Users\\hamid\\.julia\\conda\\3\\lib\\site-packages\\conda\\core\\solve.py\", line 467, in _collect_all_metadata\n",
      "        index, r = self._prepare(prepared_specs)\n",
      "      File \"C:\\Users\\hamid\\.julia\\conda\\3\\lib\\site-packages\\conda\\core\\solve.py\", line 1061, in _prepare\n",
      "        reduced_index = get_reduced_index(self.prefix, self.channels,\n",
      "      File \"C:\\Users\\hamid\\.julia\\conda\\3\\lib\\site-packages\\conda\\core\\index.py\", line 301, in get_reduced_index\n",
      "        new_records = SubdirData.query_all(spec, channels=channels, subdirs=subdirs,\n",
      "      File \"C:\\Users\\hamid\\.julia\\conda\\3\\lib\\site-packages\\conda\\core\\subdir_data.py\", line 115, in query_all\n",
      "        create_cache_dir()\n",
      "      File \"C:\\Users\\hamid\\.julia\\conda\\3\\lib\\site-packages\\conda\\core\\subdir_data.py\", line 737, in create_cache_dir\n",
      "        cache_dir = join(PackageCacheData.first_writable().pkgs_dir, 'cache')\n",
      "      File \"C:\\Users\\hamid\\.julia\\conda\\3\\lib\\site-packages\\conda\\core\\package_cache_data.py\", line 158, in first_writable\n",
      "        pkgs_dirs = context.pkgs_dirs\n",
      "      File \"C:\\Users\\hamid\\.julia\\conda\\3\\lib\\site-packages\\conda\\base\\context.py\", line 555, in pkgs_dirs\n",
      "        fixed_dirs += user_data_dir(APP_NAME, APP_NAME),\n",
      "      File \"C:\\Users\\hamid\\.julia\\conda\\3\\lib\\site-packages\\conda\\_vendor\\appdirs.py\", line 67, in user_data_dir\n",
      "        path = os.path.join(_get_win_folder(const), appauthor, appname)\n",
      "      File \"C:\\Users\\hamid\\.julia\\conda\\3\\lib\\site-packages\\conda\\_vendor\\appdirs.py\", line 265, in _get_win_folder_with_pywin32\n",
      "        from win32com.shell import shellcon, shell\n",
      "    ImportError: DLL load failed while importing shell: The specified procedure could not be found.\n",
      "\n",
      "`$ C:\\Users\\hamid\\.julia\\conda\\3\\Scripts\\conda-script.py install -y scikit-learn`\n",
      "\n",
      "  environment variables:\n",
      "conda info could not be constructed.\n",
      "KeyError('pkgs_dirs')\n",
      "\n",
      "An unexpected error has occurred. Conda has prepared the above report.\n",
      "\n",
      "Upload successful.\n"
     ]
    },
    {
     "ename": "LoadError",
     "evalue": "failed process: Process(setenv(`\u001b[4m'C:\\Users\\hamid\\.julia\\conda\\3\\Scripts\\conda.exe'\u001b[24m \u001b[4minstall\u001b[24m \u001b[4m-y\u001b[24m \u001b[4mscikit-learn\u001b[24m`,[\"PATH=C:\\\\Users\\\\hamid\\\\.julia\\\\conda\\\\3\\\\Library\\\\bin;C:\\\\Users\\\\hamid\\\\.julia\\\\conda\\\\3\\\\Library\\\\bin;C:\\\\Program Files\\\\Python38\\\\Scripts\\\\;C:\\\\Program Files\\\\Python38\\\\;C:\\\\WINDOWS\\\\system32;C:\\\\WINDOWS;C:\\\\WINDOWS\\\\System32\\\\Wbem;C:\\\\WINDOWS\\\\System32\\\\WindowsPowerShell\\\\v1.0\\\\;C:\\\\WINDOWS\\\\System32\\\\OpenSSH\\\\;C:\\\\Program Files\\\\Microsoft VS Code\\\\bin;C:\\\\Program Files\\\\dotnet\\\\;C:\\\\Program Files\\\\Git\\\\cmd;%SystemRoot%\\\\system32;%SystemRoot%;%SystemRoot%\\\\System32\\\\Wbem;%SYSTEMROOT%\\\\System32\\\\WindowsPowerShell\\\\v1.0\\\\;%SYSTEMROOT%\\\\System32\\\\OpenSSH\\\\;C:\\\\Users\\\\hamid\\\\AppData\\\\Local\\\\Programs\\\\PythonCodingPack\\\\Scripts;C:\\\\Users\\\\hamid\\\\AppData\\\\Local\\\\Programs\\\\PythonCodingPack;C:\\\\Users\\\\hamid\\\\AppData\\\\Local\\\\Microsoft\\\\WindowsApps;C:\\\\Users\\\\hamid\\\\AppData\\\\Local\\\\GitHubDesktop\\\\bin;C:\\\\Users\\\\hamid\\\\AppData\\\\Local\\\\gitkraken\\\\bin;C:\\\\Users\\\\hamid\\\\.dotnet\\\\tools;C:\\\\Program Files\\\\JetBrains\\\\PyCharm 2022.1.2\\\\bin;;C:\\\\Users\\\\hamid\\\\AppData\\\\Local\\\\Microsoft\\\\WindowsApps;\", \"USERDOMAIN_ROAMINGPROFILE=DESKTOP-UF0P3UO\", \"HOMEPATH=\\\\Users\\\\hamid\", \"VSCODE_NLS_CONFIG={\\\"locale\\\":\\\"en-ca\\\",\\\"availableLanguages\\\":{},\\\"_languagePackSupport\\\":true}\", \"GKS_ENCODING=utf8\", \"PATHEXT=.COM;.EXE;.BAT;.CMD;.VBS;.VBE;.JS;.JSE;.WSF;.WSH;.MSC;.PY;.PYW\", \"SESSIONNAME=Console\", \"GKS_USE_CAIRO_PNG=true\", \"APPDATA=C:\\\\Users\\\\hamid\\\\AppData\\\\Roaming\", \"PSMODULEPATH=C:\\\\Program Files\\\\WindowsPowerShell\\\\Modules;C:\\\\WINDOWS\\\\system32\\\\WindowsPowerShell\\\\v1.0\\\\Modules\"  …  \"PORTLAB_API_KEY=a991f3904d485fc528dae3cc10bb252c\", \"LOGONSERVER=\\\\\\\\DESKTOP-UF0P3UO\", \"DRIVERDATA=C:\\\\Windows\\\\System32\\\\Drivers\\\\DriverData\", \"ORIGINAL_XDG_CURRENT_DESKTOP=undefined\", \"FONTCONFIG_PATH=C:\\\\Users\\\\hamid\\\\.julia\\\\artifacts\\\\c916a560fa109a4db3d6938a8ab1a6a8b4a09731\\\\etc\\\\fonts\", \"CONDA_PREFIX=C:\\\\Users\\\\hamid\\\\.julia\\\\conda\\\\3\", \"FPS_BROWSER_USER_PROFILE_STRING=Default\", \"SYSTEMDRIVE=C:\", \"FPS_BROWSER_APP_PROFILE_STRING=Internet Explorer\", \"PROCESSOR_ARCHITECTURE=AMD64\"]), ProcessExited(1)) [1]\n",
     "output_type": "error",
     "traceback": [
      "failed process: Process(setenv(`\u001b[4m'C:\\Users\\hamid\\.julia\\conda\\3\\Scripts\\conda.exe'\u001b[24m \u001b[4minstall\u001b[24m \u001b[4m-y\u001b[24m \u001b[4mscikit-learn\u001b[24m`,[\"PATH=C:\\\\Users\\\\hamid\\\\.julia\\\\conda\\\\3\\\\Library\\\\bin;C:\\\\Users\\\\hamid\\\\.julia\\\\conda\\\\3\\\\Library\\\\bin;C:\\\\Program Files\\\\Python38\\\\Scripts\\\\;C:\\\\Program Files\\\\Python38\\\\;C:\\\\WINDOWS\\\\system32;C:\\\\WINDOWS;C:\\\\WINDOWS\\\\System32\\\\Wbem;C:\\\\WINDOWS\\\\System32\\\\WindowsPowerShell\\\\v1.0\\\\;C:\\\\WINDOWS\\\\System32\\\\OpenSSH\\\\;C:\\\\Program Files\\\\Microsoft VS Code\\\\bin;C:\\\\Program Files\\\\dotnet\\\\;C:\\\\Program Files\\\\Git\\\\cmd;%SystemRoot%\\\\system32;%SystemRoot%;%SystemRoot%\\\\System32\\\\Wbem;%SYSTEMROOT%\\\\System32\\\\WindowsPowerShell\\\\v1.0\\\\;%SYSTEMROOT%\\\\System32\\\\OpenSSH\\\\;C:\\\\Users\\\\hamid\\\\AppData\\\\Local\\\\Programs\\\\PythonCodingPack\\\\Scripts;C:\\\\Users\\\\hamid\\\\AppData\\\\Local\\\\Programs\\\\PythonCodingPack;C:\\\\Users\\\\hamid\\\\AppData\\\\Local\\\\Microsoft\\\\WindowsApps;C:\\\\Users\\\\hamid\\\\AppData\\\\Local\\\\GitHubDesktop\\\\bin;C:\\\\Users\\\\hamid\\\\AppData\\\\Local\\\\gitkraken\\\\bin;C:\\\\Users\\\\hamid\\\\.dotnet\\\\tools;C:\\\\Program Files\\\\JetBrains\\\\PyCharm 2022.1.2\\\\bin;;C:\\\\Users\\\\hamid\\\\AppData\\\\Local\\\\Microsoft\\\\WindowsApps;\", \"USERDOMAIN_ROAMINGPROFILE=DESKTOP-UF0P3UO\", \"HOMEPATH=\\\\Users\\\\hamid\", \"VSCODE_NLS_CONFIG={\\\"locale\\\":\\\"en-ca\\\",\\\"availableLanguages\\\":{},\\\"_languagePackSupport\\\":true}\", \"GKS_ENCODING=utf8\", \"PATHEXT=.COM;.EXE;.BAT;.CMD;.VBS;.VBE;.JS;.JSE;.WSF;.WSH;.MSC;.PY;.PYW\", \"SESSIONNAME=Console\", \"GKS_USE_CAIRO_PNG=true\", \"APPDATA=C:\\\\Users\\\\hamid\\\\AppData\\\\Roaming\", \"PSMODULEPATH=C:\\\\Program Files\\\\WindowsPowerShell\\\\Modules;C:\\\\WINDOWS\\\\system32\\\\WindowsPowerShell\\\\v1.0\\\\Modules\"  …  \"PORTLAB_API_KEY=a991f3904d485fc528dae3cc10bb252c\", \"LOGONSERVER=\\\\\\\\DESKTOP-UF0P3UO\", \"DRIVERDATA=C:\\\\Windows\\\\System32\\\\Drivers\\\\DriverData\", \"ORIGINAL_XDG_CURRENT_DESKTOP=undefined\", \"FONTCONFIG_PATH=C:\\\\Users\\\\hamid\\\\.julia\\\\artifacts\\\\c916a560fa109a4db3d6938a8ab1a6a8b4a09731\\\\etc\\\\fonts\", \"CONDA_PREFIX=C:\\\\Users\\\\hamid\\\\.julia\\\\conda\\\\3\", \"FPS_BROWSER_USER_PROFILE_STRING=Default\", \"SYSTEMDRIVE=C:\", \"FPS_BROWSER_APP_PROFILE_STRING=Internet Explorer\", \"PROCESSOR_ARCHITECTURE=AMD64\"]), ProcessExited(1)) [1]\n",
      "",
      "Stacktrace:",
      "  [1] pipeline_error",
      "    @ .\\process.jl:565 [inlined]",
      "  [2] run(::Cmd; wait::Bool)",
      "    @ Base .\\process.jl:480",
      "  [3] run",
      "    @ .\\process.jl:477 [inlined]",
      "  [4] runconda(args::Cmd, env::String)",
      "    @ Conda C:\\Users\\hamid\\.julia\\packages\\Conda\\x2UxR\\src\\Conda.jl:128",
      "  [5] add(pkg::String, env::String; channel::String)",
      "    @ Conda C:\\Users\\hamid\\.julia\\packages\\Conda\\x2UxR\\src\\Conda.jl:222",
      "  [6] add (repeats 2 times)",
      "    @ C:\\Users\\hamid\\.julia\\packages\\Conda\\x2UxR\\src\\Conda.jl:220 [inlined]",
      "  [7] pyimport_conda(modulename::String, condapkg::String, channel::String)",
      "    @ PyCall C:\\Users\\hamid\\.julia\\packages\\PyCall\\ygXW2\\src\\PyCall.jl:721",
      "  [8] pyimport_conda",
      "    @ C:\\Users\\hamid\\.julia\\packages\\PyCall\\ygXW2\\src\\PyCall.jl:715 [inlined]",
      "  [9] import_sklearn()",
      "    @ ScikitLearn.Skcore C:\\Users\\hamid\\.julia\\packages\\ScikitLearn\\7Csem\\src\\Skcore.jl:170",
      " [10] top-level scope",
      "    @ C:\\Users\\hamid\\.julia\\packages\\ScikitLearn\\7Csem\\src\\Skcore.jl:206",
      " [11] eval",
      "    @ .\\boot.jl:368 [inlined]",
      " [12] include_string(mapexpr::typeof(REPL.softscope), mod::Module, code::String, filename::String)",
      "    @ Base .\\loading.jl:1428"
     ]
    }
   ],
   "source": [
    "@sk_import metrics : silhouette_samples"
   ]
  },
  {
   "cell_type": "markdown",
   "metadata": {},
   "source": [
    "# Include jl file"
   ]
  },
  {
   "cell_type": "code",
   "execution_count": 5,
   "metadata": {},
   "outputs": [
    {
     "data": {
      "text/plain": [
       "optPort"
      ]
     },
     "execution_count": 5,
     "metadata": {},
     "output_type": "execute_result"
    }
   ],
   "source": [
    "include(\"NCO.jl\")\n",
    "include(\"C:\\\\Users\\\\hamid\\\\OneDrive\\\\Coding\\\\RiskLabAI\\\\RiskLab Code\\\\2020-02Denoising\\\\JL\\\\Denoising.jl\")"
   ]
  },
  {
   "cell_type": "markdown",
   "metadata": {},
   "source": [
    "# Snippet 7.1"
   ]
  },
  {
   "cell_type": "code",
   "execution_count": 6,
   "metadata": {},
   "outputs": [
    {
     "name": "stdout",
     "output_type": "stream",
     "text": [
      "3.0\n"
     ]
    },
    {
     "data": {
      "image/svg+xml": "<?xml version=\"1.0\" encoding=\"utf-8\"?>\n<svg xmlns=\"http://www.w3.org/2000/svg\" xmlns:xlink=\"http://www.w3.org/1999/xlink\" width=\"600\" height=\"400\" viewBox=\"0 0 2400 1600\">\n<defs>\n  <clipPath id=\"clip490\">\n    <rect x=\"0\" y=\"0\" width=\"2400\" height=\"1600\"/>\n  </clipPath>\n</defs>\n<path clip-path=\"url(#clip490)\" d=\"\nM0 1600 L2400 1600 L2400 0 L0 0  Z\n  \" fill=\"#ffffff\" fill-rule=\"evenodd\" fill-opacity=\"1\"/>\n<defs>\n  <clipPath id=\"clip491\">\n    <rect x=\"480\" y=\"0\" width=\"1681\" height=\"1600\"/>\n  </clipPath>\n</defs>\n<path clip-path=\"url(#clip490)\" d=\"\nM112.177 1486.45 L2112.76 1486.45 L2112.76 47.2441 L112.177 47.2441  Z\n  \" fill=\"#ffffff\" fill-rule=\"evenodd\" fill-opacity=\"1\"/>\n<defs>\n  <clipPath id=\"clip492\">\n    <rect x=\"112\" y=\"47\" width=\"2002\" height=\"1440\"/>\n  </clipPath>\n</defs>\n<polyline clip-path=\"url(#clip492)\" style=\"stroke:#000000; stroke-linecap:round; stroke-linejoin:round; stroke-width:2; stroke-opacity:0.1; fill:none\" points=\"\n  362.25,47.2441 362.25,1486.45 \n  \"/>\n<polyline clip-path=\"url(#clip492)\" style=\"stroke:#000000; stroke-linecap:round; stroke-linejoin:round; stroke-width:2; stroke-opacity:0.1; fill:none\" points=\"\n  862.394,47.2441 862.394,1486.45 \n  \"/>\n<polyline clip-path=\"url(#clip492)\" style=\"stroke:#000000; stroke-linecap:round; stroke-linejoin:round; stroke-width:2; stroke-opacity:0.1; fill:none\" points=\"\n  1362.54,47.2441 1362.54,1486.45 \n  \"/>\n<polyline clip-path=\"url(#clip492)\" style=\"stroke:#000000; stroke-linecap:round; stroke-linejoin:round; stroke-width:2; stroke-opacity:0.1; fill:none\" points=\"\n  1862.68,47.2441 1862.68,1486.45 \n  \"/>\n<polyline clip-path=\"url(#clip490)\" style=\"stroke:#000000; stroke-linecap:round; stroke-linejoin:round; stroke-width:4; stroke-opacity:1; fill:none\" points=\"\n  112.177,1486.45 2112.76,1486.45 \n  \"/>\n<polyline clip-path=\"url(#clip490)\" style=\"stroke:#000000; stroke-linecap:round; stroke-linejoin:round; stroke-width:4; stroke-opacity:1; fill:none\" points=\"\n  362.25,1486.45 362.25,1467.55 \n  \"/>\n<polyline clip-path=\"url(#clip490)\" style=\"stroke:#000000; stroke-linecap:round; stroke-linejoin:round; stroke-width:4; stroke-opacity:1; fill:none\" points=\"\n  862.394,1486.45 862.394,1467.55 \n  \"/>\n<polyline clip-path=\"url(#clip490)\" style=\"stroke:#000000; stroke-linecap:round; stroke-linejoin:round; stroke-width:4; stroke-opacity:1; fill:none\" points=\"\n  1362.54,1486.45 1362.54,1467.55 \n  \"/>\n<polyline clip-path=\"url(#clip490)\" style=\"stroke:#000000; stroke-linecap:round; stroke-linejoin:round; stroke-width:4; stroke-opacity:1; fill:none\" points=\"\n  1862.68,1486.45 1862.68,1467.55 \n  \"/>\n<path clip-path=\"url(#clip490)\" d=\"M352.632 1544.91 L360.27 1544.91 L360.27 1518.55 L351.96 1520.21 L351.96 1515.95 L360.224 1514.29 L364.9 1514.29 L364.9 1544.91 L372.539 1544.91 L372.539 1548.85 L352.632 1548.85 L352.632 1544.91 Z\" fill=\"#000000\" fill-rule=\"evenodd\" fill-opacity=\"1\" /><path clip-path=\"url(#clip490)\" d=\"M857.047 1544.91 L873.366 1544.91 L873.366 1548.85 L851.422 1548.85 L851.422 1544.91 Q854.084 1542.16 858.667 1537.53 Q863.274 1532.88 864.454 1531.53 Q866.7 1529.01 867.579 1527.27 Q868.482 1525.51 868.482 1523.82 Q868.482 1521.07 866.538 1519.33 Q864.616 1517.6 861.515 1517.6 Q859.316 1517.6 856.862 1518.36 Q854.431 1519.13 851.654 1520.68 L851.654 1515.95 Q854.478 1514.82 856.931 1514.24 Q859.385 1513.66 861.422 1513.66 Q866.792 1513.66 869.987 1516.35 Q873.181 1519.03 873.181 1523.52 Q873.181 1525.65 872.371 1527.57 Q871.584 1529.47 869.477 1532.07 Q868.899 1532.74 865.797 1535.95 Q862.695 1539.15 857.047 1544.91 Z\" fill=\"#000000\" fill-rule=\"evenodd\" fill-opacity=\"1\" /><path clip-path=\"url(#clip490)\" d=\"M1366.79 1530.21 Q1370.14 1530.93 1372.02 1533.2 Q1373.92 1535.47 1373.92 1538.8 Q1373.92 1543.92 1370.4 1546.72 Q1366.88 1549.52 1360.4 1549.52 Q1358.22 1549.52 1355.91 1549.08 Q1353.62 1548.66 1351.16 1547.81 L1351.16 1543.29 Q1353.11 1544.43 1355.42 1545.01 Q1357.74 1545.58 1360.26 1545.58 Q1364.66 1545.58 1366.95 1543.85 Q1369.26 1542.11 1369.26 1538.8 Q1369.26 1535.75 1367.11 1534.03 Q1364.98 1532.3 1361.16 1532.3 L1357.13 1532.3 L1357.13 1528.45 L1361.35 1528.45 Q1364.8 1528.45 1366.62 1527.09 Q1368.45 1525.7 1368.45 1523.11 Q1368.45 1520.45 1366.56 1519.03 Q1364.68 1517.6 1361.16 1517.6 Q1359.24 1517.6 1357.04 1518.01 Q1354.84 1518.43 1352.2 1519.31 L1352.2 1515.14 Q1354.87 1514.4 1357.18 1514.03 Q1359.52 1513.66 1361.58 1513.66 Q1366.9 1513.66 1370 1516.09 Q1373.11 1518.5 1373.11 1522.62 Q1373.11 1525.49 1371.46 1527.48 Q1369.82 1529.45 1366.79 1530.21 Z\" fill=\"#000000\" fill-rule=\"evenodd\" fill-opacity=\"1\" /><path clip-path=\"url(#clip490)\" d=\"M1865.69 1518.36 L1853.89 1536.81 L1865.69 1536.81 L1865.69 1518.36 M1864.47 1514.29 L1870.35 1514.29 L1870.35 1536.81 L1875.28 1536.81 L1875.28 1540.7 L1870.35 1540.7 L1870.35 1548.85 L1865.69 1548.85 L1865.69 1540.7 L1850.09 1540.7 L1850.09 1536.19 L1864.47 1514.29 Z\" fill=\"#000000\" fill-rule=\"evenodd\" fill-opacity=\"1\" /><polyline clip-path=\"url(#clip492)\" style=\"stroke:#000000; stroke-linecap:round; stroke-linejoin:round; stroke-width:2; stroke-opacity:0.1; fill:none\" points=\"\n  112.177,227.145 2112.76,227.145 \n  \"/>\n<polyline clip-path=\"url(#clip492)\" style=\"stroke:#000000; stroke-linecap:round; stroke-linejoin:round; stroke-width:2; stroke-opacity:0.1; fill:none\" points=\"\n  112.177,586.946 2112.76,586.946 \n  \"/>\n<polyline clip-path=\"url(#clip492)\" style=\"stroke:#000000; stroke-linecap:round; stroke-linejoin:round; stroke-width:2; stroke-opacity:0.1; fill:none\" points=\"\n  112.177,946.746 2112.76,946.746 \n  \"/>\n<polyline clip-path=\"url(#clip492)\" style=\"stroke:#000000; stroke-linecap:round; stroke-linejoin:round; stroke-width:2; stroke-opacity:0.1; fill:none\" points=\"\n  112.177,1306.55 2112.76,1306.55 \n  \"/>\n<polyline clip-path=\"url(#clip490)\" style=\"stroke:#000000; stroke-linecap:round; stroke-linejoin:round; stroke-width:4; stroke-opacity:1; fill:none\" points=\"\n  112.177,47.2441 112.177,1486.45 \n  \"/>\n<polyline clip-path=\"url(#clip490)\" style=\"stroke:#000000; stroke-linecap:round; stroke-linejoin:round; stroke-width:4; stroke-opacity:1; fill:none\" points=\"\n  112.177,227.145 129.051,227.145 \n  \"/>\n<polyline clip-path=\"url(#clip490)\" style=\"stroke:#000000; stroke-linecap:round; stroke-linejoin:round; stroke-width:4; stroke-opacity:1; fill:none\" points=\"\n  112.177,586.946 129.051,586.946 \n  \"/>\n<polyline clip-path=\"url(#clip490)\" style=\"stroke:#000000; stroke-linecap:round; stroke-linejoin:round; stroke-width:4; stroke-opacity:1; fill:none\" points=\"\n  112.177,946.746 129.051,946.746 \n  \"/>\n<polyline clip-path=\"url(#clip490)\" style=\"stroke:#000000; stroke-linecap:round; stroke-linejoin:round; stroke-width:4; stroke-opacity:1; fill:none\" points=\"\n  112.177,1306.55 129.051,1306.55 \n  \"/>\n<path clip-path=\"url(#clip490)\" d=\"M56.2699 240.489 L63.9087 240.489 L63.9087 214.124 L55.5986 215.79 L55.5986 211.531 L63.8624 209.865 L68.5383 209.865 L68.5383 240.489 L76.1772 240.489 L76.1772 244.425 L56.2699 244.425 L56.2699 240.489 Z\" fill=\"#000000\" fill-rule=\"evenodd\" fill-opacity=\"1\" /><path clip-path=\"url(#clip490)\" d=\"M59.8578 600.29 L76.1772 600.29 L76.1772 604.226 L54.2328 604.226 L54.2328 600.29 Q56.8949 597.536 61.4782 592.906 Q66.0846 588.253 67.2652 586.911 Q69.5105 584.388 70.3902 582.652 Q71.2929 580.892 71.2929 579.202 Q71.2929 576.448 69.3485 574.712 Q67.4272 572.976 64.3254 572.976 Q62.1263 572.976 59.6726 573.74 Q57.2421 574.503 54.4643 576.054 L54.4643 571.332 Q57.2884 570.198 59.7421 569.619 Q62.1958 569.041 64.2328 569.041 Q69.6031 569.041 72.7976 571.726 Q75.992 574.411 75.992 578.902 Q75.992 581.031 75.1818 582.952 Q74.3948 584.851 72.2883 587.443 Q71.7096 588.114 68.6078 591.332 Q65.5059 594.526 59.8578 600.29 Z\" fill=\"#000000\" fill-rule=\"evenodd\" fill-opacity=\"1\" /><path clip-path=\"url(#clip490)\" d=\"M69.0476 945.392 Q72.404 946.11 74.279 948.378 Q76.1772 950.647 76.1772 953.98 Q76.1772 959.096 72.6587 961.897 Q69.1402 964.698 62.6587 964.698 Q60.4828 964.698 58.168 964.258 Q55.8764 963.841 53.4227 962.985 L53.4227 958.471 Q55.3671 959.605 57.6819 960.184 Q59.9967 960.763 62.5198 960.763 Q66.918 960.763 69.2096 959.026 Q71.5244 957.29 71.5244 953.98 Q71.5244 950.925 69.3717 949.212 Q67.242 947.476 63.4226 947.476 L59.3949 947.476 L59.3949 943.633 L63.6078 943.633 Q67.0569 943.633 68.8855 942.267 Q70.7142 940.878 70.7142 938.286 Q70.7142 935.624 68.8161 934.212 Q66.9411 932.777 63.4226 932.777 Q61.5013 932.777 59.3023 933.193 Q57.1032 933.61 54.4643 934.49 L54.4643 930.323 Q57.1264 929.582 59.4412 929.212 Q61.7791 928.841 63.8393 928.841 Q69.1633 928.841 72.2652 931.272 Q75.367 933.679 75.367 937.8 Q75.367 940.67 73.7235 942.661 Q72.08 944.628 69.0476 945.392 Z\" fill=\"#000000\" fill-rule=\"evenodd\" fill-opacity=\"1\" /><path clip-path=\"url(#clip490)\" d=\"M66.5939 1293.34 L54.7884 1311.79 L66.5939 1311.79 L66.5939 1293.34 M65.367 1289.27 L71.2466 1289.27 L71.2466 1311.79 L76.1772 1311.79 L76.1772 1315.68 L71.2466 1315.68 L71.2466 1323.83 L66.5939 1323.83 L66.5939 1315.68 L50.9921 1315.68 L50.9921 1311.17 L65.367 1289.27 Z\" fill=\"#000000\" fill-rule=\"evenodd\" fill-opacity=\"1\" /><g clip-path=\"url(#clip492)\">\n<image width=\"2001\" height=\"1439\" xlink:href=\"data:image/png;base64,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\n\" transform=\"translate(112, 47)\"/>\n</g>\n<defs>\n  <clipPath id=\"clip493\">\n    <rect x=\"2160\" y=\"47\" width=\"73\" height=\"1440\"/>\n  </clipPath>\n</defs>\n<g clip-path=\"url(#clip493)\">\n<image width=\"72\" height=\"1439\" xlink:href=\"data:image/png;base64,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\n\" transform=\"translate(2161, 47)\"/>\n</g>\n<path clip-path=\"url(#clip490)\" d=\"M2280.7 1468.62 Q2277.09 1468.62 2275.26 1472.18 Q2273.45 1475.72 2273.45 1482.85 Q2273.45 1489.96 2275.26 1493.53 Q2277.09 1497.07 2280.7 1497.07 Q2284.33 1497.07 2286.14 1493.53 Q2287.97 1489.96 2287.97 1482.85 Q2287.97 1475.72 2286.14 1472.18 Q2284.33 1468.62 2280.7 1468.62 M2280.7 1464.91 Q2286.51 1464.91 2289.57 1469.52 Q2292.64 1474.1 2292.64 1482.85 Q2292.64 1491.58 2289.57 1496.19 Q2286.51 1500.77 2280.7 1500.77 Q2274.89 1500.77 2271.81 1496.19 Q2268.76 1491.58 2268.76 1482.85 Q2268.76 1474.1 2271.81 1469.52 Q2274.89 1464.91 2280.7 1464.91 Z\" fill=\"#000000\" fill-rule=\"evenodd\" fill-opacity=\"1\" /><path clip-path=\"url(#clip490)\" d=\"M2280.7 1324.7 Q2277.09 1324.7 2275.26 1328.26 Q2273.45 1331.8 2273.45 1338.93 Q2273.45 1346.04 2275.26 1349.6 Q2277.09 1353.15 2280.7 1353.15 Q2284.33 1353.15 2286.14 1349.6 Q2287.97 1346.04 2287.97 1338.93 Q2287.97 1331.8 2286.14 1328.26 Q2284.33 1324.7 2280.7 1324.7 M2280.7 1320.99 Q2286.51 1320.99 2289.57 1325.6 Q2292.64 1330.18 2292.64 1338.93 Q2292.64 1347.66 2289.57 1352.27 Q2286.51 1356.85 2280.7 1356.85 Q2274.89 1356.85 2271.81 1352.27 Q2268.76 1347.66 2268.76 1338.93 Q2268.76 1330.18 2271.81 1325.6 Q2274.89 1320.99 2280.7 1320.99 Z\" fill=\"#000000\" fill-rule=\"evenodd\" fill-opacity=\"1\" /><path clip-path=\"url(#clip490)\" d=\"M2300.86 1350.3 L2305.75 1350.3 L2305.75 1356.18 L2300.86 1356.18 L2300.86 1350.3 Z\" fill=\"#000000\" fill-rule=\"evenodd\" fill-opacity=\"1\" /><path clip-path=\"url(#clip490)\" d=\"M2316.74 1352.24 L2324.38 1352.24 L2324.38 1325.88 L2316.07 1327.54 L2316.07 1323.29 L2324.33 1321.62 L2329.01 1321.62 L2329.01 1352.24 L2336.65 1352.24 L2336.65 1356.18 L2316.74 1356.18 L2316.74 1352.24 Z\" fill=\"#000000\" fill-rule=\"evenodd\" fill-opacity=\"1\" /><path clip-path=\"url(#clip490)\" d=\"M2280.7 1180.78 Q2277.09 1180.78 2275.26 1184.34 Q2273.45 1187.88 2273.45 1195.01 Q2273.45 1202.12 2275.26 1205.68 Q2277.09 1209.23 2280.7 1209.23 Q2284.33 1209.23 2286.14 1205.68 Q2287.97 1202.12 2287.97 1195.01 Q2287.97 1187.88 2286.14 1184.34 Q2284.33 1180.78 2280.7 1180.78 M2280.7 1177.07 Q2286.51 1177.07 2289.57 1181.68 Q2292.64 1186.26 2292.64 1195.01 Q2292.64 1203.74 2289.57 1208.35 Q2286.51 1212.93 2280.7 1212.93 Q2274.89 1212.93 2271.81 1208.35 Q2268.76 1203.74 2268.76 1195.01 Q2268.76 1186.26 2271.81 1181.68 Q2274.89 1177.07 2280.7 1177.07 Z\" fill=\"#000000\" fill-rule=\"evenodd\" fill-opacity=\"1\" /><path clip-path=\"url(#clip490)\" d=\"M2300.86 1206.38 L2305.75 1206.38 L2305.75 1212.26 L2300.86 1212.26 L2300.86 1206.38 Z\" fill=\"#000000\" fill-rule=\"evenodd\" fill-opacity=\"1\" /><path clip-path=\"url(#clip490)\" d=\"M2319.96 1208.32 L2336.28 1208.32 L2336.28 1212.26 L2314.33 1212.26 L2314.33 1208.32 Q2317 1205.57 2321.58 1200.94 Q2326.19 1196.29 2327.37 1194.94 Q2329.61 1192.42 2330.49 1190.68 Q2331.39 1188.93 2331.39 1187.24 Q2331.39 1184.48 2329.45 1182.74 Q2327.53 1181.01 2324.43 1181.01 Q2322.23 1181.01 2319.77 1181.77 Q2317.34 1182.54 2314.57 1184.09 L2314.57 1179.36 Q2317.39 1178.23 2319.84 1177.65 Q2322.3 1177.07 2324.33 1177.07 Q2329.7 1177.07 2332.9 1179.76 Q2336.09 1182.44 2336.09 1186.93 Q2336.09 1189.06 2335.28 1190.99 Q2334.5 1192.88 2332.39 1195.48 Q2331.81 1196.15 2328.71 1199.36 Q2325.61 1202.56 2319.96 1208.32 Z\" fill=\"#000000\" fill-rule=\"evenodd\" fill-opacity=\"1\" /><path clip-path=\"url(#clip490)\" d=\"M2280.7 1036.86 Q2277.09 1036.86 2275.26 1040.42 Q2273.45 1043.96 2273.45 1051.09 Q2273.45 1058.2 2275.26 1061.76 Q2277.09 1065.31 2280.7 1065.31 Q2284.33 1065.31 2286.14 1061.76 Q2287.97 1058.2 2287.97 1051.09 Q2287.97 1043.96 2286.14 1040.42 Q2284.33 1036.86 2280.7 1036.86 M2280.7 1033.15 Q2286.51 1033.15 2289.57 1037.76 Q2292.64 1042.34 2292.64 1051.09 Q2292.64 1059.82 2289.57 1064.43 Q2286.51 1069.01 2280.7 1069.01 Q2274.89 1069.01 2271.81 1064.43 Q2268.76 1059.82 2268.76 1051.09 Q2268.76 1042.34 2271.81 1037.76 Q2274.89 1033.15 2280.7 1033.15 Z\" fill=\"#000000\" fill-rule=\"evenodd\" fill-opacity=\"1\" /><path clip-path=\"url(#clip490)\" d=\"M2300.86 1062.46 L2305.75 1062.46 L2305.75 1068.34 L2300.86 1068.34 L2300.86 1062.46 Z\" fill=\"#000000\" fill-rule=\"evenodd\" fill-opacity=\"1\" /><path clip-path=\"url(#clip490)\" d=\"M2330.1 1049.7 Q2333.45 1050.42 2335.33 1052.69 Q2337.23 1054.96 2337.23 1058.29 Q2337.23 1063.41 2333.71 1066.21 Q2330.19 1069.01 2323.71 1069.01 Q2321.53 1069.01 2319.22 1068.57 Q2316.93 1068.15 2314.47 1067.3 L2314.47 1062.78 Q2316.42 1063.92 2318.73 1064.5 Q2321.05 1065.07 2323.57 1065.07 Q2327.97 1065.07 2330.26 1063.34 Q2332.58 1061.6 2332.58 1058.29 Q2332.58 1055.24 2330.42 1053.52 Q2328.29 1051.79 2324.47 1051.79 L2320.45 1051.79 L2320.45 1047.94 L2324.66 1047.94 Q2328.11 1047.94 2329.94 1046.58 Q2331.76 1045.19 2331.76 1042.6 Q2331.76 1039.94 2329.87 1038.52 Q2327.99 1037.09 2324.47 1037.09 Q2322.55 1037.09 2320.35 1037.5 Q2318.15 1037.92 2315.51 1038.8 L2315.51 1034.63 Q2318.18 1033.89 2320.49 1033.52 Q2322.83 1033.15 2324.89 1033.15 Q2330.21 1033.15 2333.32 1035.58 Q2336.42 1037.99 2336.42 1042.11 Q2336.42 1044.98 2334.77 1046.97 Q2333.13 1048.94 2330.1 1049.7 Z\" fill=\"#000000\" fill-rule=\"evenodd\" fill-opacity=\"1\" /><path clip-path=\"url(#clip490)\" d=\"M2280.7 892.936 Q2277.09 892.936 2275.26 896.501 Q2273.45 900.043 2273.45 907.172 Q2273.45 914.279 2275.26 917.844 Q2277.09 921.385 2280.7 921.385 Q2284.33 921.385 2286.14 917.844 Q2287.97 914.279 2287.97 907.172 Q2287.97 900.043 2286.14 896.501 Q2284.33 892.936 2280.7 892.936 M2280.7 889.233 Q2286.51 889.233 2289.57 893.839 Q2292.64 898.422 2292.64 907.172 Q2292.64 915.899 2289.57 920.506 Q2286.51 925.089 2280.7 925.089 Q2274.89 925.089 2271.81 920.506 Q2268.76 915.899 2268.76 907.172 Q2268.76 898.422 2271.81 893.839 Q2274.89 889.233 2280.7 889.233 Z\" fill=\"#000000\" fill-rule=\"evenodd\" fill-opacity=\"1\" /><path clip-path=\"url(#clip490)\" d=\"M2300.86 918.538 L2305.75 918.538 L2305.75 924.418 L2300.86 924.418 L2300.86 918.538 Z\" fill=\"#000000\" fill-rule=\"evenodd\" fill-opacity=\"1\" /><path clip-path=\"url(#clip490)\" d=\"M2328.78 893.932 L2316.97 912.381 L2328.78 912.381 L2328.78 893.932 M2327.55 889.858 L2333.43 889.858 L2333.43 912.381 L2338.36 912.381 L2338.36 916.269 L2333.43 916.269 L2333.43 924.418 L2328.78 924.418 L2328.78 916.269 L2313.18 916.269 L2313.18 911.756 L2327.55 889.858 Z\" fill=\"#000000\" fill-rule=\"evenodd\" fill-opacity=\"1\" /><path clip-path=\"url(#clip490)\" d=\"M2280.7 749.016 Q2277.09 749.016 2275.26 752.581 Q2273.45 756.122 2273.45 763.252 Q2273.45 770.358 2275.26 773.923 Q2277.09 777.465 2280.7 777.465 Q2284.33 777.465 2286.14 773.923 Q2287.97 770.358 2287.97 763.252 Q2287.97 756.122 2286.14 752.581 Q2284.33 749.016 2280.7 749.016 M2280.7 745.312 Q2286.51 745.312 2289.57 749.919 Q2292.64 754.502 2292.64 763.252 Q2292.64 771.979 2289.57 776.585 Q2286.51 781.168 2280.7 781.168 Q2274.89 781.168 2271.81 776.585 Q2268.76 771.979 2268.76 763.252 Q2268.76 754.502 2271.81 749.919 Q2274.89 745.312 2280.7 745.312 Z\" fill=\"#000000\" fill-rule=\"evenodd\" fill-opacity=\"1\" /><path clip-path=\"url(#clip490)\" d=\"M2300.86 774.618 L2305.75 774.618 L2305.75 780.497 L2300.86 780.497 L2300.86 774.618 Z\" fill=\"#000000\" fill-rule=\"evenodd\" fill-opacity=\"1\" /><path clip-path=\"url(#clip490)\" d=\"M2315.98 745.937 L2334.33 745.937 L2334.33 749.872 L2320.26 749.872 L2320.26 758.345 Q2321.28 757.997 2322.3 757.835 Q2323.32 757.65 2324.33 757.65 Q2330.12 757.65 2333.5 760.821 Q2336.88 763.993 2336.88 769.409 Q2336.88 774.988 2333.41 778.09 Q2329.94 781.168 2323.62 781.168 Q2321.44 781.168 2319.17 780.798 Q2316.93 780.428 2314.52 779.687 L2314.52 774.988 Q2316.6 776.122 2318.83 776.678 Q2321.05 777.233 2323.52 777.233 Q2327.53 777.233 2329.87 775.127 Q2332.2 773.02 2332.2 769.409 Q2332.2 765.798 2329.87 763.692 Q2327.53 761.585 2323.52 761.585 Q2321.65 761.585 2319.77 762.002 Q2317.92 762.419 2315.98 763.298 L2315.98 745.937 Z\" fill=\"#000000\" fill-rule=\"evenodd\" fill-opacity=\"1\" /><path clip-path=\"url(#clip490)\" d=\"M2280.7 605.095 Q2277.09 605.095 2275.26 608.66 Q2273.45 612.202 2273.45 619.332 Q2273.45 626.438 2275.26 630.003 Q2277.09 633.544 2280.7 633.544 Q2284.33 633.544 2286.14 630.003 Q2287.97 626.438 2287.97 619.332 Q2287.97 612.202 2286.14 608.66 Q2284.33 605.095 2280.7 605.095 M2280.7 601.392 Q2286.51 601.392 2289.57 605.998 Q2292.64 610.582 2292.64 619.332 Q2292.64 628.058 2289.57 632.665 Q2286.51 637.248 2280.7 637.248 Q2274.89 637.248 2271.81 632.665 Q2268.76 628.058 2268.76 619.332 Q2268.76 610.582 2271.81 605.998 Q2274.89 601.392 2280.7 601.392 Z\" fill=\"#000000\" fill-rule=\"evenodd\" fill-opacity=\"1\" /><path clip-path=\"url(#clip490)\" d=\"M2300.86 630.697 L2305.75 630.697 L2305.75 636.577 L2300.86 636.577 L2300.86 630.697 Z\" fill=\"#000000\" fill-rule=\"evenodd\" fill-opacity=\"1\" /><path clip-path=\"url(#clip490)\" d=\"M2326.51 617.433 Q2323.36 617.433 2321.51 619.586 Q2319.68 621.739 2319.68 625.489 Q2319.68 629.216 2321.51 631.392 Q2323.36 633.544 2326.51 633.544 Q2329.66 633.544 2331.49 631.392 Q2333.34 629.216 2333.34 625.489 Q2333.34 621.739 2331.49 619.586 Q2329.66 617.433 2326.51 617.433 M2335.79 602.781 L2335.79 607.04 Q2334.03 606.207 2332.23 605.767 Q2330.45 605.327 2328.69 605.327 Q2324.06 605.327 2321.6 608.452 Q2319.17 611.577 2318.83 617.896 Q2320.19 615.882 2322.25 614.818 Q2324.31 613.73 2326.79 613.73 Q2332 613.73 2335.01 616.901 Q2338.04 620.049 2338.04 625.489 Q2338.04 630.813 2334.89 634.031 Q2331.74 637.248 2326.51 637.248 Q2320.51 637.248 2317.34 632.665 Q2314.17 628.058 2314.17 619.332 Q2314.17 611.137 2318.06 606.276 Q2321.95 601.392 2328.5 601.392 Q2330.26 601.392 2332.04 601.739 Q2333.85 602.086 2335.79 602.781 Z\" fill=\"#000000\" fill-rule=\"evenodd\" fill-opacity=\"1\" /><path clip-path=\"url(#clip490)\" d=\"M2280.7 461.175 Q2277.09 461.175 2275.26 464.74 Q2273.45 468.282 2273.45 475.411 Q2273.45 482.518 2275.26 486.082 Q2277.09 489.624 2280.7 489.624 Q2284.33 489.624 2286.14 486.082 Q2287.97 482.518 2287.97 475.411 Q2287.97 468.282 2286.14 464.74 Q2284.33 461.175 2280.7 461.175 M2280.7 457.471 Q2286.51 457.471 2289.57 462.078 Q2292.64 466.661 2292.64 475.411 Q2292.64 484.138 2289.57 488.744 Q2286.51 493.328 2280.7 493.328 Q2274.89 493.328 2271.81 488.744 Q2268.76 484.138 2268.76 475.411 Q2268.76 466.661 2271.81 462.078 Q2274.89 457.471 2280.7 457.471 Z\" fill=\"#000000\" fill-rule=\"evenodd\" fill-opacity=\"1\" /><path clip-path=\"url(#clip490)\" d=\"M2300.86 486.777 L2305.75 486.777 L2305.75 492.656 L2300.86 492.656 L2300.86 486.777 Z\" fill=\"#000000\" fill-rule=\"evenodd\" fill-opacity=\"1\" /><path clip-path=\"url(#clip490)\" d=\"M2314.75 458.096 L2336.97 458.096 L2336.97 460.087 L2324.43 492.656 L2319.54 492.656 L2331.35 462.032 L2314.75 462.032 L2314.75 458.096 Z\" fill=\"#000000\" fill-rule=\"evenodd\" fill-opacity=\"1\" /><path clip-path=\"url(#clip490)\" d=\"M2280.7 317.255 Q2277.09 317.255 2275.26 320.82 Q2273.45 324.361 2273.45 331.491 Q2273.45 338.597 2275.26 342.162 Q2277.09 345.704 2280.7 345.704 Q2284.33 345.704 2286.14 342.162 Q2287.97 338.597 2287.97 331.491 Q2287.97 324.361 2286.14 320.82 Q2284.33 317.255 2280.7 317.255 M2280.7 313.551 Q2286.51 313.551 2289.57 318.158 Q2292.64 322.741 2292.64 331.491 Q2292.64 340.218 2289.57 344.824 Q2286.51 349.407 2280.7 349.407 Q2274.89 349.407 2271.81 344.824 Q2268.76 340.218 2268.76 331.491 Q2268.76 322.741 2271.81 318.158 Q2274.89 313.551 2280.7 313.551 Z\" fill=\"#000000\" fill-rule=\"evenodd\" fill-opacity=\"1\" /><path clip-path=\"url(#clip490)\" d=\"M2300.86 342.856 L2305.75 342.856 L2305.75 348.736 L2300.86 348.736 L2300.86 342.856 Z\" fill=\"#000000\" fill-rule=\"evenodd\" fill-opacity=\"1\" /><path clip-path=\"url(#clip490)\" d=\"M2325.93 332.324 Q2322.6 332.324 2320.68 334.106 Q2318.78 335.889 2318.78 339.014 Q2318.78 342.139 2320.68 343.921 Q2322.6 345.704 2325.93 345.704 Q2329.26 345.704 2331.19 343.921 Q2333.11 342.116 2333.11 339.014 Q2333.11 335.889 2331.19 334.106 Q2329.29 332.324 2325.93 332.324 M2321.26 330.333 Q2318.25 329.593 2316.56 327.532 Q2314.89 325.472 2314.89 322.509 Q2314.89 318.366 2317.83 315.958 Q2320.79 313.551 2325.93 313.551 Q2331.09 313.551 2334.03 315.958 Q2336.97 318.366 2336.97 322.509 Q2336.97 325.472 2335.28 327.532 Q2333.62 329.593 2330.63 330.333 Q2334.01 331.12 2335.89 333.412 Q2337.78 335.704 2337.78 339.014 Q2337.78 344.037 2334.7 346.722 Q2331.65 349.407 2325.93 349.407 Q2320.21 349.407 2317.14 346.722 Q2314.08 344.037 2314.08 339.014 Q2314.08 335.704 2315.98 333.412 Q2317.88 331.12 2321.26 330.333 M2319.54 322.949 Q2319.54 325.634 2321.21 327.139 Q2322.9 328.644 2325.93 328.644 Q2328.94 328.644 2330.63 327.139 Q2332.34 325.634 2332.34 322.949 Q2332.34 320.264 2330.63 318.759 Q2328.94 317.255 2325.93 317.255 Q2322.9 317.255 2321.21 318.759 Q2319.54 320.264 2319.54 322.949 Z\" fill=\"#000000\" fill-rule=\"evenodd\" fill-opacity=\"1\" /><path clip-path=\"url(#clip490)\" d=\"M2280.7 173.334 Q2277.09 173.334 2275.26 176.899 Q2273.45 180.441 2273.45 187.57 Q2273.45 194.677 2275.26 198.242 Q2277.09 201.783 2280.7 201.783 Q2284.33 201.783 2286.14 198.242 Q2287.97 194.677 2287.97 187.57 Q2287.97 180.441 2286.14 176.899 Q2284.33 173.334 2280.7 173.334 M2280.7 169.631 Q2286.51 169.631 2289.57 174.237 Q2292.64 178.82 2292.64 187.57 Q2292.64 196.297 2289.57 200.904 Q2286.51 205.487 2280.7 205.487 Q2274.89 205.487 2271.81 200.904 Q2268.76 196.297 2268.76 187.57 Q2268.76 178.82 2271.81 174.237 Q2274.89 169.631 2280.7 169.631 Z\" fill=\"#000000\" fill-rule=\"evenodd\" fill-opacity=\"1\" /><path clip-path=\"url(#clip490)\" d=\"M2300.86 198.936 L2305.75 198.936 L2305.75 204.816 L2300.86 204.816 L2300.86 198.936 Z\" fill=\"#000000\" fill-rule=\"evenodd\" fill-opacity=\"1\" /><path clip-path=\"url(#clip490)\" d=\"M2316.07 204.098 L2316.07 199.839 Q2317.83 200.672 2319.64 201.112 Q2321.44 201.552 2323.18 201.552 Q2327.81 201.552 2330.24 198.45 Q2332.69 195.325 2333.04 188.982 Q2331.7 190.973 2329.64 192.038 Q2327.58 193.103 2325.08 193.103 Q2319.89 193.103 2316.86 189.978 Q2313.85 186.83 2313.85 181.39 Q2313.85 176.066 2317 172.848 Q2320.14 169.631 2325.38 169.631 Q2331.37 169.631 2334.52 174.237 Q2337.69 178.82 2337.69 187.57 Q2337.69 195.742 2333.8 200.626 Q2329.94 205.487 2323.39 205.487 Q2321.63 205.487 2319.82 205.14 Q2318.01 204.793 2316.07 204.098 M2325.38 189.445 Q2328.52 189.445 2330.35 187.293 Q2332.2 185.14 2332.2 181.39 Q2332.2 177.663 2330.35 175.51 Q2328.52 173.334 2325.38 173.334 Q2322.23 173.334 2320.38 175.51 Q2318.55 177.663 2318.55 181.39 Q2318.55 185.14 2320.38 187.293 Q2322.23 189.445 2325.38 189.445 Z\" fill=\"#000000\" fill-rule=\"evenodd\" fill-opacity=\"1\" /><path clip-path=\"url(#clip490)\" d=\"M2269.43 56.9601 L2277.07 56.9601 L2277.07 30.5945 L2268.76 32.2612 L2268.76 28.002 L2277.02 26.3353 L2281.7 26.3353 L2281.7 56.9601 L2289.33 56.9601 L2289.33 60.8953 L2269.43 60.8953 L2269.43 56.9601 Z\" fill=\"#000000\" fill-rule=\"evenodd\" fill-opacity=\"1\" /><path clip-path=\"url(#clip490)\" d=\"M2298.78 55.0157 L2303.66 55.0157 L2303.66 60.8953 L2298.78 60.8953 L2298.78 55.0157 Z\" fill=\"#000000\" fill-rule=\"evenodd\" fill-opacity=\"1\" /><path clip-path=\"url(#clip490)\" d=\"M2323.85 29.414 Q2320.24 29.414 2318.41 32.9788 Q2316.6 36.5204 2316.6 43.65 Q2316.6 50.7565 2318.41 54.3213 Q2320.24 57.8629 2323.85 57.8629 Q2327.48 57.8629 2329.29 54.3213 Q2331.12 50.7565 2331.12 43.65 Q2331.12 36.5204 2329.29 32.9788 Q2327.48 29.414 2323.85 29.414 M2323.85 25.7103 Q2329.66 25.7103 2332.71 30.3168 Q2335.79 34.9001 2335.79 43.65 Q2335.79 52.3768 2332.71 56.9833 Q2329.66 61.5666 2323.85 61.5666 Q2318.04 61.5666 2314.96 56.9833 Q2311.9 52.3768 2311.9 43.65 Q2311.9 34.9001 2314.96 30.3168 Q2318.04 25.7103 2323.85 25.7103 Z\" fill=\"#000000\" fill-rule=\"evenodd\" fill-opacity=\"1\" /><polyline clip-path=\"url(#clip490)\" style=\"stroke:#000000; stroke-linecap:round; stroke-linejoin:round; stroke-width:4; stroke-opacity:1; fill:none\" points=\"\n  2232.76,1486.45 2232.76,1486.45 2256.76,1486.45 2232.76,1486.45 2232.76,1342.53 2256.76,1342.53 2232.76,1342.53 2232.76,1198.61 2256.76,1198.61 2232.76,1198.61 \n  2232.76,1054.69 2256.76,1054.69 2232.76,1054.69 2232.76,910.766 2256.76,910.766 2232.76,910.766 2232.76,766.846 2256.76,766.846 2232.76,766.846 2232.76,622.926 \n  2256.76,622.926 2232.76,622.926 2232.76,479.005 2256.76,479.005 2232.76,479.005 2232.76,335.085 2256.76,335.085 2232.76,335.085 2232.76,191.164 2256.76,191.164 \n  2232.76,191.164 2232.76,47.2441 2256.76,47.2441 2232.76,47.2441 \n  \"/>\n</svg>\n"
     },
     "execution_count": 6,
     "metadata": {},
     "output_type": "execute_result"
    }
   ],
   "source": [
    "corr0 = formBlockMatrix(2,2,.5)\n",
    "eigenVal, eigenVec = eigvals(corr0), eigvecs(corr0)\n",
    "println(maximum(eigenVal)/minimum(eigenVal))\n",
    "heatmap(corr0, c = cgrad([:purple, :yellow]), yflip = true)"
   ]
  },
  {
   "cell_type": "markdown",
   "metadata": {},
   "source": [
    "# Snippet 7.2"
   ]
  },
  {
   "cell_type": "code",
   "execution_count": 35,
   "metadata": {},
   "outputs": [
    {
     "name": "stdout",
     "output_type": "stream",
     "text": [
      "3.0\n"
     ]
    }
   ],
   "source": [
    "corr0 = formBlockMatrix(1, 2, .5)\n",
    "corr1 = formBlockMatrix(1, 2, .0)\n",
    "len = size(corr0)[1]\n",
    "corr = BlockArray{Float64}(undef_blocks, repeat([len], 2), repeat([len], 2))\n",
    "for i in range(1, stop = 2)\n",
    "    for j in range(1, stop = 2)\n",
    "        if (i == j) & (i == 1) \n",
    "            setblock!(corr, corr0, i, j)\n",
    "        elseif (i == j) & (i == 2) \n",
    "            setblock!(corr, corr1, i, j)\n",
    "        else\n",
    "            setblock!(corr, zeros(len, len), i, j)\n",
    "        end\n",
    "    end\n",
    "end\n",
    "Matrix(corr)\n",
    "eigenVal, eigenVec = eigvals(corr0), eigvecs(corr0)\n",
    "println(maximum(eigenVal)/minimum(eigenVal))"
   ]
  },
  {
   "cell_type": "markdown",
   "metadata": {},
   "source": [
    "# Snippet 7.3"
   ]
  },
  {
   "cell_type": "code",
   "execution_count": 3,
   "metadata": {},
   "outputs": [],
   "source": [
    "stocks = Symbol.([\"AAPL\", \"MSFT\", \"GOOG\", \"AMZN\", \"TSLA\", \"FB\", \"JPM\", \"UNH\",\n",
    "\"V\", \"JNJ\", \"HD\", \"WMT\", \"PG\", \"BAC\", \"MA\", \"PFE\", \"DIS\", \"AVGO\",\n",
    "\"XOM\", \"ACM\", \"CSCO\", \"NFLX\", \"NKE\", \"LLY\", \"KO\", \"TMO\", \"CRM\", \"COST\", \"AAL\", \"TWTR\"]);"
   ]
  },
  {
   "cell_type": "code",
   "execution_count": 9,
   "metadata": {},
   "outputs": [
    {
     "data": {
      "text/plain": [
       "\"Data_Prices.csv\""
      ]
     },
     "metadata": {},
     "output_type": "display_data"
    }
   ],
   "source": [
    "start = DateTime(2020, 1, 1)\n",
    "All_Stocks = []\n",
    "for symb in stocks\n",
    "    data = DataFrames.DataFrame(yahoo(symb, YahooOpt(period1 = start)))\n",
    "    adj_close_price = data.AdjClose\n",
    "    if getindex(stocks, 1) == symb\n",
    "        time_stamp = data.timestamp\n",
    "        All_Stocks = hcat(time_stamp, adj_close_price)\n",
    "    else\n",
    "        All_Stocks = hcat(All_Stocks, adj_close_price)\n",
    "    end\n",
    "end\n",
    "All_Stocks_Prices = DataFrames.DataFrame(All_Stocks, :auto)\n",
    "All_Stocks_Prices = DataFrames.rename(All_Stocks_Prices, names(All_Stocks_Prices).=>String.(append!([:Dates], stocks)))\n",
    "CSV.write(\"Data_Prices.csv\", All_Stocks_Prices)"
   ]
  },
  {
   "cell_type": "code",
   "execution_count": 6,
   "metadata": {},
   "outputs": [
    {
     "data": {
      "text/html": [
       "<div class=\"data-frame\"><p>10 rows × 31 columns (omitted printing of 22 columns)</p><table class=\"data-frame\"><thead><tr><th></th><th>Dates</th><th>AAPL</th><th>MSFT</th><th>GOOG</th><th>AMZN</th><th>TSLA</th><th>FB</th><th>JPM</th><th>UNH</th></tr><tr><th></th><th title=\"Date\">Date</th><th title=\"Float64\">Float64</th><th title=\"Float64\">Float64</th><th title=\"Float64\">Float64</th><th title=\"Float64\">Float64</th><th title=\"Float64\">Float64</th><th title=\"Float64\">Float64</th><th title=\"Float64\">Float64</th><th title=\"Float64\">Float64</th></tr></thead><tbody><tr><th>1</th><td>2020-01-02</td><td>73.7859</td><td>156.924</td><td>1367.37</td><td>94.9005</td><td>86.052</td><td>209.78</td><td>129.899</td><td>281.931</td></tr><tr><th>2</th><td>2020-01-03</td><td>73.0686</td><td>154.97</td><td>1360.66</td><td>93.7485</td><td>88.602</td><td>208.67</td><td>128.185</td><td>279.078</td></tr><tr><th>3</th><td>2020-01-06</td><td>73.6508</td><td>155.371</td><td>1394.21</td><td>95.144</td><td>90.308</td><td>212.6</td><td>128.083</td><td>281.016</td></tr><tr><th>4</th><td>2020-01-07</td><td>73.3044</td><td>153.954</td><td>1393.34</td><td>95.343</td><td>93.812</td><td>213.06</td><td>125.905</td><td>279.319</td></tr><tr><th>5</th><td>2020-01-08</td><td>74.4836</td><td>156.407</td><td>1404.32</td><td>94.5985</td><td>98.428</td><td>215.22</td><td>126.888</td><td>285.209</td></tr><tr><th>6</th><td>2020-01-09</td><td>76.0657</td><td>158.361</td><td>1419.83</td><td>95.0525</td><td>96.268</td><td>218.3</td><td>127.351</td><td>283.589</td></tr><tr><th>7</th><td>2020-01-10</td><td>76.2377</td><td>157.628</td><td>1429.73</td><td>94.158</td><td>95.63</td><td>218.06</td><td>126.081</td><td>284.466</td></tr><tr><th>8</th><td>2020-01-13</td><td>77.8664</td><td>159.523</td><td>1439.23</td><td>94.565</td><td>104.972</td><td>221.91</td><td>127.128</td><td>275.522</td></tr><tr><th>9</th><td>2020-01-14</td><td>76.815</td><td>158.4</td><td>1430.88</td><td>93.472</td><td>107.584</td><td>219.06</td><td>128.611</td><td>277.825</td></tr><tr><th>10</th><td>2020-01-15</td><td>76.4858</td><td>159.425</td><td>1439.2</td><td>93.101</td><td>103.7</td><td>221.15</td><td>126.684</td><td>285.7</td></tr></tbody></table></div>"
      ],
      "text/latex": [
       "\\begin{tabular}{r|cccccccccc}\n",
       "\t& Dates & AAPL & MSFT & GOOG & AMZN & TSLA & FB & JPM & UNH & \\\\\n",
       "\t\\hline\n",
       "\t& Date & Float64 & Float64 & Float64 & Float64 & Float64 & Float64 & Float64 & Float64 & \\\\\n",
       "\t\\hline\n",
       "\t1 & 2020-01-02 & 73.7859 & 156.924 & 1367.37 & 94.9005 & 86.052 & 209.78 & 129.899 & 281.931 & $\\dots$ \\\\\n",
       "\t2 & 2020-01-03 & 73.0686 & 154.97 & 1360.66 & 93.7485 & 88.602 & 208.67 & 128.185 & 279.078 & $\\dots$ \\\\\n",
       "\t3 & 2020-01-06 & 73.6508 & 155.371 & 1394.21 & 95.144 & 90.308 & 212.6 & 128.083 & 281.016 & $\\dots$ \\\\\n",
       "\t4 & 2020-01-07 & 73.3044 & 153.954 & 1393.34 & 95.343 & 93.812 & 213.06 & 125.905 & 279.319 & $\\dots$ \\\\\n",
       "\t5 & 2020-01-08 & 74.4836 & 156.407 & 1404.32 & 94.5985 & 98.428 & 215.22 & 126.888 & 285.209 & $\\dots$ \\\\\n",
       "\t6 & 2020-01-09 & 76.0657 & 158.361 & 1419.83 & 95.0525 & 96.268 & 218.3 & 127.351 & 283.589 & $\\dots$ \\\\\n",
       "\t7 & 2020-01-10 & 76.2377 & 157.628 & 1429.73 & 94.158 & 95.63 & 218.06 & 126.081 & 284.466 & $\\dots$ \\\\\n",
       "\t8 & 2020-01-13 & 77.8664 & 159.523 & 1439.23 & 94.565 & 104.972 & 221.91 & 127.128 & 275.522 & $\\dots$ \\\\\n",
       "\t9 & 2020-01-14 & 76.815 & 158.4 & 1430.88 & 93.472 & 107.584 & 219.06 & 128.611 & 277.825 & $\\dots$ \\\\\n",
       "\t10 & 2020-01-15 & 76.4858 & 159.425 & 1439.2 & 93.101 & 103.7 & 221.15 & 126.684 & 285.7 & $\\dots$ \\\\\n",
       "\\end{tabular}\n"
      ],
      "text/plain": [
       "\u001b[1m10×31 DataFrame\u001b[0m\n",
       "\u001b[1m Row \u001b[0m│\u001b[1m Dates      \u001b[0m\u001b[1m AAPL    \u001b[0m\u001b[1m MSFT    \u001b[0m\u001b[1m GOOG    \u001b[0m\u001b[1m AMZN    \u001b[0m\u001b[1m TSLA    \u001b[0m\u001b[1m FB      \u001b[0m\u001b[1m JPM  \u001b[0m ⋯\n",
       "\u001b[1m     \u001b[0m│\u001b[90m Date       \u001b[0m\u001b[90m Float64 \u001b[0m\u001b[90m Float64 \u001b[0m\u001b[90m Float64 \u001b[0m\u001b[90m Float64 \u001b[0m\u001b[90m Float64 \u001b[0m\u001b[90m Float64 \u001b[0m\u001b[90m Float\u001b[0m ⋯\n",
       "─────┼──────────────────────────────────────────────────────────────────────────\n",
       "   1 │ 2020-01-02  73.7859  156.924  1367.37  94.9005   86.052   209.78  129.8 ⋯\n",
       "   2 │ 2020-01-03  73.0686  154.97   1360.66  93.7485   88.602   208.67  128.1\n",
       "   3 │ 2020-01-06  73.6508  155.371  1394.21  95.144    90.308   212.6   128.0\n",
       "   4 │ 2020-01-07  73.3044  153.954  1393.34  95.343    93.812   213.06  125.9\n",
       "   5 │ 2020-01-08  74.4836  156.407  1404.32  94.5985   98.428   215.22  126.8 ⋯\n",
       "   6 │ 2020-01-09  76.0657  158.361  1419.83  95.0525   96.268   218.3   127.3\n",
       "   7 │ 2020-01-10  76.2377  157.628  1429.73  94.158    95.63    218.06  126.0\n",
       "   8 │ 2020-01-13  77.8664  159.523  1439.23  94.565   104.972   221.91  127.1\n",
       "   9 │ 2020-01-14  76.815   158.4    1430.88  93.472   107.584   219.06  128.6 ⋯\n",
       "  10 │ 2020-01-15  76.4858  159.425  1439.2   93.101   103.7     221.15  126.6\n",
       "\u001b[36m                                                              24 columns omitted\u001b[0m"
      ]
     },
     "metadata": {},
     "output_type": "display_data"
    }
   ],
   "source": [
    "All_Stocks_Prices = CSV.read(\"Data_Prices.csv\", DataFrames.DataFrame)\n",
    "first(All_Stocks_Prices, 10)"
   ]
  },
  {
   "cell_type": "code",
   "execution_count": null,
   "metadata": {},
   "outputs": [],
   "source": [
    "All_Stocks_Returns = percentChange(All_Stocks_Prices)[1:end, :]\n",
    "CSV.write(\"Data_Returns.csv\", All_Stocks_Returns)"
   ]
  },
  {
   "cell_type": "code",
   "execution_count": 7,
   "metadata": {},
   "outputs": [
    {
     "data": {
      "text/html": [
       "<div class=\"data-frame\"><p>10 rows × 30 columns (omitted printing of 23 columns)</p><table class=\"data-frame\"><thead><tr><th></th><th>AAPL</th><th>MSFT</th><th>GOOG</th><th>AMZN</th><th>TSLA</th><th>FB</th><th>JPM</th></tr><tr><th></th><th title=\"Float64\">Float64</th><th title=\"Float64\">Float64</th><th title=\"Float64\">Float64</th><th title=\"Float64\">Float64</th><th title=\"Float64\">Float64</th><th title=\"Float64\">Float64</th><th title=\"Float64\">Float64</th></tr></thead><tbody><tr><th>1</th><td>-0.00972221</td><td>-0.0124517</td><td>-0.0049072</td><td>-0.012139</td><td>0.0296332</td><td>-0.00529126</td><td>-0.0131964</td></tr><tr><th>2</th><td>0.00796827</td><td>0.00258464</td><td>0.0246571</td><td>0.0148856</td><td>0.0192547</td><td>0.0188336</td><td>-0.000795048</td></tr><tr><th>3</th><td>-0.00470303</td><td>-0.0091178</td><td>-0.000624006</td><td>0.00209162</td><td>0.0388005</td><td>0.00216365</td><td>-0.0170008</td></tr><tr><th>4</th><td>0.0160862</td><td>0.0159286</td><td>0.00788033</td><td>-0.00780864</td><td>0.0492048</td><td>0.010138</td><td>0.00780104</td></tr><tr><th>5</th><td>0.0212408</td><td>0.0124929</td><td>0.0110445</td><td>0.00479918</td><td>-0.021945</td><td>0.0143109</td><td>0.0036514</td></tr><tr><th>6</th><td>0.00226086</td><td>-0.00462714</td><td>0.00697268</td><td>-0.0094106</td><td>-0.00662734</td><td>-0.00109943</td><td>-0.00996799</td></tr><tr><th>7</th><td>0.0213644</td><td>0.0120243</td><td>0.00664461</td><td>0.00432257</td><td>0.097689</td><td>0.0176557</td><td>0.00830438</td></tr><tr><th>8</th><td>-0.0135035</td><td>-0.00704308</td><td>-0.0058017</td><td>-0.0115582</td><td>0.0248828</td><td>-0.0128431</td><td>0.0116619</td></tr><tr><th>9</th><td>-0.00428544</td><td>0.00647633</td><td>0.00581457</td><td>-0.00396912</td><td>-0.0361021</td><td>0.00954075</td><td>-0.0149854</td></tr><tr><th>10</th><td>0.0125265</td><td>0.0183232</td><td>0.00868538</td><td>0.00854991</td><td>-0.00966248</td><td>0.00280357</td><td>0.00387626</td></tr></tbody></table></div>"
      ],
      "text/latex": [
       "\\begin{tabular}{r|cccccccc}\n",
       "\t& AAPL & MSFT & GOOG & AMZN & TSLA & FB & JPM & \\\\\n",
       "\t\\hline\n",
       "\t& Float64 & Float64 & Float64 & Float64 & Float64 & Float64 & Float64 & \\\\\n",
       "\t\\hline\n",
       "\t1 & -0.00972221 & -0.0124517 & -0.0049072 & -0.012139 & 0.0296332 & -0.00529126 & -0.0131964 & $\\dots$ \\\\\n",
       "\t2 & 0.00796827 & 0.00258464 & 0.0246571 & 0.0148856 & 0.0192547 & 0.0188336 & -0.000795048 & $\\dots$ \\\\\n",
       "\t3 & -0.00470303 & -0.0091178 & -0.000624006 & 0.00209162 & 0.0388005 & 0.00216365 & -0.0170008 & $\\dots$ \\\\\n",
       "\t4 & 0.0160862 & 0.0159286 & 0.00788033 & -0.00780864 & 0.0492048 & 0.010138 & 0.00780104 & $\\dots$ \\\\\n",
       "\t5 & 0.0212408 & 0.0124929 & 0.0110445 & 0.00479918 & -0.021945 & 0.0143109 & 0.0036514 & $\\dots$ \\\\\n",
       "\t6 & 0.00226086 & -0.00462714 & 0.00697268 & -0.0094106 & -0.00662734 & -0.00109943 & -0.00996799 & $\\dots$ \\\\\n",
       "\t7 & 0.0213644 & 0.0120243 & 0.00664461 & 0.00432257 & 0.097689 & 0.0176557 & 0.00830438 & $\\dots$ \\\\\n",
       "\t8 & -0.0135035 & -0.00704308 & -0.0058017 & -0.0115582 & 0.0248828 & -0.0128431 & 0.0116619 & $\\dots$ \\\\\n",
       "\t9 & -0.00428544 & 0.00647633 & 0.00581457 & -0.00396912 & -0.0361021 & 0.00954075 & -0.0149854 & $\\dots$ \\\\\n",
       "\t10 & 0.0125265 & 0.0183232 & 0.00868538 & 0.00854991 & -0.00966248 & 0.00280357 & 0.00387626 & $\\dots$ \\\\\n",
       "\\end{tabular}\n"
      ],
      "text/plain": [
       "\u001b[1m10×30 DataFrame\u001b[0m\n",
       "\u001b[1m Row \u001b[0m│\u001b[1m AAPL        \u001b[0m\u001b[1m MSFT        \u001b[0m\u001b[1m GOOG         \u001b[0m\u001b[1m AMZN        \u001b[0m\u001b[1m TSLA        \u001b[0m\u001b[1m FB   \u001b[0m ⋯\n",
       "\u001b[1m     \u001b[0m│\u001b[90m Float64     \u001b[0m\u001b[90m Float64     \u001b[0m\u001b[90m Float64      \u001b[0m\u001b[90m Float64     \u001b[0m\u001b[90m Float64     \u001b[0m\u001b[90m Float\u001b[0m ⋯\n",
       "─────┼──────────────────────────────────────────────────────────────────────────\n",
       "   1 │ -0.00972221  -0.0124517   -0.0049072    -0.012139     0.0296332   -0.00 ⋯\n",
       "   2 │  0.00796827   0.00258464   0.0246571     0.0148856    0.0192547    0.01\n",
       "   3 │ -0.00470303  -0.0091178   -0.000624006   0.00209162   0.0388005    0.00\n",
       "   4 │  0.0160862    0.0159286    0.00788033   -0.00780864   0.0492048    0.01\n",
       "   5 │  0.0212408    0.0124929    0.0110445     0.00479918  -0.021945     0.01 ⋯\n",
       "   6 │  0.00226086  -0.00462714   0.00697268   -0.0094106   -0.00662734  -0.00\n",
       "   7 │  0.0213644    0.0120243    0.00664461    0.00432257   0.097689     0.01\n",
       "   8 │ -0.0135035   -0.00704308  -0.0058017    -0.0115582    0.0248828   -0.01\n",
       "   9 │ -0.00428544   0.00647633   0.00581457   -0.00396912  -0.0361021    0.00 ⋯\n",
       "  10 │  0.0125265    0.0183232    0.00868538    0.00854991  -0.00966248   0.00\n",
       "\u001b[36m                                                              25 columns omitted\u001b[0m"
      ]
     },
     "metadata": {},
     "output_type": "display_data"
    }
   ],
   "source": [
    "All_Stocks_Returns = CSV.read(\"Data_Returns.csv\", DataFrames.DataFrame)\n",
    "All_Stocks_Returns = All_Stocks_Returns[2:end, :]\n",
    "first(All_Stocks_Returns, 10)"
   ]
  },
  {
   "cell_type": "code",
   "execution_count": 35,
   "metadata": {},
   "outputs": [],
   "source": [
    "cov0 = cov(Matrix(All_Stocks_Returns))\n",
    "cov1 = deNoiseCov(cov0, size(All_Stocks_Returns)[1]/size(All_Stocks_Returns)[2], .01) # de-noise cov\n",
    "corr1 = covToCorr(cov1)\n",
    "corr2, clusters, silh, newIdx = clusterKMeansBase(corr1, numberClusters = Int(size(corr1)[1]/2), iterations = 10);"
   ]
  },
  {
   "cell_type": "code",
   "execution_count": 36,
   "metadata": {},
   "outputs": [
    {
     "data": {
      "text/html": [
       "<div class=\"data-frame\"><p>30 rows × 31 columns (omitted printing of 22 columns)</p><table class=\"data-frame\"><thead><tr><th></th><th>index</th><th>JPM</th><th>UNH</th><th>V</th><th>JNJ</th><th>HD</th><th>PG</th><th>BAC</th><th>MA</th></tr><tr><th></th><th title=\"Symbol\">Symbol</th><th title=\"Float64\">Float64</th><th title=\"Float64\">Float64</th><th title=\"Float64\">Float64</th><th title=\"Float64\">Float64</th><th title=\"Float64\">Float64</th><th title=\"Float64\">Float64</th><th title=\"Float64\">Float64</th><th title=\"Float64\">Float64</th></tr></thead><tbody><tr><th>1</th><td>JPM</td><td>1.0</td><td>0.514148</td><td>0.538399</td><td>0.507614</td><td>0.470263</td><td>0.476479</td><td>0.583687</td><td>0.53747</td></tr><tr><th>2</th><td>UNH</td><td>0.514148</td><td>1.0</td><td>0.545238</td><td>0.497896</td><td>0.514197</td><td>0.492093</td><td>0.512799</td><td>0.540935</td></tr><tr><th>3</th><td>V</td><td>0.538399</td><td>0.545238</td><td>1.0</td><td>0.525786</td><td>0.5471</td><td>0.521573</td><td>0.536899</td><td>0.572301</td></tr><tr><th>4</th><td>JNJ</td><td>0.507614</td><td>0.497896</td><td>0.525786</td><td>1.0</td><td>0.490058</td><td>0.473077</td><td>0.506457</td><td>0.52215</td></tr><tr><th>5</th><td>HD</td><td>0.470263</td><td>0.514197</td><td>0.5471</td><td>0.490058</td><td>1.0</td><td>0.499416</td><td>0.468348</td><td>0.540799</td></tr><tr><th>6</th><td>PG</td><td>0.476479</td><td>0.492093</td><td>0.521573</td><td>0.473077</td><td>0.499416</td><td>1.0</td><td>0.474999</td><td>0.51679</td></tr><tr><th>7</th><td>BAC</td><td>0.583687</td><td>0.512799</td><td>0.536899</td><td>0.506457</td><td>0.468348</td><td>0.474999</td><td>1.0</td><td>0.536026</td></tr><tr><th>8</th><td>MA</td><td>0.53747</td><td>0.540935</td><td>0.572301</td><td>0.52215</td><td>0.540799</td><td>0.51679</td><td>0.536026</td><td>1.0</td></tr><tr><th>9</th><td>PFE</td><td>0.448026</td><td>0.425559</td><td>0.448321</td><td>0.414675</td><td>0.410398</td><td>0.4015</td><td>0.447226</td><td>0.445882</td></tr><tr><th>10</th><td>DIS</td><td>0.530579</td><td>0.51198</td><td>0.540005</td><td>0.497582</td><td>0.498777</td><td>0.484729</td><td>0.529505</td><td>0.536672</td></tr><tr><th>11</th><td>XOM</td><td>0.533338</td><td>0.440699</td><td>0.459003</td><td>0.440153</td><td>0.383547</td><td>0.401839</td><td>0.533435</td><td>0.459748</td></tr><tr><th>12</th><td>ACM</td><td>0.543038</td><td>0.501952</td><td>0.527692</td><td>0.491369</td><td>0.475353</td><td>0.470641</td><td>0.54229</td><td>0.525503</td></tr><tr><th>13</th><td>CSCO</td><td>0.503048</td><td>0.519787</td><td>0.550945</td><td>0.499663</td><td>0.527668</td><td>0.499281</td><td>0.501482</td><td>0.545881</td></tr><tr><th>14</th><td>NKE</td><td>0.47061</td><td>0.500644</td><td>0.531711</td><td>0.47911</td><td>0.516548</td><td>0.48369</td><td>0.468916</td><td>0.526178</td></tr><tr><th>15</th><td>LLY</td><td>0.388488</td><td>0.415771</td><td>0.441749</td><td>0.397526</td><td>0.430377</td><td>0.402162</td><td>0.38705</td><td>0.437043</td></tr><tr><th>16</th><td>KO</td><td>0.556105</td><td>0.513968</td><td>0.54032</td><td>0.503142</td><td>0.486693</td><td>0.481894</td><td>0.555339</td><td>0.538081</td></tr><tr><th>17</th><td>AAL</td><td>0.470915</td><td>0.389674</td><td>0.405909</td><td>0.389086</td><td>0.33954</td><td>0.355447</td><td>0.470992</td><td>0.406537</td></tr><tr><th>18</th><td>AAPL</td><td>0.383646</td><td>0.481162</td><td>0.516234</td><td>0.449853</td><td>0.537468</td><td>0.478668</td><td>0.381103</td><td>0.507678</td></tr><tr><th>19</th><td>MSFT</td><td>0.390051</td><td>0.490687</td><td>0.526544</td><td>0.458574</td><td>0.548818</td><td>0.488383</td><td>0.387441</td><td>0.517762</td></tr><tr><th>20</th><td>GOOG</td><td>0.216483</td><td>0.283133</td><td>0.304475</td><td>0.263277</td><td>0.321804</td><td>0.283529</td><td>0.214863</td><td>0.299003</td></tr><tr><th>21</th><td>AMZN</td><td>0.214544</td><td>0.359275</td><td>0.390925</td><td>0.324779</td><td>0.444291</td><td>0.37187</td><td>0.211686</td><td>0.381144</td></tr><tr><th>22</th><td>TSLA</td><td>0.22908</td><td>0.338929</td><td>0.36676</td><td>0.310512</td><td>0.403185</td><td>0.345447</td><td>0.226739</td><td>0.358792</td></tr><tr><th>23</th><td>FB</td><td>0.291968</td><td>0.411306</td><td>0.44402</td><td>0.378981</td><td>0.480937</td><td>0.416408</td><td>0.289313</td><td>0.435009</td></tr><tr><th>24</th><td>WMT</td><td>0.318991</td><td>0.384252</td><td>0.411303</td><td>0.361199</td><td>0.42168</td><td>0.379725</td><td>0.317128</td><td>0.405065</td></tr><tr><th>&vellip;</th><td>&vellip;</td><td>&vellip;</td><td>&vellip;</td><td>&vellip;</td><td>&vellip;</td><td>&vellip;</td><td>&vellip;</td><td>&vellip;</td><td>&vellip;</td></tr></tbody></table></div>"
      ],
      "text/latex": [
       "\\begin{tabular}{r|cccccccccc}\n",
       "\t& index & JPM & UNH & V & JNJ & HD & PG & BAC & MA & \\\\\n",
       "\t\\hline\n",
       "\t& Symbol & Float64 & Float64 & Float64 & Float64 & Float64 & Float64 & Float64 & Float64 & \\\\\n",
       "\t\\hline\n",
       "\t1 & JPM & 1.0 & 0.514148 & 0.538399 & 0.507614 & 0.470263 & 0.476479 & 0.583687 & 0.53747 & $\\dots$ \\\\\n",
       "\t2 & UNH & 0.514148 & 1.0 & 0.545238 & 0.497896 & 0.514197 & 0.492093 & 0.512799 & 0.540935 & $\\dots$ \\\\\n",
       "\t3 & V & 0.538399 & 0.545238 & 1.0 & 0.525786 & 0.5471 & 0.521573 & 0.536899 & 0.572301 & $\\dots$ \\\\\n",
       "\t4 & JNJ & 0.507614 & 0.497896 & 0.525786 & 1.0 & 0.490058 & 0.473077 & 0.506457 & 0.52215 & $\\dots$ \\\\\n",
       "\t5 & HD & 0.470263 & 0.514197 & 0.5471 & 0.490058 & 1.0 & 0.499416 & 0.468348 & 0.540799 & $\\dots$ \\\\\n",
       "\t6 & PG & 0.476479 & 0.492093 & 0.521573 & 0.473077 & 0.499416 & 1.0 & 0.474999 & 0.51679 & $\\dots$ \\\\\n",
       "\t7 & BAC & 0.583687 & 0.512799 & 0.536899 & 0.506457 & 0.468348 & 0.474999 & 1.0 & 0.536026 & $\\dots$ \\\\\n",
       "\t8 & MA & 0.53747 & 0.540935 & 0.572301 & 0.52215 & 0.540799 & 0.51679 & 0.536026 & 1.0 & $\\dots$ \\\\\n",
       "\t9 & PFE & 0.448026 & 0.425559 & 0.448321 & 0.414675 & 0.410398 & 0.4015 & 0.447226 & 0.445882 & $\\dots$ \\\\\n",
       "\t10 & DIS & 0.530579 & 0.51198 & 0.540005 & 0.497582 & 0.498777 & 0.484729 & 0.529505 & 0.536672 & $\\dots$ \\\\\n",
       "\t11 & XOM & 0.533338 & 0.440699 & 0.459003 & 0.440153 & 0.383547 & 0.401839 & 0.533435 & 0.459748 & $\\dots$ \\\\\n",
       "\t12 & ACM & 0.543038 & 0.501952 & 0.527692 & 0.491369 & 0.475353 & 0.470641 & 0.54229 & 0.525503 & $\\dots$ \\\\\n",
       "\t13 & CSCO & 0.503048 & 0.519787 & 0.550945 & 0.499663 & 0.527668 & 0.499281 & 0.501482 & 0.545881 & $\\dots$ \\\\\n",
       "\t14 & NKE & 0.47061 & 0.500644 & 0.531711 & 0.47911 & 0.516548 & 0.48369 & 0.468916 & 0.526178 & $\\dots$ \\\\\n",
       "\t15 & LLY & 0.388488 & 0.415771 & 0.441749 & 0.397526 & 0.430377 & 0.402162 & 0.38705 & 0.437043 & $\\dots$ \\\\\n",
       "\t16 & KO & 0.556105 & 0.513968 & 0.54032 & 0.503142 & 0.486693 & 0.481894 & 0.555339 & 0.538081 & $\\dots$ \\\\\n",
       "\t17 & AAL & 0.470915 & 0.389674 & 0.405909 & 0.389086 & 0.33954 & 0.355447 & 0.470992 & 0.406537 & $\\dots$ \\\\\n",
       "\t18 & AAPL & 0.383646 & 0.481162 & 0.516234 & 0.449853 & 0.537468 & 0.478668 & 0.381103 & 0.507678 & $\\dots$ \\\\\n",
       "\t19 & MSFT & 0.390051 & 0.490687 & 0.526544 & 0.458574 & 0.548818 & 0.488383 & 0.387441 & 0.517762 & $\\dots$ \\\\\n",
       "\t20 & GOOG & 0.216483 & 0.283133 & 0.304475 & 0.263277 & 0.321804 & 0.283529 & 0.214863 & 0.299003 & $\\dots$ \\\\\n",
       "\t21 & AMZN & 0.214544 & 0.359275 & 0.390925 & 0.324779 & 0.444291 & 0.37187 & 0.211686 & 0.381144 & $\\dots$ \\\\\n",
       "\t22 & TSLA & 0.22908 & 0.338929 & 0.36676 & 0.310512 & 0.403185 & 0.345447 & 0.226739 & 0.358792 & $\\dots$ \\\\\n",
       "\t23 & FB & 0.291968 & 0.411306 & 0.44402 & 0.378981 & 0.480937 & 0.416408 & 0.289313 & 0.435009 & $\\dots$ \\\\\n",
       "\t24 & WMT & 0.318991 & 0.384252 & 0.411303 & 0.361199 & 0.42168 & 0.379725 & 0.317128 & 0.405065 & $\\dots$ \\\\\n",
       "\t$\\dots$ & $\\dots$ & $\\dots$ & $\\dots$ & $\\dots$ & $\\dots$ & $\\dots$ & $\\dots$ & $\\dots$ & $\\dots$ &  \\\\\n",
       "\\end{tabular}\n"
      ],
      "text/plain": [
       "\u001b[1m30×31 DataFrame\u001b[0m\n",
       "\u001b[1m Row \u001b[0m│\u001b[1m index  \u001b[0m\u001b[1m JPM      \u001b[0m\u001b[1m UNH      \u001b[0m\u001b[1m V        \u001b[0m\u001b[1m JNJ      \u001b[0m\u001b[1m HD       \u001b[0m\u001b[1m PG       \u001b[0m\u001b[1m BAC\u001b[0m ⋯\n",
       "\u001b[1m     \u001b[0m│\u001b[90m Symbol \u001b[0m\u001b[90m Float64  \u001b[0m\u001b[90m Float64  \u001b[0m\u001b[90m Float64  \u001b[0m\u001b[90m Float64  \u001b[0m\u001b[90m Float64  \u001b[0m\u001b[90m Float64  \u001b[0m\u001b[90m Flo\u001b[0m ⋯\n",
       "─────┼──────────────────────────────────────────────────────────────────────────\n",
       "   1 │ JPM     1.0       0.514148  0.538399  0.507614  0.470263  0.476479  0.5 ⋯\n",
       "   2 │ UNH     0.514148  1.0       0.545238  0.497896  0.514197  0.492093  0.5\n",
       "   3 │ V       0.538399  0.545238  1.0       0.525786  0.5471    0.521573  0.5\n",
       "   4 │ JNJ     0.507614  0.497896  0.525786  1.0       0.490058  0.473077  0.5\n",
       "   5 │ HD      0.470263  0.514197  0.5471    0.490058  1.0       0.499416  0.4 ⋯\n",
       "   6 │ PG      0.476479  0.492093  0.521573  0.473077  0.499416  1.0       0.4\n",
       "   7 │ BAC     0.583687  0.512799  0.536899  0.506457  0.468348  0.474999  1.0\n",
       "   8 │ MA      0.53747   0.540935  0.572301  0.52215   0.540799  0.51679   0.5\n",
       "  ⋮  │   ⋮        ⋮         ⋮         ⋮         ⋮         ⋮         ⋮          ⋱\n",
       "  24 │ WMT     0.318991  0.384252  0.411303  0.361199  0.42168   0.379725  0.3 ⋯\n",
       "  25 │ AVGO    0.434164  0.501274  0.535194  0.473988  0.53933   0.491745  0.4\n",
       "  26 │ NFLX    0.123931  0.275464  0.302813  0.242745  0.364888  0.293276  0.1\n",
       "  27 │ TMO     0.340034  0.427268  0.458461  0.399368  0.477651  0.425183  0.3\n",
       "  28 │ CRM     0.304837  0.419947  0.452837  0.387984  0.487017  0.423802  0.3 ⋯\n",
       "  29 │ COST    0.336051  0.435578  0.468182  0.405496  0.493272  0.435582  0.3\n",
       "  30 │ TWTR    0.30911   0.386928  0.415087  0.361844  0.431849  0.384803  0.3\n",
       "\u001b[36m                                                  24 columns and 15 rows omitted\u001b[0m"
      ]
     },
     "metadata": {},
     "output_type": "display_data"
    }
   ],
   "source": [
    "corr2_df = DataFrames.DataFrame(corr2, :auto)\n",
    "DataFrames.rename!(corr2_df, Symbol.(names(corr2_df)) .=> stocks[newIdx])\n",
    "insertcols!(corr2_df, 1, :index => stocks[newIdx])"
   ]
  },
  {
   "cell_type": "markdown",
   "metadata": {},
   "source": [
    "# Snippet 7.4"
   ]
  },
  {
   "cell_type": "code",
   "execution_count": 37,
   "metadata": {},
   "outputs": [
    {
     "data": {
      "text/html": [
       "<div class=\"data-frame\"><p>30 rows × 2 columns</p><table class=\"data-frame\"><thead><tr><th></th><th>1</th><th>2</th></tr><tr><th></th><th title=\"Float64\">Float64</th><th title=\"Float64\">Float64</th></tr></thead><tbody><tr><th>1</th><td>0.0</td><td>0.0203392</td></tr><tr><th>2</th><td>0.0</td><td>0.0661758</td></tr><tr><th>3</th><td>0.0</td><td>-0.0106846</td></tr><tr><th>4</th><td>0.0</td><td>0.0774348</td></tr><tr><th>5</th><td>0.0</td><td>-0.0689937</td></tr><tr><th>6</th><td>0.0</td><td>-0.0513673</td></tr><tr><th>7</th><td>-0.0403531</td><td>0.0</td></tr><tr><th>8</th><td>0.00538324</td><td>0.0</td></tr><tr><th>9</th><td>-0.0310191</td><td>0.0</td></tr><tr><th>10</th><td>0.452338</td><td>0.0</td></tr><tr><th>11</th><td>0.0147158</td><td>0.0</td></tr><tr><th>12</th><td>0.0</td><td>0.474777</td></tr><tr><th>13</th><td>0.321011</td><td>0.0</td></tr><tr><th>14</th><td>-0.0738182</td><td>0.0</td></tr><tr><th>15</th><td>-0.0837244</td><td>0.0</td></tr><tr><th>16</th><td>0.149964</td><td>0.0</td></tr><tr><th>17</th><td>-0.0265028</td><td>0.0</td></tr><tr><th>18</th><td>0.0</td><td>-0.0232587</td></tr><tr><th>19</th><td>0.0143629</td><td>0.0</td></tr><tr><th>20</th><td>-0.0486943</td><td>0.0</td></tr><tr><th>21</th><td>0.0384796</td><td>0.0</td></tr><tr><th>22</th><td>0.0</td><td>-0.0127649</td></tr><tr><th>23</th><td>-0.0107596</td><td>0.0</td></tr><tr><th>24</th><td>0.064179</td><td>0.0</td></tr><tr><th>&vellip;</th><td>&vellip;</td><td>&vellip;</td></tr></tbody></table></div>"
      ],
      "text/latex": [
       "\\begin{tabular}{r|cc}\n",
       "\t& 1 & 2\\\\\n",
       "\t\\hline\n",
       "\t& Float64 & Float64\\\\\n",
       "\t\\hline\n",
       "\t1 & 0.0 & 0.0203392 \\\\\n",
       "\t2 & 0.0 & 0.0661758 \\\\\n",
       "\t3 & 0.0 & -0.0106846 \\\\\n",
       "\t4 & 0.0 & 0.0774348 \\\\\n",
       "\t5 & 0.0 & -0.0689937 \\\\\n",
       "\t6 & 0.0 & -0.0513673 \\\\\n",
       "\t7 & -0.0403531 & 0.0 \\\\\n",
       "\t8 & 0.00538324 & 0.0 \\\\\n",
       "\t9 & -0.0310191 & 0.0 \\\\\n",
       "\t10 & 0.452338 & 0.0 \\\\\n",
       "\t11 & 0.0147158 & 0.0 \\\\\n",
       "\t12 & 0.0 & 0.474777 \\\\\n",
       "\t13 & 0.321011 & 0.0 \\\\\n",
       "\t14 & -0.0738182 & 0.0 \\\\\n",
       "\t15 & -0.0837244 & 0.0 \\\\\n",
       "\t16 & 0.149964 & 0.0 \\\\\n",
       "\t17 & -0.0265028 & 0.0 \\\\\n",
       "\t18 & 0.0 & -0.0232587 \\\\\n",
       "\t19 & 0.0143629 & 0.0 \\\\\n",
       "\t20 & -0.0486943 & 0.0 \\\\\n",
       "\t21 & 0.0384796 & 0.0 \\\\\n",
       "\t22 & 0.0 & -0.0127649 \\\\\n",
       "\t23 & -0.0107596 & 0.0 \\\\\n",
       "\t24 & 0.064179 & 0.0 \\\\\n",
       "\t$\\dots$ & $\\dots$ & $\\dots$ \\\\\n",
       "\\end{tabular}\n"
      ],
      "text/plain": [
       "\u001b[1m30×2 DataFrame\u001b[0m\n",
       "\u001b[1m Row \u001b[0m│\u001b[1m 1           \u001b[0m\u001b[1m 2          \u001b[0m\n",
       "\u001b[1m     \u001b[0m│\u001b[90m Float64     \u001b[0m\u001b[90m Float64    \u001b[0m\n",
       "─────┼─────────────────────────\n",
       "   1 │  0.0          0.0203392\n",
       "   2 │  0.0          0.0661758\n",
       "   3 │  0.0         -0.0106846\n",
       "   4 │  0.0          0.0774348\n",
       "   5 │  0.0         -0.0689937\n",
       "   6 │  0.0         -0.0513673\n",
       "   7 │ -0.0403531    0.0\n",
       "   8 │  0.00538324   0.0\n",
       "  ⋮  │      ⋮           ⋮\n",
       "  24 │  0.064179     0.0\n",
       "  25 │  0.304942     0.0\n",
       "  26 │  0.0          0.204393\n",
       "  27 │  0.0         -0.0395951\n",
       "  28 │  0.0          0.403761\n",
       "  29 │ -0.050503     0.0\n",
       "  30 │  0.0         -0.0402165\n",
       "\u001b[36m                15 rows omitted\u001b[0m"
      ]
     },
     "metadata": {},
     "output_type": "display_data"
    }
   ],
   "source": [
    "wIntra = DataFrames.DataFrame(repeat([0.], 30,2), :auto)\n",
    "DataFrames.rename!(wIntra, Symbol.(names(wIntra)).=>Symbol.(keys(clusters)))\n",
    "for i in keys(clusters)\n",
    "    wIntra[clusters[i], i] .= optPort(cov1[clusters[i], clusters[i]])\n",
    "end\n",
    "wIntra"
   ]
  },
  {
   "cell_type": "code",
   "execution_count": 38,
   "metadata": {},
   "outputs": [
    {
     "data": {
      "text/plain": [
       "2×2 Matrix{Float64}:\n",
       " 0.00012769  7.0689e-5\n",
       " 7.0689e-5   0.000169514"
      ]
     },
     "metadata": {},
     "output_type": "display_data"
    }
   ],
   "source": [
    "cov2 = transpose(Matrix(wIntra))*(cov1*Matrix(wIntra)) # reduced covariance matrix"
   ]
  },
  {
   "cell_type": "markdown",
   "metadata": {},
   "source": [
    "# Snippet 7.5"
   ]
  },
  {
   "cell_type": "code",
   "execution_count": 39,
   "metadata": {},
   "outputs": [
    {
     "data": {
      "text/html": [
       "<div class=\"data-frame\"><p>2 rows × 1 columns</p><table class=\"data-frame\"><thead><tr><th></th><th>weight</th></tr><tr><th></th><th title=\"Float64\">Float64</th></tr></thead><tbody><tr><th>1</th><td>0.634202</td></tr><tr><th>2</th><td>0.365798</td></tr></tbody></table></div>"
      ],
      "text/latex": [
       "\\begin{tabular}{r|c}\n",
       "\t& weight\\\\\n",
       "\t\\hline\n",
       "\t& Float64\\\\\n",
       "\t\\hline\n",
       "\t1 & 0.634202 \\\\\n",
       "\t2 & 0.365798 \\\\\n",
       "\\end{tabular}\n"
      ],
      "text/plain": [
       "\u001b[1m2×1 DataFrame\u001b[0m\n",
       "\u001b[1m Row \u001b[0m│\u001b[1m weight   \u001b[0m\n",
       "\u001b[1m     \u001b[0m│\u001b[90m Float64  \u001b[0m\n",
       "─────┼──────────\n",
       "   1 │ 0.634202\n",
       "   2 │ 0.365798"
      ]
     },
     "metadata": {},
     "output_type": "display_data"
    }
   ],
   "source": [
    "wInter = DataFrames.DataFrame(weight = vec(optPort(cov2)))"
   ]
  },
  {
   "cell_type": "code",
   "execution_count": 40,
   "metadata": {},
   "outputs": [
    {
     "data": {
      "text/html": [
       "<div class=\"data-frame\"><p>30 rows × 1 columns</p><table class=\"data-frame\"><thead><tr><th></th><th>weights</th></tr><tr><th></th><th title=\"Float64\">Float64</th></tr></thead><tbody><tr><th>1</th><td>0.00744005</td></tr><tr><th>2</th><td>0.024207</td></tr><tr><th>3</th><td>-0.00390842</td></tr><tr><th>4</th><td>0.0283255</td></tr><tr><th>5</th><td>-0.0252378</td></tr><tr><th>6</th><td>-0.0187901</td></tr><tr><th>7</th><td>-0.025592</td></tr><tr><th>8</th><td>0.00341406</td></tr><tr><th>9</th><td>-0.0196724</td></tr><tr><th>10</th><td>0.286873</td></tr><tr><th>11</th><td>0.00933281</td></tr><tr><th>12</th><td>0.173673</td></tr><tr><th>13</th><td>0.203586</td></tr><tr><th>14</th><td>-0.0468156</td></tr><tr><th>15</th><td>-0.0530982</td></tr><tr><th>16</th><td>0.0951073</td></tr><tr><th>17</th><td>-0.0168081</td></tr><tr><th>18</th><td>-0.008508</td></tr><tr><th>19</th><td>0.00910896</td></tr><tr><th>20</th><td>-0.030882</td></tr><tr><th>21</th><td>0.0244038</td></tr><tr><th>22</th><td>-0.00466937</td></tr><tr><th>23</th><td>-0.00682374</td></tr><tr><th>24</th><td>0.0407024</td></tr><tr><th>&vellip;</th><td>&vellip;</td></tr></tbody></table></div>"
      ],
      "text/latex": [
       "\\begin{tabular}{r|c}\n",
       "\t& weights\\\\\n",
       "\t\\hline\n",
       "\t& Float64\\\\\n",
       "\t\\hline\n",
       "\t1 & 0.00744005 \\\\\n",
       "\t2 & 0.024207 \\\\\n",
       "\t3 & -0.00390842 \\\\\n",
       "\t4 & 0.0283255 \\\\\n",
       "\t5 & -0.0252378 \\\\\n",
       "\t6 & -0.0187901 \\\\\n",
       "\t7 & -0.025592 \\\\\n",
       "\t8 & 0.00341406 \\\\\n",
       "\t9 & -0.0196724 \\\\\n",
       "\t10 & 0.286873 \\\\\n",
       "\t11 & 0.00933281 \\\\\n",
       "\t12 & 0.173673 \\\\\n",
       "\t13 & 0.203586 \\\\\n",
       "\t14 & -0.0468156 \\\\\n",
       "\t15 & -0.0530982 \\\\\n",
       "\t16 & 0.0951073 \\\\\n",
       "\t17 & -0.0168081 \\\\\n",
       "\t18 & -0.008508 \\\\\n",
       "\t19 & 0.00910896 \\\\\n",
       "\t20 & -0.030882 \\\\\n",
       "\t21 & 0.0244038 \\\\\n",
       "\t22 & -0.00466937 \\\\\n",
       "\t23 & -0.00682374 \\\\\n",
       "\t24 & 0.0407024 \\\\\n",
       "\t$\\dots$ & $\\dots$ \\\\\n",
       "\\end{tabular}\n"
      ],
      "text/plain": [
       "\u001b[1m30×1 DataFrame\u001b[0m\n",
       "\u001b[1m Row \u001b[0m│\u001b[1m weights     \u001b[0m\n",
       "\u001b[1m     \u001b[0m│\u001b[90m Float64     \u001b[0m\n",
       "─────┼─────────────\n",
       "   1 │  0.00744005\n",
       "   2 │  0.024207\n",
       "   3 │ -0.00390842\n",
       "   4 │  0.0283255\n",
       "   5 │ -0.0252378\n",
       "   6 │ -0.0187901\n",
       "   7 │ -0.025592\n",
       "   8 │  0.00341406\n",
       "  ⋮  │      ⋮\n",
       "  24 │  0.0407024\n",
       "  25 │  0.193394\n",
       "  26 │  0.0747667\n",
       "  27 │ -0.0144838\n",
       "  28 │  0.147695\n",
       "  29 │ -0.0320291\n",
       "  30 │ -0.0147111\n",
       "\u001b[36m    15 rows omitted\u001b[0m"
      ]
     },
     "metadata": {},
     "output_type": "display_data"
    }
   ],
   "source": [
    "weights = DataFrames.DataFrame(weights = vec(sum(Matrix(wIntra) .* Matrix(wInter)', dims = 2)))"
   ]
  },
  {
   "cell_type": "markdown",
   "metadata": {},
   "source": [
    "# Snippet 7.6"
   ]
  },
  {
   "cell_type": "code",
   "execution_count": 57,
   "metadata": {},
   "outputs": [
    {
     "data": {
      "text/html": [
       "<div class=\"data-frame\"><p>30 rows × 2 columns</p><table class=\"data-frame\"><thead><tr><th></th><th>index</th><th>weights</th></tr><tr><th></th><th title=\"Symbol\">Symbol</th><th title=\"Float64\">Float64</th></tr></thead><tbody><tr><th>1</th><td>AAPL</td><td>0.744005</td></tr><tr><th>2</th><td>MSFT</td><td>2.4207</td></tr><tr><th>3</th><td>GOOG</td><td>-0.390842</td></tr><tr><th>4</th><td>AMZN</td><td>2.83255</td></tr><tr><th>5</th><td>TSLA</td><td>-2.52378</td></tr><tr><th>6</th><td>FB</td><td>-1.87901</td></tr><tr><th>7</th><td>JPM</td><td>-2.5592</td></tr><tr><th>8</th><td>UNH</td><td>0.341406</td></tr><tr><th>9</th><td>V</td><td>-1.96724</td></tr><tr><th>10</th><td>JNJ</td><td>28.6873</td></tr><tr><th>11</th><td>HD</td><td>0.933281</td></tr><tr><th>12</th><td>WMT</td><td>17.3673</td></tr><tr><th>13</th><td>PG</td><td>20.3586</td></tr><tr><th>14</th><td>BAC</td><td>-4.68156</td></tr><tr><th>15</th><td>MA</td><td>-5.30982</td></tr><tr><th>16</th><td>PFE</td><td>9.51073</td></tr><tr><th>17</th><td>DIS</td><td>-1.68081</td></tr><tr><th>18</th><td>AVGO</td><td>-0.8508</td></tr><tr><th>19</th><td>XOM</td><td>0.910896</td></tr><tr><th>20</th><td>ACM</td><td>-3.0882</td></tr><tr><th>21</th><td>CSCO</td><td>2.44038</td></tr><tr><th>22</th><td>NFLX</td><td>-0.466937</td></tr><tr><th>23</th><td>NKE</td><td>-0.682374</td></tr><tr><th>24</th><td>LLY</td><td>4.07024</td></tr><tr><th>&vellip;</th><td>&vellip;</td><td>&vellip;</td></tr></tbody></table></div>"
      ],
      "text/latex": [
       "\\begin{tabular}{r|cc}\n",
       "\t& index & weights\\\\\n",
       "\t\\hline\n",
       "\t& Symbol & Float64\\\\\n",
       "\t\\hline\n",
       "\t1 & AAPL & 0.744005 \\\\\n",
       "\t2 & MSFT & 2.4207 \\\\\n",
       "\t3 & GOOG & -0.390842 \\\\\n",
       "\t4 & AMZN & 2.83255 \\\\\n",
       "\t5 & TSLA & -2.52378 \\\\\n",
       "\t6 & FB & -1.87901 \\\\\n",
       "\t7 & JPM & -2.5592 \\\\\n",
       "\t8 & UNH & 0.341406 \\\\\n",
       "\t9 & V & -1.96724 \\\\\n",
       "\t10 & JNJ & 28.6873 \\\\\n",
       "\t11 & HD & 0.933281 \\\\\n",
       "\t12 & WMT & 17.3673 \\\\\n",
       "\t13 & PG & 20.3586 \\\\\n",
       "\t14 & BAC & -4.68156 \\\\\n",
       "\t15 & MA & -5.30982 \\\\\n",
       "\t16 & PFE & 9.51073 \\\\\n",
       "\t17 & DIS & -1.68081 \\\\\n",
       "\t18 & AVGO & -0.8508 \\\\\n",
       "\t19 & XOM & 0.910896 \\\\\n",
       "\t20 & ACM & -3.0882 \\\\\n",
       "\t21 & CSCO & 2.44038 \\\\\n",
       "\t22 & NFLX & -0.466937 \\\\\n",
       "\t23 & NKE & -0.682374 \\\\\n",
       "\t24 & LLY & 4.07024 \\\\\n",
       "\t$\\dots$ & $\\dots$ & $\\dots$ \\\\\n",
       "\\end{tabular}\n"
      ],
      "text/plain": [
       "\u001b[1m30×2 DataFrame\u001b[0m\n",
       "\u001b[1m Row \u001b[0m│\u001b[1m index  \u001b[0m\u001b[1m weights   \u001b[0m\n",
       "\u001b[1m     \u001b[0m│\u001b[90m Symbol \u001b[0m\u001b[90m Float64   \u001b[0m\n",
       "─────┼───────────────────\n",
       "   1 │ AAPL     0.744005\n",
       "   2 │ MSFT     2.4207\n",
       "   3 │ GOOG    -0.390842\n",
       "   4 │ AMZN     2.83255\n",
       "   5 │ TSLA    -2.52378\n",
       "   6 │ FB      -1.87901\n",
       "   7 │ JPM     -2.5592\n",
       "   8 │ UNH      0.341406\n",
       "  ⋮  │   ⋮         ⋮\n",
       "  24 │ LLY      4.07024\n",
       "  25 │ KO      19.3394\n",
       "  26 │ TMO      7.47667\n",
       "  27 │ CRM     -1.44838\n",
       "  28 │ COST    14.7695\n",
       "  29 │ AAL     -3.20291\n",
       "  30 │ TWTR    -1.47111\n",
       "\u001b[36m          15 rows omitted\u001b[0m"
      ]
     },
     "metadata": {},
     "output_type": "display_data"
    }
   ],
   "source": [
    "nco = optPortNCO(cov1)\n",
    "insertcols!(nco, 1, :index => stocks)\n",
    "nco.weights*=100\n",
    "nco"
   ]
  },
  {
   "cell_type": "markdown",
   "metadata": {},
   "source": [
    "# Snippet 7.7"
   ]
  },
  {
   "cell_type": "code",
   "execution_count": 115,
   "metadata": {},
   "outputs": [],
   "source": [
    "nblocks, bsize, bcorr = 10, 50, .5\n",
    "mu0, cov0 = formTrueMatrix(nblocks, bsize, bcorr);"
   ]
  },
  {
   "cell_type": "markdown",
   "metadata": {},
   "source": [
    "# Snippet 7.8 - minimumVariance"
   ]
  },
  {
   "cell_type": "code",
   "execution_count": 117,
   "metadata": {},
   "outputs": [],
   "source": [
    "nObs, nSims, shrink, minVarPortf = 1000, 100, false, true\n",
    "w1 = DataFrames.DataFrame(zeros(nSims, size(cov0)[1]), :auto)\n",
    "DataFrames.rename!(w1, names(w1) .=> Symbol.(range(1,stop = size(cov0)[1])))\n",
    "w1_d = copy(w1)\n",
    "Random.seed!(0)\n",
    "for i in 1:nSims\n",
    "    mu1, cov1 = simCovMu(mu0, cov0, nObs, shrink)\n",
    "    if minVarPortf\n",
    "        mu1 = nothing\n",
    "    end\n",
    "    w1[i, :] .= optPort(cov1, mu1)\n",
    "    w1_d[i, :] .= optPortNCO(cov1, μ = mu1, numberClusters = Int(size(cov1)[1]/2)).weights\n",
    "end"
   ]
  },
  {
   "cell_type": "markdown",
   "metadata": {},
   "source": [
    "# Snippet 7.9 - minimumVariance"
   ]
  },
  {
   "cell_type": "code",
   "execution_count": 118,
   "metadata": {},
   "outputs": [
    {
     "name": "stdout",
     "output_type": "stream",
     "text": [
      "0.008253889041250856\n",
      "0.004784612178565543\n"
     ]
    }
   ],
   "source": [
    "if minVarPortf\n",
    "    mu_ = nothing\n",
    "else \n",
    "    mu_ = mu0\n",
    "end\n",
    "w0 = optPort(cov0, mu_)\n",
    "w0 = repeat(transpose(w0),size(w1)[1],1) # true allocation\n",
    "rmsd = mean((Matrix(w1) .- w0).^2)^.5 # RMSE\n",
    "rmsd_d = mean((Matrix(w1_d) .- w0).^2)^.5 # RMSE\n",
    "println(rmsd)\n",
    "println(rmsd_d)"
   ]
  },
  {
   "cell_type": "markdown",
   "metadata": {},
   "source": [
    "# Snippet 7.8 - Maximum Sharpe Ratio"
   ]
  },
  {
   "cell_type": "code",
   "execution_count": 119,
   "metadata": {},
   "outputs": [],
   "source": [
    "nObs, nSims, shrink, minVarPortf = 1000, 100, false, false\n",
    "w1 = DataFrames.DataFrame(zeros(nSims, size(cov0)[1]), :auto)\n",
    "DataFrames.rename!(w1, names(w1) .=> Symbol.(range(1,stop = size(cov0)[1])))\n",
    "w1_d = copy(w1)\n",
    "Random.seed!(0)\n",
    "for i in 1:nSims\n",
    "    mu1, cov1 = simCovMu(mu0, cov0, nObs, shrink)\n",
    "    if minVarPortf\n",
    "        mu1 = nothing\n",
    "    end\n",
    "    w1[i, :] .= optPort(cov1, mu1)\n",
    "    w1_d[i, :] .= optPortNCO(cov1, μ = mu1, numberClusters = Int(size(cov1)[1]/2)).weights\n",
    "end"
   ]
  },
  {
   "cell_type": "markdown",
   "metadata": {},
   "source": [
    "# Snippet 7.9 - Maximum Sharpe Ratio"
   ]
  },
  {
   "cell_type": "code",
   "execution_count": 124,
   "metadata": {},
   "outputs": [
    {
     "name": "stdout",
     "output_type": "stream",
     "text": [
      "0.020689955031308205\n",
      "0.011504007584328657\n"
     ]
    }
   ],
   "source": [
    "if minVarPortf\n",
    "    mu_ = nothing\n",
    "else \n",
    "    mu_ = vcat(mu0...)\n",
    "end\n",
    "w0 = optPort(cov0, mu_)\n",
    "w0 = repeat(transpose(w0),size(w1)[1],1) # true allocation\n",
    "rmsd = mean((Matrix(w1) .- w0).^2)^.5 # RMSE\n",
    "rmsd_d = mean((Matrix(w1_d) .- w0).^2)^.5 # RMSE\n",
    "println(rmsd)\n",
    "println(rmsd_d)"
   ]
  }
 ],
 "metadata": {
  "kernelspec": {
   "display_name": "Julia 1.8.0",
   "language": "julia",
   "name": "julia-1.8"
  },
  "language_info": {
   "file_extension": ".jl",
   "mimetype": "application/julia",
   "name": "julia",
   "version": "1.8.0"
  },
  "orig_nbformat": 4
 },
 "nbformat": 4,
 "nbformat_minor": 2
}
