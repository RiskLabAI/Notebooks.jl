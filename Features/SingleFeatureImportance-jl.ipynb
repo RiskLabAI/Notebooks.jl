{
 "cells": [
  {
   "cell_type": "markdown",
   "metadata": {},
   "source": [
    "# Import Libraries"
   ]
  },
  {
   "cell_type": "code",
   "execution_count": 15,
   "metadata": {},
   "outputs": [],
   "source": [
    "using DataFrames\n",
    "using DataFramesMeta\n",
    "using PyCall\n",
    "using Statistics\n",
    "using PlotlyJS\n",
    "using TimeSeries\n",
    "using Random\n",
    "\n",
    "@pyimport sklearn.metrics as Metrics\n",
    "@pyimport sklearn.ensemble as Ensemble\n",
    "@pyimport sklearn.tree as Tree\n",
    "@pyimport sklearn.datasets as Datasets\n",
    "@pyimport sklearn.model_selection as ModelSelection\n",
    "\n",
    "include(\"GenerateSyntheticData.jl\");\n",
    "include(\"SingleFeatureImportance.jl\");"
   ]
  },
  {
   "cell_type": "markdown",
   "metadata": {},
   "source": [
    "# Generate Synthetic Test Data"
   ]
  },
  {
   "cell_type": "code",
   "execution_count": 16,
   "metadata": {},
   "outputs": [],
   "source": [
    "X, y = getTestData(\n",
    "    nFeatures=40,\n",
    "    nInformative=5, \n",
    "    nRedundant=30,\n",
    "    nSamples=500,\n",
    "    sigmaStd=0.1);"
   ]
  },
  {
   "cell_type": "markdown",
   "metadata": {},
   "source": [
    "# Fit SFI"
   ]
  },
  {
   "cell_type": "code",
   "execution_count": 17,
   "metadata": {},
   "outputs": [],
   "source": [
    "classifier = Tree.DecisionTreeClassifier(\n",
    "    criterion=\"entropy\",\n",
    "    max_features=1,\n",
    "    class_weight=\"balanced\",\n",
    "    min_weight_fraction_leaf=0)\n",
    "\n",
    "result = featureImportanceSFI(\n",
    "    classifier,\n",
    "    X, y,\n",
    "    10,\n",
    "    scoring=\"accuracy\"\n",
    ");"
   ]
  },
  {
   "cell_type": "code",
   "execution_count": 18,
   "metadata": {},
   "outputs": [
    {
     "data": {
      "text/html": [
       "<div class=\"data-frame\"><p>40 rows × 3 columns</p><table class=\"data-frame\"><thead><tr><th></th><th>FeatureName</th><th>Mean</th><th>StandardDeviation</th></tr><tr><th></th><th title=\"Any\">Any</th><th title=\"Any\">Any</th><th title=\"Any\">Any</th></tr></thead><tbody><tr><th>1</th><td>I_1</td><td>0.57</td><td>0.0633333</td></tr><tr><th>2</th><td>R_17</td><td>0.566</td><td>0.0574302</td></tr><tr><th>3</th><td>R_19</td><td>0.556</td><td>0.0212498</td></tr><tr><th>4</th><td>R_2</td><td>0.55</td><td>0.0246306</td></tr><tr><th>5</th><td>R_1</td><td>0.548</td><td>0.0613333</td></tr><tr><th>6</th><td>R_6</td><td>0.548</td><td>0.0572092</td></tr><tr><th>7</th><td>R_10</td><td>0.544</td><td>0.0592396</td></tr><tr><th>8</th><td>R_20</td><td>0.544</td><td>0.0698443</td></tr><tr><th>9</th><td>R_14</td><td>0.522</td><td>0.0753333</td></tr><tr><th>10</th><td>R_18</td><td>0.516</td><td>0.0594643</td></tr><tr><th>11</th><td>R_21</td><td>0.512</td><td>0.0417612</td></tr><tr><th>12</th><td>R_13</td><td>0.502</td><td>0.0211765</td></tr><tr><th>13</th><td>I_3</td><td>0.498</td><td>0.0455534</td></tr><tr><th>14</th><td>R_27</td><td>0.492</td><td>0.0351757</td></tr><tr><th>15</th><td>R_23</td><td>0.49</td><td>0.0370285</td></tr><tr><th>16</th><td>R_11</td><td>0.488</td><td>0.0405737</td></tr><tr><th>17</th><td>R_12</td><td>0.482</td><td>0.0325849</td></tr><tr><th>18</th><td>R_15</td><td>0.482</td><td>0.0524468</td></tr><tr><th>19</th><td>R_30</td><td>0.482</td><td>0.0288213</td></tr><tr><th>20</th><td>R_16</td><td>0.48</td><td>0.0142984</td></tr><tr><th>21</th><td>I_5</td><td>0.476</td><td>0.0210396</td></tr><tr><th>22</th><td>R_25</td><td>0.476</td><td>0.0291814</td></tr><tr><th>23</th><td>R_3</td><td>0.472</td><td>0.0189033</td></tr><tr><th>24</th><td>R_29</td><td>0.472</td><td>0.00904311</td></tr><tr><th>&vellip;</th><td>&vellip;</td><td>&vellip;</td><td>&vellip;</td></tr></tbody></table></div>"
      ],
      "text/latex": [
       "\\begin{tabular}{r|ccc}\n",
       "\t& FeatureName & Mean & StandardDeviation\\\\\n",
       "\t\\hline\n",
       "\t& Any & Any & Any\\\\\n",
       "\t\\hline\n",
       "\t1 & I\\_1 & 0.57 & 0.0633333 \\\\\n",
       "\t2 & R\\_17 & 0.566 & 0.0574302 \\\\\n",
       "\t3 & R\\_19 & 0.556 & 0.0212498 \\\\\n",
       "\t4 & R\\_2 & 0.55 & 0.0246306 \\\\\n",
       "\t5 & R\\_1 & 0.548 & 0.0613333 \\\\\n",
       "\t6 & R\\_6 & 0.548 & 0.0572092 \\\\\n",
       "\t7 & R\\_10 & 0.544 & 0.0592396 \\\\\n",
       "\t8 & R\\_20 & 0.544 & 0.0698443 \\\\\n",
       "\t9 & R\\_14 & 0.522 & 0.0753333 \\\\\n",
       "\t10 & R\\_18 & 0.516 & 0.0594643 \\\\\n",
       "\t11 & R\\_21 & 0.512 & 0.0417612 \\\\\n",
       "\t12 & R\\_13 & 0.502 & 0.0211765 \\\\\n",
       "\t13 & I\\_3 & 0.498 & 0.0455534 \\\\\n",
       "\t14 & R\\_27 & 0.492 & 0.0351757 \\\\\n",
       "\t15 & R\\_23 & 0.49 & 0.0370285 \\\\\n",
       "\t16 & R\\_11 & 0.488 & 0.0405737 \\\\\n",
       "\t17 & R\\_12 & 0.482 & 0.0325849 \\\\\n",
       "\t18 & R\\_15 & 0.482 & 0.0524468 \\\\\n",
       "\t19 & R\\_30 & 0.482 & 0.0288213 \\\\\n",
       "\t20 & R\\_16 & 0.48 & 0.0142984 \\\\\n",
       "\t21 & I\\_5 & 0.476 & 0.0210396 \\\\\n",
       "\t22 & R\\_25 & 0.476 & 0.0291814 \\\\\n",
       "\t23 & R\\_3 & 0.472 & 0.0189033 \\\\\n",
       "\t24 & R\\_29 & 0.472 & 0.00904311 \\\\\n",
       "\t$\\dots$ & $\\dots$ & $\\dots$ & $\\dots$ \\\\\n",
       "\\end{tabular}\n"
      ],
      "text/plain": [
       "\u001b[1m40×3 DataFrame\u001b[0m\n",
       "\u001b[1m Row \u001b[0m│\u001b[1m FeatureName \u001b[0m\u001b[1m Mean  \u001b[0m\u001b[1m StandardDeviation \u001b[0m\n",
       "\u001b[1m     \u001b[0m│\u001b[90m Any         \u001b[0m\u001b[90m Any   \u001b[0m\u001b[90m Any               \u001b[0m\n",
       "─────┼───────────────────────────────────────\n",
       "   1 │ I_1          0.57   0.0633333\n",
       "   2 │ R_17         0.566  0.0574302\n",
       "   3 │ R_19         0.556  0.0212498\n",
       "   4 │ R_2          0.55   0.0246306\n",
       "   5 │ R_1          0.548  0.0613333\n",
       "   6 │ R_6          0.548  0.0572092\n",
       "   7 │ R_10         0.544  0.0592396\n",
       "   8 │ R_20         0.544  0.0698443\n",
       "  ⋮  │      ⋮         ⋮            ⋮\n",
       "  34 │ R_26         0.454  0.017901\n",
       "  35 │ R_4          0.448  0.0186667\n",
       "  36 │ R_8          0.448  0.0235136\n",
       "  37 │ R_28         0.446  0.0227156\n",
       "  38 │ N_4          0.418  0.0198774\n",
       "  39 │ N_1          0.406  0.0195619\n",
       "  40 │ N_2          0.386  0.0217153\n",
       "\u001b[36m                              25 rows omitted\u001b[0m"
      ]
     },
     "metadata": {},
     "output_type": "display_data"
    }
   ],
   "source": [
    "sort!(result, [:Mean], rev=true)\n"
   ]
  },
  {
   "cell_type": "markdown",
   "metadata": {},
   "source": [
    "# Plot Results"
   ]
  },
  {
   "cell_type": "code",
   "execution_count": 19,
   "metadata": {},
   "outputs": [],
   "source": [
    "templates.default = \"plotly_dark\";\n",
    "PlotlyJS.templates\n",
    "\n",
    "toSavePlot = plot(\n",
    "    bar(\n",
    "        result,\n",
    "        x=:Mean,\n",
    "        y=:FeatureName,\n",
    "        error_x=attr(type=\"data\", array=:StandardDeviation, visible=true),\n",
    "        orientation=\"h\",\n",
    "        ),\n",
    "    PlotlyJS.Layout(\n",
    "        title=\"SFI Results\",\n",
    "        width=800, height=1200,\n",
    "        xaxis_title=\"Feature Name\",\n",
    "        yaxis_title=\"Feature Importance\",\n",
    "    )\n",
    ")"
   ]
  },
  {
   "cell_type": "markdown",
   "metadata": {},
   "source": [
    "# Save Results"
   ]
  },
  {
   "cell_type": "code",
   "execution_count": null,
   "metadata": {},
   "outputs": [],
   "source": [
    "PlotlyJS.savefig(toSavePlot, \"Figs/SFI_results.png\")"
   ]
  },
  {
   "cell_type": "code",
   "execution_count": null,
   "metadata": {},
   "outputs": [],
   "source": []
  }
 ],
 "metadata": {
  "kernelspec": {
   "display_name": "Julia 1.8.1",
   "language": "julia",
   "name": "julia-1.8"
  },
  "language_info": {
   "file_extension": ".jl",
   "mimetype": "application/julia",
   "name": "julia",
   "version": "1.8.1"
  },
  "orig_nbformat": 4,
  "vscode": {
   "interpreter": {
    "hash": "2ff50100434cc479892626f133397731c49cdeb5620cb5b4c3a938fe7a88ca82"
   }
  }
 },
 "nbformat": 4,
 "nbformat_minor": 2
}
