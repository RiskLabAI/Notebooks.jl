{
 "cells": [
  {
   "cell_type": "markdown",
   "metadata": {},
   "source": [
    "# Import Libraries"
   ]
  },
  {
   "cell_type": "code",
   "execution_count": 1,
   "metadata": {},
   "outputs": [
    {
     "name": "stderr",
     "output_type": "stream",
     "text": [
      "<frozen importlib._bootstrap>:241: RuntimeWarning: scipy._lib.messagestream.MessageStream size changed, may indicate binary incompatibility. Expected 56 from C header, got 64 from PyObject\n"
     ]
    }
   ],
   "source": [
    "using DataFrames\n",
    "using PyCall\n",
    "using Statistics\n",
    "using PlotlyJS\n",
    "\n",
    "include(\"GenerateSyntheticData.jl\")\n",
    "include(\"MeanDecreaseImpurity.jl\")\n",
    "\n",
    "@pyimport sklearn.datasets as Datasets\n",
    "@pyimport sklearn.ensemble as Ensemble\n",
    "@pyimport sklearn.tree as Tree"
   ]
  },
  {
   "cell_type": "markdown",
   "metadata": {},
   "source": [
    "# Generate Synthetic Test Data"
   ]
  },
  {
   "cell_type": "code",
   "execution_count": 2,
   "metadata": {},
   "outputs": [],
   "source": [
    "X, y = getTestData(\n",
    "    nFeatures=40,\n",
    "    nInformative=5,\n",
    "    nRedundant=30,\n",
    "    nSamples=10_000,\n",
    "    sigmaStd=1.0,\n",
    "    randomState=0\n",
    ");"
   ]
  },
  {
   "cell_type": "markdown",
   "metadata": {},
   "source": [
    "# Fit MDI"
   ]
  },
  {
   "cell_type": "code",
   "execution_count": 3,
   "metadata": {},
   "outputs": [],
   "source": [
    "classifier = Tree.DecisionTreeClassifier(\n",
    "    criterion=\"entropy\",\n",
    "    max_features=1,\n",
    "    class_weight=\"balanced\",\n",
    "    min_weight_fraction_leaf=0,\n",
    ")\n",
    "\n",
    "classifier = Ensemble.BaggingClassifier(\n",
    "    base_estimator=classifier,\n",
    "    n_estimators=1000,\n",
    "    max_features=1.0,\n",
    "    max_samples=1.0,\n",
    "    oob_score=false\n",
    ")\n",
    "\n",
    "fit = classifier.fit(X |> Matrix, (y |> Matrix)[:, 1])\n",
    "\n",
    "result = featureImportanceMDI(fit, names(X));"
   ]
  },
  {
   "cell_type": "code",
   "execution_count": 4,
   "metadata": {},
   "outputs": [
    {
     "data": {
      "text/html": [
       "<table class=\"data-frame\"><thead><tr><th></th><th>FeatureName</th><th>FeatureImportance</th><th>Std</th></tr><tr><th></th><th>String</th><th>Float64</th><th>Float64</th></tr></thead><tbody><p>40 rows × 3 columns</p><tr><th>1</th><td>N_3</td><td>0.0115216</td><td>8.80625e-5</td></tr><tr><th>2</th><td>N_5</td><td>0.0115728</td><td>8.97374e-5</td></tr><tr><th>3</th><td>N_1</td><td>0.0115894</td><td>8.9527e-5</td></tr><tr><th>4</th><td>N_4</td><td>0.0116941</td><td>9.24965e-5</td></tr><tr><th>5</th><td>N_2</td><td>0.0117963</td><td>8.78279e-5</td></tr><tr><th>6</th><td>R_8</td><td>0.017179</td><td>0.000183265</td></tr><tr><th>7</th><td>I_4</td><td>0.0172247</td><td>0.000175084</td></tr><tr><th>8</th><td>R_28</td><td>0.0172605</td><td>0.000183645</td></tr><tr><th>9</th><td>R_5</td><td>0.0173836</td><td>0.00018594</td></tr><tr><th>10</th><td>R_23</td><td>0.017501</td><td>0.000183097</td></tr><tr><th>11</th><td>R_17</td><td>0.0175523</td><td>0.000186478</td></tr><tr><th>12</th><td>R_18</td><td>0.0195213</td><td>0.000360481</td></tr><tr><th>13</th><td>R_7</td><td>0.0198176</td><td>0.000373399</td></tr><tr><th>14</th><td>R_2</td><td>0.0198326</td><td>0.000380073</td></tr><tr><th>15</th><td>R_4</td><td>0.0198383</td><td>0.000383969</td></tr><tr><th>16</th><td>R_21</td><td>0.0200797</td><td>0.000381697</td></tr><tr><th>17</th><td>R_24</td><td>0.020149</td><td>0.000369126</td></tr><tr><th>18</th><td>I_1</td><td>0.0202187</td><td>0.000376641</td></tr><tr><th>19</th><td>R_10</td><td>0.0203047</td><td>0.000382865</td></tr><tr><th>20</th><td>R_6</td><td>0.0205511</td><td>0.000374649</td></tr><tr><th>21</th><td>R_11</td><td>0.0230992</td><td>0.000555909</td></tr><tr><th>22</th><td>R_30</td><td>0.0231413</td><td>0.00054519</td></tr><tr><th>23</th><td>R_25</td><td>0.0231932</td><td>0.000568503</td></tr><tr><th>24</th><td>R_27</td><td>0.0233535</td><td>0.000605291</td></tr><tr><th>&vellip;</th><td>&vellip;</td><td>&vellip;</td><td>&vellip;</td></tr></tbody></table>"
      ],
      "text/latex": [
       "\\begin{tabular}{r|ccc}\n",
       "\t& FeatureName & FeatureImportance & Std\\\\\n",
       "\t\\hline\n",
       "\t& String & Float64 & Float64\\\\\n",
       "\t\\hline\n",
       "\t1 & N\\_3 & 0.0115216 & 8.80625e-5 \\\\\n",
       "\t2 & N\\_5 & 0.0115728 & 8.97374e-5 \\\\\n",
       "\t3 & N\\_1 & 0.0115894 & 8.9527e-5 \\\\\n",
       "\t4 & N\\_4 & 0.0116941 & 9.24965e-5 \\\\\n",
       "\t5 & N\\_2 & 0.0117963 & 8.78279e-5 \\\\\n",
       "\t6 & R\\_8 & 0.017179 & 0.000183265 \\\\\n",
       "\t7 & I\\_4 & 0.0172247 & 0.000175084 \\\\\n",
       "\t8 & R\\_28 & 0.0172605 & 0.000183645 \\\\\n",
       "\t9 & R\\_5 & 0.0173836 & 0.00018594 \\\\\n",
       "\t10 & R\\_23 & 0.017501 & 0.000183097 \\\\\n",
       "\t11 & R\\_17 & 0.0175523 & 0.000186478 \\\\\n",
       "\t12 & R\\_18 & 0.0195213 & 0.000360481 \\\\\n",
       "\t13 & R\\_7 & 0.0198176 & 0.000373399 \\\\\n",
       "\t14 & R\\_2 & 0.0198326 & 0.000380073 \\\\\n",
       "\t15 & R\\_4 & 0.0198383 & 0.000383969 \\\\\n",
       "\t16 & R\\_21 & 0.0200797 & 0.000381697 \\\\\n",
       "\t17 & R\\_24 & 0.020149 & 0.000369126 \\\\\n",
       "\t18 & I\\_1 & 0.0202187 & 0.000376641 \\\\\n",
       "\t19 & R\\_10 & 0.0203047 & 0.000382865 \\\\\n",
       "\t20 & R\\_6 & 0.0205511 & 0.000374649 \\\\\n",
       "\t21 & R\\_11 & 0.0230992 & 0.000555909 \\\\\n",
       "\t22 & R\\_30 & 0.0231413 & 0.00054519 \\\\\n",
       "\t23 & R\\_25 & 0.0231932 & 0.000568503 \\\\\n",
       "\t24 & R\\_27 & 0.0233535 & 0.000605291 \\\\\n",
       "\t$\\dots$ & $\\dots$ & $\\dots$ & $\\dots$ \\\\\n",
       "\\end{tabular}\n"
      ],
      "text/plain": [
       "40×3 DataFrame\n",
       "│ Row │ FeatureName │ FeatureImportance │ Std         │\n",
       "│     │ \u001b[90mString\u001b[39m      │ \u001b[90mFloat64\u001b[39m           │ \u001b[90mFloat64\u001b[39m     │\n",
       "├─────┼─────────────┼───────────────────┼─────────────┤\n",
       "│ 1   │ N_3         │ 0.0115216         │ 8.80625e-5  │\n",
       "│ 2   │ N_5         │ 0.0115728         │ 8.97374e-5  │\n",
       "│ 3   │ N_1         │ 0.0115894         │ 8.9527e-5   │\n",
       "│ 4   │ N_4         │ 0.0116941         │ 9.24965e-5  │\n",
       "│ 5   │ N_2         │ 0.0117963         │ 8.78279e-5  │\n",
       "│ 6   │ R_8         │ 0.017179          │ 0.000183265 │\n",
       "│ 7   │ I_4         │ 0.0172247         │ 0.000175084 │\n",
       "⋮\n",
       "│ 33  │ R_16        │ 0.0318139         │ 0.000841114 │\n",
       "│ 34  │ R_12        │ 0.0318517         │ 0.000843528 │\n",
       "│ 35  │ R_3         │ 0.0331589         │ 0.000843856 │\n",
       "│ 36  │ I_5         │ 0.0332941         │ 0.000889043 │\n",
       "│ 37  │ R_14        │ 0.0573695         │ 0.00162521  │\n",
       "│ 38  │ I_2         │ 0.0578835         │ 0.00158468  │\n",
       "│ 39  │ R_13        │ 0.0589948         │ 0.00165268  │\n",
       "│ 40  │ R_9         │ 0.0606518         │ 0.00170801  │"
      ]
     },
     "metadata": {},
     "output_type": "display_data"
    }
   ],
   "source": [
    "sort!(result, [:FeatureImportance], rev=false)"
   ]
  },
  {
   "cell_type": "markdown",
   "metadata": {},
   "source": [
    "# Plot Results"
   ]
  },
  {
   "cell_type": "code",
   "execution_count": 5,
   "metadata": {},
   "outputs": [
    {
     "data": {
      "application/vnd.plotly.v1+json": {
       "config": {
        "editable": false,
        "responsive": true,
        "scrollZoom": true,
        "showLink": false,
        "staticPlot": false
       },
       "data": [
        {
         "error_x": {
          "array": [
           0.0000880624754692847,
           0.00008973744142622053,
           0.0000895269970123503,
           0.00009249651932655159,
           0.00008782790146138625,
           0.00018326483600000074,
           0.00017508406182477476,
           0.00018364541874482535,
           0.000185939604437809,
           0.00018309706656357728,
           0.00018647827029819261,
           0.00036048050893871023,
           0.0003733986113006326,
           0.0003800731514519153,
           0.00038396866659816544,
           0.0003816972500198264,
           0.0003691255100875886,
           0.0003766406498784468,
           0.0003828652043157894,
           0.0003746492198676508,
           0.0005559090585301239,
           0.0005451898506622325,
           0.0005685032554058132,
           0.0006052907320818568,
           0.0005476072380238394,
           0.0005669110579050781,
           0.0005949621925716555,
           0.0005881057486442426,
           0.0005789002636284503,
           0.0005811735569998034,
           0.0006214908359777922,
           0.0008080004997318459,
           0.000841113858839807,
           0.0008435284958727159,
           0.0008438560489910328,
           0.0008890433278542119,
           0.0016252097730469553,
           0.0015846763965867085,
           0.0016526847692603143,
           0.001708012647243101
          ],
          "type": "data",
          "visible": true
         },
         "orientation": "h",
         "type": "bar",
         "x": [
          0.011521582892313488,
          0.011572772881139129,
          0.011589372453223817,
          0.011694066429463716,
          0.011796326342584519,
          0.01717900290665281,
          0.017224683473418087,
          0.017260510239863167,
          0.017383626913094856,
          0.017500987644870163,
          0.017552305475594977,
          0.01952133755174907,
          0.019817552537298846,
          0.01983259585767242,
          0.01983831475433659,
          0.020079718284738108,
          0.020149037281434988,
          0.020218667278136013,
          0.020304718535999813,
          0.020551064354014253,
          0.023099200850801464,
          0.0231413055839658,
          0.023193173939385803,
          0.023353493271511407,
          0.0235301212629542,
          0.023742985356565036,
          0.02380747903288934,
          0.023812982317319487,
          0.023818452692697063,
          0.0241229782293445,
          0.025182001676516273,
          0.031589352738933915,
          0.031813906427937695,
          0.031851749920282765,
          0.033158915174553445,
          0.033294118991025634,
          0.05736949887089582,
          0.05788347187059984,
          0.058994784912218996,
          0.060651782792002756
         ],
         "y": [
          "N_3",
          "N_5",
          "N_1",
          "N_4",
          "N_2",
          "R_8",
          "I_4",
          "R_28",
          "R_5",
          "R_23",
          "R_17",
          "R_18",
          "R_7",
          "R_2",
          "R_4",
          "R_21",
          "R_24",
          "I_1",
          "R_10",
          "R_6",
          "R_11",
          "R_30",
          "R_25",
          "R_27",
          "R_26",
          "I_3",
          "R_15",
          "R_20",
          "R_1",
          "R_19",
          "R_22",
          "R_29",
          "R_16",
          "R_12",
          "R_3",
          "I_5",
          "R_14",
          "I_2",
          "R_13",
          "R_9"
         ]
        }
       ],
       "frames": [],
       "layout": {
        "height": 1200,
        "margin": {
         "b": 50,
         "l": 50,
         "r": 50,
         "t": 60
        },
        "template": {
         "data": {
          "bar": [
           {
            "error_x": {
             "color": "#f2f5fa"
            },
            "error_y": {
             "color": "#f2f5fa"
            },
            "marker": {
             "line": {
              "color": "rgb(17,17,17)",
              "width": 0.5
             }
            },
            "type": "bar"
           }
          ],
          "barpolar": [
           {
            "marker": {
             "line": {
              "color": "rgb(17,17,17)",
              "width": 0.5
             }
            },
            "type": "barpolar"
           }
          ],
          "carpet": [
           {
            "aaxis": {
             "endlinecolor": "#A2B1C6",
             "gridcolor": "#506784",
             "linecolor": "#506784",
             "minorgridcolor": "#506784",
             "startlinecolor": "#A2B1C6"
            },
            "baxis": {
             "endlinecolor": "#A2B1C6",
             "gridcolor": "#506784",
             "linecolor": "#506784",
             "minorgridcolor": "#506784",
             "startlinecolor": "#A2B1C6"
            },
            "type": "carpet"
           }
          ],
          "choropleth": [
           {
            "colorbar": {
             "outlinewidth": 0,
             "ticks": ""
            },
            "type": "choropleth"
           }
          ],
          "contour": [
           {
            "colorbar": {
             "outlinewidth": 0,
             "ticks": ""
            },
            "colorscale": [
             [
              0,
              "#0d0887"
             ],
             [
              0.1111111111111111,
              "#46039f"
             ],
             [
              0.2222222222222222,
              "#7201a8"
             ],
             [
              0.3333333333333333,
              "#9c179e"
             ],
             [
              0.4444444444444444,
              "#bd3786"
             ],
             [
              0.5555555555555556,
              "#d8576b"
             ],
             [
              0.6666666666666666,
              "#ed7953"
             ],
             [
              0.7777777777777778,
              "#fb9f3a"
             ],
             [
              0.8888888888888888,
              "#fdca26"
             ],
             [
              1,
              "#f0f921"
             ]
            ],
            "type": "contour"
           }
          ],
          "contourcarpet": [
           {
            "colorbar": {
             "outlinewidth": 0,
             "ticks": ""
            },
            "type": "contourcarpet"
           }
          ],
          "heatmap": [
           {
            "colorbar": {
             "outlinewidth": 0,
             "ticks": ""
            },
            "colorscale": [
             [
              0,
              "#0d0887"
             ],
             [
              0.1111111111111111,
              "#46039f"
             ],
             [
              0.2222222222222222,
              "#7201a8"
             ],
             [
              0.3333333333333333,
              "#9c179e"
             ],
             [
              0.4444444444444444,
              "#bd3786"
             ],
             [
              0.5555555555555556,
              "#d8576b"
             ],
             [
              0.6666666666666666,
              "#ed7953"
             ],
             [
              0.7777777777777778,
              "#fb9f3a"
             ],
             [
              0.8888888888888888,
              "#fdca26"
             ],
             [
              1,
              "#f0f921"
             ]
            ],
            "type": "heatmap"
           }
          ],
          "heatmapgl": [
           {
            "colorbar": {
             "outlinewidth": 0,
             "ticks": ""
            },
            "colorscale": [
             [
              0,
              "#0d0887"
             ],
             [
              0.1111111111111111,
              "#46039f"
             ],
             [
              0.2222222222222222,
              "#7201a8"
             ],
             [
              0.3333333333333333,
              "#9c179e"
             ],
             [
              0.4444444444444444,
              "#bd3786"
             ],
             [
              0.5555555555555556,
              "#d8576b"
             ],
             [
              0.6666666666666666,
              "#ed7953"
             ],
             [
              0.7777777777777778,
              "#fb9f3a"
             ],
             [
              0.8888888888888888,
              "#fdca26"
             ],
             [
              1,
              "#f0f921"
             ]
            ],
            "type": "heatmapgl"
           }
          ],
          "histogram": [
           {
            "marker": {
             "colorbar": {
              "outlinewidth": 0,
              "ticks": ""
             }
            },
            "type": "histogram"
           }
          ],
          "histogram2d": [
           {
            "colorbar": {
             "outlinewidth": 0,
             "ticks": ""
            },
            "colorscale": [
             [
              0,
              "#0d0887"
             ],
             [
              0.1111111111111111,
              "#46039f"
             ],
             [
              0.2222222222222222,
              "#7201a8"
             ],
             [
              0.3333333333333333,
              "#9c179e"
             ],
             [
              0.4444444444444444,
              "#bd3786"
             ],
             [
              0.5555555555555556,
              "#d8576b"
             ],
             [
              0.6666666666666666,
              "#ed7953"
             ],
             [
              0.7777777777777778,
              "#fb9f3a"
             ],
             [
              0.8888888888888888,
              "#fdca26"
             ],
             [
              1,
              "#f0f921"
             ]
            ],
            "type": "histogram2d"
           }
          ],
          "histogram2dcontour": [
           {
            "colorbar": {
             "outlinewidth": 0,
             "ticks": ""
            },
            "colorscale": [
             [
              0,
              "#0d0887"
             ],
             [
              0.1111111111111111,
              "#46039f"
             ],
             [
              0.2222222222222222,
              "#7201a8"
             ],
             [
              0.3333333333333333,
              "#9c179e"
             ],
             [
              0.4444444444444444,
              "#bd3786"
             ],
             [
              0.5555555555555556,
              "#d8576b"
             ],
             [
              0.6666666666666666,
              "#ed7953"
             ],
             [
              0.7777777777777778,
              "#fb9f3a"
             ],
             [
              0.8888888888888888,
              "#fdca26"
             ],
             [
              1,
              "#f0f921"
             ]
            ],
            "type": "histogram2dcontour"
           }
          ],
          "mesh3d": [
           {
            "colorbar": {
             "outlinewidth": 0,
             "ticks": ""
            },
            "type": "mesh3d"
           }
          ],
          "parcoords": [
           {
            "line": {
             "colorbar": {
              "outlinewidth": 0,
              "ticks": ""
             }
            },
            "type": "parcoords"
           }
          ],
          "pie": [
           {
            "automargin": true,
            "type": "pie"
           }
          ],
          "scatter": [
           {
            "marker": {
             "line": {
              "color": "#283442"
             }
            },
            "type": "scatter"
           }
          ],
          "scatter3d": [
           {
            "line": {
             "colorbar": {
              "outlinewidth": 0,
              "ticks": ""
             }
            },
            "marker": {
             "colorbar": {
              "outlinewidth": 0,
              "ticks": ""
             }
            },
            "type": "scatter3d"
           }
          ],
          "scattercarpet": [
           {
            "marker": {
             "colorbar": {
              "outlinewidth": 0,
              "ticks": ""
             }
            },
            "type": "scattercarpet"
           }
          ],
          "scattergeo": [
           {
            "marker": {
             "colorbar": {
              "outlinewidth": 0,
              "ticks": ""
             }
            },
            "type": "scattergeo"
           }
          ],
          "scattergl": [
           {
            "marker": {
             "line": {
              "color": "#283442"
             }
            },
            "type": "scattergl"
           }
          ],
          "scattermapbox": [
           {
            "marker": {
             "colorbar": {
              "outlinewidth": 0,
              "ticks": ""
             }
            },
            "type": "scattermapbox"
           }
          ],
          "scatterpolar": [
           {
            "marker": {
             "colorbar": {
              "outlinewidth": 0,
              "ticks": ""
             }
            },
            "type": "scatterpolar"
           }
          ],
          "scatterpolargl": [
           {
            "marker": {
             "colorbar": {
              "outlinewidth": 0,
              "ticks": ""
             }
            },
            "type": "scatterpolargl"
           }
          ],
          "scatterternary": [
           {
            "marker": {
             "colorbar": {
              "outlinewidth": 0,
              "ticks": ""
             }
            },
            "type": "scatterternary"
           }
          ],
          "surface": [
           {
            "colorbar": {
             "outlinewidth": 0,
             "ticks": ""
            },
            "colorscale": [
             [
              0,
              "#0d0887"
             ],
             [
              0.1111111111111111,
              "#46039f"
             ],
             [
              0.2222222222222222,
              "#7201a8"
             ],
             [
              0.3333333333333333,
              "#9c179e"
             ],
             [
              0.4444444444444444,
              "#bd3786"
             ],
             [
              0.5555555555555556,
              "#d8576b"
             ],
             [
              0.6666666666666666,
              "#ed7953"
             ],
             [
              0.7777777777777778,
              "#fb9f3a"
             ],
             [
              0.8888888888888888,
              "#fdca26"
             ],
             [
              1,
              "#f0f921"
             ]
            ],
            "type": "surface"
           }
          ],
          "table": [
           {
            "cells": {
             "fill": {
              "color": "#506784"
             },
             "line": {
              "color": "rgb(17,17,17)"
             }
            },
            "header": {
             "fill": {
              "color": "#2a3f5f"
             },
             "line": {
              "color": "rgb(17,17,17)"
             }
            },
            "type": "table"
           }
          ]
         },
         "layout": {
          "annotationdefaults": {
           "arrowcolor": "#f2f5fa",
           "arrowhead": 0,
           "arrowwidth": 1
          },
          "autotypenumbers": "strict",
          "coloraxis": {
           "colorbar": {
            "outlinewidth": 0,
            "ticks": ""
           }
          },
          "colorscale": {
           "diverging": [
            [
             0,
             "#8e0152"
            ],
            [
             0.1,
             "#c51b7d"
            ],
            [
             0.2,
             "#de77ae"
            ],
            [
             0.3,
             "#f1b6da"
            ],
            [
             0.4,
             "#fde0ef"
            ],
            [
             0.5,
             "#f7f7f7"
            ],
            [
             0.6,
             "#e6f5d0"
            ],
            [
             0.7,
             "#b8e186"
            ],
            [
             0.8,
             "#7fbc41"
            ],
            [
             0.9,
             "#4d9221"
            ],
            [
             1,
             "#276419"
            ]
           ],
           "sequential": [
            [
             0,
             "#0d0887"
            ],
            [
             0.1111111111111111,
             "#46039f"
            ],
            [
             0.2222222222222222,
             "#7201a8"
            ],
            [
             0.3333333333333333,
             "#9c179e"
            ],
            [
             0.4444444444444444,
             "#bd3786"
            ],
            [
             0.5555555555555556,
             "#d8576b"
            ],
            [
             0.6666666666666666,
             "#ed7953"
            ],
            [
             0.7777777777777778,
             "#fb9f3a"
            ],
            [
             0.8888888888888888,
             "#fdca26"
            ],
            [
             1,
             "#f0f921"
            ]
           ],
           "sequentialminus": [
            [
             0,
             "#0d0887"
            ],
            [
             0.1111111111111111,
             "#46039f"
            ],
            [
             0.2222222222222222,
             "#7201a8"
            ],
            [
             0.3333333333333333,
             "#9c179e"
            ],
            [
             0.4444444444444444,
             "#bd3786"
            ],
            [
             0.5555555555555556,
             "#d8576b"
            ],
            [
             0.6666666666666666,
             "#ed7953"
            ],
            [
             0.7777777777777778,
             "#fb9f3a"
            ],
            [
             0.8888888888888888,
             "#fdca26"
            ],
            [
             1,
             "#f0f921"
            ]
           ]
          },
          "colorway": [
           "#636efa",
           "#EF553B",
           "#00cc96",
           "#ab63fa",
           "#FFA15A",
           "#19d3f3",
           "#FF6692",
           "#B6E880",
           "#FF97FF",
           "#FECB52"
          ],
          "font": {
           "color": "#f2f5fa"
          },
          "geo": {
           "bgcolor": "rgb(17,17,17)",
           "lakecolor": "rgb(17,17,17)",
           "landcolor": "rgb(17,17,17)",
           "showlakes": true,
           "showland": true,
           "subunitcolor": "#506784"
          },
          "hoverlabel": {
           "align": "left"
          },
          "hovermode": "closest",
          "mapbox": {
           "style": "dark"
          },
          "paper_bgcolor": "rgb(17,17,17)",
          "plot_bgcolor": "rgb(17,17,17)",
          "polar": {
           "angularaxis": {
            "gridcolor": "#506784",
            "linecolor": "#506784",
            "ticks": ""
           },
           "bgcolor": "rgb(17,17,17)",
           "radialaxis": {
            "gridcolor": "#506784",
            "linecolor": "#506784",
            "ticks": ""
           }
          },
          "scene": {
           "xaxis": {
            "backgroundcolor": "rgb(17,17,17)",
            "gridcolor": "#506784",
            "gridwidth": 2,
            "linecolor": "#506784",
            "showbackground": true,
            "ticks": "",
            "zerolinecolor": "#C8D4E3"
           },
           "yaxis": {
            "backgroundcolor": "rgb(17,17,17)",
            "gridcolor": "#506784",
            "gridwidth": 2,
            "linecolor": "#506784",
            "showbackground": true,
            "ticks": "",
            "zerolinecolor": "#C8D4E3"
           },
           "zaxis": {
            "backgroundcolor": "rgb(17,17,17)",
            "gridcolor": "#506784",
            "gridwidth": 2,
            "linecolor": "#506784",
            "showbackground": true,
            "ticks": "",
            "zerolinecolor": "#C8D4E3"
           }
          },
          "shapedefaults": {
           "line": {
            "color": "#f2f5fa"
           }
          },
          "sliderdefaults": {
           "bgcolor": "#C8D4E3",
           "bordercolor": "rgb(17,17,17)",
           "borderwidth": 1,
           "tickwidth": 0
          },
          "ternary": {
           "aaxis": {
            "gridcolor": "#506784",
            "linecolor": "#506784",
            "ticks": ""
           },
           "baxis": {
            "gridcolor": "#506784",
            "linecolor": "#506784",
            "ticks": ""
           },
           "bgcolor": "rgb(17,17,17)",
           "caxis": {
            "gridcolor": "#506784",
            "linecolor": "#506784",
            "ticks": ""
           }
          },
          "title": {
           "x": 0.05
          },
          "updatemenudefaults": {
           "bgcolor": "#506784",
           "borderwidth": 0
          },
          "xaxis": {
           "automargin": true,
           "gridcolor": "#283442",
           "linecolor": "#506784",
           "ticks": "",
           "title": {
            "standoff": 15
           },
           "zerolinecolor": "#283442",
           "zerolinewidth": 2
          },
          "yaxis": {
           "automargin": true,
           "gridcolor": "#283442",
           "linecolor": "#506784",
           "ticks": "",
           "title": {
            "standoff": 15
           },
           "zerolinecolor": "#283442",
           "zerolinewidth": 2
          }
         }
        },
        "title": "MDI Results",
        "width": 800,
        "xaxis": {
         "title": {
          "text": "Feature Name"
         }
        },
        "yaxis": {
         "title": {
          "text": "Feature Importance"
         }
        }
       }
      },
      "image/png": "[encoded data removed]",
      "image/svg+xml": "<svg class=\"main-svg\" xmlns=\"http://www.w3.org/2000/svg\" xmlns:xlink=\"http://www.w3.org/1999/xlink\" width=\"700\" height=\"500\" style=\"\" viewBox=\"0 0 700 500\"><rect x=\"0\" y=\"0\" width=\"700\" height=\"500\" style=\"fill: rgb(17, 17, 17); fill-opacity: 1;\"/><defs id=\"defs-70b2e2\"><g class=\"clips\"><clipPath id=\"clip70b2e2xyplot\" class=\"plotclip\"><rect width=\"584\" height=\"387\"/></clipPath><clipPath class=\"axesclip\" id=\"clip70b2e2x\"><rect x=\"66\" y=\"0\" width=\"584\" height=\"500\"/></clipPath><clipPath class=\"axesclip\" id=\"clip70b2e2y\"><rect x=\"0\" y=\"60\" width=\"700\" height=\"387\"/></clipPath><clipPath class=\"axesclip\" id=\"clip70b2e2xy\"><rect x=\"66\" y=\"60\" width=\"584\" height=\"387\"/></clipPath></g><g class=\"gradients\"/></defs><g class=\"bglayer\"/><g class=\"layer-below\"><g class=\"imagelayer\"/><g class=\"shapelayer\"/></g><g class=\"cartesianlayer\"><g class=\"subplot xy\"><g class=\"layer-subplot\"><g class=\"shapelayer\"/><g class=\"imagelayer\"/></g><g class=\"gridlayer\"><g class=\"x\"><path class=\"xgrid crisp\" transform=\"translate(154.97,0)\" d=\"M0,60v387\" style=\"stroke: rgb(40, 52, 66); stroke-opacity: 1; stroke-width: 1px;\"/><path class=\"xgrid crisp\" transform=\"translate(243.94,0)\" d=\"M0,60v387\" style=\"stroke: rgb(40, 52, 66); stroke-opacity: 1; stroke-width: 1px;\"/><path class=\"xgrid crisp\" transform=\"translate(332.9,0)\" d=\"M0,60v387\" style=\"stroke: rgb(40, 52, 66); stroke-opacity: 1; stroke-width: 1px;\"/><path class=\"xgrid crisp\" transform=\"translate(421.87,0)\" d=\"M0,60v387\" style=\"stroke: rgb(40, 52, 66); stroke-opacity: 1; stroke-width: 1px;\"/><path class=\"xgrid crisp\" transform=\"translate(510.84,0)\" d=\"M0,60v387\" style=\"stroke: rgb(40, 52, 66); stroke-opacity: 1; stroke-width: 1px;\"/><path class=\"xgrid crisp\" transform=\"translate(599.81,0)\" d=\"M0,60v387\" style=\"stroke: rgb(40, 52, 66); stroke-opacity: 1; stroke-width: 1px;\"/></g><g class=\"y\"/></g><g class=\"zerolinelayer\"><path class=\"xzl zl crisp\" transform=\"translate(66,0)\" d=\"M0,60v387\" style=\"stroke: rgb(40, 52, 66); stroke-opacity: 1; stroke-width: 2px;\"/></g><path class=\"xlines-below\"/><path class=\"ylines-below\"/><g class=\"overlines-below\"/><g class=\"xaxislayer-below\"/><g class=\"yaxislayer-below\"/><g class=\"overaxes-below\"/><g class=\"plot\" transform=\"translate(66,60)\" clip-path=\"url('#clip70b2e2xyplot')\"><g class=\"barlayer mlayer\"><g class=\"trace bars\" style=\"opacity: 1;\"><g class=\"points\"><g class=\"point\"><path d=\"M0,386.03V378.29H102.5V386.03Z\" style=\"vector-effect: non-scaling-stroke; opacity: 1; stroke-width: 0.5px; fill: rgb(99, 110, 250); fill-opacity: 1; stroke: rgb(17, 17, 17); stroke-opacity: 1;\"/></g><g class=\"point\"><path d=\"M0,376.36V368.62H102.96V376.36Z\" style=\"vector-effect: non-scaling-stroke; opacity: 1; stroke-width: 0.5px; fill: rgb(99, 110, 250); fill-opacity: 1; stroke: rgb(17, 17, 17); stroke-opacity: 1;\"/></g><g class=\"point\"><path d=\"M0,366.68V358.94H103.11V366.68Z\" style=\"vector-effect: non-scaling-stroke; opacity: 1; stroke-width: 0.5px; fill: rgb(99, 110, 250); fill-opacity: 1; stroke: rgb(17, 17, 17); stroke-opacity: 1;\"/></g><g class=\"point\"><path d=\"M0,357.01V349.27H104.04V357.01Z\" style=\"vector-effect: non-scaling-stroke; opacity: 1; stroke-width: 0.5px; fill: rgb(99, 110, 250); fill-opacity: 1; stroke: rgb(17, 17, 17); stroke-opacity: 1;\"/></g><g class=\"point\"><path d=\"M0,347.33V339.59H104.95V347.33Z\" style=\"vector-effect: non-scaling-stroke; opacity: 1; stroke-width: 0.5px; fill: rgb(99, 110, 250); fill-opacity: 1; stroke: rgb(17, 17, 17); stroke-opacity: 1;\"/></g><g class=\"point\"><path d=\"M0,337.66V329.92H152.84V337.66Z\" style=\"vector-effect: non-scaling-stroke; opacity: 1; stroke-width: 0.5px; fill: rgb(99, 110, 250); fill-opacity: 1; stroke: rgb(17, 17, 17); stroke-opacity: 1;\"/></g><g class=\"point\"><path d=\"M0,327.98V320.24H153.24V327.98Z\" style=\"vector-effect: non-scaling-stroke; opacity: 1; stroke-width: 0.5px; fill: rgb(99, 110, 250); fill-opacity: 1; stroke: rgb(17, 17, 17); stroke-opacity: 1;\"/></g><g class=\"point\"><path d=\"M0,318.31V310.57H153.56V318.31Z\" style=\"vector-effect: non-scaling-stroke; opacity: 1; stroke-width: 0.5px; fill: rgb(99, 110, 250); fill-opacity: 1; stroke: rgb(17, 17, 17); stroke-opacity: 1;\"/></g><g class=\"point\"><path d=\"M0,308.63V300.89H154.66V308.63Z\" style=\"vector-effect: non-scaling-stroke; opacity: 1; stroke-width: 0.5px; fill: rgb(99, 110, 250); fill-opacity: 1; stroke: rgb(17, 17, 17); stroke-opacity: 1;\"/></g><g class=\"point\"><path d=\"M0,298.96V291.22H155.7V298.96Z\" style=\"vector-effect: non-scaling-stroke; opacity: 1; stroke-width: 0.5px; fill: rgb(99, 110, 250); fill-opacity: 1; stroke: rgb(17, 17, 17); stroke-opacity: 1;\"/></g><g class=\"point\"><path d=\"M0,289.28V281.54H156.16V289.28Z\" style=\"vector-effect: non-scaling-stroke; opacity: 1; stroke-width: 0.5px; fill: rgb(99, 110, 250); fill-opacity: 1; stroke: rgb(17, 17, 17); stroke-opacity: 1;\"/></g><g class=\"point\"><path d=\"M0,279.61V271.87H173.68V279.61Z\" style=\"vector-effect: non-scaling-stroke; opacity: 1; stroke-width: 0.5px; fill: rgb(99, 110, 250); fill-opacity: 1; stroke: rgb(17, 17, 17); stroke-opacity: 1;\"/></g><g class=\"point\"><path d=\"M0,269.93V262.19H176.31V269.93Z\" style=\"vector-effect: non-scaling-stroke; opacity: 1; stroke-width: 0.5px; fill: rgb(99, 110, 250); fill-opacity: 1; stroke: rgb(17, 17, 17); stroke-opacity: 1;\"/></g><g class=\"point\"><path d=\"M0,260.26V252.52H176.45V260.26Z\" style=\"vector-effect: non-scaling-stroke; opacity: 1; stroke-width: 0.5px; fill: rgb(99, 110, 250); fill-opacity: 1; stroke: rgb(17, 17, 17); stroke-opacity: 1;\"/></g><g class=\"point\"><path d=\"M0,250.58V242.84H176.5V250.58Z\" style=\"vector-effect: non-scaling-stroke; opacity: 1; stroke-width: 0.5px; fill: rgb(99, 110, 250); fill-opacity: 1; stroke: rgb(17, 17, 17); stroke-opacity: 1;\"/></g><g class=\"point\"><path d=\"M0,240.91V233.17H178.64V240.91Z\" style=\"vector-effect: non-scaling-stroke; opacity: 1; stroke-width: 0.5px; fill: rgb(99, 110, 250); fill-opacity: 1; stroke: rgb(17, 17, 17); stroke-opacity: 1;\"/></g><g class=\"point\"><path d=\"M0,231.23V223.49H179.26V231.23Z\" style=\"vector-effect: non-scaling-stroke; opacity: 1; stroke-width: 0.5px; fill: rgb(99, 110, 250); fill-opacity: 1; stroke: rgb(17, 17, 17); stroke-opacity: 1;\"/></g><g class=\"point\"><path d=\"M0,221.56V213.82H179.88V221.56Z\" style=\"vector-effect: non-scaling-stroke; opacity: 1; stroke-width: 0.5px; fill: rgb(99, 110, 250); fill-opacity: 1; stroke: rgb(17, 17, 17); stroke-opacity: 1;\"/></g><g class=\"point\"><path d=\"M0,211.88V204.14H180.65V211.88Z\" style=\"vector-effect: non-scaling-stroke; opacity: 1; stroke-width: 0.5px; fill: rgb(99, 110, 250); fill-opacity: 1; stroke: rgb(17, 17, 17); stroke-opacity: 1;\"/></g><g class=\"point\"><path d=\"M0,202.21V194.47H182.84V202.21Z\" style=\"vector-effect: non-scaling-stroke; opacity: 1; stroke-width: 0.5px; fill: rgb(99, 110, 250); fill-opacity: 1; stroke: rgb(17, 17, 17); stroke-opacity: 1;\"/></g><g class=\"point\"><path d=\"M0,192.53V184.79H205.51V192.53Z\" style=\"vector-effect: non-scaling-stroke; opacity: 1; stroke-width: 0.5px; fill: rgb(99, 110, 250); fill-opacity: 1; stroke: rgb(17, 17, 17); stroke-opacity: 1;\"/></g><g class=\"point\"><path d=\"M0,182.86V175.12H205.88V182.86Z\" style=\"vector-effect: non-scaling-stroke; opacity: 1; stroke-width: 0.5px; fill: rgb(99, 110, 250); fill-opacity: 1; stroke: rgb(17, 17, 17); stroke-opacity: 1;\"/></g><g class=\"point\"><path d=\"M0,173.18V165.44H206.34V173.18Z\" style=\"vector-effect: non-scaling-stroke; opacity: 1; stroke-width: 0.5px; fill: rgb(99, 110, 250); fill-opacity: 1; stroke: rgb(17, 17, 17); stroke-opacity: 1;\"/></g><g class=\"point\"><path d=\"M0,163.51V155.77H207.77V163.51Z\" style=\"vector-effect: non-scaling-stroke; opacity: 1; stroke-width: 0.5px; fill: rgb(99, 110, 250); fill-opacity: 1; stroke: rgb(17, 17, 17); stroke-opacity: 1;\"/></g><g class=\"point\"><path d=\"M0,153.83V146.09H209.34V153.83Z\" style=\"vector-effect: non-scaling-stroke; opacity: 1; stroke-width: 0.5px; fill: rgb(99, 110, 250); fill-opacity: 1; stroke: rgb(17, 17, 17); stroke-opacity: 1;\"/></g><g class=\"point\"><path d=\"M0,144.16V136.42H211.24V144.16Z\" style=\"vector-effect: non-scaling-stroke; opacity: 1; stroke-width: 0.5px; fill: rgb(99, 110, 250); fill-opacity: 1; stroke: rgb(17, 17, 17); stroke-opacity: 1;\"/></g><g class=\"point\"><path d=\"M0,134.48V126.74H211.81V134.48Z\" style=\"vector-effect: non-scaling-stroke; opacity: 1; stroke-width: 0.5px; fill: rgb(99, 110, 250); fill-opacity: 1; stroke: rgb(17, 17, 17); stroke-opacity: 1;\"/></g><g class=\"point\"><path d=\"M0,124.81V117.07H211.86V124.81Z\" style=\"vector-effect: non-scaling-stroke; opacity: 1; stroke-width: 0.5px; fill: rgb(99, 110, 250); fill-opacity: 1; stroke: rgb(17, 17, 17); stroke-opacity: 1;\"/></g><g class=\"point\"><path d=\"M0,115.13V107.39H211.91V115.13Z\" style=\"vector-effect: non-scaling-stroke; opacity: 1; stroke-width: 0.5px; fill: rgb(99, 110, 250); fill-opacity: 1; stroke: rgb(17, 17, 17); stroke-opacity: 1;\"/></g><g class=\"point\"><path d=\"M0,105.46V97.72H214.62V105.46Z\" style=\"vector-effect: non-scaling-stroke; opacity: 1; stroke-width: 0.5px; fill: rgb(99, 110, 250); fill-opacity: 1; stroke: rgb(17, 17, 17); stroke-opacity: 1;\"/></g><g class=\"point\"><path d=\"M0,95.78V88.04H224.04V95.78Z\" style=\"vector-effect: non-scaling-stroke; opacity: 1; stroke-width: 0.5px; fill: rgb(99, 110, 250); fill-opacity: 1; stroke: rgb(17, 17, 17); stroke-opacity: 1;\"/></g><g class=\"point\"><path d=\"M0,86.11V78.37H281.04V86.11Z\" style=\"vector-effect: non-scaling-stroke; opacity: 1; stroke-width: 0.5px; fill: rgb(99, 110, 250); fill-opacity: 1; stroke: rgb(17, 17, 17); stroke-opacity: 1;\"/></g><g class=\"point\"><path d=\"M0,76.43V68.69H283.04V76.43Z\" style=\"vector-effect: non-scaling-stroke; opacity: 1; stroke-width: 0.5px; fill: rgb(99, 110, 250); fill-opacity: 1; stroke: rgb(17, 17, 17); stroke-opacity: 1;\"/></g><g class=\"point\"><path d=\"M0,66.76V59.02H283.38V66.76Z\" style=\"vector-effect: non-scaling-stroke; opacity: 1; stroke-width: 0.5px; fill: rgb(99, 110, 250); fill-opacity: 1; stroke: rgb(17, 17, 17); stroke-opacity: 1;\"/></g><g class=\"point\"><path d=\"M0,57.08V49.34H295.01V57.08Z\" style=\"vector-effect: non-scaling-stroke; opacity: 1; stroke-width: 0.5px; fill: rgb(99, 110, 250); fill-opacity: 1; stroke: rgb(17, 17, 17); stroke-opacity: 1;\"/></g><g class=\"point\"><path d=\"M0,47.41V39.67H296.21V47.41Z\" style=\"vector-effect: non-scaling-stroke; opacity: 1; stroke-width: 0.5px; fill: rgb(99, 110, 250); fill-opacity: 1; stroke: rgb(17, 17, 17); stroke-opacity: 1;\"/></g><g class=\"point\"><path d=\"M0,37.73V29.99H510.4V37.73Z\" style=\"vector-effect: non-scaling-stroke; opacity: 1; stroke-width: 0.5px; fill: rgb(99, 110, 250); fill-opacity: 1; stroke: rgb(17, 17, 17); stroke-opacity: 1;\"/></g><g class=\"point\"><path d=\"M0,28.06V20.32H514.98V28.06Z\" style=\"vector-effect: non-scaling-stroke; opacity: 1; stroke-width: 0.5px; fill: rgb(99, 110, 250); fill-opacity: 1; stroke: rgb(17, 17, 17); stroke-opacity: 1;\"/></g><g class=\"point\"><path d=\"M0,18.38V10.64H524.86V18.38Z\" style=\"vector-effect: non-scaling-stroke; opacity: 1; stroke-width: 0.5px; fill: rgb(99, 110, 250); fill-opacity: 1; stroke: rgb(17, 17, 17); stroke-opacity: 1;\"/></g><g class=\"point\"><path d=\"M0,8.71V0.97H539.6V8.71Z\" style=\"vector-effect: non-scaling-stroke; opacity: 1; stroke-width: 0.5px; fill: rgb(99, 110, 250); fill-opacity: 1; stroke: rgb(17, 17, 17); stroke-opacity: 1;\"/></g></g><g class=\"errorbar\" style=\"opacity: 1;\"><path class=\"xerror\" d=\"M103.29,378.16v8m0,-4H101.72m0,-4v8\" style=\"vector-effect: non-scaling-stroke; stroke-width: 2px; stroke: rgb(242, 245, 250); stroke-opacity: 1;\"/></g><g class=\"errorbar\" style=\"opacity: 1;\"><path class=\"xerror\" d=\"M103.76,368.49v8m0,-4H102.16m0,-4v8\" style=\"vector-effect: non-scaling-stroke; stroke-width: 2px; stroke: rgb(242, 245, 250); stroke-opacity: 1;\"/></g><g class=\"errorbar\" style=\"opacity: 1;\"><path class=\"xerror\" d=\"M103.9,358.81v8m0,-4H102.31m0,-4v8\" style=\"vector-effect: non-scaling-stroke; stroke-width: 2px; stroke: rgb(242, 245, 250); stroke-opacity: 1;\"/></g><g class=\"errorbar\" style=\"opacity: 1;\"><path class=\"xerror\" d=\"M104.86,349.14v8m0,-4H103.22m0,-4v8\" style=\"vector-effect: non-scaling-stroke; stroke-width: 2px; stroke: rgb(242, 245, 250); stroke-opacity: 1;\"/></g><g class=\"errorbar\" style=\"opacity: 1;\"><path class=\"xerror\" d=\"M105.73,339.46v8m0,-4H104.17m0,-4v8\" style=\"vector-effect: non-scaling-stroke; stroke-width: 2px; stroke: rgb(242, 245, 250); stroke-opacity: 1;\"/></g><g class=\"errorbar\" style=\"opacity: 1;\"><path class=\"xerror\" d=\"M154.47,329.79v8m0,-4H151.21m0,-4v8\" style=\"vector-effect: non-scaling-stroke; stroke-width: 2px; stroke: rgb(242, 245, 250); stroke-opacity: 1;\"/></g><g class=\"errorbar\" style=\"opacity: 1;\"><path class=\"xerror\" d=\"M154.8,320.11v8m0,-4H151.69m0,-4v8\" style=\"vector-effect: non-scaling-stroke; stroke-width: 2px; stroke: rgb(242, 245, 250); stroke-opacity: 1;\"/></g><g class=\"errorbar\" style=\"opacity: 1;\"><path class=\"xerror\" d=\"M155.2,310.44v8m0,-4H151.93m0,-4v8\" style=\"vector-effect: non-scaling-stroke; stroke-width: 2px; stroke: rgb(242, 245, 250); stroke-opacity: 1;\"/></g><g class=\"errorbar\" style=\"opacity: 1;\"><path class=\"xerror\" d=\"M156.31,300.76v8m0,-4H153m0,-4v8\" style=\"vector-effect: non-scaling-stroke; stroke-width: 2px; stroke: rgb(242, 245, 250); stroke-opacity: 1;\"/></g><g class=\"errorbar\" style=\"opacity: 1;\"><path class=\"xerror\" d=\"M157.33,291.09v8m0,-4H154.07m0,-4v8\" style=\"vector-effect: non-scaling-stroke; stroke-width: 2px; stroke: rgb(242, 245, 250); stroke-opacity: 1;\"/></g><g class=\"errorbar\" style=\"opacity: 1;\"><path class=\"xerror\" d=\"M157.82,281.41v8m0,-4H154.5m0,-4v8\" style=\"vector-effect: non-scaling-stroke; stroke-width: 2px; stroke: rgb(242, 245, 250); stroke-opacity: 1;\"/></g><g class=\"errorbar\" style=\"opacity: 1;\"><path class=\"xerror\" d=\"M176.88,271.74v8m0,-4H170.47m0,-4v8\" style=\"vector-effect: non-scaling-stroke; stroke-width: 2px; stroke: rgb(242, 245, 250); stroke-opacity: 1;\"/></g><g class=\"errorbar\" style=\"opacity: 1;\"><path class=\"xerror\" d=\"M179.63,262.06v8m0,-4H172.99m0,-4v8\" style=\"vector-effect: non-scaling-stroke; stroke-width: 2px; stroke: rgb(242, 245, 250); stroke-opacity: 1;\"/></g><g class=\"errorbar\" style=\"opacity: 1;\"><path class=\"xerror\" d=\"M179.83,252.39v8m0,-4H173.06m0,-4v8\" style=\"vector-effect: non-scaling-stroke; stroke-width: 2px; stroke: rgb(242, 245, 250); stroke-opacity: 1;\"/></g><g class=\"errorbar\" style=\"opacity: 1;\"><path class=\"xerror\" d=\"M179.91,242.71v8m0,-4H173.08m0,-4v8\" style=\"vector-effect: non-scaling-stroke; stroke-width: 2px; stroke: rgb(242, 245, 250); stroke-opacity: 1;\"/></g><g class=\"errorbar\" style=\"opacity: 1;\"><path class=\"xerror\" d=\"M182.04,233.04v8m0,-4H175.25m0,-4v8\" style=\"vector-effect: non-scaling-stroke; stroke-width: 2px; stroke: rgb(242, 245, 250); stroke-opacity: 1;\"/></g><g class=\"errorbar\" style=\"opacity: 1;\"><path class=\"xerror\" d=\"M182.55,223.36v8m0,-4H175.98m0,-4v8\" style=\"vector-effect: non-scaling-stroke; stroke-width: 2px; stroke: rgb(242, 245, 250); stroke-opacity: 1;\"/></g><g class=\"errorbar\" style=\"opacity: 1;\"><path class=\"xerror\" d=\"M183.23,213.69v8m0,-4H176.53m0,-4v8\" style=\"vector-effect: non-scaling-stroke; stroke-width: 2px; stroke: rgb(242, 245, 250); stroke-opacity: 1;\"/></g><g class=\"errorbar\" style=\"opacity: 1;\"><path class=\"xerror\" d=\"M184.05,204.01v8m0,-4H177.24m0,-4v8\" style=\"vector-effect: non-scaling-stroke; stroke-width: 2px; stroke: rgb(242, 245, 250); stroke-opacity: 1;\"/></g><g class=\"errorbar\" style=\"opacity: 1;\"><path class=\"xerror\" d=\"M186.17,194.34v8m0,-4H179.5m0,-4v8\" style=\"vector-effect: non-scaling-stroke; stroke-width: 2px; stroke: rgb(242, 245, 250); stroke-opacity: 1;\"/></g><g class=\"errorbar\" style=\"opacity: 1;\"><path class=\"xerror\" d=\"M210.45,184.66v8m0,-4H200.56m0,-4v8\" style=\"vector-effect: non-scaling-stroke; stroke-width: 2px; stroke: rgb(242, 245, 250); stroke-opacity: 1;\"/></g><g class=\"errorbar\" style=\"opacity: 1;\"><path class=\"xerror\" d=\"M210.73,174.99v8m0,-4H201.03m0,-4v8\" style=\"vector-effect: non-scaling-stroke; stroke-width: 2px; stroke: rgb(242, 245, 250); stroke-opacity: 1;\"/></g><g class=\"errorbar\" style=\"opacity: 1;\"><path class=\"xerror\" d=\"M211.4,165.31v8m0,-4H201.29m0,-4v8\" style=\"vector-effect: non-scaling-stroke; stroke-width: 2px; stroke: rgb(242, 245, 250); stroke-opacity: 1;\"/></g><g class=\"errorbar\" style=\"opacity: 1;\"><path class=\"xerror\" d=\"M213.16,155.64v8m0,-4H202.39m0,-4v8\" style=\"vector-effect: non-scaling-stroke; stroke-width: 2px; stroke: rgb(242, 245, 250); stroke-opacity: 1;\"/></g><g class=\"errorbar\" style=\"opacity: 1;\"><path class=\"xerror\" d=\"M214.21,145.96v8m0,-4H204.47m0,-4v8\" style=\"vector-effect: non-scaling-stroke; stroke-width: 2px; stroke: rgb(242, 245, 250); stroke-opacity: 1;\"/></g><g class=\"errorbar\" style=\"opacity: 1;\"><path class=\"xerror\" d=\"M216.28,136.29v8m0,-4H206.19m0,-4v8\" style=\"vector-effect: non-scaling-stroke; stroke-width: 2px; stroke: rgb(242, 245, 250); stroke-opacity: 1;\"/></g><g class=\"errorbar\" style=\"opacity: 1;\"><path class=\"xerror\" d=\"M217.1,126.61000000000001v8m0,-4H206.52m0,-4v8\" style=\"vector-effect: non-scaling-stroke; stroke-width: 2px; stroke: rgb(242, 245, 250); stroke-opacity: 1;\"/></g><g class=\"errorbar\" style=\"opacity: 1;\"><path class=\"xerror\" d=\"M217.09,116.94v8m0,-4H206.63m0,-4v8\" style=\"vector-effect: non-scaling-stroke; stroke-width: 2px; stroke: rgb(242, 245, 250); stroke-opacity: 1;\"/></g><g class=\"errorbar\" style=\"opacity: 1;\"><path class=\"xerror\" d=\"M217.06,107.26v8m0,-4H206.76m0,-4v8\" style=\"vector-effect: non-scaling-stroke; stroke-width: 2px; stroke: rgb(242, 245, 250); stroke-opacity: 1;\"/></g><g class=\"errorbar\" style=\"opacity: 1;\"><path class=\"xerror\" d=\"M219.79,97.59v8m0,-4H209.45m0,-4v8\" style=\"vector-effect: non-scaling-stroke; stroke-width: 2px; stroke: rgb(242, 245, 250); stroke-opacity: 1;\"/></g><g class=\"errorbar\" style=\"opacity: 1;\"><path class=\"xerror\" d=\"M229.57,87.91v8m0,-4H218.51m0,-4v8\" style=\"vector-effect: non-scaling-stroke; stroke-width: 2px; stroke: rgb(242, 245, 250); stroke-opacity: 1;\"/></g><g class=\"errorbar\" style=\"opacity: 1;\"><path class=\"xerror\" d=\"M288.23,78.24v8m0,-4H273.85m0,-4v8\" style=\"vector-effect: non-scaling-stroke; stroke-width: 2px; stroke: rgb(242, 245, 250); stroke-opacity: 1;\"/></g><g class=\"errorbar\" style=\"opacity: 1;\"><path class=\"xerror\" d=\"M290.52,68.56v8m0,-4H275.56m0,-4v8\" style=\"vector-effect: non-scaling-stroke; stroke-width: 2px; stroke: rgb(242, 245, 250); stroke-opacity: 1;\"/></g><g class=\"errorbar\" style=\"opacity: 1;\"><path class=\"xerror\" d=\"M290.88,58.89v8m0,-4H275.87m0,-4v8\" style=\"vector-effect: non-scaling-stroke; stroke-width: 2px; stroke: rgb(242, 245, 250); stroke-opacity: 1;\"/></g><g class=\"errorbar\" style=\"opacity: 1;\"><path class=\"xerror\" d=\"M302.51,49.21v8m0,-4H287.5m0,-4v8\" style=\"vector-effect: non-scaling-stroke; stroke-width: 2px; stroke: rgb(242, 245, 250); stroke-opacity: 1;\"/></g><g class=\"errorbar\" style=\"opacity: 1;\"><path class=\"xerror\" d=\"M304.12,39.54v8m0,-4H288.3m0,-4v8\" style=\"vector-effect: non-scaling-stroke; stroke-width: 2px; stroke: rgb(242, 245, 250); stroke-opacity: 1;\"/></g><g class=\"errorbar\" style=\"opacity: 1;\"><path class=\"xerror\" d=\"M524.86,29.86v8m0,-4H495.94m0,-4v8\" style=\"vector-effect: non-scaling-stroke; stroke-width: 2px; stroke: rgb(242, 245, 250); stroke-opacity: 1;\"/></g><g class=\"errorbar\" style=\"opacity: 1;\"><path class=\"xerror\" d=\"M529.07,20.19v8m0,-4H500.88m0,-4v8\" style=\"vector-effect: non-scaling-stroke; stroke-width: 2px; stroke: rgb(242, 245, 250); stroke-opacity: 1;\"/></g><g class=\"errorbar\" style=\"opacity: 1;\"><path class=\"xerror\" d=\"M539.57,10.51v8m0,-4H510.16m0,-4v8\" style=\"vector-effect: non-scaling-stroke; stroke-width: 2px; stroke: rgb(242, 245, 250); stroke-opacity: 1;\"/></g><g class=\"errorbar\" style=\"opacity: 1;\"><path class=\"xerror\" d=\"M554.8,0.8399999999999999v8m0,-4H524.41m0,-4v8\" style=\"vector-effect: non-scaling-stroke; stroke-width: 2px; stroke: rgb(242, 245, 250); stroke-opacity: 1;\"/></g></g></g></g><g class=\"overplot\"/><path class=\"xlines-above crisp\" d=\"M0,0\" style=\"fill: none;\"/><path class=\"ylines-above crisp\" d=\"M0,0\" style=\"fill: none;\"/><g class=\"overlines-above\"/><g class=\"xaxislayer-above\"><g class=\"xtick\"><text text-anchor=\"middle\" x=\"0\" y=\"460\" transform=\"translate(66,0)\" style=\"font-family: 'Open Sans', verdana, arial, sans-serif; font-size: 12px; fill: rgb(242, 245, 250); fill-opacity: 1; white-space: pre;\">0</text></g><g class=\"xtick\"><text text-anchor=\"middle\" x=\"0\" y=\"460\" transform=\"translate(154.97,0)\" style=\"font-family: 'Open Sans', verdana, arial, sans-serif; font-size: 12px; fill: rgb(242, 245, 250); fill-opacity: 1; white-space: pre;\">0.01</text></g><g class=\"xtick\"><text text-anchor=\"middle\" x=\"0\" y=\"460\" transform=\"translate(243.94,0)\" style=\"font-family: 'Open Sans', verdana, arial, sans-serif; font-size: 12px; fill: rgb(242, 245, 250); fill-opacity: 1; white-space: pre;\">0.02</text></g><g class=\"xtick\"><text text-anchor=\"middle\" x=\"0\" y=\"460\" transform=\"translate(332.9,0)\" style=\"font-family: 'Open Sans', verdana, arial, sans-serif; font-size: 12px; fill: rgb(242, 245, 250); fill-opacity: 1; white-space: pre;\">0.03</text></g><g class=\"xtick\"><text text-anchor=\"middle\" x=\"0\" y=\"460\" transform=\"translate(421.87,0)\" style=\"font-family: 'Open Sans', verdana, arial, sans-serif; font-size: 12px; fill: rgb(242, 245, 250); fill-opacity: 1; white-space: pre;\">0.04</text></g><g class=\"xtick\"><text text-anchor=\"middle\" x=\"0\" y=\"460\" transform=\"translate(510.84,0)\" style=\"font-family: 'Open Sans', verdana, arial, sans-serif; font-size: 12px; fill: rgb(242, 245, 250); fill-opacity: 1; white-space: pre;\">0.05</text></g><g class=\"xtick\"><text text-anchor=\"middle\" x=\"0\" y=\"460\" transform=\"translate(599.81,0)\" style=\"font-family: 'Open Sans', verdana, arial, sans-serif; font-size: 12px; fill: rgb(242, 245, 250); fill-opacity: 1; white-space: pre;\">0.06</text></g></g><g class=\"yaxislayer-above\"><g class=\"ytick\"><text text-anchor=\"end\" x=\"65\" y=\"4.199999999999999\" transform=\"translate(0,442.16)\" style=\"font-family: 'Open Sans', verdana, arial, sans-serif; font-size: 12px; fill: rgb(242, 245, 250); fill-opacity: 1; white-space: pre;\">N_3</text></g><g class=\"ytick\"><text text-anchor=\"end\" x=\"65\" y=\"4.199999999999999\" transform=\"translate(0,422.81)\" style=\"font-family: 'Open Sans', verdana, arial, sans-serif; font-size: 12px; fill: rgb(242, 245, 250); fill-opacity: 1; white-space: pre;\">N_1</text></g><g class=\"ytick\"><text text-anchor=\"end\" x=\"65\" y=\"4.199999999999999\" transform=\"translate(0,403.46)\" style=\"font-family: 'Open Sans', verdana, arial, sans-serif; font-size: 12px; fill: rgb(242, 245, 250); fill-opacity: 1; white-space: pre;\">N_2</text></g><g class=\"ytick\"><text text-anchor=\"end\" x=\"65\" y=\"4.199999999999999\" transform=\"translate(0,384.11)\" style=\"font-family: 'Open Sans', verdana, arial, sans-serif; font-size: 12px; fill: rgb(242, 245, 250); fill-opacity: 1; white-space: pre;\">I_4</text></g><g class=\"ytick\"><text text-anchor=\"end\" x=\"65\" y=\"4.199999999999999\" transform=\"translate(0,364.76)\" style=\"font-family: 'Open Sans', verdana, arial, sans-serif; font-size: 12px; fill: rgb(242, 245, 250); fill-opacity: 1; white-space: pre;\">R_5</text></g><g class=\"ytick\"><text text-anchor=\"end\" x=\"65\" y=\"4.199999999999999\" transform=\"translate(0,345.41)\" style=\"font-family: 'Open Sans', verdana, arial, sans-serif; font-size: 12px; fill: rgb(242, 245, 250); fill-opacity: 1; white-space: pre;\">R_17</text></g><g class=\"ytick\"><text text-anchor=\"end\" x=\"65\" y=\"4.199999999999999\" transform=\"translate(0,326.06)\" style=\"font-family: 'Open Sans', verdana, arial, sans-serif; font-size: 12px; fill: rgb(242, 245, 250); fill-opacity: 1; white-space: pre;\">R_7</text></g><g class=\"ytick\"><text text-anchor=\"end\" x=\"65\" y=\"4.199999999999999\" transform=\"translate(0,306.71000000000004)\" style=\"font-family: 'Open Sans', verdana, arial, sans-serif; font-size: 12px; fill: rgb(242, 245, 250); fill-opacity: 1; white-space: pre;\">R_4</text></g><g class=\"ytick\"><text text-anchor=\"end\" x=\"65\" y=\"4.199999999999999\" transform=\"translate(0,287.36)\" style=\"font-family: 'Open Sans', verdana, arial, sans-serif; font-size: 12px; fill: rgb(242, 245, 250); fill-opacity: 1; white-space: pre;\">R_24</text></g><g class=\"ytick\"><text text-anchor=\"end\" x=\"65\" y=\"4.199999999999999\" transform=\"translate(0,268.01)\" style=\"font-family: 'Open Sans', verdana, arial, sans-serif; font-size: 12px; fill: rgb(242, 245, 250); fill-opacity: 1; white-space: pre;\">R_10</text></g><g class=\"ytick\"><text text-anchor=\"end\" x=\"65\" y=\"4.199999999999999\" transform=\"translate(0,248.66)\" style=\"font-family: 'Open Sans', verdana, arial, sans-serif; font-size: 12px; fill: rgb(242, 245, 250); fill-opacity: 1; white-space: pre;\">R_11</text></g><g class=\"ytick\"><text text-anchor=\"end\" x=\"65\" y=\"4.199999999999999\" transform=\"translate(0,229.31)\" style=\"font-family: 'Open Sans', verdana, arial, sans-serif; font-size: 12px; fill: rgb(242, 245, 250); fill-opacity: 1; white-space: pre;\">R_25</text></g><g class=\"ytick\"><text text-anchor=\"end\" x=\"65\" y=\"4.199999999999999\" transform=\"translate(0,209.96)\" style=\"font-family: 'Open Sans', verdana, arial, sans-serif; font-size: 12px; fill: rgb(242, 245, 250); fill-opacity: 1; white-space: pre;\">R_26</text></g><g class=\"ytick\"><text text-anchor=\"end\" x=\"65\" y=\"4.199999999999999\" transform=\"translate(0,190.61)\" style=\"font-family: 'Open Sans', verdana, arial, sans-serif; font-size: 12px; fill: rgb(242, 245, 250); fill-opacity: 1; white-space: pre;\">R_15</text></g><g class=\"ytick\"><text text-anchor=\"end\" x=\"65\" y=\"4.199999999999999\" transform=\"translate(0,171.26)\" style=\"font-family: 'Open Sans', verdana, arial, sans-serif; font-size: 12px; fill: rgb(242, 245, 250); fill-opacity: 1; white-space: pre;\">R_1</text></g><g class=\"ytick\"><text text-anchor=\"end\" x=\"65\" y=\"4.199999999999999\" transform=\"translate(0,151.91)\" style=\"font-family: 'Open Sans', verdana, arial, sans-serif; font-size: 12px; fill: rgb(242, 245, 250); fill-opacity: 1; white-space: pre;\">R_22</text></g><g class=\"ytick\"><text text-anchor=\"end\" x=\"65\" y=\"4.199999999999999\" transform=\"translate(0,132.56)\" style=\"font-family: 'Open Sans', verdana, arial, sans-serif; font-size: 12px; fill: rgb(242, 245, 250); fill-opacity: 1; white-space: pre;\">R_16</text></g><g class=\"ytick\"><text text-anchor=\"end\" x=\"65\" y=\"4.199999999999999\" transform=\"translate(0,113.21000000000001)\" style=\"font-family: 'Open Sans', verdana, arial, sans-serif; font-size: 12px; fill: rgb(242, 245, 250); fill-opacity: 1; white-space: pre;\">R_3</text></g><g class=\"ytick\"><text text-anchor=\"end\" x=\"65\" y=\"4.199999999999999\" transform=\"translate(0,93.86)\" style=\"font-family: 'Open Sans', verdana, arial, sans-serif; font-size: 12px; fill: rgb(242, 245, 250); fill-opacity: 1; white-space: pre;\">R_14</text></g><g class=\"ytick\"><text text-anchor=\"end\" x=\"65\" y=\"4.199999999999999\" transform=\"translate(0,74.51)\" style=\"font-family: 'Open Sans', verdana, arial, sans-serif; font-size: 12px; fill: rgb(242, 245, 250); fill-opacity: 1; white-space: pre;\">R_13</text></g></g><g class=\"overaxes-above\"/></g></g><g class=\"polarlayer\"/><g class=\"ternarylayer\"/><g class=\"geolayer\"/><g class=\"funnelarealayer\"/><g class=\"pielayer\"/><g class=\"treemaplayer\"/><g class=\"sunburstlayer\"/><g class=\"glimages\"/><defs id=\"topdefs-70b2e2\"><g class=\"clips\"/></defs><g class=\"layer-above\"><g class=\"imagelayer\"/><g class=\"shapelayer\"/></g><g class=\"infolayer\"><g class=\"g-gtitle\"><text class=\"gtitle\" x=\"35\" y=\"30\" text-anchor=\"start\" dy=\"0em\" style=\"font-family: 'Open Sans', verdana, arial, sans-serif; font-size: 17px; fill: rgb(242, 245, 250); opacity: 1; font-weight: normal; white-space: pre;\">MDI Results</text></g><g class=\"g-xtitle\"><text class=\"xtitle\" x=\"358\" y=\"487.8\" text-anchor=\"middle\" style=\"font-family: 'Open Sans', verdana, arial, sans-serif; font-size: 14px; fill: rgb(242, 245, 250); opacity: 1; font-weight: normal; white-space: pre;\">Feature Name</text></g><g class=\"g-ytitle\" transform=\"translate(1.4873046875,0)\"><text class=\"ytitle\" transform=\"rotate(-90,11.512500000000003,253.5)\" x=\"11.512500000000003\" y=\"253.5\" text-anchor=\"middle\" style=\"font-family: 'Open Sans', verdana, arial, sans-serif; font-size: 14px; fill: rgb(242, 245, 250); opacity: 1; font-weight: normal; white-space: pre;\">Feature Importance</text></g></g></svg>",
      "text/html": [
       "<div\n",
       "    class=\"webio-mountpoint\"\n",
       "    data-webio-mountpoint=\"5581052742432245376\"\n",
       ">\n",
       "    <script>\n",
       "    (function(){\n",
       "    // Some integrations (namely, IJulia/Jupyter) use an alternate render pathway than\n",
       "    // just putting the html on the page. If WebIO isn't defined, then it's pretty likely\n",
       "    // that we're in one of those situations and the integration just isn't installed\n",
       "    // correctly.\n",
       "    if (typeof window.WebIO === \"undefined\") {\n",
       "        document\n",
       "            .querySelector('[data-webio-mountpoint=\"5581052742432245376\"]')\n",
       "            .innerHTML = (\n",
       "                '<div style=\"padding: 1em; background-color: #f8d6da; border: 1px solid #f5c6cb; font-weight: bold;\">' +\n",
       "                '<p><strong>WebIO not detected.</strong></p>' +\n",
       "                '<p>Please read ' +\n",
       "                '<a href=\"https://juliagizmos.github.io/WebIO.jl/latest/troubleshooting/not-detected/\" target=\"_blank\">the troubleshooting guide</a> ' +\n",
       "                'for more information on how to resolve this issue.</p>' +\n",
       "                '<p><a href=\"https://juliagizmos.github.io/WebIO.jl/latest/troubleshooting/not-detected/\" target=\"_blank\">https://juliagizmos.github.io/WebIO.jl/latest/troubleshooting/not-detected/</a></p>' +\n",
       "                '</div>'\n",
       "            );\n",
       "        return;\n",
       "    }\n",
       "    WebIO.mount(\n",
       "        document.querySelector('[data-webio-mountpoint=\"5581052742432245376\"]'),\n",
       "        {\"props\":{},\"nodeType\":\"Scope\",\"type\":\"node\",\"instanceArgs\":{\"imports\":{\"data\":[{\"name\":\"Plotly\",\"type\":\"js\",\"url\":\"\\/assetserver\\/ba4ba6166f9bddf1e9f43e4655effea48c99fba8-plotly.min.js\"},{\"name\":null,\"type\":\"js\",\"url\":\"\\/assetserver\\/c658d485b525fa0cc62ab72fa46539e0d55ef063-plotly_webio.bundle.js\"}],\"type\":\"async_block\"},\"id\":\"16258293613612702966\",\"handlers\":{\"_toImage\":[\"(function (options){return this.Plotly.toImage(this.plotElem,options).then((function (data){return WebIO.setval({\\\"name\\\":\\\"image\\\",\\\"scope\\\":\\\"16258293613612702966\\\",\\\"id\\\":\\\"3679042208096100246\\\",\\\"type\\\":\\\"observable\\\"},data)}))})\"],\"__get_gd_contents\":[\"(function (prop){prop==\\\"data\\\" ? (WebIO.setval({\\\"name\\\":\\\"__gd_contents\\\",\\\"scope\\\":\\\"16258293613612702966\\\",\\\"id\\\":\\\"2804933770731960726\\\",\\\"type\\\":\\\"observable\\\"},this.plotElem.data)) : undefined; return prop==\\\"layout\\\" ? (WebIO.setval({\\\"name\\\":\\\"__gd_contents\\\",\\\"scope\\\":\\\"16258293613612702966\\\",\\\"id\\\":\\\"2804933770731960726\\\",\\\"type\\\":\\\"observable\\\"},this.plotElem.layout)) : undefined})\"],\"_downloadImage\":[\"(function (options){return this.Plotly.downloadImage(this.plotElem,options)})\"],\"_commands\":[\"(function (args){var fn=args.shift(); var elem=this.plotElem; var Plotly=this.Plotly; args.unshift(elem); return Plotly[fn].apply(this,args)})\"]},\"systemjs_options\":null,\"mount_callbacks\":[\"function () {\\n    var handler = ((function (Plotly,PlotlyWebIO){PlotlyWebIO.init(WebIO); var gd=this.dom.querySelector(\\\"#plot-fa79dab9-81b5-4dea-bd0a-0be7a79c06a9\\\"); this.plotElem=gd; this.Plotly=Plotly; (window.Blink!==undefined) ? (gd.style.width=\\\"100%\\\", gd.style.height=\\\"100vh\\\", gd.style.marginLeft=\\\"0%\\\", gd.style.marginTop=\\\"0vh\\\") : undefined; window.onresize=(function (){return Plotly.Plots.resize(gd)}); Plotly.newPlot(gd,[{\\\"y\\\":[\\\"N_3\\\",\\\"N_5\\\",\\\"N_1\\\",\\\"N_4\\\",\\\"N_2\\\",\\\"R_8\\\",\\\"I_4\\\",\\\"R_28\\\",\\\"R_5\\\",\\\"R_23\\\",\\\"R_17\\\",\\\"R_18\\\",\\\"R_7\\\",\\\"R_2\\\",\\\"R_4\\\",\\\"R_21\\\",\\\"R_24\\\",\\\"I_1\\\",\\\"R_10\\\",\\\"R_6\\\",\\\"R_11\\\",\\\"R_30\\\",\\\"R_25\\\",\\\"R_27\\\",\\\"R_26\\\",\\\"I_3\\\",\\\"R_15\\\",\\\"R_20\\\",\\\"R_1\\\",\\\"R_19\\\",\\\"R_22\\\",\\\"R_29\\\",\\\"R_16\\\",\\\"R_12\\\",\\\"R_3\\\",\\\"I_5\\\",\\\"R_14\\\",\\\"I_2\\\",\\\"R_13\\\",\\\"R_9\\\"],\\\"type\\\":\\\"bar\\\",\\\"orientation\\\":\\\"h\\\",\\\"error_x\\\":{\\\"type\\\":\\\"data\\\",\\\"visible\\\":true,\\\"array\\\":[8.80624754692847e-5,8.973744142622053e-5,8.95269970123503e-5,9.249651932655159e-5,8.782790146138625e-5,0.00018326483600000074,0.00017508406182477476,0.00018364541874482535,0.000185939604437809,0.00018309706656357728,0.00018647827029819261,0.00036048050893871023,0.0003733986113006326,0.0003800731514519153,0.00038396866659816544,0.0003816972500198264,0.0003691255100875886,0.0003766406498784468,0.0003828652043157894,0.0003746492198676508,0.0005559090585301239,0.0005451898506622325,0.0005685032554058132,0.0006052907320818568,0.0005476072380238394,0.0005669110579050781,0.0005949621925716555,0.0005881057486442426,0.0005789002636284503,0.0005811735569998034,0.0006214908359777922,0.0008080004997318459,0.000841113858839807,0.0008435284958727159,0.0008438560489910328,0.0008890433278542119,0.0016252097730469553,0.0015846763965867085,0.0016526847692603143,0.001708012647243101]},\\\"x\\\":[0.011521582892313488,0.011572772881139129,0.011589372453223817,0.011694066429463716,0.011796326342584519,0.01717900290665281,0.017224683473418087,0.017260510239863167,0.017383626913094856,0.017500987644870163,0.017552305475594977,0.01952133755174907,0.019817552537298846,0.01983259585767242,0.01983831475433659,0.020079718284738108,0.020149037281434988,0.020218667278136013,0.020304718535999813,0.020551064354014253,0.023099200850801464,0.0231413055839658,0.023193173939385803,0.023353493271511407,0.0235301212629542,0.023742985356565036,0.02380747903288934,0.023812982317319487,0.023818452692697063,0.0241229782293445,0.025182001676516273,0.031589352738933915,0.031813906427937695,0.031851749920282765,0.033158915174553445,0.033294118991025634,0.05736949887089582,0.05788347187059984,0.058994784912218996,0.060651782792002756]}],{\\\"xaxis\\\":{\\\"title\\\":{\\\"text\\\":\\\"Feature Name\\\"}},\\\"template\\\":{\\\"layout\\\":{\\\"coloraxis\\\":{\\\"colorbar\\\":{\\\"ticks\\\":\\\"\\\",\\\"outlinewidth\\\":0}},\\\"xaxis\\\":{\\\"gridcolor\\\":\\\"#283442\\\",\\\"zerolinewidth\\\":2,\\\"title\\\":{\\\"standoff\\\":15},\\\"ticks\\\":\\\"\\\",\\\"zerolinecolor\\\":\\\"#283442\\\",\\\"automargin\\\":true,\\\"linecolor\\\":\\\"#506784\\\"},\\\"updatemenudefaults\\\":{\\\"bgcolor\\\":\\\"#506784\\\",\\\"borderwidth\\\":0},\\\"hovermode\\\":\\\"closest\\\",\\\"geo\\\":{\\\"showlakes\\\":true,\\\"showland\\\":true,\\\"landcolor\\\":\\\"rgb(17,17,17)\\\",\\\"bgcolor\\\":\\\"rgb(17,17,17)\\\",\\\"subunitcolor\\\":\\\"#506784\\\",\\\"lakecolor\\\":\\\"rgb(17,17,17)\\\"},\\\"paper_bgcolor\\\":\\\"rgb(17,17,17)\\\",\\\"colorscale\\\":{\\\"sequential\\\":[[0.0,\\\"#0d0887\\\"],[0.1111111111111111,\\\"#46039f\\\"],[0.2222222222222222,\\\"#7201a8\\\"],[0.3333333333333333,\\\"#9c179e\\\"],[0.4444444444444444,\\\"#bd3786\\\"],[0.5555555555555556,\\\"#d8576b\\\"],[0.6666666666666666,\\\"#ed7953\\\"],[0.7777777777777778,\\\"#fb9f3a\\\"],[0.8888888888888888,\\\"#fdca26\\\"],[1.0,\\\"#f0f921\\\"]],\\\"diverging\\\":[[0,\\\"#8e0152\\\"],[0.1,\\\"#c51b7d\\\"],[0.2,\\\"#de77ae\\\"],[0.3,\\\"#f1b6da\\\"],[0.4,\\\"#fde0ef\\\"],[0.5,\\\"#f7f7f7\\\"],[0.6,\\\"#e6f5d0\\\"],[0.7,\\\"#b8e186\\\"],[0.8,\\\"#7fbc41\\\"],[0.9,\\\"#4d9221\\\"],[1,\\\"#276419\\\"]],\\\"sequentialminus\\\":[[0.0,\\\"#0d0887\\\"],[0.1111111111111111,\\\"#46039f\\\"],[0.2222222222222222,\\\"#7201a8\\\"],[0.3333333333333333,\\\"#9c179e\\\"],[0.4444444444444444,\\\"#bd3786\\\"],[0.5555555555555556,\\\"#d8576b\\\"],[0.6666666666666666,\\\"#ed7953\\\"],[0.7777777777777778,\\\"#fb9f3a\\\"],[0.8888888888888888,\\\"#fdca26\\\"],[1.0,\\\"#f0f921\\\"]]},\\\"yaxis\\\":{\\\"gridcolor\\\":\\\"#283442\\\",\\\"zerolinewidth\\\":2,\\\"title\\\":{\\\"standoff\\\":15},\\\"ticks\\\":\\\"\\\",\\\"zerolinecolor\\\":\\\"#283442\\\",\\\"automargin\\\":true,\\\"linecolor\\\":\\\"#506784\\\"},\\\"shapedefaults\\\":{\\\"line\\\":{\\\"color\\\":\\\"#f2f5fa\\\"}},\\\"hoverlabel\\\":{\\\"align\\\":\\\"left\\\"},\\\"mapbox\\\":{\\\"style\\\":\\\"dark\\\"},\\\"polar\\\":{\\\"angularaxis\\\":{\\\"gridcolor\\\":\\\"#506784\\\",\\\"ticks\\\":\\\"\\\",\\\"linecolor\\\":\\\"#506784\\\"},\\\"bgcolor\\\":\\\"rgb(17,17,17)\\\",\\\"radialaxis\\\":{\\\"gridcolor\\\":\\\"#506784\\\",\\\"ticks\\\":\\\"\\\",\\\"linecolor\\\":\\\"#506784\\\"}},\\\"sliderdefaults\\\":{\\\"bordercolor\\\":\\\"rgb(17,17,17)\\\",\\\"bgcolor\\\":\\\"#C8D4E3\\\",\\\"tickwidth\\\":0,\\\"borderwidth\\\":1},\\\"font\\\":{\\\"color\\\":\\\"#f2f5fa\\\"},\\\"autotypenumbers\\\":\\\"strict\\\",\\\"annotationdefaults\\\":{\\\"arrowhead\\\":0,\\\"arrowwidth\\\":1,\\\"arrowcolor\\\":\\\"#f2f5fa\\\"},\\\"plot_bgcolor\\\":\\\"rgb(17,17,17)\\\",\\\"title\\\":{\\\"x\\\":0.05},\\\"ternary\\\":{\\\"baxis\\\":{\\\"gridcolor\\\":\\\"#506784\\\",\\\"ticks\\\":\\\"\\\",\\\"linecolor\\\":\\\"#506784\\\"},\\\"bgcolor\\\":\\\"rgb(17,17,17)\\\",\\\"caxis\\\":{\\\"gridcolor\\\":\\\"#506784\\\",\\\"ticks\\\":\\\"\\\",\\\"linecolor\\\":\\\"#506784\\\"},\\\"aaxis\\\":{\\\"gridcolor\\\":\\\"#506784\\\",\\\"ticks\\\":\\\"\\\",\\\"linecolor\\\":\\\"#506784\\\"}},\\\"scene\\\":{\\\"xaxis\\\":{\\\"gridcolor\\\":\\\"#506784\\\",\\\"gridwidth\\\":2,\\\"backgroundcolor\\\":\\\"rgb(17,17,17)\\\",\\\"ticks\\\":\\\"\\\",\\\"showbackground\\\":true,\\\"zerolinecolor\\\":\\\"#C8D4E3\\\",\\\"linecolor\\\":\\\"#506784\\\"},\\\"zaxis\\\":{\\\"gridcolor\\\":\\\"#506784\\\",\\\"gridwidth\\\":2,\\\"backgroundcolor\\\":\\\"rgb(17,17,17)\\\",\\\"ticks\\\":\\\"\\\",\\\"showbackground\\\":true,\\\"zerolinecolor\\\":\\\"#C8D4E3\\\",\\\"linecolor\\\":\\\"#506784\\\"},\\\"yaxis\\\":{\\\"gridcolor\\\":\\\"#506784\\\",\\\"gridwidth\\\":2,\\\"backgroundcolor\\\":\\\"rgb(17,17,17)\\\",\\\"ticks\\\":\\\"\\\",\\\"showbackground\\\":true,\\\"zerolinecolor\\\":\\\"#C8D4E3\\\",\\\"linecolor\\\":\\\"#506784\\\"}},\\\"colorway\\\":[\\\"#636efa\\\",\\\"#EF553B\\\",\\\"#00cc96\\\",\\\"#ab63fa\\\",\\\"#FFA15A\\\",\\\"#19d3f3\\\",\\\"#FF6692\\\",\\\"#B6E880\\\",\\\"#FF97FF\\\",\\\"#FECB52\\\"]},\\\"data\\\":{\\\"barpolar\\\":[{\\\"type\\\":\\\"barpolar\\\",\\\"marker\\\":{\\\"line\\\":{\\\"color\\\":\\\"rgb(17,17,17)\\\",\\\"width\\\":0.5}}}],\\\"carpet\\\":[{\\\"aaxis\\\":{\\\"gridcolor\\\":\\\"#506784\\\",\\\"endlinecolor\\\":\\\"#A2B1C6\\\",\\\"minorgridcolor\\\":\\\"#506784\\\",\\\"startlinecolor\\\":\\\"#A2B1C6\\\",\\\"linecolor\\\":\\\"#506784\\\"},\\\"type\\\":\\\"carpet\\\",\\\"baxis\\\":{\\\"gridcolor\\\":\\\"#506784\\\",\\\"endlinecolor\\\":\\\"#A2B1C6\\\",\\\"minorgridcolor\\\":\\\"#506784\\\",\\\"startlinecolor\\\":\\\"#A2B1C6\\\",\\\"linecolor\\\":\\\"#506784\\\"}}],\\\"scatterpolar\\\":[{\\\"type\\\":\\\"scatterpolar\\\",\\\"marker\\\":{\\\"colorbar\\\":{\\\"ticks\\\":\\\"\\\",\\\"outlinewidth\\\":0}}}],\\\"parcoords\\\":[{\\\"line\\\":{\\\"colorbar\\\":{\\\"ticks\\\":\\\"\\\",\\\"outlinewidth\\\":0}},\\\"type\\\":\\\"parcoords\\\"}],\\\"scatter\\\":[{\\\"type\\\":\\\"scatter\\\",\\\"marker\\\":{\\\"line\\\":{\\\"color\\\":\\\"#283442\\\"}}}],\\\"histogram2dcontour\\\":[{\\\"colorbar\\\":{\\\"ticks\\\":\\\"\\\",\\\"outlinewidth\\\":0},\\\"type\\\":\\\"histogram2dcontour\\\",\\\"colorscale\\\":[[0.0,\\\"#0d0887\\\"],[0.1111111111111111,\\\"#46039f\\\"],[0.2222222222222222,\\\"#7201a8\\\"],[0.3333333333333333,\\\"#9c179e\\\"],[0.4444444444444444,\\\"#bd3786\\\"],[0.5555555555555556,\\\"#d8576b\\\"],[0.6666666666666666,\\\"#ed7953\\\"],[0.7777777777777778,\\\"#fb9f3a\\\"],[0.8888888888888888,\\\"#fdca26\\\"],[1.0,\\\"#f0f921\\\"]]}],\\\"contour\\\":[{\\\"colorbar\\\":{\\\"ticks\\\":\\\"\\\",\\\"outlinewidth\\\":0},\\\"type\\\":\\\"contour\\\",\\\"colorscale\\\":[[0.0,\\\"#0d0887\\\"],[0.1111111111111111,\\\"#46039f\\\"],[0.2222222222222222,\\\"#7201a8\\\"],[0.3333333333333333,\\\"#9c179e\\\"],[0.4444444444444444,\\\"#bd3786\\\"],[0.5555555555555556,\\\"#d8576b\\\"],[0.6666666666666666,\\\"#ed7953\\\"],[0.7777777777777778,\\\"#fb9f3a\\\"],[0.8888888888888888,\\\"#fdca26\\\"],[1.0,\\\"#f0f921\\\"]]}],\\\"scattercarpet\\\":[{\\\"type\\\":\\\"scattercarpet\\\",\\\"marker\\\":{\\\"colorbar\\\":{\\\"ticks\\\":\\\"\\\",\\\"outlinewidth\\\":0}}}],\\\"mesh3d\\\":[{\\\"colorbar\\\":{\\\"ticks\\\":\\\"\\\",\\\"outlinewidth\\\":0},\\\"type\\\":\\\"mesh3d\\\"}],\\\"surface\\\":[{\\\"colorbar\\\":{\\\"ticks\\\":\\\"\\\",\\\"outlinewidth\\\":0},\\\"type\\\":\\\"surface\\\",\\\"colorscale\\\":[[0.0,\\\"#0d0887\\\"],[0.1111111111111111,\\\"#46039f\\\"],[0.2222222222222222,\\\"#7201a8\\\"],[0.3333333333333333,\\\"#9c179e\\\"],[0.4444444444444444,\\\"#bd3786\\\"],[0.5555555555555556,\\\"#d8576b\\\"],[0.6666666666666666,\\\"#ed7953\\\"],[0.7777777777777778,\\\"#fb9f3a\\\"],[0.8888888888888888,\\\"#fdca26\\\"],[1.0,\\\"#f0f921\\\"]]}],\\\"scattermapbox\\\":[{\\\"type\\\":\\\"scattermapbox\\\",\\\"marker\\\":{\\\"colorbar\\\":{\\\"ticks\\\":\\\"\\\",\\\"outlinewidth\\\":0}}}],\\\"scattergeo\\\":[{\\\"type\\\":\\\"scattergeo\\\",\\\"marker\\\":{\\\"colorbar\\\":{\\\"ticks\\\":\\\"\\\",\\\"outlinewidth\\\":0}}}],\\\"histogram\\\":[{\\\"type\\\":\\\"histogram\\\",\\\"marker\\\":{\\\"colorbar\\\":{\\\"ticks\\\":\\\"\\\",\\\"outlinewidth\\\":0}}}],\\\"pie\\\":[{\\\"type\\\":\\\"pie\\\",\\\"automargin\\\":true}],\\\"choropleth\\\":[{\\\"colorbar\\\":{\\\"ticks\\\":\\\"\\\",\\\"outlinewidth\\\":0},\\\"type\\\":\\\"choropleth\\\"}],\\\"heatmapgl\\\":[{\\\"colorbar\\\":{\\\"ticks\\\":\\\"\\\",\\\"outlinewidth\\\":0},\\\"type\\\":\\\"heatmapgl\\\",\\\"colorscale\\\":[[0.0,\\\"#0d0887\\\"],[0.1111111111111111,\\\"#46039f\\\"],[0.2222222222222222,\\\"#7201a8\\\"],[0.3333333333333333,\\\"#9c179e\\\"],[0.4444444444444444,\\\"#bd3786\\\"],[0.5555555555555556,\\\"#d8576b\\\"],[0.6666666666666666,\\\"#ed7953\\\"],[0.7777777777777778,\\\"#fb9f3a\\\"],[0.8888888888888888,\\\"#fdca26\\\"],[1.0,\\\"#f0f921\\\"]]}],\\\"bar\\\":[{\\\"type\\\":\\\"bar\\\",\\\"error_y\\\":{\\\"color\\\":\\\"#f2f5fa\\\"},\\\"error_x\\\":{\\\"color\\\":\\\"#f2f5fa\\\"},\\\"marker\\\":{\\\"line\\\":{\\\"color\\\":\\\"rgb(17,17,17)\\\",\\\"width\\\":0.5}}}],\\\"heatmap\\\":[{\\\"colorbar\\\":{\\\"ticks\\\":\\\"\\\",\\\"outlinewidth\\\":0},\\\"type\\\":\\\"heatmap\\\",\\\"colorscale\\\":[[0.0,\\\"#0d0887\\\"],[0.1111111111111111,\\\"#46039f\\\"],[0.2222222222222222,\\\"#7201a8\\\"],[0.3333333333333333,\\\"#9c179e\\\"],[0.4444444444444444,\\\"#bd3786\\\"],[0.5555555555555556,\\\"#d8576b\\\"],[0.6666666666666666,\\\"#ed7953\\\"],[0.7777777777777778,\\\"#fb9f3a\\\"],[0.8888888888888888,\\\"#fdca26\\\"],[1.0,\\\"#f0f921\\\"]]}],\\\"contourcarpet\\\":[{\\\"colorbar\\\":{\\\"ticks\\\":\\\"\\\",\\\"outlinewidth\\\":0},\\\"type\\\":\\\"contourcarpet\\\"}],\\\"table\\\":[{\\\"type\\\":\\\"table\\\",\\\"header\\\":{\\\"line\\\":{\\\"color\\\":\\\"rgb(17,17,17)\\\"},\\\"fill\\\":{\\\"color\\\":\\\"#2a3f5f\\\"}},\\\"cells\\\":{\\\"line\\\":{\\\"color\\\":\\\"rgb(17,17,17)\\\"},\\\"fill\\\":{\\\"color\\\":\\\"#506784\\\"}}}],\\\"scatter3d\\\":[{\\\"line\\\":{\\\"colorbar\\\":{\\\"ticks\\\":\\\"\\\",\\\"outlinewidth\\\":0}},\\\"type\\\":\\\"scatter3d\\\",\\\"marker\\\":{\\\"colorbar\\\":{\\\"ticks\\\":\\\"\\\",\\\"outlinewidth\\\":0}}}],\\\"scattergl\\\":[{\\\"type\\\":\\\"scattergl\\\",\\\"marker\\\":{\\\"line\\\":{\\\"color\\\":\\\"#283442\\\"}}}],\\\"histogram2d\\\":[{\\\"colorbar\\\":{\\\"ticks\\\":\\\"\\\",\\\"outlinewidth\\\":0},\\\"type\\\":\\\"histogram2d\\\",\\\"colorscale\\\":[[0.0,\\\"#0d0887\\\"],[0.1111111111111111,\\\"#46039f\\\"],[0.2222222222222222,\\\"#7201a8\\\"],[0.3333333333333333,\\\"#9c179e\\\"],[0.4444444444444444,\\\"#bd3786\\\"],[0.5555555555555556,\\\"#d8576b\\\"],[0.6666666666666666,\\\"#ed7953\\\"],[0.7777777777777778,\\\"#fb9f3a\\\"],[0.8888888888888888,\\\"#fdca26\\\"],[1.0,\\\"#f0f921\\\"]]}],\\\"scatterternary\\\":[{\\\"type\\\":\\\"scatterternary\\\",\\\"marker\\\":{\\\"colorbar\\\":{\\\"ticks\\\":\\\"\\\",\\\"outlinewidth\\\":0}}}],\\\"scatterpolargl\\\":[{\\\"type\\\":\\\"scatterpolargl\\\",\\\"marker\\\":{\\\"colorbar\\\":{\\\"ticks\\\":\\\"\\\",\\\"outlinewidth\\\":0}}}]}},\\\"height\\\":1200,\\\"margin\\\":{\\\"l\\\":50,\\\"b\\\":50,\\\"r\\\":50,\\\"t\\\":60},\\\"title\\\":\\\"MDI Results\\\",\\\"yaxis\\\":{\\\"title\\\":{\\\"text\\\":\\\"Feature Importance\\\"}},\\\"width\\\":800},{\\\"showLink\\\":false,\\\"editable\\\":false,\\\"responsive\\\":true,\\\"staticPlot\\\":false,\\\"scrollZoom\\\":true}); gd.on(\\\"plotly_hover\\\",(function (data){var filtered_data=WebIO.PlotlyCommands.filterEventData(gd,data,\\\"hover\\\"); return !(filtered_data.isnil) ? (WebIO.setval({\\\"name\\\":\\\"hover\\\",\\\"scope\\\":\\\"16258293613612702966\\\",\\\"id\\\":\\\"15710741117414525998\\\",\\\"type\\\":\\\"observable\\\"},filtered_data.out)) : undefined})); gd.on(\\\"plotly_unhover\\\",(function (){return WebIO.setval({\\\"name\\\":\\\"hover\\\",\\\"scope\\\":\\\"16258293613612702966\\\",\\\"id\\\":\\\"15710741117414525998\\\",\\\"type\\\":\\\"observable\\\"},{})})); gd.on(\\\"plotly_selected\\\",(function (data){var filtered_data=WebIO.PlotlyCommands.filterEventData(gd,data,\\\"selected\\\"); return !(filtered_data.isnil) ? (WebIO.setval({\\\"name\\\":\\\"selected\\\",\\\"scope\\\":\\\"16258293613612702966\\\",\\\"id\\\":\\\"13864004685069620758\\\",\\\"type\\\":\\\"observable\\\"},filtered_data.out)) : undefined})); gd.on(\\\"plotly_deselect\\\",(function (){return WebIO.setval({\\\"name\\\":\\\"selected\\\",\\\"scope\\\":\\\"16258293613612702966\\\",\\\"id\\\":\\\"13864004685069620758\\\",\\\"type\\\":\\\"observable\\\"},{})})); gd.on(\\\"plotly_relayout\\\",(function (data){var filtered_data=WebIO.PlotlyCommands.filterEventData(gd,data,\\\"relayout\\\"); return !(filtered_data.isnil) ? (WebIO.setval({\\\"name\\\":\\\"relayout\\\",\\\"scope\\\":\\\"16258293613612702966\\\",\\\"id\\\":\\\"1434222492610608900\\\",\\\"type\\\":\\\"observable\\\"},filtered_data.out)) : undefined})); return gd.on(\\\"plotly_click\\\",(function (data){var filtered_data=WebIO.PlotlyCommands.filterEventData(gd,data,\\\"click\\\"); return !(filtered_data.isnil) ? (WebIO.setval({\\\"name\\\":\\\"click\\\",\\\"scope\\\":\\\"16258293613612702966\\\",\\\"id\\\":\\\"2007805522603526268\\\",\\\"type\\\":\\\"observable\\\"},filtered_data.out)) : undefined}))}));\\n    (WebIO.importBlock({\\\"data\\\":[{\\\"name\\\":\\\"Plotly\\\",\\\"type\\\":\\\"js\\\",\\\"url\\\":\\\"\\/assetserver\\/ba4ba6166f9bddf1e9f43e4655effea48c99fba8-plotly.min.js\\\"},{\\\"name\\\":null,\\\"type\\\":\\\"js\\\",\\\"url\\\":\\\"\\/assetserver\\/c658d485b525fa0cc62ab72fa46539e0d55ef063-plotly_webio.bundle.js\\\"}],\\\"type\\\":\\\"async_block\\\"})).then((imports) => handler.apply(this, imports));\\n}\\n\"],\"observables\":{\"_toImage\":{\"sync\":false,\"id\":\"7403458854011347359\",\"value\":{}},\"hover\":{\"sync\":false,\"id\":\"15710741117414525998\",\"value\":{}},\"selected\":{\"sync\":false,\"id\":\"13864004685069620758\",\"value\":{}},\"__gd_contents\":{\"sync\":false,\"id\":\"2804933770731960726\",\"value\":{}},\"click\":{\"sync\":false,\"id\":\"2007805522603526268\",\"value\":{}},\"image\":{\"sync\":true,\"id\":\"3679042208096100246\",\"value\":\"\"},\"__get_gd_contents\":{\"sync\":false,\"id\":\"6792899954486100784\",\"value\":\"\"},\"_downloadImage\":{\"sync\":false,\"id\":\"15237356687331064403\",\"value\":{}},\"relayout\":{\"sync\":false,\"id\":\"1434222492610608900\",\"value\":{}},\"_commands\":{\"sync\":false,\"id\":\"14538485984475323056\",\"value\":[]}}},\"children\":[{\"props\":{\"id\":\"plot-fa79dab9-81b5-4dea-bd0a-0be7a79c06a9\"},\"nodeType\":\"DOM\",\"type\":\"node\",\"instanceArgs\":{\"namespace\":\"html\",\"tag\":\"div\"},\"children\":[]}]},\n",
       "        window,\n",
       "    );\n",
       "    })()\n",
       "    </script>\n",
       "</div>\n"
      ],
      "text/plain": [
       "data: [\n",
       "  \"bar with fields error_x, orientation, type, x, and y\"\n",
       "]\n",
       "\n",
       "layout: \"layout with fields height, margin, template, title, width, xaxis, and yaxis\"\n",
       "\n"
      ]
     },
     "metadata": {},
     "output_type": "display_data"
    }
   ],
   "source": [
    "templates.default = \"plotly_dark\";\n",
    "PlotlyJS.templates\n",
    "\n",
    "toSavePlot = plot(\n",
    "    bar(\n",
    "        result,\n",
    "        x=:FeatureImportance,\n",
    "        y=:FeatureName,\n",
    "        error_x=attr(type=\"data\", array=:Std, visible=true),\n",
    "        orientation=\"h\",\n",
    "        )\n",
    "    ,\n",
    "    PlotlyJS.Layout(\n",
    "        title=\"MDI Results\",\n",
    "        width=800, height=1200,\n",
    "        xaxis_title=\"Feature Name\",\n",
    "        yaxis_title=\"Feature Importance\",\n",
    "    )\n",
    ")\n"
   ]
  },
  {
   "cell_type": "markdown",
   "metadata": {},
   "source": [
    "# Save Results"
   ]
  },
  {
   "cell_type": "code",
   "execution_count": 6,
   "metadata": {},
   "outputs": [
    {
     "data": {
      "text/plain": [
       "\"Figs/MDI_results.png\""
      ]
     },
     "metadata": {},
     "output_type": "display_data"
    }
   ],
   "source": [
    "PlotlyJS.savefig(toSavePlot, \"Figs/MDI_results.png\")\n"
   ]
  }
 ],
 "metadata": {
  "kernelspec": {
   "display_name": "Julia 1.8.1",
   "language": "julia",
   "name": "julia-1.8"
  },
  "language_info": {
   "file_extension": ".jl",
   "mimetype": "application/julia",
   "name": "julia",
   "version": "1.8.1"
  },
  "orig_nbformat": 4,
  "vscode": {
   "interpreter": {
    "hash": "b8fb9d1f403244eb1d8985de9eba125cdc054776ee3ac17bd9ecc183ad605f87"
   }
  }
 },
 "nbformat": 4,
 "nbformat_minor": 2
}
