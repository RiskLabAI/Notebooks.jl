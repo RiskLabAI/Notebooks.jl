{
 "cells": [
  {
   "cell_type": "markdown",
   "metadata": {},
   "source": [
    "# Import Libraries"
   ]
  },
  {
   "cell_type": "code",
   "execution_count": 1,
   "metadata": {},
   "outputs": [
    {
     "name": "stderr",
     "output_type": "stream",
     "text": [
      "WARNING: using TimeSeries.lead in module Main conflicts with an existing identifier.\n",
      "WARNING: using TimeSeries.lag in module Main conflicts with an existing identifier.\n",
      "WARNING: replacing module RollingFunctions.\n",
      "WARNING: replacing module VectorFunctions.\n",
      "WARNING: ignoring conflicting import of RollingFunctions.rolling into Main\n",
      "WARNING: ignoring conflicting import of VectorFunctions.differences into Main\n"
     ]
    }
   ],
   "source": [
    "import Pkg;\n",
    "# Pkg.add(\"ShiftedArrays\")\n",
    "# Pkg.add(\"TimeSeries\")\n",
    "# Pkg.add(\"DataFrames\")\n",
    "# Pkg.add(\"CSV\")\n",
    "\n",
    "include(\"CorwinSchultz.jl\")\n",
    "include(\"BekkerParkinsonVolatilityEstimator.jl\")\n",
    "using DataFrames, CSV, TimeSeries, Dates"
   ]
  },
  {
   "cell_type": "markdown",
   "metadata": {},
   "source": [
    "# Read Data"
   ]
  },
  {
   "cell_type": "code",
   "execution_count": 2,
   "metadata": {},
   "outputs": [
    {
     "name": "stdout",
     "output_type": "stream",
     "text": [
      "(1949, 6)\n"
     ]
    },
    {
     "data": {
      "text/html": [
       "<div class=\"data-frame\"><p>10 rows × 6 columns</p><table class=\"data-frame\"><thead><tr><th></th><th>Datetime</th><th>Open</th><th>High</th><th>Low</th><th>Close</th><th>Volume</th></tr><tr><th></th><th title=\"DateTime\">DateTime</th><th title=\"Float64\">Float64</th><th title=\"Float64\">Float64</th><th title=\"Float64\">Float64</th><th title=\"Float64\">Float64</th><th title=\"Int64\">Int64</th></tr></thead><tbody><tr><th>1</th><td>2022-08-22T09:30:00</td><td>169.69</td><td>169.71</td><td>168.93</td><td>169.52</td><td>3685094</td></tr><tr><th>2</th><td>2022-08-22T09:31:00</td><td>169.52</td><td>169.74</td><td>169.52</td><td>169.7</td><td>471038</td></tr><tr><th>3</th><td>2022-08-22T09:32:00</td><td>169.71</td><td>169.737</td><td>169.26</td><td>169.31</td><td>352459</td></tr><tr><th>4</th><td>2022-08-22T09:33:00</td><td>169.25</td><td>169.25</td><td>169.21</td><td>169.22</td><td>291817</td></tr><tr><th>5</th><td>2022-08-22T09:34:00</td><td>169.25</td><td>169.25</td><td>168.941</td><td>169.04</td><td>357077</td></tr><tr><th>6</th><td>2022-08-22T09:35:00</td><td>169.04</td><td>169.04</td><td>169.04</td><td>169.04</td><td>414994</td></tr><tr><th>7</th><td>2022-08-22T09:36:00</td><td>169.04</td><td>169.08</td><td>169.006</td><td>169.06</td><td>58095</td></tr><tr><th>8</th><td>2022-08-22T09:37:00</td><td>169.0</td><td>169.03</td><td>168.92</td><td>168.97</td><td>455048</td></tr><tr><th>9</th><td>2022-08-22T09:38:00</td><td>169.04</td><td>169.041</td><td>169.01</td><td>169.01</td><td>294641</td></tr><tr><th>10</th><td>2022-08-22T09:39:00</td><td>169.0</td><td>169.065</td><td>168.95</td><td>169.03</td><td>177649</td></tr></tbody></table></div>"
      ],
      "text/latex": [
       "\\begin{tabular}{r|cccccc}\n",
       "\t& Datetime & Open & High & Low & Close & Volume\\\\\n",
       "\t\\hline\n",
       "\t& DateTime & Float64 & Float64 & Float64 & Float64 & Int64\\\\\n",
       "\t\\hline\n",
       "\t1 & 2022-08-22T09:30:00 & 169.69 & 169.71 & 168.93 & 169.52 & 3685094 \\\\\n",
       "\t2 & 2022-08-22T09:31:00 & 169.52 & 169.74 & 169.52 & 169.7 & 471038 \\\\\n",
       "\t3 & 2022-08-22T09:32:00 & 169.71 & 169.737 & 169.26 & 169.31 & 352459 \\\\\n",
       "\t4 & 2022-08-22T09:33:00 & 169.25 & 169.25 & 169.21 & 169.22 & 291817 \\\\\n",
       "\t5 & 2022-08-22T09:34:00 & 169.25 & 169.25 & 168.941 & 169.04 & 357077 \\\\\n",
       "\t6 & 2022-08-22T09:35:00 & 169.04 & 169.04 & 169.04 & 169.04 & 414994 \\\\\n",
       "\t7 & 2022-08-22T09:36:00 & 169.04 & 169.08 & 169.006 & 169.06 & 58095 \\\\\n",
       "\t8 & 2022-08-22T09:37:00 & 169.0 & 169.03 & 168.92 & 168.97 & 455048 \\\\\n",
       "\t9 & 2022-08-22T09:38:00 & 169.04 & 169.041 & 169.01 & 169.01 & 294641 \\\\\n",
       "\t10 & 2022-08-22T09:39:00 & 169.0 & 169.065 & 168.95 & 169.03 & 177649 \\\\\n",
       "\\end{tabular}\n"
      ],
      "text/plain": [
       "\u001b[1m10×6 DataFrame\u001b[0m\n",
       "\u001b[1m Row \u001b[0m│\u001b[1m Datetime            \u001b[0m\u001b[1m Open    \u001b[0m\u001b[1m High    \u001b[0m\u001b[1m Low     \u001b[0m\u001b[1m Close   \u001b[0m\u001b[1m Volume  \u001b[0m\n",
       "\u001b[1m     \u001b[0m│\u001b[90m DateTime            \u001b[0m\u001b[90m Float64 \u001b[0m\u001b[90m Float64 \u001b[0m\u001b[90m Float64 \u001b[0m\u001b[90m Float64 \u001b[0m\u001b[90m Int64   \u001b[0m\n",
       "─────┼──────────────────────────────────────────────────────────────────\n",
       "   1 │ 2022-08-22T09:30:00   169.69  169.71   168.93    169.52  3685094\n",
       "   2 │ 2022-08-22T09:31:00   169.52  169.74   169.52    169.7    471038\n",
       "   3 │ 2022-08-22T09:32:00   169.71  169.737  169.26    169.31   352459\n",
       "   4 │ 2022-08-22T09:33:00   169.25  169.25   169.21    169.22   291817\n",
       "   5 │ 2022-08-22T09:34:00   169.25  169.25   168.941   169.04   357077\n",
       "   6 │ 2022-08-22T09:35:00   169.04  169.04   169.04    169.04   414994\n",
       "   7 │ 2022-08-22T09:36:00   169.04  169.08   169.006   169.06    58095\n",
       "   8 │ 2022-08-22T09:37:00   169.0   169.03   168.92    168.97   455048\n",
       "   9 │ 2022-08-22T09:38:00   169.04  169.041  169.01    169.01   294641\n",
       "  10 │ 2022-08-22T09:39:00   169.0   169.065  168.95    169.03   177649"
      ]
     },
     "metadata": {},
     "output_type": "display_data"
    }
   ],
   "source": [
    "ohlcvData = CSV.read(\"Data/AAPL_OHLCV_1m_Data.csv\", DataFrames.DataFrame, header=1)\n",
    "ohlcvData.Datetime = DateTime.(ohlcvData.Datetime, \"yyyy-mm-dd HH:MM:SS\")\n",
    "\n",
    "ohlcvData |> size |> println\n",
    "\n",
    "first(ohlcvData, 10)"
   ]
  },
  {
   "cell_type": "markdown",
   "metadata": {},
   "source": [
    "# Corwin-Schultz Estimator"
   ]
  },
  {
   "cell_type": "code",
   "execution_count": 8,
   "metadata": {},
   "outputs": [
    {
     "data": {
      "text/plain": [
       "1949-element Vector{Union{Missing, Float64}}:\n",
       "  missing\n",
       "  missing\n",
       "  missing\n",
       "  missing\n",
       "  missing\n",
       "  missing\n",
       "  missing\n",
       "  missing\n",
       "  missing\n",
       "  missing\n",
       " ⋮\n",
       " 0.0\n",
       " 0.0007329125527335391\n",
       " 0.0\n",
       " 0.0\n",
       " 0.0\n",
       " 0.0\n",
       " 0.0\n",
       " 0.0\n",
       " 0.0001576757509685724"
      ]
     },
     "metadata": {},
     "output_type": "display_data"
    }
   ],
   "source": [
    "β = βEstimates(ohlcvData.High, ohlcvData.Low, 20);\n",
    "γ = γEstimates(ohlcvData.High, ohlcvData.Low);\n",
    "α = αEstimates(β, γ);\n"
   ]
  },
  {
   "cell_type": "code",
   "execution_count": 4,
   "metadata": {},
   "outputs": [
    {
     "data": {
      "text/plain": [
       "1949×1 TimeArray{Union{Missing, Float64}, 2, DateTime, Matrix{Union{Missing, Float64}}} 2022-08-22T09:30:00 to 2022-08-26T16:00:00\n",
       "│                     │ Measure │\n",
       "├─────────────────────┼─────────┤\n",
       "│ 2022-08-22T09:30:00 │ missing │\n",
       "│ 2022-08-22T09:31:00 │ missing │\n",
       "│ 2022-08-22T09:32:00 │ missing │\n",
       "│ 2022-08-22T09:33:00 │ missing │\n",
       "│ 2022-08-22T09:34:00 │ missing │\n",
       "│ 2022-08-22T09:35:00 │ missing │\n",
       "│ 2022-08-22T09:36:00 │ missing │\n",
       "│ 2022-08-22T09:37:00 │ missing │\n",
       "│ ⋮                   │ ⋮       │\n",
       "│ 2022-08-26T15:54:00 │ -1.0    │\n",
       "│ 2022-08-26T15:55:00 │ -1.0    │\n",
       "│ 2022-08-26T15:56:00 │ -1.0    │\n",
       "│ 2022-08-26T15:57:00 │ -1.0    │\n",
       "│ 2022-08-26T15:58:00 │ -1.0    │\n",
       "│ 2022-08-26T15:59:00 │ -1.0    │\n",
       "│ 2022-08-26T16:00:00 │ -0.9998 │"
      ]
     },
     "metadata": {},
     "output_type": "display_data"
    }
   ],
   "source": [
    "corwinSchultz = corwinSchultzEstimator(ohlcvData.High, ohlcvData.Low, windowSpan=20)\n",
    "corwinSchultzEstimatorTimeSeries = TimeArray((DateTime=ohlcvData.Datetime, Measure=corwinSchultz); timestamp=:DateTime)"
   ]
  },
  {
   "cell_type": "markdown",
   "metadata": {},
   "source": [
    "# Bekker-Parkinson Volatility Estimator"
   ]
  },
  {
   "cell_type": "code",
   "execution_count": 10,
   "metadata": {},
   "outputs": [
    {
     "data": {
      "text/plain": [
       "1949-element Vector{Union{Missing, Float64}}:\n",
       "  missing\n",
       "  missing\n",
       "  missing\n",
       "  missing\n",
       "  missing\n",
       "  missing\n",
       "  missing\n",
       "  missing\n",
       "  missing\n",
       "  missing\n",
       " ⋮\n",
       " 0.006220021629354218\n",
       " 0.0055198694646534634\n",
       " 0.008632037106381593\n",
       " 0.008896352588125614\n",
       " 0.008742592370735727\n",
       " 0.008908404237586938\n",
       " 0.008118466760422507\n",
       " 0.009085427523031701\n",
       " 0.008312560636948029"
      ]
     },
     "metadata": {},
     "output_type": "display_data"
    }
   ],
   "source": [
    "σ = σEstimates(β, γ)"
   ]
  },
  {
   "cell_type": "code",
   "execution_count": 6,
   "metadata": {},
   "outputs": [
    {
     "data": {
      "text/plain": [
       "1949×1 TimeArray{Union{Missing, Float64}, 2, DateTime, Matrix{Union{Missing, Float64}}} 2022-08-22T09:30:00 to 2022-08-26T16:00:00\n",
       "│                     │ Measure │\n",
       "├─────────────────────┼─────────┤\n",
       "│ 2022-08-22T09:30:00 │ missing │\n",
       "│ 2022-08-22T09:31:00 │ missing │\n",
       "│ 2022-08-22T09:32:00 │ missing │\n",
       "│ 2022-08-22T09:33:00 │ missing │\n",
       "│ 2022-08-22T09:34:00 │ missing │\n",
       "│ 2022-08-22T09:35:00 │ missing │\n",
       "│ 2022-08-22T09:36:00 │ missing │\n",
       "│ 2022-08-22T09:37:00 │ missing │\n",
       "│ ⋮                   │ ⋮       │\n",
       "│ 2022-08-26T15:54:00 │ 0.0086  │\n",
       "│ 2022-08-26T15:55:00 │ 0.0089  │\n",
       "│ 2022-08-26T15:56:00 │ 0.0087  │\n",
       "│ 2022-08-26T15:57:00 │ 0.0089  │\n",
       "│ 2022-08-26T15:58:00 │ 0.0081  │\n",
       "│ 2022-08-26T15:59:00 │ 0.0091  │\n",
       "│ 2022-08-26T16:00:00 │ 0.0083  │"
      ]
     },
     "metadata": {},
     "output_type": "display_data"
    }
   ],
   "source": [
    "bekkerParkinsonVolatility = bekkerParkinsonVolatilityEstimates(ohlcvData.High, ohlcvData.Low; windowSpan=20)\n",
    "bekkerParkinsonVolatilityEstimatesTimeSeries = TimeArray((DateTime=ohlcvData.Datetime, Measure=bekkerParkinsonVolatility); timestamp=:DateTime)"
   ]
  }
 ],
 "metadata": {
  "kernelspec": {
   "display_name": "Julia 1.8.1",
   "language": "julia",
   "name": "julia-1.8"
  },
  "language_info": {
   "file_extension": ".jl",
   "mimetype": "application/julia",
   "name": "julia",
   "version": "1.8.1"
  },
  "orig_nbformat": 4
 },
 "nbformat": 4,
 "nbformat_minor": 2
}
