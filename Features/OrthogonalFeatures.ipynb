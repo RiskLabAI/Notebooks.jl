{
 "cells": [
  {
   "cell_type": "markdown",
   "metadata": {},
   "source": [
    "# Import Libraries"
   ]
  },
  {
   "cell_type": "code",
   "execution_count": 25,
   "metadata": {},
   "outputs": [
    {
     "data": {
      "text/plain": [
       "orthogonalFeatures"
      ]
     },
     "metadata": {},
     "output_type": "display_data"
    }
   ],
   "source": [
    "using DataFrames\n",
    "using PyCall\n",
    "using Statistics\n",
    "using LinearAlgebra\n",
    "\n",
    "@pyimport sklearn.datasets as Datasets\n",
    "include(\"OrthogonalFeatures.jl\")"
   ]
  },
  {
   "cell_type": "markdown",
   "metadata": {},
   "source": [
    "# Generate Synthetic Test Data"
   ]
  },
  {
   "cell_type": "code",
   "execution_count": 26,
   "metadata": {},
   "outputs": [],
   "source": [
    "iris = Datasets.load_iris()\n",
    "featureNames = iris[\"feature_names\"]\n",
    "targetNames = iris[\"target_names\"]\n",
    "X, y = iris[\"data\"], iris[\"target\"];"
   ]
  },
  {
   "cell_type": "markdown",
   "metadata": {},
   "source": [
    "# Orthogonal Feature Extraction"
   ]
  },
  {
   "cell_type": "code",
   "execution_count": 27,
   "metadata": {},
   "outputs": [],
   "source": [
    "P, eigenDataFrame = orthogonalFeatures(X);"
   ]
  },
  {
   "cell_type": "code",
   "execution_count": 28,
   "metadata": {},
   "outputs": [
    {
     "data": {
      "text/plain": [
       "150×2 Matrix{Float64}:\n",
       "  2.25714    0.478424\n",
       "  2.07401   -0.671883\n",
       "  2.35634   -0.340766\n",
       "  2.29171   -0.5954\n",
       "  2.38186    0.644676\n",
       "  2.0687     1.48421\n",
       "  2.43587    0.0474851\n",
       "  2.22539    0.222403\n",
       "  2.32685   -1.1116\n",
       "  2.17703   -0.467448\n",
       "  ⋮         \n",
       " -1.89543    0.687273\n",
       " -1.15402   -0.696536\n",
       " -2.03374    0.864624\n",
       " -1.99148    1.04567\n",
       " -1.86426    0.385674\n",
       " -1.55936   -0.893693\n",
       " -1.51609    0.268171\n",
       " -1.3682     1.00788\n",
       " -0.957448  -0.0242504"
      ]
     },
     "metadata": {},
     "output_type": "display_data"
    }
   ],
   "source": [
    "P"
   ]
  },
  {
   "cell_type": "code",
   "execution_count": 29,
   "metadata": {},
   "outputs": [
    {
     "data": {
      "text/html": [
       "<div class=\"data-frame\"><p>2 rows × 4 columns</p><table class=\"data-frame\"><thead><tr><th></th><th>Index</th><th>EigenValue</th><th>EigenVector</th><th>CumulativeVariance</th></tr><tr><th></th><th title=\"String\">String</th><th title=\"Float64\">Float64</th><th title=\"SubArray{Float64, 1, Matrix{Float64}, Tuple{Base.Slice{Base.OneTo{Int64}}, Int64}, true}\">SubArray…</th><th title=\"Float64\">Float64</th></tr></thead><tbody><tr><th>1</th><td>PC 4</td><td>434.856</td><td>[-0.521066, 0.269347, -0.580413, -0.564857]</td><td>0.729624</td></tr><tr><th>2</th><td>PC 3</td><td>136.191</td><td>[0.377418, 0.923296, 0.0244916, 0.066942]</td><td>0.958132</td></tr></tbody></table></div>"
      ],
      "text/latex": [
       "\\begin{tabular}{r|cccc}\n",
       "\t& Index & EigenValue & EigenVector & CumulativeVariance\\\\\n",
       "\t\\hline\n",
       "\t& String & Float64 & SubArray… & Float64\\\\\n",
       "\t\\hline\n",
       "\t1 & PC 4 & 434.856 & [-0.521066, 0.269347, -0.580413, -0.564857] & 0.729624 \\\\\n",
       "\t2 & PC 3 & 136.191 & [0.377418, 0.923296, 0.0244916, 0.066942] & 0.958132 \\\\\n",
       "\\end{tabular}\n"
      ],
      "text/plain": [
       "\u001b[1m2×4 DataFrame\u001b[0m\n",
       "\u001b[1m Row \u001b[0m│\u001b[1m Index  \u001b[0m\u001b[1m EigenValue \u001b[0m\u001b[1m EigenVector                       \u001b[0m\u001b[1m CumulativeVarian\u001b[0m ⋯\n",
       "\u001b[1m     \u001b[0m│\u001b[90m String \u001b[0m\u001b[90m Float64    \u001b[0m\u001b[90m SubArray…                         \u001b[0m\u001b[90m Float64         \u001b[0m ⋯\n",
       "─────┼──────────────────────────────────────────────────────────────────────────\n",
       "   1 │ PC 4       434.856  [-0.521066, 0.269347, -0.580413,…            0.7296 ⋯\n",
       "   2 │ PC 3       136.191  [0.377418, 0.923296, 0.0244916, …            0.9581\n",
       "\u001b[36m                                                                1 column omitted\u001b[0m"
      ]
     },
     "metadata": {},
     "output_type": "display_data"
    }
   ],
   "source": [
    "eigenDataFrame"
   ]
  }
 ],
 "metadata": {
  "kernelspec": {
   "display_name": "Julia 1.8.1",
   "language": "julia",
   "name": "julia-1.8"
  },
  "language_info": {
   "file_extension": ".jl",
   "mimetype": "application/julia",
   "name": "julia",
   "version": "1.8.1"
  },
  "orig_nbformat": 4
 },
 "nbformat": 4,
 "nbformat_minor": 2
}
