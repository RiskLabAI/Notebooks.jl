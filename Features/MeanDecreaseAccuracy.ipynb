{
 "cells": [
  {
   "cell_type": "markdown",
   "metadata": {},
   "source": [
    "# Import Libraries"
   ]
  },
  {
   "cell_type": "code",
   "execution_count": 8,
   "metadata": {},
   "outputs": [
    {
     "ename": "ErrorException",
     "evalue": "could not load library \"C:\\Users\\HP\\.conda\\envs\\ml\\python310.dll\"\nThe specified module could not be found. ",
     "output_type": "error",
     "traceback": [
      "could not load library \"C:\\Users\\HP\\.conda\\envs\\ml\\python310.dll\"\n",
      "The specified module could not be found. \n",
      "\n",
      "Stacktrace:\n",
      " [1] ComputePyActCtx\n",
      "   @ C:\\Users\\HP\\.julia\\packages\\PyCall\\ygXW2\\src\\PyCall.jl:448 [inlined]\n",
      " [2] ActivatePyActCtx()\n",
      "   @ PyCall C:\\Users\\HP\\.julia\\packages\\PyCall\\ygXW2\\src\\PyCall.jl:463\n",
      " [3] _pyimport(name::String)\n",
      "   @ PyCall C:\\Users\\HP\\.julia\\packages\\PyCall\\ygXW2\\src\\PyCall.jl:481\n",
      " [4] pyimport(name::String)\n",
      "   @ PyCall C:\\Users\\HP\\.julia\\packages\\PyCall\\ygXW2\\src\\PyCall.jl:507\n",
      " [5] top-level scope\n",
      "   @ C:\\Users\\HP\\.julia\\packages\\PyCall\\ygXW2\\src\\PyCall.jl:602"
     ]
    }
   ],
   "source": [
    "using DataFrames\n",
    "using DataFramesMeta\n",
    "using PyCall\n",
    "using Statistics\n",
    "using PlotlyJS\n",
    "using TimeSeries\n",
    "using Random\n",
    "\n",
    "@pyimport sklearn.metrics as Metrics\n",
    "@pyimport sklearn.ensemble as Ensemble\n",
    "@pyimport sklearn.tree as Tree\n",
    "@pyimport sklearn.datasets as Datasets\n",
    "@pyimport sklearn.model_selection as ModelSelection\n",
    "\n",
    "include(\"GenerateSyntheticData.jl\");\n",
    "include(\"MeanDecreaseAccuracy.jl\");"
   ]
  },
  {
   "cell_type": "markdown",
   "metadata": {},
   "source": [
    "# Generate Synthetic Test Data"
   ]
  },
  {
   "cell_type": "code",
   "execution_count": 2,
   "metadata": {},
   "outputs": [
    {
     "ename": "UndefVarError",
     "evalue": "UndefVarError: getTestData not defined",
     "output_type": "error",
     "traceback": [
      "UndefVarError: getTestData not defined\n",
      "\n",
      "Stacktrace:\n",
      " [1] top-level scope\n",
      "   @ c:\\Users\\HP\\OneDrive\\RiskLab Code\\2020-06FeatureImportanceAnalysis\\JL\\MeanDecreaseAccuracy-jl.ipynb:1"
     ]
    }
   ],
   "source": [
    "X, y = getTestData(\n",
    "    nFeatures=40,\n",
    "    nInformative=5, \n",
    "    nRedundant=30,\n",
    "    nSamples=10000,\n",
    "    sigmaStd=0.1);"
   ]
  },
  {
   "cell_type": "markdown",
   "metadata": {},
   "source": [
    "# Fit MDA"
   ]
  },
  {
   "cell_type": "code",
   "execution_count": 3,
   "metadata": {},
   "outputs": [
    {
     "ename": "UndefVarError",
     "evalue": "UndefVarError: Tree not defined",
     "output_type": "error",
     "traceback": [
      "UndefVarError: Tree not defined\n",
      "\n",
      "Stacktrace:\n",
      " [1] top-level scope\n",
      "   @ c:\\Users\\HP\\OneDrive\\RiskLab Code\\2020-06FeatureImportanceAnalysis\\JL\\MeanDecreaseAccuracy-jl.ipynb:1"
     ]
    }
   ],
   "source": [
    "classifier = Tree.DecisionTreeClassifier(\n",
    "    criterion=\"entropy\",\n",
    "    max_features=1,\n",
    "    class_weight=\"balanced\",\n",
    "    min_weight_fraction_leaf=0)\n",
    "\n",
    "classifier = Ensemble.BaggingClassifier(\n",
    "    base_estimator=classifier,\n",
    "    n_estimators=1000,\n",
    "    max_features=1.0,\n",
    "    max_samples=1.0,\n",
    "    oob_score=false)\n",
    "\n",
    "nSplits = 10;\n",
    "\n",
    "result = featureImportanceMDA(\n",
    "    classifier, \n",
    "    X, y,\n",
    "    nSplits\n",
    ");"
   ]
  },
  {
   "cell_type": "code",
   "execution_count": 4,
   "metadata": {},
   "outputs": [
    {
     "ename": "UndefVarError",
     "evalue": "UndefVarError: result not defined",
     "output_type": "error",
     "traceback": [
      "UndefVarError: result not defined\n",
      "\n",
      "Stacktrace:\n",
      " [1] top-level scope\n",
      "   @ c:\\Users\\HP\\OneDrive\\RiskLab Code\\2020-06FeatureImportanceAnalysis\\JL\\MeanDecreaseAccuracy-jl.ipynb:1"
     ]
    }
   ],
   "source": [
    "sort!(result, [:Mean], rev=true)"
   ]
  },
  {
   "cell_type": "markdown",
   "metadata": {},
   "source": [
    "# Plot Results"
   ]
  },
  {
   "cell_type": "code",
   "execution_count": 5,
   "metadata": {},
   "outputs": [
    {
     "ename": "UndefVarError",
     "evalue": "UndefVarError: templates not defined",
     "output_type": "error",
     "traceback": [
      "UndefVarError: templates not defined\n",
      "\n",
      "Stacktrace:\n",
      " [1] top-level scope\n",
      "   @ c:\\Users\\HP\\OneDrive\\RiskLab Code\\2020-06FeatureImportanceAnalysis\\JL\\MeanDecreaseAccuracy-jl.ipynb:1"
     ]
    }
   ],
   "source": [
    "templates.default = \"plotly_dark\";\n",
    "PlotlyJS.templates\n",
    "\n",
    "toSavePlot = plot(\n",
    "    bar(\n",
    "        result,\n",
    "        x=:Mean,\n",
    "        y=:FeatureName,\n",
    "        error_x=attr(type=\"data\", array=:StandardDeviation, visible=true),\n",
    "        orientation=\"h\",\n",
    "        ),\n",
    "    PlotlyJS.Layout(\n",
    "        title=\"MDA Results\",\n",
    "        xaxis_title=\"Feature Name\",\n",
    "        yaxis_title=\"Feature Importance\",\n",
    "        width=800, height=1200,\n",
    "    )\n",
    ")"
   ]
  },
  {
   "cell_type": "markdown",
   "metadata": {},
   "source": [
    "# Save Results"
   ]
  },
  {
   "cell_type": "code",
   "execution_count": 6,
   "metadata": {},
   "outputs": [
    {
     "ename": "UndefVarError",
     "evalue": "UndefVarError: PlotlyJS not defined",
     "output_type": "error",
     "traceback": [
      "UndefVarError: PlotlyJS not defined\n",
      "\n",
      "Stacktrace:\n",
      " [1] top-level scope\n",
      "   @ c:\\Users\\HP\\OneDrive\\RiskLab Code\\2020-06FeatureImportanceAnalysis\\JL\\MeanDecreaseAccuracy-jl.ipynb:1"
     ]
    }
   ],
   "source": [
    "PlotlyJS.savefig(toSavePlot, \"Figs/MDA_results.png\")"
   ]
  },
  {
   "cell_type": "code",
   "execution_count": 7,
   "metadata": {},
   "outputs": [],
   "source": []
  }
 ],
 "metadata": {
  "kernelspec": {
   "display_name": "Julia 1.8.1",
   "language": "julia",
   "name": "julia-1.8"
  },
  "language_info": {
   "file_extension": ".jl",
   "mimetype": "application/julia",
   "name": "julia",
   "version": "1.8.1"
  },
  "orig_nbformat": 4,
  "vscode": {
   "interpreter": {
    "hash": "b8fb9d1f403244eb1d8985de9eba125cdc054776ee3ac17bd9ecc183ad605f87"
   }
  }
 },
 "nbformat": 4,
 "nbformat_minor": 2
}
