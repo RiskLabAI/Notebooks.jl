{
 "cells": [
  {
   "cell_type": "code",
   "execution_count": 1,
   "metadata": {},
   "outputs": [],
   "source": [
    "using CSV, DataFrames\n",
    "include(\"controller/data_structure_controller.jl\");"
   ]
  },
  {
   "cell_type": "code",
   "execution_count": 10,
   "metadata": {},
   "outputs": [],
   "source": [
    "data = CSV.File(\"../ahrom_edited.csv\") |> DataFrame;\n",
    "data.date = DateTime.(data.date, \"yyyy/mm/dd H:M:S.s\");"
   ]
  },
  {
   "cell_type": "markdown",
   "metadata": {},
   "source": [
    "# Expected Run Bars"
   ]
  },
  {
   "cell_type": "code",
   "execution_count": 12,
   "metadata": {
    "pycharm": {
     "name": "#%%\n"
    }
   },
   "outputs": [
    {
     "name": "stdout",
     "output_type": "stream",
     "text": [
      "batch 1 with size 729726"
     ]
    },
    {
     "name": "stdout",
     "output_type": "stream",
     "text": [
      "\n",
      " 11.470317 seconds (2.25 M allocations: 2.204 GiB, 4.08% gc time)\n"
     ]
    },
    {
     "data": {
      "text/html": [
       "<div><div style = \"float: left;\"><span>23×12 DataFrame</span></div><div style = \"clear: both;\"></div></div><div class = \"data-frame\" style = \"overflow-x: scroll;\"><table class = \"data-frame\" style = \"margin-bottom: 6px;\"><thead><tr class = \"header\"><th class = \"rowNumber\" style = \"font-weight: bold; text-align: right;\">Row</th><th style = \"text-align: left;\">Date Time</th><th style = \"text-align: left;\">Tick Number</th><th style = \"text-align: left;\">Open</th><th style = \"text-align: left;\">High</th><th style = \"text-align: left;\">Low</th><th style = \"text-align: left;\">Close</th><th style = \"text-align: left;\">Cumulative Volume</th><th style = \"text-align: left;\">Cumulative Buy Volume</th><th style = \"text-align: left;\">Cumulative Sell Volume</th><th style = \"text-align: left;\">Cumulative Ticks</th><th style = \"text-align: left;\">Cumulative Dollar Value</th><th style = \"text-align: left;\">Threshold</th></tr><tr class = \"subheader headerLastRow\"><th class = \"rowNumber\" style = \"font-weight: bold; text-align: right;\"></th><th title = \"DateTime\" style = \"text-align: left;\">DateTime</th><th title = \"Int64\" style = \"text-align: left;\">Int64</th><th title = \"Float64\" style = \"text-align: left;\">Float64</th><th title = \"Float64\" style = \"text-align: left;\">Float64</th><th title = \"Float64\" style = \"text-align: left;\">Float64</th><th title = \"Float64\" style = \"text-align: left;\">Float64</th><th title = \"Float64\" style = \"text-align: left;\">Float64</th><th title = \"Float64\" style = \"text-align: left;\">Float64</th><th title = \"Float64\" style = \"text-align: left;\">Float64</th><th title = \"Float64\" style = \"text-align: left;\">Float64</th><th title = \"Float64\" style = \"text-align: left;\">Float64</th><th title = \"Float64\" style = \"text-align: left;\">Float64</th></tr></thead><tbody><tr><td class = \"rowNumber\" style = \"font-weight: bold; text-align: right;\">1</td><td style = \"text-align: left;\">2022-09-10T11:59:27</td><td style = \"text-align: right;\">48456</td><td style = \"text-align: right;\">13170.0</td><td style = \"text-align: right;\">NaN</td><td style = \"text-align: right;\">NaN</td><td style = \"text-align: right;\">10240.0</td><td style = \"text-align: right;\">6.37624e8</td><td style = \"text-align: right;\">2.39201e8</td><td style = \"text-align: right;\">3.98423e8</td><td style = \"text-align: right;\">48456.0</td><td style = \"text-align: right;\">7.36956e12</td><td style = \"text-align: right;\">1.62027e12</td></tr><tr><td class = \"rowNumber\" style = \"font-weight: bold; text-align: right;\">2</td><td style = \"text-align: left;\">2022-11-12T09:07:14</td><td style = \"text-align: right;\">96268</td><td style = \"text-align: right;\">10240.0</td><td style = \"text-align: right;\">11050.0</td><td style = \"text-align: right;\">7710.0</td><td style = \"text-align: right;\">10860.0</td><td style = \"text-align: right;\">7.28163e8</td><td style = \"text-align: right;\">3.18814e8</td><td style = \"text-align: right;\">4.09349e8</td><td style = \"text-align: right;\">47812.0</td><td style = \"text-align: right;\">7.02753e12</td><td style = \"text-align: right;\">3.92558e12</td></tr><tr><td class = \"rowNumber\" style = \"font-weight: bold; text-align: right;\">3</td><td style = \"text-align: left;\">2022-12-13T09:04:00</td><td style = \"text-align: right;\">150161</td><td style = \"text-align: right;\">10870.0</td><td style = \"text-align: right;\">11100.0</td><td style = \"text-align: right;\">9480.0</td><td style = \"text-align: right;\">10820.0</td><td style = \"text-align: right;\">7.81801e8</td><td style = \"text-align: right;\">3.12851e8</td><td style = \"text-align: right;\">4.6895e8</td><td style = \"text-align: right;\">53893.0</td><td style = \"text-align: right;\">8.12843e12</td><td style = \"text-align: right;\">4.86917e12</td></tr><tr><td class = \"rowNumber\" style = \"font-weight: bold; text-align: right;\">4</td><td style = \"text-align: left;\">2022-12-19T12:13:47</td><td style = \"text-align: right;\">182750</td><td style = \"text-align: right;\">10850.0</td><td style = \"text-align: right;\">11990.0</td><td style = \"text-align: right;\">10770.0</td><td style = \"text-align: right;\">11440.0</td><td style = \"text-align: right;\">6.55629e8</td><td style = \"text-align: right;\">2.82266e8</td><td style = \"text-align: right;\">3.73362e8</td><td style = \"text-align: right;\">32589.0</td><td style = \"text-align: right;\">7.53843e12</td><td style = \"text-align: right;\">4.28841e12</td></tr><tr><td class = \"rowNumber\" style = \"font-weight: bold; text-align: right;\">5</td><td style = \"text-align: left;\">2022-12-31T12:25:46</td><td style = \"text-align: right;\">227769</td><td style = \"text-align: right;\">11450.0</td><td style = \"text-align: right;\">14220.0</td><td style = \"text-align: right;\">11340.0</td><td style = \"text-align: right;\">12690.0</td><td style = \"text-align: right;\">7.73171e8</td><td style = \"text-align: right;\">3.66166e8</td><td style = \"text-align: right;\">4.07005e8</td><td style = \"text-align: right;\">45019.0</td><td style = \"text-align: right;\">9.8917e12</td><td style = \"text-align: right;\">5.15737e12</td></tr><tr><td class = \"rowNumber\" style = \"font-weight: bold; text-align: right;\">6</td><td style = \"text-align: left;\">2023-01-07T09:06:30</td><td style = \"text-align: right;\">272797</td><td style = \"text-align: right;\">12690.0</td><td style = \"text-align: right;\">13370.0</td><td style = \"text-align: right;\">12170.0</td><td style = \"text-align: right;\">12850.0</td><td style = \"text-align: right;\">7.2042e8</td><td style = \"text-align: right;\">3.49949e8</td><td style = \"text-align: right;\">3.70471e8</td><td style = \"text-align: right;\">45028.0</td><td style = \"text-align: right;\">9.28248e12</td><td style = \"text-align: right;\">4.76111e12</td></tr><tr><td class = \"rowNumber\" style = \"font-weight: bold; text-align: right;\">7</td><td style = \"text-align: left;\">2023-01-11T11:38:30</td><td style = \"text-align: right;\">312068</td><td style = \"text-align: right;\">12850.0</td><td style = \"text-align: right;\">15010.0</td><td style = \"text-align: right;\">12750.0</td><td style = \"text-align: right;\">14010.0</td><td style = \"text-align: right;\">6.06792e8</td><td style = \"text-align: right;\">2.93454e8</td><td style = \"text-align: right;\">3.13338e8</td><td style = \"text-align: right;\">39271.0</td><td style = \"text-align: right;\">8.42922e12</td><td style = \"text-align: right;\">4.36054e12</td></tr><tr><td class = \"rowNumber\" style = \"font-weight: bold; text-align: right;\">8</td><td style = \"text-align: left;\">2023-01-22T09:56:14</td><td style = \"text-align: right;\">354559</td><td style = \"text-align: right;\">14010.0</td><td style = \"text-align: right;\">15080.0</td><td style = \"text-align: right;\">13410.0</td><td style = \"text-align: right;\">14200.0</td><td style = \"text-align: right;\">6.26325e8</td><td style = \"text-align: right;\">2.97536e8</td><td style = \"text-align: right;\">3.28789e8</td><td style = \"text-align: right;\">42491.0</td><td style = \"text-align: right;\">9.05103e12</td><td style = \"text-align: right;\">4.74522e12</td></tr><tr><td class = \"rowNumber\" style = \"font-weight: bold; text-align: right;\">9</td><td style = \"text-align: left;\">2023-01-29T09:09:49</td><td style = \"text-align: right;\">388930</td><td style = \"text-align: right;\">14200.0</td><td style = \"text-align: right;\">15030.0</td><td style = \"text-align: right;\">12610.0</td><td style = \"text-align: right;\">12610.0</td><td style = \"text-align: right;\">5.01899e8</td><td style = \"text-align: right;\">2.19907e8</td><td style = \"text-align: right;\">2.81992e8</td><td style = \"text-align: right;\">34371.0</td><td style = \"text-align: right;\">7.00013e12</td><td style = \"text-align: right;\">3.9179e12</td></tr><tr><td class = \"rowNumber\" style = \"font-weight: bold; text-align: right;\">10</td><td style = \"text-align: left;\">2023-02-07T11:42:52</td><td style = \"text-align: right;\">426087</td><td style = \"text-align: right;\">12610.0</td><td style = \"text-align: right;\">12990.0</td><td style = \"text-align: right;\">11610.0</td><td style = \"text-align: right;\">12340.0</td><td style = \"text-align: right;\">5.70954e8</td><td style = \"text-align: right;\">2.41055e8</td><td style = \"text-align: right;\">3.29899e8</td><td style = \"text-align: right;\">37157.0</td><td style = \"text-align: right;\">7.06206e12</td><td style = \"text-align: right;\">4.07564e12</td></tr><tr><td class = \"rowNumber\" style = \"font-weight: bold; text-align: right;\">11</td><td style = \"text-align: left;\">2023-02-21T11:10:00</td><td style = \"text-align: right;\">454983</td><td style = \"text-align: right;\">12340.0</td><td style = \"text-align: right;\">15430.0</td><td style = \"text-align: right;\">12040.0</td><td style = \"text-align: right;\">15430.0</td><td style = \"text-align: right;\">5.43306e8</td><td style = \"text-align: right;\">3.20138e8</td><td style = \"text-align: right;\">2.23168e8</td><td style = \"text-align: right;\">28896.0</td><td style = \"text-align: right;\">7.2428e12</td><td style = \"text-align: right;\">4.38325e12</td></tr><tr><td class = \"rowNumber\" style = \"font-weight: bold; text-align: right;\">12</td><td style = \"text-align: left;\">2023-02-26T09:46:52</td><td style = \"text-align: right;\">476818</td><td style = \"text-align: right;\">15430.0</td><td style = \"text-align: right;\">18670.0</td><td style = \"text-align: right;\">14860.0</td><td style = \"text-align: right;\">18660.0</td><td style = \"text-align: right;\">4.30903e8</td><td style = \"text-align: right;\">2.80346e8</td><td style = \"text-align: right;\">1.50557e8</td><td style = \"text-align: right;\">21835.0</td><td style = \"text-align: right;\">7.02806e12</td><td style = \"text-align: right;\">4.67391e12</td></tr><tr><td class = \"rowNumber\" style = \"font-weight: bold; text-align: right;\">13</td><td style = \"text-align: left;\">2023-02-27T11:38:09</td><td style = \"text-align: right;\">502364</td><td style = \"text-align: right;\">18660.0</td><td style = \"text-align: right;\">19780.0</td><td style = \"text-align: right;\">17500.0</td><td style = \"text-align: right;\">18500.0</td><td style = \"text-align: right;\">3.91278e8</td><td style = \"text-align: right;\">1.89268e8</td><td style = \"text-align: right;\">2.0201e8</td><td style = \"text-align: right;\">25546.0</td><td style = \"text-align: right;\">7.24681e12</td><td style = \"text-align: right;\">3.73164e12</td></tr><tr><td class = \"rowNumber\" style = \"font-weight: bold; text-align: right;\">14</td><td style = \"text-align: left;\">2023-03-01T11:34:05</td><td style = \"text-align: right;\">528155</td><td style = \"text-align: right;\">18500.0</td><td style = \"text-align: right;\">19560.0</td><td style = \"text-align: right;\">17880.0</td><td style = \"text-align: right;\">17900.0</td><td style = \"text-align: right;\">3.7802e8</td><td style = \"text-align: right;\">1.71698e8</td><td style = \"text-align: right;\">2.06322e8</td><td style = \"text-align: right;\">25791.0</td><td style = \"text-align: right;\">7.10316e12</td><td style = \"text-align: right;\">3.86518e12</td></tr><tr><td class = \"rowNumber\" style = \"font-weight: bold; text-align: right;\">15</td><td style = \"text-align: left;\">2023-03-06T09:03:24</td><td style = \"text-align: right;\">550509</td><td style = \"text-align: right;\">17900.0</td><td style = \"text-align: right;\">18270.0</td><td style = \"text-align: right;\">17020.0</td><td style = \"text-align: right;\">17370.0</td><td style = \"text-align: right;\">2.90903e8</td><td style = \"text-align: right;\">1.15535e8</td><td style = \"text-align: right;\">1.75368e8</td><td style = \"text-align: right;\">22354.0</td><td style = \"text-align: right;\">5.113e12</td><td style = \"text-align: right;\">3.07657e12</td></tr><tr><td class = \"rowNumber\" style = \"font-weight: bold; text-align: right;\">16</td><td style = \"text-align: left;\">2023-03-07T12:29:54</td><td style = \"text-align: right;\">571407</td><td style = \"text-align: right;\">17370.0</td><td style = \"text-align: right;\">18950.0</td><td style = \"text-align: right;\">16830.0</td><td style = \"text-align: right;\">18940.0</td><td style = \"text-align: right;\">3.22226e8</td><td style = \"text-align: right;\">1.68121e8</td><td style = \"text-align: right;\">1.54105e8</td><td style = \"text-align: right;\">20898.0</td><td style = \"text-align: right;\">5.78117e12</td><td style = \"text-align: right;\">3.03148e12</td></tr><tr><td class = \"rowNumber\" style = \"font-weight: bold; text-align: right;\">17</td><td style = \"text-align: left;\">2023-03-13T09:24:59</td><td style = \"text-align: right;\">593832</td><td style = \"text-align: right;\">18940.0</td><td style = \"text-align: right;\">19570.0</td><td style = \"text-align: right;\">17610.0</td><td style = \"text-align: right;\">18780.0</td><td style = \"text-align: right;\">3.53492e8</td><td style = \"text-align: right;\">1.58794e8</td><td style = \"text-align: right;\">1.94698e8</td><td style = \"text-align: right;\">22425.0</td><td style = \"text-align: right;\">6.5029e12</td><td style = \"text-align: right;\">3.5787e12</td></tr><tr><td class = \"rowNumber\" style = \"font-weight: bold; text-align: right;\">18</td><td style = \"text-align: left;\">2023-03-15T10:44:31</td><td style = \"text-align: right;\">617730</td><td style = \"text-align: right;\">18780.0</td><td style = \"text-align: right;\">20300.0</td><td style = \"text-align: right;\">18180.0</td><td style = \"text-align: right;\">20030.0</td><td style = \"text-align: right;\">3.60964e8</td><td style = \"text-align: right;\">1.75185e8</td><td style = \"text-align: right;\">1.85779e8</td><td style = \"text-align: right;\">23898.0</td><td style = \"text-align: right;\">6.90586e12</td><td style = \"text-align: right;\">3.53378e12</td></tr><tr><td class = \"rowNumber\" style = \"font-weight: bold; text-align: right;\">19</td><td style = \"text-align: left;\">2023-03-18T12:28:54</td><td style = \"text-align: right;\">637326</td><td style = \"text-align: right;\">20050.0</td><td style = \"text-align: right;\">22140.0</td><td style = \"text-align: right;\">19940.0</td><td style = \"text-align: right;\">22140.0</td><td style = \"text-align: right;\">3.01666e8</td><td style = \"text-align: right;\">1.71931e8</td><td style = \"text-align: right;\">1.29734e8</td><td style = \"text-align: right;\">19596.0</td><td style = \"text-align: right;\">6.4761e12</td><td style = \"text-align: right;\">3.67954e12</td></tr><tr><td class = \"rowNumber\" style = \"font-weight: bold; text-align: right;\">20</td><td style = \"text-align: left;\">2023-03-25T09:03:22</td><td style = \"text-align: right;\">659772</td><td style = \"text-align: right;\">22140.0</td><td style = \"text-align: right;\">22630.0</td><td style = \"text-align: right;\">20900.0</td><td style = \"text-align: right;\">22000.0</td><td style = \"text-align: right;\">2.73189e8</td><td style = \"text-align: right;\">1.23326e8</td><td style = \"text-align: right;\">1.49863e8</td><td style = \"text-align: right;\">22446.0</td><td style = \"text-align: right;\">5.96276e12</td><td style = \"text-align: right;\">3.26332e12</td></tr><tr><td class = \"rowNumber\" style = \"font-weight: bold; text-align: right;\">21</td><td style = \"text-align: left;\">2023-03-26T10:11:21</td><td style = \"text-align: right;\">683038</td><td style = \"text-align: right;\">22000.0</td><td style = \"text-align: right;\">22450.0</td><td style = \"text-align: right;\">20750.0</td><td style = \"text-align: right;\">21900.0</td><td style = \"text-align: right;\">2.68417e8</td><td style = \"text-align: right;\">1.24269e8</td><td style = \"text-align: right;\">1.44147e8</td><td style = \"text-align: right;\">23266.0</td><td style = \"text-align: right;\">5.81013e12</td><td style = \"text-align: right;\">3.11382e12</td></tr><tr><td class = \"rowNumber\" style = \"font-weight: bold; text-align: right;\">22</td><td style = \"text-align: left;\">2023-03-28T09:04:18</td><td style = \"text-align: right;\">705678</td><td style = \"text-align: right;\">21900.0</td><td style = \"text-align: right;\">21940.0</td><td style = \"text-align: right;\">20550.0</td><td style = \"text-align: right;\">21630.0</td><td style = \"text-align: right;\">2.42737e8</td><td style = \"text-align: right;\">1.03537e8</td><td style = \"text-align: right;\">1.392e8</td><td style = \"text-align: right;\">22640.0</td><td style = \"text-align: right;\">5.14508e12</td><td style = \"text-align: right;\">2.9462e12</td></tr><tr><td class = \"rowNumber\" style = \"font-weight: bold; text-align: right;\">23</td><td style = \"text-align: left;\">2023-03-29T10:53:57</td><td style = \"text-align: right;\">724661</td><td style = \"text-align: right;\">21630.0</td><td style = \"text-align: right;\">22600.0</td><td style = \"text-align: right;\">21350.0</td><td style = \"text-align: right;\">22310.0</td><td style = \"text-align: right;\">2.60384e8</td><td style = \"text-align: right;\">1.28588e8</td><td style = \"text-align: right;\">1.31796e8</td><td style = \"text-align: right;\">18983.0</td><td style = \"text-align: right;\">5.73225e12</td><td style = \"text-align: right;\">2.89596e12</td></tr></tbody></table></div>"
      ],
      "text/latex": [
       "\\begin{tabular}{r|cccccccc}\n",
       "\t& Date Time & Tick Number & Open & High & Low & Close & Cumulative Volume & \\\\\n",
       "\t\\hline\n",
       "\t& DateTime & Int64 & Float64 & Float64 & Float64 & Float64 & Float64 & \\\\\n",
       "\t\\hline\n",
       "\t1 & 2022-09-10T11:59:27 & 48456 & 13170.0 & NaN & NaN & 10240.0 & 6.37624e8 & $\\dots$ \\\\\n",
       "\t2 & 2022-11-12T09:07:14 & 96268 & 10240.0 & 11050.0 & 7710.0 & 10860.0 & 7.28163e8 & $\\dots$ \\\\\n",
       "\t3 & 2022-12-13T09:04:00 & 150161 & 10870.0 & 11100.0 & 9480.0 & 10820.0 & 7.81801e8 & $\\dots$ \\\\\n",
       "\t4 & 2022-12-19T12:13:47 & 182750 & 10850.0 & 11990.0 & 10770.0 & 11440.0 & 6.55629e8 & $\\dots$ \\\\\n",
       "\t5 & 2022-12-31T12:25:46 & 227769 & 11450.0 & 14220.0 & 11340.0 & 12690.0 & 7.73171e8 & $\\dots$ \\\\\n",
       "\t6 & 2023-01-07T09:06:30 & 272797 & 12690.0 & 13370.0 & 12170.0 & 12850.0 & 7.2042e8 & $\\dots$ \\\\\n",
       "\t7 & 2023-01-11T11:38:30 & 312068 & 12850.0 & 15010.0 & 12750.0 & 14010.0 & 6.06792e8 & $\\dots$ \\\\\n",
       "\t8 & 2023-01-22T09:56:14 & 354559 & 14010.0 & 15080.0 & 13410.0 & 14200.0 & 6.26325e8 & $\\dots$ \\\\\n",
       "\t9 & 2023-01-29T09:09:49 & 388930 & 14200.0 & 15030.0 & 12610.0 & 12610.0 & 5.01899e8 & $\\dots$ \\\\\n",
       "\t10 & 2023-02-07T11:42:52 & 426087 & 12610.0 & 12990.0 & 11610.0 & 12340.0 & 5.70954e8 & $\\dots$ \\\\\n",
       "\t11 & 2023-02-21T11:10:00 & 454983 & 12340.0 & 15430.0 & 12040.0 & 15430.0 & 5.43306e8 & $\\dots$ \\\\\n",
       "\t12 & 2023-02-26T09:46:52 & 476818 & 15430.0 & 18670.0 & 14860.0 & 18660.0 & 4.30903e8 & $\\dots$ \\\\\n",
       "\t13 & 2023-02-27T11:38:09 & 502364 & 18660.0 & 19780.0 & 17500.0 & 18500.0 & 3.91278e8 & $\\dots$ \\\\\n",
       "\t14 & 2023-03-01T11:34:05 & 528155 & 18500.0 & 19560.0 & 17880.0 & 17900.0 & 3.7802e8 & $\\dots$ \\\\\n",
       "\t15 & 2023-03-06T09:03:24 & 550509 & 17900.0 & 18270.0 & 17020.0 & 17370.0 & 2.90903e8 & $\\dots$ \\\\\n",
       "\t16 & 2023-03-07T12:29:54 & 571407 & 17370.0 & 18950.0 & 16830.0 & 18940.0 & 3.22226e8 & $\\dots$ \\\\\n",
       "\t17 & 2023-03-13T09:24:59 & 593832 & 18940.0 & 19570.0 & 17610.0 & 18780.0 & 3.53492e8 & $\\dots$ \\\\\n",
       "\t18 & 2023-03-15T10:44:31 & 617730 & 18780.0 & 20300.0 & 18180.0 & 20030.0 & 3.60964e8 & $\\dots$ \\\\\n",
       "\t19 & 2023-03-18T12:28:54 & 637326 & 20050.0 & 22140.0 & 19940.0 & 22140.0 & 3.01666e8 & $\\dots$ \\\\\n",
       "\t20 & 2023-03-25T09:03:22 & 659772 & 22140.0 & 22630.0 & 20900.0 & 22000.0 & 2.73189e8 & $\\dots$ \\\\\n",
       "\t21 & 2023-03-26T10:11:21 & 683038 & 22000.0 & 22450.0 & 20750.0 & 21900.0 & 2.68417e8 & $\\dots$ \\\\\n",
       "\t22 & 2023-03-28T09:04:18 & 705678 & 21900.0 & 21940.0 & 20550.0 & 21630.0 & 2.42737e8 & $\\dots$ \\\\\n",
       "\t23 & 2023-03-29T10:53:57 & 724661 & 21630.0 & 22600.0 & 21350.0 & 22310.0 & 2.60384e8 & $\\dots$ \\\\\n",
       "\\end{tabular}\n"
      ],
      "text/plain": [
       "\u001b[1m23×12 DataFrame\u001b[0m\n",
       "\u001b[1m Row \u001b[0m│\u001b[1m Date Time           \u001b[0m\u001b[1m Tick Number \u001b[0m\u001b[1m Open    \u001b[0m\u001b[1m High    \u001b[0m\u001b[1m Low     \u001b[0m\u001b[1m Close   \u001b[0m\u001b[1m C\u001b[0m ⋯\n",
       "     │\u001b[90m DateTime            \u001b[0m\u001b[90m Int64       \u001b[0m\u001b[90m Float64 \u001b[0m\u001b[90m Float64 \u001b[0m\u001b[90m Float64 \u001b[0m\u001b[90m Float64 \u001b[0m\u001b[90m F\u001b[0m ⋯\n",
       "─────┼──────────────────────────────────────────────────────────────────────────\n",
       "   1 │ 2022-09-10T11:59:27        48456  13170.0    NaN      NaN    10240.0    ⋯\n",
       "   2 │ 2022-11-12T09:07:14        96268  10240.0  11050.0   7710.0  10860.0\n",
       "   3 │ 2022-12-13T09:04:00       150161  10870.0  11100.0   9480.0  10820.0\n",
       "   4 │ 2022-12-19T12:13:47       182750  10850.0  11990.0  10770.0  11440.0\n",
       "   5 │ 2022-12-31T12:25:46       227769  11450.0  14220.0  11340.0  12690.0    ⋯\n",
       "   6 │ 2023-01-07T09:06:30       272797  12690.0  13370.0  12170.0  12850.0\n",
       "   7 │ 2023-01-11T11:38:30       312068  12850.0  15010.0  12750.0  14010.0\n",
       "   8 │ 2023-01-22T09:56:14       354559  14010.0  15080.0  13410.0  14200.0\n",
       "  ⋮  │          ⋮                ⋮          ⋮        ⋮        ⋮        ⋮       ⋱\n",
       "  17 │ 2023-03-13T09:24:59       593832  18940.0  19570.0  17610.0  18780.0    ⋯\n",
       "  18 │ 2023-03-15T10:44:31       617730  18780.0  20300.0  18180.0  20030.0\n",
       "  19 │ 2023-03-18T12:28:54       637326  20050.0  22140.0  19940.0  22140.0\n",
       "  20 │ 2023-03-25T09:03:22       659772  22140.0  22630.0  20900.0  22000.0\n",
       "  21 │ 2023-03-26T10:11:21       683038  22000.0  22450.0  20750.0  21900.0    ⋯\n",
       "  22 │ 2023-03-28T09:04:18       705678  21900.0  21940.0  20550.0  21630.0\n",
       "  23 │ 2023-03-29T10:53:57       724661  21630.0  22600.0  21350.0  22310.0\n",
       "\u001b[36m                                                    6 columns and 8 rows omitted\u001b[0m"
      ]
     },
     "metadata": {},
     "output_type": "display_data"
    }
   ],
   "source": [
    "@time emaDollarRunBars = handleInput(\n",
    "    \"ExpectedDollarRunBars\",\n",
    "    Dict(\n",
    "        Symbol(\"windowSizeForExpectedNTicksEstimation\") => 5,\n",
    "        Symbol(\"expectedImbalanceWindow\") => 10000,\n",
    "        Symbol(\"initialEstimateOfExpectedNTicksInBar\") => 20000.0,\n",
    "    ),\n",
    "    data,\n",
    "    batchSize=1_000_000,  \n",
    ")\n",
    "\n",
    "emaDollarRunBars"
   ]
  },
  {
   "cell_type": "code",
   "execution_count": 13,
   "metadata": {
    "pycharm": {
     "name": "#%%\n"
    }
   },
   "outputs": [
    {
     "name": "stdout",
     "output_type": "stream",
     "text": [
      "batch 1 with size 729726\n"
     ]
    },
    {
     "name": "stdout",
     "output_type": "stream",
     "text": [
      " 10.698154 seconds (2.67 M allocations: 2.223 GiB, 3.82% gc time, 2.57% compilation time)\n"
     ]
    },
    {
     "data": {
      "text/html": [
       "<div><div style = \"float: left;\"><span>16×12 DataFrame</span></div><div style = \"clear: both;\"></div></div><div class = \"data-frame\" style = \"overflow-x: scroll;\"><table class = \"data-frame\" style = \"margin-bottom: 6px;\"><thead><tr class = \"header\"><th class = \"rowNumber\" style = \"font-weight: bold; text-align: right;\">Row</th><th style = \"text-align: left;\">Date Time</th><th style = \"text-align: left;\">Tick Number</th><th style = \"text-align: left;\">Open</th><th style = \"text-align: left;\">High</th><th style = \"text-align: left;\">Low</th><th style = \"text-align: left;\">Close</th><th style = \"text-align: left;\">Cumulative Volume</th><th style = \"text-align: left;\">Cumulative Buy Volume</th><th style = \"text-align: left;\">Cumulative Sell Volume</th><th style = \"text-align: left;\">Cumulative Ticks</th><th style = \"text-align: left;\">Cumulative Dollar Value</th><th style = \"text-align: left;\">Threshold</th></tr><tr class = \"subheader headerLastRow\"><th class = \"rowNumber\" style = \"font-weight: bold; text-align: right;\"></th><th title = \"DateTime\" style = \"text-align: left;\">DateTime</th><th title = \"Int64\" style = \"text-align: left;\">Int64</th><th title = \"Float64\" style = \"text-align: left;\">Float64</th><th title = \"Float64\" style = \"text-align: left;\">Float64</th><th title = \"Float64\" style = \"text-align: left;\">Float64</th><th title = \"Float64\" style = \"text-align: left;\">Float64</th><th title = \"Float64\" style = \"text-align: left;\">Float64</th><th title = \"Float64\" style = \"text-align: left;\">Float64</th><th title = \"Float64\" style = \"text-align: left;\">Float64</th><th title = \"Float64\" style = \"text-align: left;\">Float64</th><th title = \"Float64\" style = \"text-align: left;\">Float64</th><th title = \"Float64\" style = \"text-align: left;\">Float64</th></tr></thead><tbody><tr><td class = \"rowNumber\" style = \"font-weight: bold; text-align: right;\">1</td><td style = \"text-align: left;\">2022-09-10T11:59:27</td><td style = \"text-align: right;\">48456</td><td style = \"text-align: right;\">13170.0</td><td style = \"text-align: right;\">NaN</td><td style = \"text-align: right;\">NaN</td><td style = \"text-align: right;\">10240.0</td><td style = \"text-align: right;\">6.37624e8</td><td style = \"text-align: right;\">2.39201e8</td><td style = \"text-align: right;\">3.98423e8</td><td style = \"text-align: right;\">48456.0</td><td style = \"text-align: right;\">7.36956e12</td><td style = \"text-align: right;\">1.50719e8</td></tr><tr><td class = \"rowNumber\" style = \"font-weight: bold; text-align: right;\">2</td><td style = \"text-align: left;\">2022-11-08T11:53:25</td><td style = \"text-align: right;\">90578</td><td style = \"text-align: right;\">10240.0</td><td style = \"text-align: right;\">10960.0</td><td style = \"text-align: right;\">7710.0</td><td style = \"text-align: right;\">10140.0</td><td style = \"text-align: right;\">6.40476e8</td><td style = \"text-align: right;\">2.75302e8</td><td style = \"text-align: right;\">3.65174e8</td><td style = \"text-align: right;\">42122.0</td><td style = \"text-align: right;\">6.09677e12</td><td style = \"text-align: right;\">3.65163e8</td></tr><tr><td class = \"rowNumber\" style = \"font-weight: bold; text-align: right;\">3</td><td style = \"text-align: left;\">2022-12-11T10:36:18</td><td style = \"text-align: right;\">145243</td><td style = \"text-align: right;\">10140.0</td><td style = \"text-align: right;\">11100.0</td><td style = \"text-align: right;\">9480.0</td><td style = \"text-align: right;\">9860.0</td><td style = \"text-align: right;\">7.87825e8</td><td style = \"text-align: right;\">3.11614e8</td><td style = \"text-align: right;\">4.76211e8</td><td style = \"text-align: right;\">54665.0</td><td style = \"text-align: right;\">8.22453e12</td><td style = \"text-align: right;\">4.76192e8</td></tr><tr><td class = \"rowNumber\" style = \"font-weight: bold; text-align: right;\">4</td><td style = \"text-align: left;\">2022-12-19T12:29:00</td><td style = \"text-align: right;\">183392</td><td style = \"text-align: right;\">9870.0</td><td style = \"text-align: right;\">11990.0</td><td style = \"text-align: right;\">9850.0</td><td style = \"text-align: right;\">11470.0</td><td style = \"text-align: right;\">7.50883e8</td><td style = \"text-align: right;\">3.33818e8</td><td style = \"text-align: right;\">4.17065e8</td><td style = \"text-align: right;\">38149.0</td><td style = \"text-align: right;\">8.52938e12</td><td style = \"text-align: right;\">4.17064e8</td></tr><tr><td class = \"rowNumber\" style = \"font-weight: bold; text-align: right;\">5</td><td style = \"text-align: left;\">2023-01-01T09:32:24</td><td style = \"text-align: right;\">233186</td><td style = \"text-align: right;\">11470.0</td><td style = \"text-align: right;\">14220.0</td><td style = \"text-align: right;\">11340.0</td><td style = \"text-align: right;\">12820.0</td><td style = \"text-align: right;\">8.52218e8</td><td style = \"text-align: right;\">3.96089e8</td><td style = \"text-align: right;\">4.56128e8</td><td style = \"text-align: right;\">49794.0</td><td style = \"text-align: right;\">1.09423e13</td><td style = \"text-align: right;\">4.5611e8</td></tr><tr><td class = \"rowNumber\" style = \"font-weight: bold; text-align: right;\">6</td><td style = \"text-align: left;\">2023-01-08T09:07:32</td><td style = \"text-align: right;\">281508</td><td style = \"text-align: right;\">12830.0</td><td style = \"text-align: right;\">13950.0</td><td style = \"text-align: right;\">12170.0</td><td style = \"text-align: right;\">13870.0</td><td style = \"text-align: right;\">7.74335e8</td><td style = \"text-align: right;\">3.95091e8</td><td style = \"text-align: right;\">3.79244e8</td><td style = \"text-align: right;\">48322.0</td><td style = \"text-align: right;\">9.98831e12</td><td style = \"text-align: right;\">3.95057e8</td></tr><tr><td class = \"rowNumber\" style = \"font-weight: bold; text-align: right;\">7</td><td style = \"text-align: left;\">2023-01-17T09:35:51</td><td style = \"text-align: right;\">332359</td><td style = \"text-align: right;\">13870.0</td><td style = \"text-align: right;\">15080.0</td><td style = \"text-align: right;\">13410.0</td><td style = \"text-align: right;\">14560.0</td><td style = \"text-align: right;\">7.82274e8</td><td style = \"text-align: right;\">3.69416e8</td><td style = \"text-align: right;\">4.12858e8</td><td style = \"text-align: right;\">50851.0</td><td style = \"text-align: right;\">1.1133e13</td><td style = \"text-align: right;\">4.12826e8</td></tr><tr><td class = \"rowNumber\" style = \"font-weight: bold; text-align: right;\">8</td><td style = \"text-align: left;\">2023-01-28T11:04:33</td><td style = \"text-align: right;\">386715</td><td style = \"text-align: right;\">14560.0</td><td style = \"text-align: right;\">15030.0</td><td style = \"text-align: right;\">12860.0</td><td style = \"text-align: right;\">12970.0</td><td style = \"text-align: right;\">7.76693e8</td><td style = \"text-align: right;\">3.50376e8</td><td style = \"text-align: right;\">4.26317e8</td><td style = \"text-align: right;\">54356.0</td><td style = \"text-align: right;\">1.10537e13</td><td style = \"text-align: right;\">4.26294e8</td></tr><tr><td class = \"rowNumber\" style = \"font-weight: bold; text-align: right;\">9</td><td style = \"text-align: left;\">2023-02-12T11:40:44</td><td style = \"text-align: right;\">432678</td><td style = \"text-align: right;\">12970.0</td><td style = \"text-align: right;\">13050.0</td><td style = \"text-align: right;\">11610.0</td><td style = \"text-align: right;\">12300.0</td><td style = \"text-align: right;\">6.88245e8</td><td style = \"text-align: right;\">2.90535e8</td><td style = \"text-align: right;\">3.9771e8</td><td style = \"text-align: right;\">45963.0</td><td style = \"text-align: right;\">8.52999e12</td><td style = \"text-align: right;\">3.9769e8</td></tr><tr><td class = \"rowNumber\" style = \"font-weight: bold; text-align: right;\">10</td><td style = \"text-align: left;\">2023-02-22T12:10:30</td><td style = \"text-align: right;\">470135</td><td style = \"text-align: right;\">12300.0</td><td style = \"text-align: right;\">16270.0</td><td style = \"text-align: right;\">12110.0</td><td style = \"text-align: right;\">15950.0</td><td style = \"text-align: right;\">7.21445e8</td><td style = \"text-align: right;\">4.19498e8</td><td style = \"text-align: right;\">3.01948e8</td><td style = \"text-align: right;\">37457.0</td><td style = \"text-align: right;\">1.02401e13</td><td style = \"text-align: right;\">4.19444e8</td></tr><tr><td class = \"rowNumber\" style = \"font-weight: bold; text-align: right;\">11</td><td style = \"text-align: left;\">2023-02-28T10:54:35</td><td style = \"text-align: right;\">513070</td><td style = \"text-align: right;\">15940.0</td><td style = \"text-align: right;\">19780.0</td><td style = \"text-align: right;\">15750.0</td><td style = \"text-align: right;\">19090.0</td><td style = \"text-align: right;\">7.25641e8</td><td style = \"text-align: right;\">4.09061e8</td><td style = \"text-align: right;\">3.1658e8</td><td style = \"text-align: right;\">42935.0</td><td style = \"text-align: right;\">1.33928e13</td><td style = \"text-align: right;\">4.09012e8</td></tr><tr><td class = \"rowNumber\" style = \"font-weight: bold; text-align: right;\">12</td><td style = \"text-align: left;\">2023-03-06T10:15:13</td><td style = \"text-align: right;\">554738</td><td style = \"text-align: right;\">19090.0</td><td style = \"text-align: right;\">19560.0</td><td style = \"text-align: right;\">16830.0</td><td style = \"text-align: right;\">17330.0</td><td style = \"text-align: right;\">5.54872e8</td><td style = \"text-align: right;\">2.34726e8</td><td style = \"text-align: right;\">3.20145e8</td><td style = \"text-align: right;\">41668.0</td><td style = \"text-align: right;\">9.96286e12</td><td style = \"text-align: right;\">3.20122e8</td></tr><tr><td class = \"rowNumber\" style = \"font-weight: bold; text-align: right;\">13</td><td style = \"text-align: left;\">2023-03-12T11:43:06</td><td style = \"text-align: right;\">589895</td><td style = \"text-align: right;\">17330.0</td><td style = \"text-align: right;\">19570.0</td><td style = \"text-align: right;\">17170.0</td><td style = \"text-align: right;\">17970.0</td><td style = \"text-align: right;\">5.34541e8</td><td style = \"text-align: right;\">2.49619e8</td><td style = \"text-align: right;\">2.84922e8</td><td style = \"text-align: right;\">35157.0</td><td style = \"text-align: right;\">9.77026e12</td><td style = \"text-align: right;\">2.84874e8</td></tr><tr><td class = \"rowNumber\" style = \"font-weight: bold; text-align: right;\">14</td><td style = \"text-align: left;\">2023-03-15T11:43:30</td><td style = \"text-align: right;\">621690</td><td style = \"text-align: right;\">17980.0</td><td style = \"text-align: right;\">20790.0</td><td style = \"text-align: right;\">17870.0</td><td style = \"text-align: right;\">20790.0</td><td style = \"text-align: right;\">5.13306e8</td><td style = \"text-align: right;\">2.66032e8</td><td style = \"text-align: right;\">2.47274e8</td><td style = \"text-align: right;\">31795.0</td><td style = \"text-align: right;\">9.82441e12</td><td style = \"text-align: right;\">2.65969e8</td></tr><tr><td class = \"rowNumber\" style = \"font-weight: bold; text-align: right;\">15</td><td style = \"text-align: left;\">2023-03-25T09:25:32</td><td style = \"text-align: right;\">662993</td><td style = \"text-align: right;\">20790.0</td><td style = \"text-align: right;\">22630.0</td><td style = \"text-align: right;\">20750.0</td><td style = \"text-align: right;\">21080.0</td><td style = \"text-align: right;\">5.45558e8</td><td style = \"text-align: right;\">2.68843e8</td><td style = \"text-align: right;\">2.76715e8</td><td style = \"text-align: right;\">41303.0</td><td style = \"text-align: right;\">1.18797e13</td><td style = \"text-align: right;\">2.76703e8</td></tr><tr><td class = \"rowNumber\" style = \"font-weight: bold; text-align: right;\">16</td><td style = \"text-align: left;\">2023-03-27T11:31:22</td><td style = \"text-align: right;\">702953</td><td style = \"text-align: right;\">21080.0</td><td style = \"text-align: right;\">22450.0</td><td style = \"text-align: right;\">20550.0</td><td style = \"text-align: right;\">21270.0</td><td style = \"text-align: right;\">4.38406e8</td><td style = \"text-align: right;\">1.95391e8</td><td style = \"text-align: right;\">2.43015e8</td><td style = \"text-align: right;\">39960.0</td><td style = \"text-align: right;\">9.39857e12</td><td style = \"text-align: right;\">2.42951e8</td></tr></tbody></table></div>"
      ],
      "text/latex": [
       "\\begin{tabular}{r|cccccccc}\n",
       "\t& Date Time & Tick Number & Open & High & Low & Close & Cumulative Volume & \\\\\n",
       "\t\\hline\n",
       "\t& DateTime & Int64 & Float64 & Float64 & Float64 & Float64 & Float64 & \\\\\n",
       "\t\\hline\n",
       "\t1 & 2022-09-10T11:59:27 & 48456 & 13170.0 & NaN & NaN & 10240.0 & 6.37624e8 & $\\dots$ \\\\\n",
       "\t2 & 2022-11-08T11:53:25 & 90578 & 10240.0 & 10960.0 & 7710.0 & 10140.0 & 6.40476e8 & $\\dots$ \\\\\n",
       "\t3 & 2022-12-11T10:36:18 & 145243 & 10140.0 & 11100.0 & 9480.0 & 9860.0 & 7.87825e8 & $\\dots$ \\\\\n",
       "\t4 & 2022-12-19T12:29:00 & 183392 & 9870.0 & 11990.0 & 9850.0 & 11470.0 & 7.50883e8 & $\\dots$ \\\\\n",
       "\t5 & 2023-01-01T09:32:24 & 233186 & 11470.0 & 14220.0 & 11340.0 & 12820.0 & 8.52218e8 & $\\dots$ \\\\\n",
       "\t6 & 2023-01-08T09:07:32 & 281508 & 12830.0 & 13950.0 & 12170.0 & 13870.0 & 7.74335e8 & $\\dots$ \\\\\n",
       "\t7 & 2023-01-17T09:35:51 & 332359 & 13870.0 & 15080.0 & 13410.0 & 14560.0 & 7.82274e8 & $\\dots$ \\\\\n",
       "\t8 & 2023-01-28T11:04:33 & 386715 & 14560.0 & 15030.0 & 12860.0 & 12970.0 & 7.76693e8 & $\\dots$ \\\\\n",
       "\t9 & 2023-02-12T11:40:44 & 432678 & 12970.0 & 13050.0 & 11610.0 & 12300.0 & 6.88245e8 & $\\dots$ \\\\\n",
       "\t10 & 2023-02-22T12:10:30 & 470135 & 12300.0 & 16270.0 & 12110.0 & 15950.0 & 7.21445e8 & $\\dots$ \\\\\n",
       "\t11 & 2023-02-28T10:54:35 & 513070 & 15940.0 & 19780.0 & 15750.0 & 19090.0 & 7.25641e8 & $\\dots$ \\\\\n",
       "\t12 & 2023-03-06T10:15:13 & 554738 & 19090.0 & 19560.0 & 16830.0 & 17330.0 & 5.54872e8 & $\\dots$ \\\\\n",
       "\t13 & 2023-03-12T11:43:06 & 589895 & 17330.0 & 19570.0 & 17170.0 & 17970.0 & 5.34541e8 & $\\dots$ \\\\\n",
       "\t14 & 2023-03-15T11:43:30 & 621690 & 17980.0 & 20790.0 & 17870.0 & 20790.0 & 5.13306e8 & $\\dots$ \\\\\n",
       "\t15 & 2023-03-25T09:25:32 & 662993 & 20790.0 & 22630.0 & 20750.0 & 21080.0 & 5.45558e8 & $\\dots$ \\\\\n",
       "\t16 & 2023-03-27T11:31:22 & 702953 & 21080.0 & 22450.0 & 20550.0 & 21270.0 & 4.38406e8 & $\\dots$ \\\\\n",
       "\\end{tabular}\n"
      ],
      "text/plain": [
       "\u001b[1m16×12 DataFrame\u001b[0m\n",
       "\u001b[1m Row \u001b[0m│\u001b[1m Date Time           \u001b[0m\u001b[1m Tick Number \u001b[0m\u001b[1m Open    \u001b[0m\u001b[1m High    \u001b[0m\u001b[1m Low     \u001b[0m\u001b[1m Close   \u001b[0m\u001b[1m C\u001b[0m ⋯\n",
       "     │\u001b[90m DateTime            \u001b[0m\u001b[90m Int64       \u001b[0m\u001b[90m Float64 \u001b[0m\u001b[90m Float64 \u001b[0m\u001b[90m Float64 \u001b[0m\u001b[90m Float64 \u001b[0m\u001b[90m F\u001b[0m ⋯\n",
       "─────┼──────────────────────────────────────────────────────────────────────────\n",
       "   1 │ 2022-09-10T11:59:27        48456  13170.0    NaN      NaN    10240.0    ⋯\n",
       "   2 │ 2022-11-08T11:53:25        90578  10240.0  10960.0   7710.0  10140.0\n",
       "   3 │ 2022-12-11T10:36:18       145243  10140.0  11100.0   9480.0   9860.0\n",
       "   4 │ 2022-12-19T12:29:00       183392   9870.0  11990.0   9850.0  11470.0\n",
       "   5 │ 2023-01-01T09:32:24       233186  11470.0  14220.0  11340.0  12820.0    ⋯\n",
       "   6 │ 2023-01-08T09:07:32       281508  12830.0  13950.0  12170.0  13870.0\n",
       "   7 │ 2023-01-17T09:35:51       332359  13870.0  15080.0  13410.0  14560.0\n",
       "   8 │ 2023-01-28T11:04:33       386715  14560.0  15030.0  12860.0  12970.0\n",
       "   9 │ 2023-02-12T11:40:44       432678  12970.0  13050.0  11610.0  12300.0    ⋯\n",
       "  10 │ 2023-02-22T12:10:30       470135  12300.0  16270.0  12110.0  15950.0\n",
       "  11 │ 2023-02-28T10:54:35       513070  15940.0  19780.0  15750.0  19090.0\n",
       "  12 │ 2023-03-06T10:15:13       554738  19090.0  19560.0  16830.0  17330.0\n",
       "  13 │ 2023-03-12T11:43:06       589895  17330.0  19570.0  17170.0  17970.0    ⋯\n",
       "  14 │ 2023-03-15T11:43:30       621690  17980.0  20790.0  17870.0  20790.0\n",
       "  15 │ 2023-03-25T09:25:32       662993  20790.0  22630.0  20750.0  21080.0\n",
       "  16 │ 2023-03-27T11:31:22       702953  21080.0  22450.0  20550.0  21270.0\n",
       "\u001b[36m                                                               6 columns omitted\u001b[0m"
      ]
     },
     "metadata": {},
     "output_type": "display_data"
    }
   ],
   "source": [
    "@time emaVolumeRunBars = handleInput(\n",
    "    \"ExpectedVolumeRunBars\",\n",
    "    Dict(\n",
    "        Symbol(\"windowSizeForExpectedNTicksEstimation\") => 5,\n",
    "        Symbol(\"expectedImbalanceWindow\") => 10000,\n",
    "        Symbol(\"initialEstimateOfExpectedNTicksInBar\") => 20000.0,),\n",
    "    df,\n",
    "    batchSize=1_000_000,  \n",
    ")\n",
    "\n",
    "emaVolumeRunBars"
   ]
  },
  {
   "cell_type": "code",
   "execution_count": 15,
   "metadata": {},
   "outputs": [
    {
     "name": "stdout",
     "output_type": "stream",
     "text": [
      "batch 1 with size 729726"
     ]
    },
    {
     "name": "stdout",
     "output_type": "stream",
     "text": [
      "\n",
      " 12.058634 seconds (2.25 M allocations: 2.197 GiB, 9.73% gc time)\n"
     ]
    },
    {
     "data": {
      "text/html": [
       "<div><div style = \"float: left;\"><span>0×12 DataFrame</span></div><div style = \"clear: both;\"></div></div><div class = \"data-frame\" style = \"overflow-x: scroll;\"><table class = \"data-frame\" style = \"margin-bottom: 6px;\"><thead><tr class = \"header\"><th class = \"rowNumber\" style = \"font-weight: bold; text-align: right;\">Row</th><th style = \"text-align: left;\">Date Time</th><th style = \"text-align: left;\">Tick Number</th><th style = \"text-align: left;\">Open</th><th style = \"text-align: left;\">High</th><th style = \"text-align: left;\">Low</th><th style = \"text-align: left;\">Close</th><th style = \"text-align: left;\">Cumulative Volume</th><th style = \"text-align: left;\">Cumulative Buy Volume</th><th style = \"text-align: left;\">Cumulative Sell Volume</th><th style = \"text-align: left;\">Cumulative Ticks</th><th style = \"text-align: left;\">Cumulative Dollar Value</th><th style = \"text-align: left;\">Threshold</th></tr><tr class = \"subheader headerLastRow\"><th class = \"rowNumber\" style = \"font-weight: bold; text-align: right;\"></th><th title = \"Vector{Any}\" style = \"text-align: left;\">Array…</th><th title = \"Vector{Any}\" style = \"text-align: left;\">Array…</th><th title = \"Vector{Any}\" style = \"text-align: left;\">Array…</th><th title = \"Vector{Any}\" style = \"text-align: left;\">Array…</th><th title = \"Vector{Any}\" style = \"text-align: left;\">Array…</th><th title = \"Vector{Any}\" style = \"text-align: left;\">Array…</th><th title = \"Vector{Any}\" style = \"text-align: left;\">Array…</th><th title = \"Vector{Any}\" style = \"text-align: left;\">Array…</th><th title = \"Vector{Any}\" style = \"text-align: left;\">Array…</th><th title = \"Vector{Any}\" style = \"text-align: left;\">Array…</th><th title = \"Vector{Any}\" style = \"text-align: left;\">Array…</th><th title = \"Vector{Any}\" style = \"text-align: left;\">Array…</th></tr></thead><tbody></tbody></table></div>"
      ],
      "text/latex": [
       "\\begin{tabular}{r|ccccccccc}\n",
       "\t& Date Time & Tick Number & Open & High & Low & Close & Cumulative Volume & Cumulative Buy Volume & \\\\\n",
       "\t\\hline\n",
       "\t& Array… & Array… & Array… & Array… & Array… & Array… & Array… & Array… & \\\\\n",
       "\t\\hline\n",
       "\\end{tabular}\n"
      ],
      "text/plain": [
       "\u001b[1m0×12 DataFrame\u001b[0m\n",
       "\u001b[1m Row \u001b[0m│\u001b[1m Date Time \u001b[0m\u001b[1m Tick Number \u001b[0m\u001b[1m Open   \u001b[0m\u001b[1m High   \u001b[0m\u001b[1m Low    \u001b[0m\u001b[1m Close  \u001b[0m\u001b[1m Cumulative Volu\u001b[0m ⋯\n",
       "     │\u001b[90m Array…    \u001b[0m\u001b[90m Array…      \u001b[0m\u001b[90m Array… \u001b[0m\u001b[90m Array… \u001b[0m\u001b[90m Array… \u001b[0m\u001b[90m Array… \u001b[0m\u001b[90m Array…         \u001b[0m ⋯\n",
       "─────┴──────────────────────────────────────────────────────────────────────────\n",
       "\u001b[36m                                                               6 columns omitted\u001b[0m"
      ]
     },
     "metadata": {},
     "output_type": "display_data"
    }
   ],
   "source": [
    "@time expectedTickRunBars = handleInput(\n",
    "    \"ExpectedTickRunBars\",\n",
    "    Dict(\n",
    "        Symbol(\"windowSizeForExpectedNTicksEstimation\") => 5,\n",
    "        Symbol(\"expectedImbalanceWindow\") => 10000,\n",
    "        Symbol(\"initialEstimateOfExpectedNTicksInBar\") => 20000.0,),\n",
    "    df,\n",
    "    batchSize=1_000_000,  \n",
    ")\n",
    "\n",
    "expectedTickRunBars"
   ]
  },
  {
   "attachments": {},
   "cell_type": "markdown",
   "metadata": {},
   "source": [
    "# Const Run Bars"
   ]
  },
  {
   "cell_type": "code",
   "execution_count": 17,
   "metadata": {},
   "outputs": [
    {
     "name": "stdout",
     "output_type": "stream",
     "text": [
      "batch 1 with size 729726\n"
     ]
    },
    {
     "name": "stdout",
     "output_type": "stream",
     "text": [
      " 10.398204 seconds (2.63 M allocations: 2.227 GiB, 1.76% gc time, 2.24% compilation time)\n"
     ]
    },
    {
     "data": {
      "text/html": [
       "<div><div style = \"float: left;\"><span>38×12 DataFrame</span></div><div style = \"float: right;\"><span style = \"font-style: italic;\">13 rows omitted</span></div><div style = \"clear: both;\"></div></div><div class = \"data-frame\" style = \"overflow-x: scroll;\"><table class = \"data-frame\" style = \"margin-bottom: 6px;\"><thead><tr class = \"header\"><th class = \"rowNumber\" style = \"font-weight: bold; text-align: right;\">Row</th><th style = \"text-align: left;\">Date Time</th><th style = \"text-align: left;\">Tick Number</th><th style = \"text-align: left;\">Open</th><th style = \"text-align: left;\">High</th><th style = \"text-align: left;\">Low</th><th style = \"text-align: left;\">Close</th><th style = \"text-align: left;\">Cumulative Volume</th><th style = \"text-align: left;\">Cumulative Buy Volume</th><th style = \"text-align: left;\">Cumulative Sell Volume</th><th style = \"text-align: left;\">Cumulative Ticks</th><th style = \"text-align: left;\">Cumulative Dollar Value</th><th style = \"text-align: left;\">Threshold</th></tr><tr class = \"subheader headerLastRow\"><th class = \"rowNumber\" style = \"font-weight: bold; text-align: right;\"></th><th title = \"DateTime\" style = \"text-align: left;\">DateTime</th><th title = \"Int64\" style = \"text-align: left;\">Int64</th><th title = \"Float64\" style = \"text-align: left;\">Float64</th><th title = \"Float64\" style = \"text-align: left;\">Float64</th><th title = \"Float64\" style = \"text-align: left;\">Float64</th><th title = \"Float64\" style = \"text-align: left;\">Float64</th><th title = \"Float64\" style = \"text-align: left;\">Float64</th><th title = \"Float64\" style = \"text-align: left;\">Float64</th><th title = \"Float64\" style = \"text-align: left;\">Float64</th><th title = \"Float64\" style = \"text-align: left;\">Float64</th><th title = \"Float64\" style = \"text-align: left;\">Float64</th><th title = \"Float64\" style = \"text-align: left;\">Float64</th></tr></thead><tbody><tr><td class = \"rowNumber\" style = \"font-weight: bold; text-align: right;\">1</td><td style = \"text-align: left;\">2022-09-10T11:59:27</td><td style = \"text-align: right;\">48456</td><td style = \"text-align: right;\">13170.0</td><td style = \"text-align: right;\">NaN</td><td style = \"text-align: right;\">NaN</td><td style = \"text-align: right;\">10240.0</td><td style = \"text-align: right;\">6.37624e8</td><td style = \"text-align: right;\">2.39201e8</td><td style = \"text-align: right;\">3.98423e8</td><td style = \"text-align: right;\">48456.0</td><td style = \"text-align: right;\">7.36956e12</td><td style = \"text-align: right;\">1.62027e12</td></tr><tr><td class = \"rowNumber\" style = \"font-weight: bold; text-align: right;\">2</td><td style = \"text-align: left;\">2022-11-01T09:06:34</td><td style = \"text-align: right;\">71748</td><td style = \"text-align: right;\">10240.0</td><td style = \"text-align: right;\">10360.0</td><td style = \"text-align: right;\">7710.0</td><td style = \"text-align: right;\">8640.0</td><td style = \"text-align: right;\">2.79559e8</td><td style = \"text-align: right;\">1.00493e8</td><td style = \"text-align: right;\">1.79066e8</td><td style = \"text-align: right;\">23292.0</td><td style = \"text-align: right;\">2.5368e12</td><td style = \"text-align: right;\">1.62027e12</td></tr><tr><td class = \"rowNumber\" style = \"font-weight: bold; text-align: right;\">3</td><td style = \"text-align: left;\">2022-11-08T09:04:08</td><td style = \"text-align: right;\">86052</td><td style = \"text-align: right;\">8640.0</td><td style = \"text-align: right;\">10900.0</td><td style = \"text-align: right;\">8460.0</td><td style = \"text-align: right;\">10800.0</td><td style = \"text-align: right;\">2.84263e8</td><td style = \"text-align: right;\">1.48608e8</td><td style = \"text-align: right;\">1.35655e8</td><td style = \"text-align: right;\">14304.0</td><td style = \"text-align: right;\">2.75052e12</td><td style = \"text-align: right;\">1.44515e12</td></tr><tr><td class = \"rowNumber\" style = \"font-weight: bold; text-align: right;\">4</td><td style = \"text-align: left;\">2022-11-15T09:31:03</td><td style = \"text-align: right;\">106286</td><td style = \"text-align: right;\">10800.0</td><td style = \"text-align: right;\">11100.0</td><td style = \"text-align: right;\">10040.0</td><td style = \"text-align: right;\">10750.0</td><td style = \"text-align: right;\">3.1469e8</td><td style = \"text-align: right;\">1.3147e8</td><td style = \"text-align: right;\">1.8322e8</td><td style = \"text-align: right;\">20234.0</td><td style = \"text-align: right;\">3.3446e12</td><td style = \"text-align: right;\">1.94559e12</td></tr><tr><td class = \"rowNumber\" style = \"font-weight: bold; text-align: right;\">5</td><td style = \"text-align: left;\">2022-11-30T09:09:03</td><td style = \"text-align: right;\">127832</td><td style = \"text-align: right;\">10730.0</td><td style = \"text-align: right;\">10920.0</td><td style = \"text-align: right;\">10040.0</td><td style = \"text-align: right;\">10570.0</td><td style = \"text-align: right;\">2.87315e8</td><td style = \"text-align: right;\">1.21567e8</td><td style = \"text-align: right;\">1.65748e8</td><td style = \"text-align: right;\">21546.0</td><td style = \"text-align: right;\">3.02705e12</td><td style = \"text-align: right;\">1.74279e12</td></tr><tr><td class = \"rowNumber\" style = \"font-weight: bold; text-align: right;\">6</td><td style = \"text-align: left;\">2022-12-11T10:48:48</td><td style = \"text-align: right;\">145359</td><td style = \"text-align: right;\">10570.0</td><td style = \"text-align: right;\">10630.0</td><td style = \"text-align: right;\">9480.0</td><td style = \"text-align: right;\">9900.0</td><td style = \"text-align: right;\">2.64544e8</td><td style = \"text-align: right;\">8.59299e7</td><td style = \"text-align: right;\">1.78614e8</td><td style = \"text-align: right;\">17527.0</td><td style = \"text-align: right;\">2.68282e12</td><td style = \"text-align: right;\">1.81573e12</td></tr><tr><td class = \"rowNumber\" style = \"font-weight: bold; text-align: right;\">7</td><td style = \"text-align: left;\">2022-12-14T09:18:27</td><td style = \"text-align: right;\">159923</td><td style = \"text-align: right;\">9900.0</td><td style = \"text-align: right;\">11540.0</td><td style = \"text-align: right;\">9860.0</td><td style = \"text-align: right;\">11500.0</td><td style = \"text-align: right;\">3.02565e8</td><td style = \"text-align: right;\">1.39956e8</td><td style = \"text-align: right;\">1.62609e8</td><td style = \"text-align: right;\">14564.0</td><td style = \"text-align: right;\">3.31985e12</td><td style = \"text-align: right;\">1.78613e12</td></tr><tr><td class = \"rowNumber\" style = \"font-weight: bold; text-align: right;\">8</td><td style = \"text-align: left;\">2022-12-19T12:05:08</td><td style = \"text-align: right;\">182417</td><td style = \"text-align: right;\">11500.0</td><td style = \"text-align: right;\">11990.0</td><td style = \"text-align: right;\">11180.0</td><td style = \"text-align: right;\">11490.0</td><td style = \"text-align: right;\">4.27757e8</td><td style = \"text-align: right;\">1.8488e8</td><td style = \"text-align: right;\">2.42878e8</td><td style = \"text-align: right;\">22494.0</td><td style = \"text-align: right;\">4.97661e12</td><td style = \"text-align: right;\">2.82433e12</td></tr><tr><td class = \"rowNumber\" style = \"font-weight: bold; text-align: right;\">9</td><td style = \"text-align: left;\">2022-12-26T09:03:19</td><td style = \"text-align: right;\">202757</td><td style = \"text-align: right;\">11490.0</td><td style = \"text-align: right;\">13170.0</td><td style = \"text-align: right;\">11340.0</td><td style = \"text-align: right;\">12710.0</td><td style = \"text-align: right;\">3.50025e8</td><td style = \"text-align: right;\">1.53737e8</td><td style = \"text-align: right;\">1.96289e8</td><td style = \"text-align: right;\">20340.0</td><td style = \"text-align: right;\">4.26846e12</td><td style = \"text-align: right;\">2.39374e12</td></tr><tr><td class = \"rowNumber\" style = \"font-weight: bold; text-align: right;\">10</td><td style = \"text-align: left;\">2022-12-31T09:52:33</td><td style = \"text-align: right;\">220005</td><td style = \"text-align: right;\">12710.0</td><td style = \"text-align: right;\">14220.0</td><td style = \"text-align: right;\">12520.0</td><td style = \"text-align: right;\">13060.0</td><td style = \"text-align: right;\">3.1896e8</td><td style = \"text-align: right;\">1.71221e8</td><td style = \"text-align: right;\">1.47739e8</td><td style = \"text-align: right;\">17248.0</td><td style = \"text-align: right;\">4.25135e12</td><td style = \"text-align: right;\">2.31596e12</td></tr><tr><td class = \"rowNumber\" style = \"font-weight: bold; text-align: right;\">11</td><td style = \"text-align: left;\">2023-01-01T12:21:36</td><td style = \"text-align: right;\">242100</td><td style = \"text-align: right;\">13070.0</td><td style = \"text-align: right;\">13380.0</td><td style = \"text-align: right;\">12170.0</td><td style = \"text-align: right;\">12800.0</td><td style = \"text-align: right;\">3.28039e8</td><td style = \"text-align: right;\">1.38492e8</td><td style = \"text-align: right;\">1.89548e8</td><td style = \"text-align: right;\">22095.0</td><td style = \"text-align: right;\">4.21486e12</td><td style = \"text-align: right;\">2.43267e12</td></tr><tr><td class = \"rowNumber\" style = \"font-weight: bold; text-align: right;\">12</td><td style = \"text-align: left;\">2023-01-03T09:18:29</td><td style = \"text-align: right;\">256488</td><td style = \"text-align: right;\">12800.0</td><td style = \"text-align: right;\">13370.0</td><td style = \"text-align: right;\">12800.0</td><td style = \"text-align: right;\">13230.0</td><td style = \"text-align: right;\">2.65488e8</td><td style = \"text-align: right;\">1.52284e8</td><td style = \"text-align: right;\">1.13204e8</td><td style = \"text-align: right;\">14388.0</td><td style = \"text-align: right;\">3.49594e12</td><td style = \"text-align: right;\">2.00599e12</td></tr><tr><td class = \"rowNumber\" style = \"font-weight: bold; text-align: right;\">13</td><td style = \"text-align: left;\">2023-01-07T10:24:54</td><td style = \"text-align: right;\">276313</td><td style = \"text-align: right;\">13220.0</td><td style = \"text-align: right;\">13350.0</td><td style = \"text-align: right;\">12350.0</td><td style = \"text-align: right;\">12930.0</td><td style = \"text-align: right;\">2.9336e8</td><td style = \"text-align: right;\">1.29087e8</td><td style = \"text-align: right;\">1.64273e8</td><td style = \"text-align: right;\">19825.0</td><td style = \"text-align: right;\">3.7423e12</td><td style = \"text-align: right;\">2.09484e12</td></tr><tr><td style = \"text-align: right;\">&vellip;</td><td style = \"text-align: right;\">&vellip;</td><td style = \"text-align: right;\">&vellip;</td><td style = \"text-align: right;\">&vellip;</td><td style = \"text-align: right;\">&vellip;</td><td style = \"text-align: right;\">&vellip;</td><td style = \"text-align: right;\">&vellip;</td><td style = \"text-align: right;\">&vellip;</td><td style = \"text-align: right;\">&vellip;</td><td style = \"text-align: right;\">&vellip;</td><td style = \"text-align: right;\">&vellip;</td><td style = \"text-align: right;\">&vellip;</td><td style = \"text-align: right;\">&vellip;</td></tr><tr><td class = \"rowNumber\" style = \"font-weight: bold; text-align: right;\">27</td><td style = \"text-align: left;\">2023-02-27T12:22:26</td><td style = \"text-align: right;\">503978</td><td style = \"text-align: right;\">17790.0</td><td style = \"text-align: right;\">19780.0</td><td style = \"text-align: right;\">17620.0</td><td style = \"text-align: right;\">18520.0</td><td style = \"text-align: right;\">2.18374e8</td><td style = \"text-align: right;\">1.01572e8</td><td style = \"text-align: right;\">1.16802e8</td><td style = \"text-align: right;\">13198.0</td><td style = \"text-align: right;\">4.09627e12</td><td style = \"text-align: right;\">2.18944e12</td></tr><tr><td class = \"rowNumber\" style = \"font-weight: bold; text-align: right;\">28</td><td style = \"text-align: left;\">2023-03-01T09:54:38</td><td style = \"text-align: right;\">523013</td><td style = \"text-align: right;\">18520.0</td><td style = \"text-align: right;\">19560.0</td><td style = \"text-align: right;\">17880.0</td><td style = \"text-align: right;\">18580.0</td><td style = \"text-align: right;\">2.96904e8</td><td style = \"text-align: right;\">1.41254e8</td><td style = \"text-align: right;\">1.5565e8</td><td style = \"text-align: right;\">19035.0</td><td style = \"text-align: right;\">5.60918e12</td><td style = \"text-align: right;\">2.93512e12</td></tr><tr><td class = \"rowNumber\" style = \"font-weight: bold; text-align: right;\">29</td><td style = \"text-align: left;\">2023-03-05T09:15:27</td><td style = \"text-align: right;\">544006</td><td style = \"text-align: right;\">18580.0</td><td style = \"text-align: right;\">18790.0</td><td style = \"text-align: right;\">17020.0</td><td style = \"text-align: right;\">18100.0</td><td style = \"text-align: right;\">2.64938e8</td><td style = \"text-align: right;\">1.03393e8</td><td style = \"text-align: right;\">1.61545e8</td><td style = \"text-align: right;\">20993.0</td><td style = \"text-align: right;\">4.68606e12</td><td style = \"text-align: right;\">2.853e12</td></tr><tr><td class = \"rowNumber\" style = \"font-weight: bold; text-align: right;\">30</td><td style = \"text-align: left;\">2023-03-07T10:49:07</td><td style = \"text-align: right;\">565043</td><td style = \"text-align: right;\">18110.0</td><td style = \"text-align: right;\">18750.0</td><td style = \"text-align: right;\">16830.0</td><td style = \"text-align: right;\">18400.0</td><td style = \"text-align: right;\">2.93028e8</td><td style = \"text-align: right;\">1.33604e8</td><td style = \"text-align: right;\">1.59424e8</td><td style = \"text-align: right;\">21037.0</td><td style = \"text-align: right;\">5.14829e12</td><td style = \"text-align: right;\">2.79701e12</td></tr><tr><td class = \"rowNumber\" style = \"font-weight: bold; text-align: right;\">31</td><td style = \"text-align: left;\">2023-03-11T12:29:44</td><td style = \"text-align: right;\">583706</td><td style = \"text-align: right;\">18400.0</td><td style = \"text-align: right;\">19570.0</td><td style = \"text-align: right;\">18060.0</td><td style = \"text-align: right;\">18100.0</td><td style = \"text-align: right;\">3.03212e8</td><td style = \"text-align: right;\">1.40192e8</td><td style = \"text-align: right;\">1.6302e8</td><td style = \"text-align: right;\">18663.0</td><td style = \"text-align: right;\">5.67773e12</td><td style = \"text-align: right;\">3.04408e12</td></tr><tr><td class = \"rowNumber\" style = \"font-weight: bold; text-align: right;\">32</td><td style = \"text-align: left;\">2023-03-14T10:56:26</td><td style = \"text-align: right;\">605564</td><td style = \"text-align: right;\">18100.0</td><td style = \"text-align: right;\">19090.0</td><td style = \"text-align: right;\">17610.0</td><td style = \"text-align: right;\">19000.0</td><td style = \"text-align: right;\">3.33062e8</td><td style = \"text-align: right;\">1.61901e8</td><td style = \"text-align: right;\">1.71161e8</td><td style = \"text-align: right;\">21858.0</td><td style = \"text-align: right;\">6.11335e12</td><td style = \"text-align: right;\">3.13916e12</td></tr><tr><td class = \"rowNumber\" style = \"font-weight: bold; text-align: right;\">33</td><td style = \"text-align: left;\">2023-03-15T11:47:24</td><td style = \"text-align: right;\">622326</td><td style = \"text-align: right;\">19000.0</td><td style = \"text-align: right;\">20790.0</td><td style = \"text-align: right;\">18920.0</td><td style = \"text-align: right;\">20790.0</td><td style = \"text-align: right;\">2.68451e8</td><td style = \"text-align: right;\">1.48499e8</td><td style = \"text-align: right;\">1.19952e8</td><td style = \"text-align: right;\">16762.0</td><td style = \"text-align: right;\">5.32247e12</td><td style = \"text-align: right;\">2.94607e12</td></tr><tr><td class = \"rowNumber\" style = \"font-weight: bold; text-align: right;\">34</td><td style = \"text-align: left;\">2023-03-19T09:09:07</td><td style = \"text-align: right;\">638894</td><td style = \"text-align: right;\">20780.0</td><td style = \"text-align: right;\">22450.0</td><td style = \"text-align: right;\">20780.0</td><td style = \"text-align: right;\">22450.0</td><td style = \"text-align: right;\">2.45326e8</td><td style = \"text-align: right;\">1.35183e8</td><td style = \"text-align: right;\">1.10142e8</td><td style = \"text-align: right;\">16568.0</td><td style = \"text-align: right;\">5.36863e12</td><td style = \"text-align: right;\">2.95558e12</td></tr><tr><td class = \"rowNumber\" style = \"font-weight: bold; text-align: right;\">35</td><td style = \"text-align: left;\">2023-03-19T12:25:45</td><td style = \"text-align: right;\">658510</td><td style = \"text-align: right;\">22450.0</td><td style = \"text-align: right;\">22630.0</td><td style = \"text-align: right;\">20900.0</td><td style = \"text-align: right;\">21400.0</td><td style = \"text-align: right;\">2.34359e8</td><td style = \"text-align: right;\">1.01573e8</td><td style = \"text-align: right;\">1.32786e8</td><td style = \"text-align: right;\">19616.0</td><td style = \"text-align: right;\">5.11068e12</td><td style = \"text-align: right;\">2.89217e12</td></tr><tr><td class = \"rowNumber\" style = \"font-weight: bold; text-align: right;\">36</td><td style = \"text-align: left;\">2023-03-26T09:43:08</td><td style = \"text-align: right;\">680547</td><td style = \"text-align: right;\">21400.0</td><td style = \"text-align: right;\">22450.0</td><td style = \"text-align: right;\">20750.0</td><td style = \"text-align: right;\">22070.0</td><td style = \"text-align: right;\">2.52018e8</td><td style = \"text-align: right;\">1.16042e8</td><td style = \"text-align: right;\">1.35976e8</td><td style = \"text-align: right;\">22037.0</td><td style = \"text-align: right;\">5.43903e12</td><td style = \"text-align: right;\">2.92845e12</td></tr><tr><td class = \"rowNumber\" style = \"font-weight: bold; text-align: right;\">37</td><td style = \"text-align: left;\">2023-03-27T10:25:43</td><td style = \"text-align: right;\">699273</td><td style = \"text-align: right;\">22070.0</td><td style = \"text-align: right;\">22190.0</td><td style = \"text-align: right;\">20550.0</td><td style = \"text-align: right;\">21370.0</td><td style = \"text-align: right;\">2.03178e8</td><td style = \"text-align: right;\">8.30906e7</td><td style = \"text-align: right;\">1.20087e8</td><td style = \"text-align: right;\">18726.0</td><td style = \"text-align: right;\">4.31313e12</td><td style = \"text-align: right;\">2.54521e12</td></tr><tr><td class = \"rowNumber\" style = \"font-weight: bold; text-align: right;\">38</td><td style = \"text-align: left;\">2023-03-29T09:19:35</td><td style = \"text-align: right;\">718001</td><td style = \"text-align: right;\">21360.0</td><td style = \"text-align: right;\">22370.0</td><td style = \"text-align: right;\">21060.0</td><td style = \"text-align: right;\">21920.0</td><td style = \"text-align: right;\">2.34921e8</td><td style = \"text-align: right;\">1.16393e8</td><td style = \"text-align: right;\">1.18527e8</td><td style = \"text-align: right;\">18728.0</td><td style = \"text-align: right;\">5.10653e12</td><td style = \"text-align: right;\">2.5702e12</td></tr></tbody></table></div>"
      ],
      "text/latex": [
       "\\begin{tabular}{r|cccccccc}\n",
       "\t& Date Time & Tick Number & Open & High & Low & Close & Cumulative Volume & \\\\\n",
       "\t\\hline\n",
       "\t& DateTime & Int64 & Float64 & Float64 & Float64 & Float64 & Float64 & \\\\\n",
       "\t\\hline\n",
       "\t1 & 2022-09-10T11:59:27 & 48456 & 13170.0 & NaN & NaN & 10240.0 & 6.37624e8 & $\\dots$ \\\\\n",
       "\t2 & 2022-11-01T09:06:34 & 71748 & 10240.0 & 10360.0 & 7710.0 & 8640.0 & 2.79559e8 & $\\dots$ \\\\\n",
       "\t3 & 2022-11-08T09:04:08 & 86052 & 8640.0 & 10900.0 & 8460.0 & 10800.0 & 2.84263e8 & $\\dots$ \\\\\n",
       "\t4 & 2022-11-15T09:31:03 & 106286 & 10800.0 & 11100.0 & 10040.0 & 10750.0 & 3.1469e8 & $\\dots$ \\\\\n",
       "\t5 & 2022-11-30T09:09:03 & 127832 & 10730.0 & 10920.0 & 10040.0 & 10570.0 & 2.87315e8 & $\\dots$ \\\\\n",
       "\t6 & 2022-12-11T10:48:48 & 145359 & 10570.0 & 10630.0 & 9480.0 & 9900.0 & 2.64544e8 & $\\dots$ \\\\\n",
       "\t7 & 2022-12-14T09:18:27 & 159923 & 9900.0 & 11540.0 & 9860.0 & 11500.0 & 3.02565e8 & $\\dots$ \\\\\n",
       "\t8 & 2022-12-19T12:05:08 & 182417 & 11500.0 & 11990.0 & 11180.0 & 11490.0 & 4.27757e8 & $\\dots$ \\\\\n",
       "\t9 & 2022-12-26T09:03:19 & 202757 & 11490.0 & 13170.0 & 11340.0 & 12710.0 & 3.50025e8 & $\\dots$ \\\\\n",
       "\t10 & 2022-12-31T09:52:33 & 220005 & 12710.0 & 14220.0 & 12520.0 & 13060.0 & 3.1896e8 & $\\dots$ \\\\\n",
       "\t11 & 2023-01-01T12:21:36 & 242100 & 13070.0 & 13380.0 & 12170.0 & 12800.0 & 3.28039e8 & $\\dots$ \\\\\n",
       "\t12 & 2023-01-03T09:18:29 & 256488 & 12800.0 & 13370.0 & 12800.0 & 13230.0 & 2.65488e8 & $\\dots$ \\\\\n",
       "\t13 & 2023-01-07T10:24:54 & 276313 & 13220.0 & 13350.0 & 12350.0 & 12930.0 & 2.9336e8 & $\\dots$ \\\\\n",
       "\t14 & 2023-01-09T12:18:19 & 296148 & 12920.0 & 14390.0 & 12750.0 & 14190.0 & 3.04595e8 & $\\dots$ \\\\\n",
       "\t15 & 2023-01-11T11:52:52 & 312867 & 14180.0 & 15010.0 & 13850.0 & 13900.0 & 2.54452e8 & $\\dots$ \\\\\n",
       "\t16 & 2023-01-17T09:35:26 & 332305 & 13900.0 & 15080.0 & 13410.0 & 14600.0 & 3.11377e8 & $\\dots$ \\\\\n",
       "\t17 & 2023-01-22T10:40:51 & 355692 & 14600.0 & 14990.0 & 14070.0 & 14390.0 & 3.21645e8 & $\\dots$ \\\\\n",
       "\t18 & 2023-01-24T10:30:36 & 372098 & 14390.0 & 15030.0 & 13810.0 & 13980.0 & 2.52151e8 & $\\dots$ \\\\\n",
       "\t19 & 2023-01-29T10:51:12 & 393137 & 13980.0 & 14070.0 & 12110.0 & 12170.0 & 2.91276e8 & $\\dots$ \\\\\n",
       "\t20 & 2023-02-01T09:43:07 & 411881 & 12170.0 & 12990.0 & 12150.0 & 12380.0 & 2.99156e8 & $\\dots$ \\\\\n",
       "\t21 & 2023-02-13T09:13:18 & 434174 & 12390.0 & 12670.0 & 11610.0 & 12520.0 & 3.23339e8 & $\\dots$ \\\\\n",
       "\t22 & 2023-02-20T10:32:37 & 449392 & 12540.0 & 14100.0 & 12110.0 & 14100.0 & 3.038e8 & $\\dots$ \\\\\n",
       "\t23 & 2023-02-21T12:18:31 & 459061 & 14100.0 & 15430.0 & 14100.0 & 15290.0 & 2.07124e8 & $\\dots$ \\\\\n",
       "\t24 & 2023-02-25T09:06:36 & 472074 & 15300.0 & 16980.0 & 14900.0 & 16980.0 & 2.31879e8 & $\\dots$ \\\\\n",
       "\t$\\dots$ & $\\dots$ & $\\dots$ & $\\dots$ & $\\dots$ & $\\dots$ & $\\dots$ & $\\dots$ &  \\\\\n",
       "\\end{tabular}\n"
      ],
      "text/plain": [
       "\u001b[1m38×12 DataFrame\u001b[0m\n",
       "\u001b[1m Row \u001b[0m│\u001b[1m Date Time           \u001b[0m\u001b[1m Tick Number \u001b[0m\u001b[1m Open    \u001b[0m\u001b[1m High    \u001b[0m\u001b[1m Low     \u001b[0m\u001b[1m Close   \u001b[0m\u001b[1m C\u001b[0m ⋯\n",
       "     │\u001b[90m DateTime            \u001b[0m\u001b[90m Int64       \u001b[0m\u001b[90m Float64 \u001b[0m\u001b[90m Float64 \u001b[0m\u001b[90m Float64 \u001b[0m\u001b[90m Float64 \u001b[0m\u001b[90m F\u001b[0m ⋯\n",
       "─────┼──────────────────────────────────────────────────────────────────────────\n",
       "   1 │ 2022-09-10T11:59:27        48456  13170.0    NaN      NaN    10240.0    ⋯\n",
       "   2 │ 2022-11-01T09:06:34        71748  10240.0  10360.0   7710.0   8640.0\n",
       "   3 │ 2022-11-08T09:04:08        86052   8640.0  10900.0   8460.0  10800.0\n",
       "   4 │ 2022-11-15T09:31:03       106286  10800.0  11100.0  10040.0  10750.0\n",
       "   5 │ 2022-11-30T09:09:03       127832  10730.0  10920.0  10040.0  10570.0    ⋯\n",
       "   6 │ 2022-12-11T10:48:48       145359  10570.0  10630.0   9480.0   9900.0\n",
       "   7 │ 2022-12-14T09:18:27       159923   9900.0  11540.0   9860.0  11500.0\n",
       "   8 │ 2022-12-19T12:05:08       182417  11500.0  11990.0  11180.0  11490.0\n",
       "  ⋮  │          ⋮                ⋮          ⋮        ⋮        ⋮        ⋮       ⋱\n",
       "  32 │ 2023-03-14T10:56:26       605564  18100.0  19090.0  17610.0  19000.0    ⋯\n",
       "  33 │ 2023-03-15T11:47:24       622326  19000.0  20790.0  18920.0  20790.0\n",
       "  34 │ 2023-03-19T09:09:07       638894  20780.0  22450.0  20780.0  22450.0\n",
       "  35 │ 2023-03-19T12:25:45       658510  22450.0  22630.0  20900.0  21400.0\n",
       "  36 │ 2023-03-26T09:43:08       680547  21400.0  22450.0  20750.0  22070.0    ⋯\n",
       "  37 │ 2023-03-27T10:25:43       699273  22070.0  22190.0  20550.0  21370.0\n",
       "  38 │ 2023-03-29T09:19:35       718001  21360.0  22370.0  21060.0  21920.0\n",
       "\u001b[36m                                                   6 columns and 23 rows omitted\u001b[0m"
      ]
     },
     "metadata": {},
     "output_type": "display_data"
    }
   ],
   "source": [
    "@time fixedDollarRunBars = handleInput(\n",
    "    \"FixedDollarRunBars\",\n",
    "    Dict(\n",
    "        Symbol(\"expectedImbalanceWindow\") => 10000,\n",
    "        Symbol(\"initialEstimateOfExpectedNTicksInBar\") => 20000.0,),\n",
    "    df,\n",
    "    batchSize=1_000_000,  \n",
    ")\n",
    "\n",
    "fixedDollarRunBars"
   ]
  },
  {
   "cell_type": "code",
   "execution_count": 20,
   "metadata": {},
   "outputs": [
    {
     "name": "stdout",
     "output_type": "stream",
     "text": [
      "batch 1 with size 729726\n"
     ]
    },
    {
     "name": "stdout",
     "output_type": "stream",
     "text": [
      " 10.596924 seconds (2.63 M allocations: 2.227 GiB, 2.34% gc time, 2.80% compilation time)\n"
     ]
    },
    {
     "data": {
      "text/html": [
       "<div><div style = \"float: left;\"><span>37×12 DataFrame</span></div><div style = \"float: right;\"><span style = \"font-style: italic;\">12 rows omitted</span></div><div style = \"clear: both;\"></div></div><div class = \"data-frame\" style = \"overflow-x: scroll;\"><table class = \"data-frame\" style = \"margin-bottom: 6px;\"><thead><tr class = \"header\"><th class = \"rowNumber\" style = \"font-weight: bold; text-align: right;\">Row</th><th style = \"text-align: left;\">Date Time</th><th style = \"text-align: left;\">Tick Number</th><th style = \"text-align: left;\">Open</th><th style = \"text-align: left;\">High</th><th style = \"text-align: left;\">Low</th><th style = \"text-align: left;\">Close</th><th style = \"text-align: left;\">Cumulative Volume</th><th style = \"text-align: left;\">Cumulative Buy Volume</th><th style = \"text-align: left;\">Cumulative Sell Volume</th><th style = \"text-align: left;\">Cumulative Ticks</th><th style = \"text-align: left;\">Cumulative Dollar Value</th><th style = \"text-align: left;\">Threshold</th></tr><tr class = \"subheader headerLastRow\"><th class = \"rowNumber\" style = \"font-weight: bold; text-align: right;\"></th><th title = \"DateTime\" style = \"text-align: left;\">DateTime</th><th title = \"Int64\" style = \"text-align: left;\">Int64</th><th title = \"Float64\" style = \"text-align: left;\">Float64</th><th title = \"Float64\" style = \"text-align: left;\">Float64</th><th title = \"Float64\" style = \"text-align: left;\">Float64</th><th title = \"Float64\" style = \"text-align: left;\">Float64</th><th title = \"Float64\" style = \"text-align: left;\">Float64</th><th title = \"Float64\" style = \"text-align: left;\">Float64</th><th title = \"Float64\" style = \"text-align: left;\">Float64</th><th title = \"Float64\" style = \"text-align: left;\">Float64</th><th title = \"Float64\" style = \"text-align: left;\">Float64</th><th title = \"Float64\" style = \"text-align: left;\">Float64</th></tr></thead><tbody><tr><td class = \"rowNumber\" style = \"font-weight: bold; text-align: right;\">1</td><td style = \"text-align: left;\">2022-09-10T11:59:27</td><td style = \"text-align: right;\">48456</td><td style = \"text-align: right;\">13170.0</td><td style = \"text-align: right;\">NaN</td><td style = \"text-align: right;\">NaN</td><td style = \"text-align: right;\">10240.0</td><td style = \"text-align: right;\">6.37624e8</td><td style = \"text-align: right;\">2.39201e8</td><td style = \"text-align: right;\">3.98423e8</td><td style = \"text-align: right;\">48456.0</td><td style = \"text-align: right;\">7.36956e12</td><td style = \"text-align: right;\">1.50719e8</td></tr><tr><td class = \"rowNumber\" style = \"font-weight: bold; text-align: right;\">2</td><td style = \"text-align: left;\">2022-10-26T11:54:47</td><td style = \"text-align: right;\">68548</td><td style = \"text-align: right;\">10240.0</td><td style = \"text-align: right;\">10360.0</td><td style = \"text-align: right;\">7710.0</td><td style = \"text-align: right;\">7800.0</td><td style = \"text-align: right;\">2.30738e8</td><td style = \"text-align: right;\">8.00174e7</td><td style = \"text-align: right;\">1.50721e8</td><td style = \"text-align: right;\">20092.0</td><td style = \"text-align: right;\">2.13357e12</td><td style = \"text-align: right;\">1.50719e8</td></tr><tr><td class = \"rowNumber\" style = \"font-weight: bold; text-align: right;\">3</td><td style = \"text-align: left;\">2022-11-07T10:22:54</td><td style = \"text-align: right;\">82853</td><td style = \"text-align: right;\">7820.0</td><td style = \"text-align: right;\">10470.0</td><td style = \"text-align: right;\">7740.0</td><td style = \"text-align: right;\">10380.0</td><td style = \"text-align: right;\">2.94942e8</td><td style = \"text-align: right;\">1.44155e8</td><td style = \"text-align: right;\">1.50787e8</td><td style = \"text-align: right;\">14305.0</td><td style = \"text-align: right;\">2.7529e12</td><td style = \"text-align: right;\">1.50784e8</td></tr><tr><td class = \"rowNumber\" style = \"font-weight: bold; text-align: right;\">4</td><td style = \"text-align: left;\">2022-11-19T12:02:59</td><td style = \"text-align: right;\">112348</td><td style = \"text-align: right;\">10380.0</td><td style = \"text-align: right;\">11100.0</td><td style = \"text-align: right;\">10040.0</td><td style = \"text-align: right;\">10120.0</td><td style = \"text-align: right;\">4.23342e8</td><td style = \"text-align: right;\">1.86307e8</td><td style = \"text-align: right;\">2.37035e8</td><td style = \"text-align: right;\">29495.0</td><td style = \"text-align: right;\">4.48751e12</td><td style = \"text-align: right;\">2.37009e8</td></tr><tr><td class = \"rowNumber\" style = \"font-weight: bold; text-align: right;\">5</td><td style = \"text-align: left;\">2022-12-03T11:12:55</td><td style = \"text-align: right;\">130073</td><td style = \"text-align: right;\">10160.0</td><td style = \"text-align: right;\">10860.0</td><td style = \"text-align: right;\">10110.0</td><td style = \"text-align: right;\">10500.0</td><td style = \"text-align: right;\">2.49576e8</td><td style = \"text-align: right;\">1.03741e8</td><td style = \"text-align: right;\">1.45836e8</td><td style = \"text-align: right;\">17725.0</td><td style = \"text-align: right;\">2.63079e12</td><td style = \"text-align: right;\">1.45829e8</td></tr><tr><td class = \"rowNumber\" style = \"font-weight: bold; text-align: right;\">6</td><td style = \"text-align: left;\">2022-12-12T09:21:06</td><td style = \"text-align: right;\">146750</td><td style = \"text-align: right;\">10510.0</td><td style = \"text-align: right;\">10630.0</td><td style = \"text-align: right;\">9480.0</td><td style = \"text-align: right;\">10140.0</td><td style = \"text-align: right;\">2.61409e8</td><td style = \"text-align: right;\">8.70417e7</td><td style = \"text-align: right;\">1.74367e8</td><td style = \"text-align: right;\">16677.0</td><td style = \"text-align: right;\">2.63148e12</td><td style = \"text-align: right;\">1.74284e8</td></tr><tr><td class = \"rowNumber\" style = \"font-weight: bold; text-align: right;\">7</td><td style = \"text-align: left;\">2022-12-14T11:16:21</td><td style = \"text-align: right;\">163817</td><td style = \"text-align: right;\">10150.0</td><td style = \"text-align: right;\">11590.0</td><td style = \"text-align: right;\">10100.0</td><td style = \"text-align: right;\">11300.0</td><td style = \"text-align: right;\">3.48773e8</td><td style = \"text-align: right;\">1.52553e8</td><td style = \"text-align: right;\">1.9622e8</td><td style = \"text-align: right;\">17067.0</td><td style = \"text-align: right;\">3.89411e12</td><td style = \"text-align: right;\">1.96175e8</td></tr><tr><td class = \"rowNumber\" style = \"font-weight: bold; text-align: right;\">8</td><td style = \"text-align: left;\">2022-12-21T11:52:45</td><td style = \"text-align: right;\">189325</td><td style = \"text-align: right;\">11300.0</td><td style = \"text-align: right;\">11990.0</td><td style = \"text-align: right;\">11180.0</td><td style = \"text-align: right;\">11580.0</td><td style = \"text-align: right;\">4.62793e8</td><td style = \"text-align: right;\">2.08139e8</td><td style = \"text-align: right;\">2.54654e8</td><td style = \"text-align: right;\">25508.0</td><td style = \"text-align: right;\">5.38951e12</td><td style = \"text-align: right;\">2.54614e8</td></tr><tr><td class = \"rowNumber\" style = \"font-weight: bold; text-align: right;\">9</td><td style = \"text-align: left;\">2022-12-28T09:33:23</td><td style = \"text-align: right;\">210013</td><td style = \"text-align: right;\">11600.0</td><td style = \"text-align: right;\">14070.0</td><td style = \"text-align: right;\">11530.0</td><td style = \"text-align: right;\">13990.0</td><td style = \"text-align: right;\">3.50959e8</td><td style = \"text-align: right;\">1.65361e8</td><td style = \"text-align: right;\">1.85597e8</td><td style = \"text-align: right;\">20688.0</td><td style = \"text-align: right;\">4.45875e12</td><td style = \"text-align: right;\">1.85583e8</td></tr><tr><td class = \"rowNumber\" style = \"font-weight: bold; text-align: right;\">10</td><td style = \"text-align: left;\">2022-12-31T12:26:33</td><td style = \"text-align: right;\">228009</td><td style = \"text-align: right;\">14000.0</td><td style = \"text-align: right;\">14220.0</td><td style = \"text-align: right;\">12690.0</td><td style = \"text-align: right;\">12700.0</td><td style = \"text-align: right;\">3.18416e8</td><td style = \"text-align: right;\">1.53097e8</td><td style = \"text-align: right;\">1.65319e8</td><td style = \"text-align: right;\">17996.0</td><td style = \"text-align: right;\">4.23518e12</td><td style = \"text-align: right;\">1.65307e8</td></tr><tr><td class = \"rowNumber\" style = \"font-weight: bold; text-align: right;\">11</td><td style = \"text-align: left;\">2023-01-02T09:21:41</td><td style = \"text-align: right;\">246722</td><td style = \"text-align: right;\">12700.0</td><td style = \"text-align: right;\">13320.0</td><td style = \"text-align: right;\">12170.0</td><td style = \"text-align: right;\">13150.0</td><td style = \"text-align: right;\">3.1673e8</td><td style = \"text-align: right;\">1.59406e8</td><td style = \"text-align: right;\">1.57324e8</td><td style = \"text-align: right;\">18713.0</td><td style = \"text-align: right;\">4.07021e12</td><td style = \"text-align: right;\">1.59392e8</td></tr><tr><td class = \"rowNumber\" style = \"font-weight: bold; text-align: right;\">12</td><td style = \"text-align: left;\">2023-01-04T09:48:28</td><td style = \"text-align: right;\">268300</td><td style = \"text-align: right;\">13140.0</td><td style = \"text-align: right;\">13370.0</td><td style = \"text-align: right;\">12350.0</td><td style = \"text-align: right;\">12530.0</td><td style = \"text-align: right;\">3.25742e8</td><td style = \"text-align: right;\">1.52442e8</td><td style = \"text-align: right;\">1.733e8</td><td style = \"text-align: right;\">21578.0</td><td style = \"text-align: right;\">4.23508e12</td><td style = \"text-align: right;\">1.73253e8</td></tr><tr><td class = \"rowNumber\" style = \"font-weight: bold; text-align: right;\">13</td><td style = \"text-align: left;\">2023-01-08T10:03:15</td><td style = \"text-align: right;\">284434</td><td style = \"text-align: right;\">12530.0</td><td style = \"text-align: right;\">13950.0</td><td style = \"text-align: right;\">12360.0</td><td style = \"text-align: right;\">13800.0</td><td style = \"text-align: right;\">2.67865e8</td><td style = \"text-align: right;\">1.45516e8</td><td style = \"text-align: right;\">1.22349e8</td><td style = \"text-align: right;\">16134.0</td><td style = \"text-align: right;\">3.49243e12</td><td style = \"text-align: right;\">1.45496e8</td></tr><tr><td style = \"text-align: right;\">&vellip;</td><td style = \"text-align: right;\">&vellip;</td><td style = \"text-align: right;\">&vellip;</td><td style = \"text-align: right;\">&vellip;</td><td style = \"text-align: right;\">&vellip;</td><td style = \"text-align: right;\">&vellip;</td><td style = \"text-align: right;\">&vellip;</td><td style = \"text-align: right;\">&vellip;</td><td style = \"text-align: right;\">&vellip;</td><td style = \"text-align: right;\">&vellip;</td><td style = \"text-align: right;\">&vellip;</td><td style = \"text-align: right;\">&vellip;</td><td style = \"text-align: right;\">&vellip;</td></tr><tr><td class = \"rowNumber\" style = \"font-weight: bold; text-align: right;\">26</td><td style = \"text-align: left;\">2023-02-28T09:48:14</td><td style = \"text-align: right;\">509424</td><td style = \"text-align: right;\">19390.0</td><td style = \"text-align: right;\">19780.0</td><td style = \"text-align: right;\">18110.0</td><td style = \"text-align: right;\">19090.0</td><td style = \"text-align: right;\">2.22924e8</td><td style = \"text-align: right;\">9.61876e7</td><td style = \"text-align: right;\">1.26737e8</td><td style = \"text-align: right;\">13427.0</td><td style = \"text-align: right;\">4.21107e12</td><td style = \"text-align: right;\">1.26627e8</td></tr><tr><td class = \"rowNumber\" style = \"font-weight: bold; text-align: right;\">27</td><td style = \"text-align: left;\">2023-03-01T12:09:48</td><td style = \"text-align: right;\">531558</td><td style = \"text-align: right;\">19130.0</td><td style = \"text-align: right;\">19560.0</td><td style = \"text-align: right;\">17260.0</td><td style = \"text-align: right;\">17300.0</td><td style = \"text-align: right;\">2.97042e8</td><td style = \"text-align: right;\">1.24187e8</td><td style = \"text-align: right;\">1.72855e8</td><td style = \"text-align: right;\">22134.0</td><td style = \"text-align: right;\">5.52579e12</td><td style = \"text-align: right;\">1.72855e8</td></tr><tr><td class = \"rowNumber\" style = \"font-weight: bold; text-align: right;\">28</td><td style = \"text-align: left;\">2023-03-06T09:09:53</td><td style = \"text-align: right;\">551046</td><td style = \"text-align: right;\">17280.0</td><td style = \"text-align: right;\">18270.0</td><td style = \"text-align: right;\">17020.0</td><td style = \"text-align: right;\">17210.0</td><td style = \"text-align: right;\">2.5664e8</td><td style = \"text-align: right;\">1.06864e8</td><td style = \"text-align: right;\">1.49776e8</td><td style = \"text-align: right;\">19488.0</td><td style = \"text-align: right;\">4.50878e12</td><td style = \"text-align: right;\">1.4969e8</td></tr><tr><td class = \"rowNumber\" style = \"font-weight: bold; text-align: right;\">29</td><td style = \"text-align: left;\">2023-03-07T12:18:12</td><td style = \"text-align: right;\">570585</td><td style = \"text-align: right;\">17210.0</td><td style = \"text-align: right;\">18950.0</td><td style = \"text-align: right;\">16830.0</td><td style = \"text-align: right;\">18930.0</td><td style = \"text-align: right;\">3.00421e8</td><td style = \"text-align: right;\">1.53684e8</td><td style = \"text-align: right;\">1.46736e8</td><td style = \"text-align: right;\">19539.0</td><td style = \"text-align: right;\">5.3815e12</td><td style = \"text-align: right;\">1.53639e8</td></tr><tr><td class = \"rowNumber\" style = \"font-weight: bold; text-align: right;\">30</td><td style = \"text-align: left;\">2023-03-12T12:28:44</td><td style = \"text-align: right;\">591594</td><td style = \"text-align: right;\">18930.0</td><td style = \"text-align: right;\">19570.0</td><td style = \"text-align: right;\">17610.0</td><td style = \"text-align: right;\">17970.0</td><td style = \"text-align: right;\">3.2661e8</td><td style = \"text-align: right;\">1.49302e8</td><td style = \"text-align: right;\">1.77308e8</td><td style = \"text-align: right;\">21009.0</td><td style = \"text-align: right;\">6.01021e12</td><td style = \"text-align: right;\">1.77306e8</td></tr><tr><td class = \"rowNumber\" style = \"font-weight: bold; text-align: right;\">31</td><td style = \"text-align: left;\">2023-03-15T09:04:25</td><td style = \"text-align: right;\">610339</td><td style = \"text-align: right;\">17970.0</td><td style = \"text-align: right;\">19540.0</td><td style = \"text-align: right;\">17960.0</td><td style = \"text-align: right;\">19500.0</td><td style = \"text-align: right;\">2.86456e8</td><td style = \"text-align: right;\">1.37033e8</td><td style = \"text-align: right;\">1.49424e8</td><td style = \"text-align: right;\">18745.0</td><td style = \"text-align: right;\">5.36847e12</td><td style = \"text-align: right;\">1.49356e8</td></tr><tr><td class = \"rowNumber\" style = \"font-weight: bold; text-align: right;\">32</td><td style = \"text-align: left;\">2023-03-18T09:36:38</td><td style = \"text-align: right;\">627595</td><td style = \"text-align: right;\">19500.0</td><td style = \"text-align: right;\">22070.0</td><td style = \"text-align: right;\">19380.0</td><td style = \"text-align: right;\">21810.0</td><td style = \"text-align: right;\">2.7407e8</td><td style = \"text-align: right;\">1.54764e8</td><td style = \"text-align: right;\">1.19306e8</td><td style = \"text-align: right;\">17256.0</td><td style = \"text-align: right;\">5.6285e12</td><td style = \"text-align: right;\">1.54756e8</td></tr><tr><td class = \"rowNumber\" style = \"font-weight: bold; text-align: right;\">33</td><td style = \"text-align: left;\">2023-03-19T10:08:09</td><td style = \"text-align: right;\">647919</td><td style = \"text-align: right;\">21810.0</td><td style = \"text-align: right;\">22630.0</td><td style = \"text-align: right;\">20900.0</td><td style = \"text-align: right;\">22000.0</td><td style = \"text-align: right;\">2.65359e8</td><td style = \"text-align: right;\">1.40308e8</td><td style = \"text-align: right;\">1.25051e8</td><td style = \"text-align: right;\">20324.0</td><td style = \"text-align: right;\">5.82102e12</td><td style = \"text-align: right;\">1.40195e8</td></tr><tr><td class = \"rowNumber\" style = \"font-weight: bold; text-align: right;\">34</td><td style = \"text-align: left;\">2023-03-25T09:20:43</td><td style = \"text-align: right;\">662223</td><td style = \"text-align: right;\">22000.0</td><td style = \"text-align: right;\">22300.0</td><td style = \"text-align: right;\">21000.0</td><td style = \"text-align: right;\">21000.0</td><td style = \"text-align: right;\">1.7878e8</td><td style = \"text-align: right;\">6.80463e7</td><td style = \"text-align: right;\">1.10733e8</td><td style = \"text-align: right;\">14304.0</td><td style = \"text-align: right;\">3.88672e12</td><td style = \"text-align: right;\">1.1073e8</td></tr><tr><td class = \"rowNumber\" style = \"font-weight: bold; text-align: right;\">35</td><td style = \"text-align: left;\">2023-03-26T10:43:58</td><td style = \"text-align: right;\">685164</td><td style = \"text-align: right;\">21000.0</td><td style = \"text-align: right;\">22450.0</td><td style = \"text-align: right;\">20750.0</td><td style = \"text-align: right;\">21400.0</td><td style = \"text-align: right;\">2.62438e8</td><td style = \"text-align: right;\">1.22377e8</td><td style = \"text-align: right;\">1.40061e8</td><td style = \"text-align: right;\">22941.0</td><td style = \"text-align: right;\">5.68548e12</td><td style = \"text-align: right;\">1.40035e8</td></tr><tr><td class = \"rowNumber\" style = \"font-weight: bold; text-align: right;\">36</td><td style = \"text-align: left;\">2023-03-28T09:04:34</td><td style = \"text-align: right;\">705743</td><td style = \"text-align: right;\">21400.0</td><td style = \"text-align: right;\">21840.0</td><td style = \"text-align: right;\">20550.0</td><td style = \"text-align: right;\">21620.0</td><td style = \"text-align: right;\">2.2199e8</td><td style = \"text-align: right;\">9.69963e7</td><td style = \"text-align: right;\">1.24994e8</td><td style = \"text-align: right;\">20579.0</td><td style = \"text-align: right;\">4.69543e12</td><td style = \"text-align: right;\">1.24872e8</td></tr><tr><td class = \"rowNumber\" style = \"font-weight: bold; text-align: right;\">37</td><td style = \"text-align: left;\">2023-03-29T10:36:25</td><td style = \"text-align: right;\">724073</td><td style = \"text-align: right;\">21620.0</td><td style = \"text-align: right;\">22600.0</td><td style = \"text-align: right;\">21350.0</td><td style = \"text-align: right;\">22270.0</td><td style = \"text-align: right;\">2.52501e8</td><td style = \"text-align: right;\">1.25604e8</td><td style = \"text-align: right;\">1.26898e8</td><td style = \"text-align: right;\">18330.0</td><td style = \"text-align: right;\">5.55756e12</td><td style = \"text-align: right;\">1.26896e8</td></tr></tbody></table></div>"
      ],
      "text/latex": [
       "\\begin{tabular}{r|cccccccc}\n",
       "\t& Date Time & Tick Number & Open & High & Low & Close & Cumulative Volume & \\\\\n",
       "\t\\hline\n",
       "\t& DateTime & Int64 & Float64 & Float64 & Float64 & Float64 & Float64 & \\\\\n",
       "\t\\hline\n",
       "\t1 & 2022-09-10T11:59:27 & 48456 & 13170.0 & NaN & NaN & 10240.0 & 6.37624e8 & $\\dots$ \\\\\n",
       "\t2 & 2022-10-26T11:54:47 & 68548 & 10240.0 & 10360.0 & 7710.0 & 7800.0 & 2.30738e8 & $\\dots$ \\\\\n",
       "\t3 & 2022-11-07T10:22:54 & 82853 & 7820.0 & 10470.0 & 7740.0 & 10380.0 & 2.94942e8 & $\\dots$ \\\\\n",
       "\t4 & 2022-11-19T12:02:59 & 112348 & 10380.0 & 11100.0 & 10040.0 & 10120.0 & 4.23342e8 & $\\dots$ \\\\\n",
       "\t5 & 2022-12-03T11:12:55 & 130073 & 10160.0 & 10860.0 & 10110.0 & 10500.0 & 2.49576e8 & $\\dots$ \\\\\n",
       "\t6 & 2022-12-12T09:21:06 & 146750 & 10510.0 & 10630.0 & 9480.0 & 10140.0 & 2.61409e8 & $\\dots$ \\\\\n",
       "\t7 & 2022-12-14T11:16:21 & 163817 & 10150.0 & 11590.0 & 10100.0 & 11300.0 & 3.48773e8 & $\\dots$ \\\\\n",
       "\t8 & 2022-12-21T11:52:45 & 189325 & 11300.0 & 11990.0 & 11180.0 & 11580.0 & 4.62793e8 & $\\dots$ \\\\\n",
       "\t9 & 2022-12-28T09:33:23 & 210013 & 11600.0 & 14070.0 & 11530.0 & 13990.0 & 3.50959e8 & $\\dots$ \\\\\n",
       "\t10 & 2022-12-31T12:26:33 & 228009 & 14000.0 & 14220.0 & 12690.0 & 12700.0 & 3.18416e8 & $\\dots$ \\\\\n",
       "\t11 & 2023-01-02T09:21:41 & 246722 & 12700.0 & 13320.0 & 12170.0 & 13150.0 & 3.1673e8 & $\\dots$ \\\\\n",
       "\t12 & 2023-01-04T09:48:28 & 268300 & 13140.0 & 13370.0 & 12350.0 & 12530.0 & 3.25742e8 & $\\dots$ \\\\\n",
       "\t13 & 2023-01-08T10:03:15 & 284434 & 12530.0 & 13950.0 & 12360.0 & 13800.0 & 2.67865e8 & $\\dots$ \\\\\n",
       "\t14 & 2023-01-10T11:30:06 & 304117 & 13800.0 & 15010.0 & 13500.0 & 14250.0 & 2.9429e8 & $\\dots$ \\\\\n",
       "\t15 & 2023-01-16T09:18:01 & 323896 & 14250.0 & 14890.0 & 13410.0 & 14650.0 & 2.97995e8 & $\\dots$ \\\\\n",
       "\t16 & 2023-01-18T11:40:49 & 343316 & 14650.0 & 15080.0 & 14400.0 & 14750.0 & 2.99635e8 & $\\dots$ \\\\\n",
       "\t17 & 2023-01-23T10:33:54 & 363811 & 14760.0 & 15030.0 & 14070.0 & 14570.0 & 2.87501e8 & $\\dots$ \\\\\n",
       "\t18 & 2023-01-25T11:55:00 & 381685 & 14560.0 & 14640.0 & 13150.0 & 13320.0 & 2.57014e8 & $\\dots$ \\\\\n",
       "\t19 & 2023-01-30T10:57:35 & 400315 & 13360.0 & 13460.0 & 12110.0 & 12400.0 & 2.80274e8 & $\\dots$ \\\\\n",
       "\t20 & 2023-02-06T09:19:51 & 419563 & 12410.0 & 12990.0 & 11610.0 & 11800.0 & 2.85723e8 & $\\dots$ \\\\\n",
       "\t21 & 2023-02-14T10:03:33 & 438513 & 11800.0 & 12670.0 & 11770.0 & 12410.0 & 3.03942e8 & $\\dots$ \\\\\n",
       "\t22 & 2023-02-21T09:22:26 & 453675 & 12410.0 & 15430.0 & 12110.0 & 15430.0 & 3.15434e8 & $\\dots$ \\\\\n",
       "\t23 & 2023-02-22T12:19:17 & 470602 & 15430.0 & 16270.0 & 14860.0 & 15800.0 & 3.07985e8 & $\\dots$ \\\\\n",
       "\t24 & 2023-02-26T09:56:55 & 478253 & 15800.0 & 18670.0 & 15790.0 & 18640.0 & 1.81063e8 & $\\dots$ \\\\\n",
       "\t$\\dots$ & $\\dots$ & $\\dots$ & $\\dots$ & $\\dots$ & $\\dots$ & $\\dots$ & $\\dots$ &  \\\\\n",
       "\\end{tabular}\n"
      ],
      "text/plain": [
       "\u001b[1m37×12 DataFrame\u001b[0m\n",
       "\u001b[1m Row \u001b[0m│\u001b[1m Date Time           \u001b[0m\u001b[1m Tick Number \u001b[0m\u001b[1m Open    \u001b[0m\u001b[1m High    \u001b[0m\u001b[1m Low     \u001b[0m\u001b[1m Close   \u001b[0m\u001b[1m C\u001b[0m ⋯\n",
       "     │\u001b[90m DateTime            \u001b[0m\u001b[90m Int64       \u001b[0m\u001b[90m Float64 \u001b[0m\u001b[90m Float64 \u001b[0m\u001b[90m Float64 \u001b[0m\u001b[90m Float64 \u001b[0m\u001b[90m F\u001b[0m ⋯\n",
       "─────┼──────────────────────────────────────────────────────────────────────────\n",
       "   1 │ 2022-09-10T11:59:27        48456  13170.0    NaN      NaN    10240.0    ⋯\n",
       "   2 │ 2022-10-26T11:54:47        68548  10240.0  10360.0   7710.0   7800.0\n",
       "   3 │ 2022-11-07T10:22:54        82853   7820.0  10470.0   7740.0  10380.0\n",
       "   4 │ 2022-11-19T12:02:59       112348  10380.0  11100.0  10040.0  10120.0\n",
       "   5 │ 2022-12-03T11:12:55       130073  10160.0  10860.0  10110.0  10500.0    ⋯\n",
       "   6 │ 2022-12-12T09:21:06       146750  10510.0  10630.0   9480.0  10140.0\n",
       "   7 │ 2022-12-14T11:16:21       163817  10150.0  11590.0  10100.0  11300.0\n",
       "   8 │ 2022-12-21T11:52:45       189325  11300.0  11990.0  11180.0  11580.0\n",
       "  ⋮  │          ⋮                ⋮          ⋮        ⋮        ⋮        ⋮       ⋱\n",
       "  31 │ 2023-03-15T09:04:25       610339  17970.0  19540.0  17960.0  19500.0    ⋯\n",
       "  32 │ 2023-03-18T09:36:38       627595  19500.0  22070.0  19380.0  21810.0\n",
       "  33 │ 2023-03-19T10:08:09       647919  21810.0  22630.0  20900.0  22000.0\n",
       "  34 │ 2023-03-25T09:20:43       662223  22000.0  22300.0  21000.0  21000.0\n",
       "  35 │ 2023-03-26T10:43:58       685164  21000.0  22450.0  20750.0  21400.0    ⋯\n",
       "  36 │ 2023-03-28T09:04:34       705743  21400.0  21840.0  20550.0  21620.0\n",
       "  37 │ 2023-03-29T10:36:25       724073  21620.0  22600.0  21350.0  22270.0\n",
       "\u001b[36m                                                   6 columns and 22 rows omitted\u001b[0m"
      ]
     },
     "metadata": {},
     "output_type": "display_data"
    }
   ],
   "source": [
    "@time fixedVolumeRunBars = handleInput(\n",
    "    \"FixedVolumeRunBars\",\n",
    "    Dict(\n",
    "        Symbol(\"expectedImbalanceWindow\") => 10000,\n",
    "        Symbol(\"initialEstimateOfExpectedNTicksInBar\") => 20000.0,   \n",
    "    ),\n",
    "    df,\n",
    "    batchSize=1_000_000,  \n",
    ")\n",
    "\n",
    "fixedVolumeRunBars"
   ]
  },
  {
   "cell_type": "code",
   "execution_count": 21,
   "metadata": {},
   "outputs": [
    {
     "name": "stdout",
     "output_type": "stream",
     "text": [
      "batch 1 with size 729726\n"
     ]
    },
    {
     "name": "stdout",
     "output_type": "stream",
     "text": [
      " 11.139479 seconds (2.61 M allocations: 2.215 GiB, 4.36% gc time, 2.05% compilation time)\n"
     ]
    },
    {
     "data": {
      "text/html": [
       "<div><div style = \"float: left;\"><span>0×12 DataFrame</span></div><div style = \"clear: both;\"></div></div><div class = \"data-frame\" style = \"overflow-x: scroll;\"><table class = \"data-frame\" style = \"margin-bottom: 6px;\"><thead><tr class = \"header\"><th class = \"rowNumber\" style = \"font-weight: bold; text-align: right;\">Row</th><th style = \"text-align: left;\">Date Time</th><th style = \"text-align: left;\">Tick Number</th><th style = \"text-align: left;\">Open</th><th style = \"text-align: left;\">High</th><th style = \"text-align: left;\">Low</th><th style = \"text-align: left;\">Close</th><th style = \"text-align: left;\">Cumulative Volume</th><th style = \"text-align: left;\">Cumulative Buy Volume</th><th style = \"text-align: left;\">Cumulative Sell Volume</th><th style = \"text-align: left;\">Cumulative Ticks</th><th style = \"text-align: left;\">Cumulative Dollar Value</th><th style = \"text-align: left;\">Threshold</th></tr><tr class = \"subheader headerLastRow\"><th class = \"rowNumber\" style = \"font-weight: bold; text-align: right;\"></th><th title = \"Vector{Any}\" style = \"text-align: left;\">Array…</th><th title = \"Vector{Any}\" style = \"text-align: left;\">Array…</th><th title = \"Vector{Any}\" style = \"text-align: left;\">Array…</th><th title = \"Vector{Any}\" style = \"text-align: left;\">Array…</th><th title = \"Vector{Any}\" style = \"text-align: left;\">Array…</th><th title = \"Vector{Any}\" style = \"text-align: left;\">Array…</th><th title = \"Vector{Any}\" style = \"text-align: left;\">Array…</th><th title = \"Vector{Any}\" style = \"text-align: left;\">Array…</th><th title = \"Vector{Any}\" style = \"text-align: left;\">Array…</th><th title = \"Vector{Any}\" style = \"text-align: left;\">Array…</th><th title = \"Vector{Any}\" style = \"text-align: left;\">Array…</th><th title = \"Vector{Any}\" style = \"text-align: left;\">Array…</th></tr></thead><tbody></tbody></table></div>"
      ],
      "text/latex": [
       "\\begin{tabular}{r|ccccccccc}\n",
       "\t& Date Time & Tick Number & Open & High & Low & Close & Cumulative Volume & Cumulative Buy Volume & \\\\\n",
       "\t\\hline\n",
       "\t& Array… & Array… & Array… & Array… & Array… & Array… & Array… & Array… & \\\\\n",
       "\t\\hline\n",
       "\\end{tabular}\n"
      ],
      "text/plain": [
       "\u001b[1m0×12 DataFrame\u001b[0m\n",
       "\u001b[1m Row \u001b[0m│\u001b[1m Date Time \u001b[0m\u001b[1m Tick Number \u001b[0m\u001b[1m Open   \u001b[0m\u001b[1m High   \u001b[0m\u001b[1m Low    \u001b[0m\u001b[1m Close  \u001b[0m\u001b[1m Cumulative Volu\u001b[0m ⋯\n",
       "     │\u001b[90m Array…    \u001b[0m\u001b[90m Array…      \u001b[0m\u001b[90m Array… \u001b[0m\u001b[90m Array… \u001b[0m\u001b[90m Array… \u001b[0m\u001b[90m Array… \u001b[0m\u001b[90m Array…         \u001b[0m ⋯\n",
       "─────┴──────────────────────────────────────────────────────────────────────────\n",
       "\u001b[36m                                                               6 columns omitted\u001b[0m"
      ]
     },
     "metadata": {},
     "output_type": "display_data"
    }
   ],
   "source": [
    "@time constTickRunBars = handleInput(\n",
    "    \"FixedTickRunBars\",\n",
    "    Dict(\n",
    "        Symbol(\"expectedImbalanceWindow\") => 10000,\n",
    "        Symbol(\"initialEstimateOfExpectedNTicksInBar\") => 20000.0, \n",
    "    ),\n",
    "    df,\n",
    "    batchSize=1_000_000,  \n",
    ")\n",
    "\n",
    "constTickRunBars"
   ]
  }
 ],
 "metadata": {
  "kernelspec": {
   "display_name": "Julia 1.8.1",
   "language": "julia",
   "name": "julia-1.8"
  },
  "language_info": {
   "file_extension": ".jl",
   "mimetype": "application/julia",
   "name": "julia",
   "version": "1.8.1"
  }
 },
 "nbformat": 4,
 "nbformat_minor": 0
}
