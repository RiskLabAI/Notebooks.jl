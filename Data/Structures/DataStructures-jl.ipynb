{
 "cells": [
  {
   "cell_type": "markdown",
   "metadata": {},
   "source": [
    "# Packages"
   ]
  },
  {
   "cell_type": "code",
   "execution_count": 1,
   "metadata": {},
   "outputs": [],
   "source": [
    "using CSV, DataFrames, PyCall, Plots\n",
    "using LinearAlgebra\n",
    "using TimeSeries\n",
    "using TimeSeriesResampler\n",
    "#using Impute\n",
    "using Statistics\n",
    "#using RollingFunctions\n",
    "using Dates\n",
    "using Pandas\n",
    "using Downloads\n",
    "using DataFrames\n",
    "using MarketData"
   ]
  },
  {
   "cell_type": "markdown",
   "metadata": {},
   "source": [
    "# Include jl files"
   ]
  },
  {
   "cell_type": "code",
   "execution_count": 2,
   "metadata": {},
   "outputs": [],
   "source": [
    "include(\"DataStructures.jl\");"
   ]
  },
  {
   "cell_type": "markdown",
   "metadata": {},
   "source": [
    "# Import Tick data"
   ]
  },
  {
   "cell_type": "code",
   "execution_count": 3,
   "metadata": {},
   "outputs": [
    {
     "data": {
      "text/plain": [
       "\"Data.csv\""
      ]
     },
     "metadata": {},
     "output_type": "display_data"
    }
   ],
   "source": [
    "dir = \"https://raw.githubusercontent.com/risk-labratory/data/main/\"\n",
    "url = string(dir, \"IVE_2020.csv\")\n",
    "p = Downloads.download(url, \"Data.csv\")"
   ]
  },
  {
   "cell_type": "code",
   "execution_count": 4,
   "metadata": {},
   "outputs": [
    {
     "data": {
      "text/html": [
       "<div class=\"data-frame\"><p>15 rows × 5 columns</p><table class=\"data-frame\"><thead><tr><th></th><th>dates</th><th>price</th><th>bid</th><th>ask</th><th>size</th></tr><tr><th></th><th title=\"DateTime\">DateTime</th><th title=\"Float64\">Float64</th><th title=\"Float64\">Float64</th><th title=\"Float64\">Float64</th><th title=\"Float64\">Float64</th></tr></thead><tbody><tr><th>1</th><td>2020-01-02T09:30:00</td><td>130.68</td><td>130.59</td><td>130.6</td><td>20625.0</td></tr><tr><th>2</th><td>2020-01-02T09:30:01</td><td>130.5</td><td>130.5</td><td>130.77</td><td>200.0</td></tr><tr><th>3</th><td>2020-01-02T09:30:04</td><td>130.53</td><td>130.52</td><td>130.78</td><td>100.0</td></tr><tr><th>4</th><td>2020-01-02T09:30:04</td><td>130.55</td><td>130.52</td><td>130.78</td><td>100.0</td></tr><tr><th>5</th><td>2020-01-02T09:30:04</td><td>130.53</td><td>130.52</td><td>130.78</td><td>200.0</td></tr><tr><th>6</th><td>2020-01-02T09:30:04</td><td>130.54</td><td>130.52</td><td>130.78</td><td>100.0</td></tr><tr><th>7</th><td>2020-01-02T09:30:04</td><td>130.53</td><td>130.52</td><td>130.78</td><td>300.0</td></tr><tr><th>8</th><td>2020-01-02T09:30:04</td><td>130.52</td><td>130.52</td><td>130.78</td><td>100.0</td></tr><tr><th>9</th><td>2020-01-02T09:30:04</td><td>130.52</td><td>130.52</td><td>130.78</td><td>200.0</td></tr><tr><th>10</th><td>2020-01-02T09:30:04</td><td>130.53</td><td>130.52</td><td>130.78</td><td>400.0</td></tr><tr><th>11</th><td>2020-01-02T09:30:05</td><td>130.55</td><td>130.59</td><td>130.78</td><td>100.0</td></tr><tr><th>12</th><td>2020-01-02T09:30:05</td><td>130.7</td><td>130.59</td><td>130.78</td><td>100.0</td></tr><tr><th>13</th><td>2020-01-02T09:30:05</td><td>130.78</td><td>130.59</td><td>130.78</td><td>200.0</td></tr><tr><th>14</th><td>2020-01-02T09:30:05</td><td>130.7</td><td>130.59</td><td>130.78</td><td>200.0</td></tr><tr><th>15</th><td>2020-01-02T09:30:05</td><td>130.78</td><td>130.59</td><td>130.78</td><td>100.0</td></tr></tbody></table></div>"
      ],
      "text/latex": [
       "\\begin{tabular}{r|ccccc}\n",
       "\t& dates & price & bid & ask & size\\\\\n",
       "\t\\hline\n",
       "\t& DateTime & Float64 & Float64 & Float64 & Float64\\\\\n",
       "\t\\hline\n",
       "\t1 & 2020-01-02T09:30:00 & 130.68 & 130.59 & 130.6 & 20625.0 \\\\\n",
       "\t2 & 2020-01-02T09:30:01 & 130.5 & 130.5 & 130.77 & 200.0 \\\\\n",
       "\t3 & 2020-01-02T09:30:04 & 130.53 & 130.52 & 130.78 & 100.0 \\\\\n",
       "\t4 & 2020-01-02T09:30:04 & 130.55 & 130.52 & 130.78 & 100.0 \\\\\n",
       "\t5 & 2020-01-02T09:30:04 & 130.53 & 130.52 & 130.78 & 200.0 \\\\\n",
       "\t6 & 2020-01-02T09:30:04 & 130.54 & 130.52 & 130.78 & 100.0 \\\\\n",
       "\t7 & 2020-01-02T09:30:04 & 130.53 & 130.52 & 130.78 & 300.0 \\\\\n",
       "\t8 & 2020-01-02T09:30:04 & 130.52 & 130.52 & 130.78 & 100.0 \\\\\n",
       "\t9 & 2020-01-02T09:30:04 & 130.52 & 130.52 & 130.78 & 200.0 \\\\\n",
       "\t10 & 2020-01-02T09:30:04 & 130.53 & 130.52 & 130.78 & 400.0 \\\\\n",
       "\t11 & 2020-01-02T09:30:05 & 130.55 & 130.59 & 130.78 & 100.0 \\\\\n",
       "\t12 & 2020-01-02T09:30:05 & 130.7 & 130.59 & 130.78 & 100.0 \\\\\n",
       "\t13 & 2020-01-02T09:30:05 & 130.78 & 130.59 & 130.78 & 200.0 \\\\\n",
       "\t14 & 2020-01-02T09:30:05 & 130.7 & 130.59 & 130.78 & 200.0 \\\\\n",
       "\t15 & 2020-01-02T09:30:05 & 130.78 & 130.59 & 130.78 & 100.0 \\\\\n",
       "\\end{tabular}\n"
      ],
      "text/plain": [
       "\u001b[1m15×5 DataFrame\u001b[0m\n",
       "\u001b[1m Row \u001b[0m│\u001b[1m dates               \u001b[0m\u001b[1m price   \u001b[0m\u001b[1m bid     \u001b[0m\u001b[1m ask     \u001b[0m\u001b[1m size    \u001b[0m\n",
       "\u001b[1m     \u001b[0m│\u001b[90m DateTime            \u001b[0m\u001b[90m Float64 \u001b[0m\u001b[90m Float64 \u001b[0m\u001b[90m Float64 \u001b[0m\u001b[90m Float64 \u001b[0m\n",
       "─────┼─────────────────────────────────────────────────────────\n",
       "   1 │ 2020-01-02T09:30:00   130.68   130.59   130.6   20625.0\n",
       "   2 │ 2020-01-02T09:30:01   130.5    130.5    130.77    200.0\n",
       "   3 │ 2020-01-02T09:30:04   130.53   130.52   130.78    100.0\n",
       "   4 │ 2020-01-02T09:30:04   130.55   130.52   130.78    100.0\n",
       "   5 │ 2020-01-02T09:30:04   130.53   130.52   130.78    200.0\n",
       "   6 │ 2020-01-02T09:30:04   130.54   130.52   130.78    100.0\n",
       "   7 │ 2020-01-02T09:30:04   130.53   130.52   130.78    300.0\n",
       "   8 │ 2020-01-02T09:30:04   130.52   130.52   130.78    100.0\n",
       "   9 │ 2020-01-02T09:30:04   130.52   130.52   130.78    200.0\n",
       "  10 │ 2020-01-02T09:30:04   130.53   130.52   130.78    400.0\n",
       "  11 │ 2020-01-02T09:30:05   130.55   130.59   130.78    100.0\n",
       "  12 │ 2020-01-02T09:30:05   130.7    130.59   130.78    100.0\n",
       "  13 │ 2020-01-02T09:30:05   130.78   130.59   130.78    200.0\n",
       "  14 │ 2020-01-02T09:30:05   130.7    130.59   130.78    200.0\n",
       "  15 │ 2020-01-02T09:30:05   130.78   130.59   130.78    100.0"
      ]
     },
     "metadata": {},
     "output_type": "display_data"
    }
   ],
   "source": [
    "dataframe = CSV.read(\"Data.csv\", DataFrames.DataFrame, header=0)\n",
    "delete!(dataframe, 1)\n",
    "DataFrames.rename!(dataframe, :Column1 => :dates,:Column2 => :price, :Column3 => :bid, :Column4 => :ask, :Column5 => :size)\n",
    "dataframe.dates = DateTime.(dataframe.dates, \"yyyy-mm-dd HH:MM:SS\")\n",
    "dataframe.price = parse.(Float64, dataframe.price)\n",
    "dataframe.bid = parse.(Float64, dataframe.bid)\n",
    "dataframe.ask = parse.(Float64, dataframe.ask)\n",
    "dataframe.size = parse.(Float64, dataframe.size)\n",
    "dataframe = dataframe[(hour.(dataframe.dates) .>= 9 .&& hour.(dataframe.dates) .< 16), :]\n",
    "first(dataframe, 15)"
   ]
  },
  {
   "cell_type": "code",
   "execution_count": 5,
   "metadata": {},
   "outputs": [
    {
     "data": {
      "text/html": [
       "<div class=\"data-frame\"><p>10 rows × 10 columns (omitted printing of 3 columns)</p><table class=\"data-frame\"><thead><tr><th></th><th>dates</th><th>Open</th><th>High</th><th>Low</th><th>Close</th><th>Volume</th><th>ValueOfTrades</th></tr><tr><th></th><th title=\"DateTime\">DateTime</th><th title=\"Float64\">Float64</th><th title=\"Float64\">Float64</th><th title=\"Float64\">Float64</th><th title=\"Float64\">Float64</th><th title=\"Float64\">Float64</th><th title=\"Float64\">Float64</th></tr></thead><tbody><tr><th>1</th><td>2020-01-02T09:30:00</td><td>130.68</td><td>130.78</td><td>130.37</td><td>130.43</td><td>164048.0</td><td>2.14222e7</td></tr><tr><th>2</th><td>2020-01-02T10:00:00</td><td>130.4</td><td>130.4</td><td>130.022</td><td>130.056</td><td>75227.0</td><td>9.79016e6</td></tr><tr><th>3</th><td>2020-01-02T10:30:00</td><td>130.08</td><td>130.2</td><td>129.971</td><td>130.2</td><td>91006.0</td><td>1.1838e7</td></tr><tr><th>4</th><td>2020-01-02T11:00:00</td><td>130.205</td><td>130.209</td><td>130.08</td><td>130.13</td><td>65182.0</td><td>8.48291e6</td></tr><tr><th>5</th><td>2020-01-02T11:30:00</td><td>130.083</td><td>130.083</td><td>129.938</td><td>130.03</td><td>84253.0</td><td>1.0954e7</td></tr><tr><th>6</th><td>2020-01-02T12:00:00</td><td>130.022</td><td>130.118</td><td>129.98</td><td>130.073</td><td>59420.0</td><td>7.7284e6</td></tr><tr><th>7</th><td>2020-01-02T12:30:00</td><td>130.095</td><td>130.135</td><td>130.042</td><td>130.077</td><td>152349.0</td><td>1.98183e7</td></tr><tr><th>8</th><td>2020-01-02T13:00:00</td><td>130.07</td><td>130.07</td><td>129.957</td><td>129.957</td><td>16861.0</td><td>2.19186e6</td></tr><tr><th>9</th><td>2020-01-02T13:30:00</td><td>129.98</td><td>130.02</td><td>129.94</td><td>129.978</td><td>64199.0</td><td>8.34389e6</td></tr><tr><th>10</th><td>2020-01-02T14:00:00</td><td>129.97</td><td>130.116</td><td>129.97</td><td>130.085</td><td>294131.0</td><td>3.82615e7</td></tr></tbody></table></div>"
      ],
      "text/latex": [
       "\\begin{tabular}{r|cccccccc}\n",
       "\t& dates & Open & High & Low & Close & Volume & ValueOfTrades & \\\\\n",
       "\t\\hline\n",
       "\t& DateTime & Float64 & Float64 & Float64 & Float64 & Float64 & Float64 & \\\\\n",
       "\t\\hline\n",
       "\t1 & 2020-01-02T09:30:00 & 130.68 & 130.78 & 130.37 & 130.43 & 164048.0 & 2.14222e7 & $\\dots$ \\\\\n",
       "\t2 & 2020-01-02T10:00:00 & 130.4 & 130.4 & 130.022 & 130.056 & 75227.0 & 9.79016e6 & $\\dots$ \\\\\n",
       "\t3 & 2020-01-02T10:30:00 & 130.08 & 130.2 & 129.971 & 130.2 & 91006.0 & 1.1838e7 & $\\dots$ \\\\\n",
       "\t4 & 2020-01-02T11:00:00 & 130.205 & 130.209 & 130.08 & 130.13 & 65182.0 & 8.48291e6 & $\\dots$ \\\\\n",
       "\t5 & 2020-01-02T11:30:00 & 130.083 & 130.083 & 129.938 & 130.03 & 84253.0 & 1.0954e7 & $\\dots$ \\\\\n",
       "\t6 & 2020-01-02T12:00:00 & 130.022 & 130.118 & 129.98 & 130.073 & 59420.0 & 7.7284e6 & $\\dots$ \\\\\n",
       "\t7 & 2020-01-02T12:30:00 & 130.095 & 130.135 & 130.042 & 130.077 & 152349.0 & 1.98183e7 & $\\dots$ \\\\\n",
       "\t8 & 2020-01-02T13:00:00 & 130.07 & 130.07 & 129.957 & 129.957 & 16861.0 & 2.19186e6 & $\\dots$ \\\\\n",
       "\t9 & 2020-01-02T13:30:00 & 129.98 & 130.02 & 129.94 & 129.978 & 64199.0 & 8.34389e6 & $\\dots$ \\\\\n",
       "\t10 & 2020-01-02T14:00:00 & 129.97 & 130.116 & 129.97 & 130.085 & 294131.0 & 3.82615e7 & $\\dots$ \\\\\n",
       "\\end{tabular}\n"
      ],
      "text/plain": [
       "\u001b[1m10×10 DataFrame\u001b[0m\n",
       "\u001b[1m Row \u001b[0m│\u001b[1m dates               \u001b[0m\u001b[1m Open    \u001b[0m\u001b[1m High    \u001b[0m\u001b[1m Low     \u001b[0m\u001b[1m Close   \u001b[0m\u001b[1m Volume   \u001b[0m\u001b[1m Valu\u001b[0m ⋯\n",
       "\u001b[1m     \u001b[0m│\u001b[90m DateTime            \u001b[0m\u001b[90m Float64 \u001b[0m\u001b[90m Float64 \u001b[0m\u001b[90m Float64 \u001b[0m\u001b[90m Float64 \u001b[0m\u001b[90m Float64  \u001b[0m\u001b[90m Floa\u001b[0m ⋯\n",
       "─────┼──────────────────────────────────────────────────────────────────────────\n",
       "   1 │ 2020-01-02T09:30:00  130.68   130.78   130.37   130.43   164048.0       ⋯\n",
       "   2 │ 2020-01-02T10:00:00  130.4    130.4    130.022  130.056   75227.0\n",
       "   3 │ 2020-01-02T10:30:00  130.08   130.2    129.971  130.2     91006.0\n",
       "   4 │ 2020-01-02T11:00:00  130.205  130.209  130.08   130.13    65182.0\n",
       "   5 │ 2020-01-02T11:30:00  130.083  130.083  129.938  130.03    84253.0       ⋯\n",
       "   6 │ 2020-01-02T12:00:00  130.022  130.118  129.98   130.073   59420.0\n",
       "   7 │ 2020-01-02T12:30:00  130.095  130.135  130.042  130.077  152349.0\n",
       "   8 │ 2020-01-02T13:00:00  130.07   130.07   129.957  129.957   16861.0\n",
       "   9 │ 2020-01-02T13:30:00  129.98   130.02   129.94   129.978   64199.0       ⋯\n",
       "  10 │ 2020-01-02T14:00:00  129.97   130.116  129.97   130.085  294131.0\n",
       "\u001b[36m                                                               4 columns omitted\u001b[0m"
      ]
     },
     "metadata": {},
     "output_type": "display_data"
    }
   ],
   "source": [
    "ohlcvTime = timeBar(dataframe, 30)\n",
    "first(ohlcvTime, 10)"
   ]
  },
  {
   "cell_type": "code",
   "execution_count": 6,
   "metadata": {},
   "outputs": [
    {
     "data": {
      "text/html": [
       "<div class=\"data-frame\"><p>10 rows × 10 columns (omitted printing of 3 columns)</p><table class=\"data-frame\"><thead><tr><th></th><th>dates</th><th>Open</th><th>High</th><th>Low</th><th>Close</th><th>Volume</th><th>ValueOfTrades</th></tr><tr><th></th><th title=\"DateTime\">DateTime</th><th title=\"Float64\">Float64</th><th title=\"Float64\">Float64</th><th title=\"Float64\">Float64</th><th title=\"Float64\">Float64</th><th title=\"Float64\">Float64</th><th title=\"Float64\">Float64</th></tr></thead><tbody><tr><th>1</th><td>2020-01-02T09:30:00</td><td>130.68</td><td>130.78</td><td>130.5</td><td>130.61</td><td>47574.0</td><td>6.21517e6</td></tr><tr><th>2</th><td>2020-01-02T09:33:10</td><td>130.61</td><td>130.67</td><td>130.45</td><td>130.53</td><td>69207.0</td><td>9.03804e6</td></tr><tr><th>3</th><td>2020-01-02T09:42:59</td><td>130.515</td><td>130.62</td><td>130.37</td><td>130.41</td><td>44946.0</td><td>5.86627e6</td></tr><tr><th>4</th><td>2020-01-02T09:56:38</td><td>130.403</td><td>130.46</td><td>130.065</td><td>130.118</td><td>38961.0</td><td>5.07294e6</td></tr><tr><th>5</th><td>2020-01-02T10:18:03</td><td>130.118</td><td>130.16</td><td>130.022</td><td>130.072</td><td>48107.0</td><td>6.25818e6</td></tr><tr><th>6</th><td>2020-01-02T10:37:04</td><td>130.075</td><td>130.078</td><td>129.971</td><td>130.035</td><td>24254.0</td><td>3.15398e6</td></tr><tr><th>7</th><td>2020-01-02T10:52:14</td><td>130.032</td><td>130.209</td><td>129.995</td><td>129.995</td><td>125485.0</td><td>1.63281e7</td></tr><tr><th>8</th><td>2020-01-02T11:35:24</td><td>129.96</td><td>130.109</td><td>129.938</td><td>130.063</td><td>120848.0</td><td>1.57131e7</td></tr><tr><th>9</th><td>2020-01-02T12:15:03</td><td>130.05</td><td>130.135</td><td>130.036</td><td>130.08</td><td>113645.0</td><td>1.47834e7</td></tr><tr><th>10</th><td>2020-01-02T12:50:10</td><td>130.075</td><td>130.1</td><td>129.963</td><td>129.963</td><td>64218.0</td><td>8.35364e6</td></tr></tbody></table></div>"
      ],
      "text/latex": [
       "\\begin{tabular}{r|cccccccc}\n",
       "\t& dates & Open & High & Low & Close & Volume & ValueOfTrades & \\\\\n",
       "\t\\hline\n",
       "\t& DateTime & Float64 & Float64 & Float64 & Float64 & Float64 & Float64 & \\\\\n",
       "\t\\hline\n",
       "\t1 & 2020-01-02T09:30:00 & 130.68 & 130.78 & 130.5 & 130.61 & 47574.0 & 6.21517e6 & $\\dots$ \\\\\n",
       "\t2 & 2020-01-02T09:33:10 & 130.61 & 130.67 & 130.45 & 130.53 & 69207.0 & 9.03804e6 & $\\dots$ \\\\\n",
       "\t3 & 2020-01-02T09:42:59 & 130.515 & 130.62 & 130.37 & 130.41 & 44946.0 & 5.86627e6 & $\\dots$ \\\\\n",
       "\t4 & 2020-01-02T09:56:38 & 130.403 & 130.46 & 130.065 & 130.118 & 38961.0 & 5.07294e6 & $\\dots$ \\\\\n",
       "\t5 & 2020-01-02T10:18:03 & 130.118 & 130.16 & 130.022 & 130.072 & 48107.0 & 6.25818e6 & $\\dots$ \\\\\n",
       "\t6 & 2020-01-02T10:37:04 & 130.075 & 130.078 & 129.971 & 130.035 & 24254.0 & 3.15398e6 & $\\dots$ \\\\\n",
       "\t7 & 2020-01-02T10:52:14 & 130.032 & 130.209 & 129.995 & 129.995 & 125485.0 & 1.63281e7 & $\\dots$ \\\\\n",
       "\t8 & 2020-01-02T11:35:24 & 129.96 & 130.109 & 129.938 & 130.063 & 120848.0 & 1.57131e7 & $\\dots$ \\\\\n",
       "\t9 & 2020-01-02T12:15:03 & 130.05 & 130.135 & 130.036 & 130.08 & 113645.0 & 1.47834e7 & $\\dots$ \\\\\n",
       "\t10 & 2020-01-02T12:50:10 & 130.075 & 130.1 & 129.963 & 129.963 & 64218.0 & 8.35364e6 & $\\dots$ \\\\\n",
       "\\end{tabular}\n"
      ],
      "text/plain": [
       "\u001b[1m10×10 DataFrame\u001b[0m\n",
       "\u001b[1m Row \u001b[0m│\u001b[1m dates               \u001b[0m\u001b[1m Open    \u001b[0m\u001b[1m High    \u001b[0m\u001b[1m Low     \u001b[0m\u001b[1m Close   \u001b[0m\u001b[1m Volume   \u001b[0m\u001b[1m Valu\u001b[0m ⋯\n",
       "\u001b[1m     \u001b[0m│\u001b[90m DateTime            \u001b[0m\u001b[90m Float64 \u001b[0m\u001b[90m Float64 \u001b[0m\u001b[90m Float64 \u001b[0m\u001b[90m Float64 \u001b[0m\u001b[90m Float64  \u001b[0m\u001b[90m Floa\u001b[0m ⋯\n",
       "─────┼──────────────────────────────────────────────────────────────────────────\n",
       "   1 │ 2020-01-02T09:30:00  130.68   130.78   130.5    130.61    47574.0       ⋯\n",
       "   2 │ 2020-01-02T09:33:10  130.61   130.67   130.45   130.53    69207.0\n",
       "   3 │ 2020-01-02T09:42:59  130.515  130.62   130.37   130.41    44946.0\n",
       "   4 │ 2020-01-02T09:56:38  130.403  130.46   130.065  130.118   38961.0\n",
       "   5 │ 2020-01-02T10:18:03  130.118  130.16   130.022  130.072   48107.0       ⋯\n",
       "   6 │ 2020-01-02T10:37:04  130.075  130.078  129.971  130.035   24254.0\n",
       "   7 │ 2020-01-02T10:52:14  130.032  130.209  129.995  129.995  125485.0\n",
       "   8 │ 2020-01-02T11:35:24  129.96   130.109  129.938  130.063  120848.0\n",
       "   9 │ 2020-01-02T12:15:03  130.05   130.135  130.036  130.08   113645.0       ⋯\n",
       "  10 │ 2020-01-02T12:50:10  130.075  130.1    129.963  129.963   64218.0\n",
       "\u001b[36m                                                               4 columns omitted\u001b[0m"
      ]
     },
     "metadata": {},
     "output_type": "display_data"
    }
   ],
   "source": [
    "timeBarLen = size(ohlcvTime)[1]\n",
    "ohlcvTick = tickBar(dataframe, nothing, timeBarLen)\n",
    "first(ohlcvTick, 10)"
   ]
  },
  {
   "cell_type": "code",
   "execution_count": 7,
   "metadata": {},
   "outputs": [
    {
     "data": {
      "text/html": [
       "<div class=\"data-frame\"><p>10 rows × 10 columns (omitted printing of 3 columns)</p><table class=\"data-frame\"><thead><tr><th></th><th>dates</th><th>Open</th><th>High</th><th>Low</th><th>Close</th><th>Volume</th><th>ValueOfTrades</th></tr><tr><th></th><th title=\"DateTime\">DateTime</th><th title=\"Float64\">Float64</th><th title=\"Float64\">Float64</th><th title=\"Float64\">Float64</th><th title=\"Float64\">Float64</th><th title=\"Float64\">Float64</th><th title=\"Float64\">Float64</th></tr></thead><tbody><tr><th>1</th><td>2020-01-02T09:30:00</td><td>130.68</td><td>130.78</td><td>130.5</td><td>130.59</td><td>36253.0</td><td>4.73681e6</td></tr><tr><th>2</th><td>2020-01-02T09:32:50</td><td>130.57</td><td>130.62</td><td>130.557</td><td>130.62</td><td>12521.0</td><td>1.63509e6</td></tr><tr><th>3</th><td>2020-01-02T09:33:22</td><td>130.61</td><td>130.67</td><td>130.48</td><td>130.54</td><td>61782.0</td><td>8.06882e6</td></tr><tr><th>4</th><td>2020-01-02T09:37:19</td><td>130.54</td><td>130.62</td><td>130.45</td><td>130.58</td><td>37265.0</td><td>4.86451e6</td></tr><tr><th>5</th><td>2020-01-02T09:48:02</td><td>130.58</td><td>130.595</td><td>130.095</td><td>130.095</td><td>37144.0</td><td>4.84167e6</td></tr><tr><th>6</th><td>2020-01-02T10:16:44</td><td>130.095</td><td>130.16</td><td>130.065</td><td>130.1</td><td>36842.0</td><td>4.79357e6</td></tr><tr><th>7</th><td>2020-01-02T10:20:38</td><td>130.116</td><td>130.134</td><td>129.99</td><td>129.99</td><td>36861.0</td><td>4.79422e6</td></tr><tr><th>8</th><td>2020-01-02T10:38:52</td><td>129.988</td><td>130.137</td><td>129.971</td><td>130.11</td><td>21133.0</td><td>2.74811e6</td></tr><tr><th>9</th><td>2020-01-02T10:56:49</td><td>130.1</td><td>130.209</td><td>130.1</td><td>130.198</td><td>53176.0</td><td>6.91857e6</td></tr><tr><th>10</th><td>2020-01-02T11:01:53</td><td>130.2</td><td>130.2</td><td>130.08</td><td>130.13</td><td>35967.0</td><td>4.68072e6</td></tr></tbody></table></div>"
      ],
      "text/latex": [
       "\\begin{tabular}{r|cccccccc}\n",
       "\t& dates & Open & High & Low & Close & Volume & ValueOfTrades & \\\\\n",
       "\t\\hline\n",
       "\t& DateTime & Float64 & Float64 & Float64 & Float64 & Float64 & Float64 & \\\\\n",
       "\t\\hline\n",
       "\t1 & 2020-01-02T09:30:00 & 130.68 & 130.78 & 130.5 & 130.59 & 36253.0 & 4.73681e6 & $\\dots$ \\\\\n",
       "\t2 & 2020-01-02T09:32:50 & 130.57 & 130.62 & 130.557 & 130.62 & 12521.0 & 1.63509e6 & $\\dots$ \\\\\n",
       "\t3 & 2020-01-02T09:33:22 & 130.61 & 130.67 & 130.48 & 130.54 & 61782.0 & 8.06882e6 & $\\dots$ \\\\\n",
       "\t4 & 2020-01-02T09:37:19 & 130.54 & 130.62 & 130.45 & 130.58 & 37265.0 & 4.86451e6 & $\\dots$ \\\\\n",
       "\t5 & 2020-01-02T09:48:02 & 130.58 & 130.595 & 130.095 & 130.095 & 37144.0 & 4.84167e6 & $\\dots$ \\\\\n",
       "\t6 & 2020-01-02T10:16:44 & 130.095 & 130.16 & 130.065 & 130.1 & 36842.0 & 4.79357e6 & $\\dots$ \\\\\n",
       "\t7 & 2020-01-02T10:20:38 & 130.116 & 130.134 & 129.99 & 129.99 & 36861.0 & 4.79422e6 & $\\dots$ \\\\\n",
       "\t8 & 2020-01-02T10:38:52 & 129.988 & 130.137 & 129.971 & 130.11 & 21133.0 & 2.74811e6 & $\\dots$ \\\\\n",
       "\t9 & 2020-01-02T10:56:49 & 130.1 & 130.209 & 130.1 & 130.198 & 53176.0 & 6.91857e6 & $\\dots$ \\\\\n",
       "\t10 & 2020-01-02T11:01:53 & 130.2 & 130.2 & 130.08 & 130.13 & 35967.0 & 4.68072e6 & $\\dots$ \\\\\n",
       "\\end{tabular}\n"
      ],
      "text/plain": [
       "\u001b[1m10×10 DataFrame\u001b[0m\n",
       "\u001b[1m Row \u001b[0m│\u001b[1m dates               \u001b[0m\u001b[1m Open    \u001b[0m\u001b[1m High    \u001b[0m\u001b[1m Low     \u001b[0m\u001b[1m Close   \u001b[0m\u001b[1m Volume  \u001b[0m\u001b[1m Value\u001b[0m ⋯\n",
       "\u001b[1m     \u001b[0m│\u001b[90m DateTime            \u001b[0m\u001b[90m Float64 \u001b[0m\u001b[90m Float64 \u001b[0m\u001b[90m Float64 \u001b[0m\u001b[90m Float64 \u001b[0m\u001b[90m Float64 \u001b[0m\u001b[90m Float\u001b[0m ⋯\n",
       "─────┼──────────────────────────────────────────────────────────────────────────\n",
       "   1 │ 2020-01-02T09:30:00  130.68   130.78   130.5    130.59   36253.0      4 ⋯\n",
       "   2 │ 2020-01-02T09:32:50  130.57   130.62   130.557  130.62   12521.0      1\n",
       "   3 │ 2020-01-02T09:33:22  130.61   130.67   130.48   130.54   61782.0      8\n",
       "   4 │ 2020-01-02T09:37:19  130.54   130.62   130.45   130.58   37265.0      4\n",
       "   5 │ 2020-01-02T09:48:02  130.58   130.595  130.095  130.095  37144.0      4 ⋯\n",
       "   6 │ 2020-01-02T10:16:44  130.095  130.16   130.065  130.1    36842.0      4\n",
       "   7 │ 2020-01-02T10:20:38  130.116  130.134  129.99   129.99   36861.0      4\n",
       "   8 │ 2020-01-02T10:38:52  129.988  130.137  129.971  130.11   21133.0      2\n",
       "   9 │ 2020-01-02T10:56:49  130.1    130.209  130.1    130.198  53176.0      6 ⋯\n",
       "  10 │ 2020-01-02T11:01:53  130.2    130.2    130.08   130.13   35967.0      4\n",
       "\u001b[36m                                                               4 columns omitted\u001b[0m"
      ]
     },
     "metadata": {},
     "output_type": "display_data"
    }
   ],
   "source": [
    "timeBarLen = size(ohlcvTime)[1]\n",
    "ohlcvVolume = volumeBar(dataframe, nothing, timeBarLen)\n",
    "first(ohlcvVolume, 10)"
   ]
  },
  {
   "cell_type": "code",
   "execution_count": 8,
   "metadata": {},
   "outputs": [
    {
     "data": {
      "text/html": [
       "<div class=\"data-frame\"><p>10 rows × 10 columns (omitted printing of 3 columns)</p><table class=\"data-frame\"><thead><tr><th></th><th>dates</th><th>Open</th><th>High</th><th>Low</th><th>Close</th><th>Volume</th><th>ValueOfTrades</th></tr><tr><th></th><th title=\"DateTime\">DateTime</th><th title=\"Float64\">Float64</th><th title=\"Float64\">Float64</th><th title=\"Float64\">Float64</th><th title=\"Float64\">Float64</th><th title=\"Float64\">Float64</th><th title=\"Float64\">Float64</th></tr></thead><tbody><tr><th>1</th><td>2020-01-02T09:30:00</td><td>130.68</td><td>130.78</td><td>130.5</td><td>130.74</td><td>31371.0</td><td>4.09912e6</td></tr><tr><th>2</th><td>2020-01-02T09:30:12</td><td>130.67</td><td>130.705</td><td>130.557</td><td>130.62</td><td>17403.0</td><td>2.27279e6</td></tr><tr><th>3</th><td>2020-01-02T09:33:22</td><td>130.61</td><td>130.67</td><td>130.45</td><td>130.536</td><td>73744.0</td><td>9.63018e6</td></tr><tr><th>4</th><td>2020-01-02T09:44:31</td><td>130.54</td><td>130.62</td><td>130.37</td><td>130.37</td><td>34400.0</td><td>4.49026e6</td></tr><tr><th>5</th><td>2020-01-02T09:55:33</td><td>130.379</td><td>130.46</td><td>130.095</td><td>130.096</td><td>30750.0</td><td>4.00621e6</td></tr><tr><th>6</th><td>2020-01-02T10:16:44</td><td>130.096</td><td>130.16</td><td>130.065</td><td>130.12</td><td>28967.0</td><td>3.76904e6</td></tr><tr><th>7</th><td>2020-01-02T10:20:23</td><td>130.1</td><td>130.134</td><td>130.022</td><td>130.066</td><td>34782.0</td><td>4.52405e6</td></tr><tr><th>8</th><td>2020-01-02T10:37:10</td><td>130.066</td><td>130.137</td><td>129.971</td><td>130.11</td><td>28384.0</td><td>3.69116e6</td></tr><tr><th>9</th><td>2020-01-02T10:56:49</td><td>130.1</td><td>130.209</td><td>130.1</td><td>130.175</td><td>60491.0</td><td>7.87075e6</td></tr><tr><th>10</th><td>2020-01-02T11:15:23</td><td>130.18</td><td>130.18</td><td>130.08</td><td>130.16</td><td>37065.0</td><td>4.82338e6</td></tr></tbody></table></div>"
      ],
      "text/latex": [
       "\\begin{tabular}{r|cccccccc}\n",
       "\t& dates & Open & High & Low & Close & Volume & ValueOfTrades & \\\\\n",
       "\t\\hline\n",
       "\t& DateTime & Float64 & Float64 & Float64 & Float64 & Float64 & Float64 & \\\\\n",
       "\t\\hline\n",
       "\t1 & 2020-01-02T09:30:00 & 130.68 & 130.78 & 130.5 & 130.74 & 31371.0 & 4.09912e6 & $\\dots$ \\\\\n",
       "\t2 & 2020-01-02T09:30:12 & 130.67 & 130.705 & 130.557 & 130.62 & 17403.0 & 2.27279e6 & $\\dots$ \\\\\n",
       "\t3 & 2020-01-02T09:33:22 & 130.61 & 130.67 & 130.45 & 130.536 & 73744.0 & 9.63018e6 & $\\dots$ \\\\\n",
       "\t4 & 2020-01-02T09:44:31 & 130.54 & 130.62 & 130.37 & 130.37 & 34400.0 & 4.49026e6 & $\\dots$ \\\\\n",
       "\t5 & 2020-01-02T09:55:33 & 130.379 & 130.46 & 130.095 & 130.096 & 30750.0 & 4.00621e6 & $\\dots$ \\\\\n",
       "\t6 & 2020-01-02T10:16:44 & 130.096 & 130.16 & 130.065 & 130.12 & 28967.0 & 3.76904e6 & $\\dots$ \\\\\n",
       "\t7 & 2020-01-02T10:20:23 & 130.1 & 130.134 & 130.022 & 130.066 & 34782.0 & 4.52405e6 & $\\dots$ \\\\\n",
       "\t8 & 2020-01-02T10:37:10 & 130.066 & 130.137 & 129.971 & 130.11 & 28384.0 & 3.69116e6 & $\\dots$ \\\\\n",
       "\t9 & 2020-01-02T10:56:49 & 130.1 & 130.209 & 130.1 & 130.175 & 60491.0 & 7.87075e6 & $\\dots$ \\\\\n",
       "\t10 & 2020-01-02T11:15:23 & 130.18 & 130.18 & 130.08 & 130.16 & 37065.0 & 4.82338e6 & $\\dots$ \\\\\n",
       "\\end{tabular}\n"
      ],
      "text/plain": [
       "\u001b[1m10×10 DataFrame\u001b[0m\n",
       "\u001b[1m Row \u001b[0m│\u001b[1m dates               \u001b[0m\u001b[1m Open    \u001b[0m\u001b[1m High    \u001b[0m\u001b[1m Low     \u001b[0m\u001b[1m Close   \u001b[0m\u001b[1m Volume  \u001b[0m\u001b[1m Value\u001b[0m ⋯\n",
       "\u001b[1m     \u001b[0m│\u001b[90m DateTime            \u001b[0m\u001b[90m Float64 \u001b[0m\u001b[90m Float64 \u001b[0m\u001b[90m Float64 \u001b[0m\u001b[90m Float64 \u001b[0m\u001b[90m Float64 \u001b[0m\u001b[90m Float\u001b[0m ⋯\n",
       "─────┼──────────────────────────────────────────────────────────────────────────\n",
       "   1 │ 2020-01-02T09:30:00  130.68   130.78   130.5    130.74   31371.0      4 ⋯\n",
       "   2 │ 2020-01-02T09:30:12  130.67   130.705  130.557  130.62   17403.0      2\n",
       "   3 │ 2020-01-02T09:33:22  130.61   130.67   130.45   130.536  73744.0      9\n",
       "   4 │ 2020-01-02T09:44:31  130.54   130.62   130.37   130.37   34400.0      4\n",
       "   5 │ 2020-01-02T09:55:33  130.379  130.46   130.095  130.096  30750.0      4 ⋯\n",
       "   6 │ 2020-01-02T10:16:44  130.096  130.16   130.065  130.12   28967.0      3\n",
       "   7 │ 2020-01-02T10:20:23  130.1    130.134  130.022  130.066  34782.0      4\n",
       "   8 │ 2020-01-02T10:37:10  130.066  130.137  129.971  130.11   28384.0      3\n",
       "   9 │ 2020-01-02T10:56:49  130.1    130.209  130.1    130.175  60491.0      7 ⋯\n",
       "  10 │ 2020-01-02T11:15:23  130.18   130.18   130.08   130.16   37065.0      4\n",
       "\u001b[36m                                                               4 columns omitted\u001b[0m"
      ]
     },
     "metadata": {},
     "output_type": "display_data"
    }
   ],
   "source": [
    "ohlcvDollar = dollarBar(dataframe, nothing, timeBarLen)\n",
    "first(ohlcvDollar, 10)"
   ]
  },
  {
   "cell_type": "markdown",
   "metadata": {},
   "source": [
    "# Graph\n",
    "We provide a series of graphs for. .."
   ]
  },
  {
   "cell_type": "code",
   "execution_count": 9,
   "metadata": {},
   "outputs": [],
   "source": [
    "countAverage = DataFrames.DataFrame()\n",
    "timeArrayOfTime = TimeArray(ohlcvTime[!, :dates], Float64.(ohlcvTime[!, :TickCount]))\n",
    "timeArrayOfTick = TimeArray(ohlcvTick[!, :dates], Float64.(ohlcvTick[!, :TickCount]))\n",
    "timeArrayOfVolume = TimeArray(ohlcvVolume[!, :dates], Float64.(ohlcvVolume[!, :TickCount]))\n",
    "timeArrayOfDollar = TimeArray(ohlcvDollar[!, :dates], Float64.(ohlcvDollar[!, :TickCount]));"
   ]
  },
  {
   "cell_type": "code",
   "execution_count": 10,
   "metadata": {},
   "outputs": [
    {
     "data": {
      "text/html": [
       "<div class=\"data-frame\"><p>5 rows × 5 columns</p><table class=\"data-frame\"><thead><tr><th></th><th>Dates</th><th>Time</th><th>Tick</th><th>Volume</th><th>Dollar</th></tr><tr><th></th><th title=\"Date\">Date</th><th title=\"Float64\">Float64</th><th title=\"Float64\">Float64</th><th title=\"Float64\">Float64</th><th title=\"Float64\">Float64</th></tr></thead><tbody><tr><th>1</th><td>2019-12-30</td><td>91.0</td><td>84.0</td><td>52.6222</td><td>48.2857</td></tr><tr><th>2</th><td>2020-01-06</td><td>61.2462</td><td>84.0</td><td>78.3725</td><td>67.6441</td></tr><tr><th>3</th><td>2020-01-13</td><td>62.2154</td><td>84.0</td><td>95.8571</td><td>80.68</td></tr><tr><th>4</th><td>2020-01-20</td><td>61.5577</td><td>84.0</td><td>88.9444</td><td>74.5909</td></tr><tr><th>5</th><td>2020-01-27</td><td>78.2388</td><td>84.0</td><td>102.765</td><td>88.9828</td></tr></tbody></table></div>"
      ],
      "text/latex": [
       "\\begin{tabular}{r|ccccc}\n",
       "\t& Dates & Time & Tick & Volume & Dollar\\\\\n",
       "\t\\hline\n",
       "\t& Date & Float64 & Float64 & Float64 & Float64\\\\\n",
       "\t\\hline\n",
       "\t1 & 2019-12-30 & 91.0 & 84.0 & 52.6222 & 48.2857 \\\\\n",
       "\t2 & 2020-01-06 & 61.2462 & 84.0 & 78.3725 & 67.6441 \\\\\n",
       "\t3 & 2020-01-13 & 62.2154 & 84.0 & 95.8571 & 80.68 \\\\\n",
       "\t4 & 2020-01-20 & 61.5577 & 84.0 & 88.9444 & 74.5909 \\\\\n",
       "\t5 & 2020-01-27 & 78.2388 & 84.0 & 102.765 & 88.9828 \\\\\n",
       "\\end{tabular}\n"
      ],
      "text/plain": [
       "\u001b[1m5×5 DataFrame\u001b[0m\n",
       "\u001b[1m Row \u001b[0m│\u001b[1m Dates      \u001b[0m\u001b[1m Time    \u001b[0m\u001b[1m Tick    \u001b[0m\u001b[1m Volume   \u001b[0m\u001b[1m Dollar  \u001b[0m\n",
       "\u001b[1m     \u001b[0m│\u001b[90m Date       \u001b[0m\u001b[90m Float64 \u001b[0m\u001b[90m Float64 \u001b[0m\u001b[90m Float64  \u001b[0m\u001b[90m Float64 \u001b[0m\n",
       "─────┼─────────────────────────────────────────────────\n",
       "   1 │ 2019-12-30  91.0        84.0   52.6222  48.2857\n",
       "   2 │ 2020-01-06  61.2462     84.0   78.3725  67.6441\n",
       "   3 │ 2020-01-13  62.2154     84.0   95.8571  80.68\n",
       "   4 │ 2020-01-20  61.5577     84.0   88.9444  74.5909\n",
       "   5 │ 2020-01-27  78.2388     84.0  102.765   88.9828"
      ]
     },
     "metadata": {},
     "output_type": "display_data"
    }
   ],
   "source": [
    "countAverage[!, :Dates] = Date.(timestamp(mean(TimeSeriesResampler.resample(timeArrayOfTime[:A], Dates.Week(1)))))\n",
    "countAverage[!, :Time] = values(mean(TimeSeriesResampler.resample(timeArrayOfTime[:A], Dates.Week(1))))\n",
    "countAverage[!, :Tick] = values(mean(TimeSeriesResampler.resample(timeArrayOfTick[:A], Dates.Week(1))))\n",
    "countAverage[!, :Volume] = values(mean(TimeSeriesResampler.resample(timeArrayOfVolume[:A], Dates.Week(1))))\n",
    "countAverage[!, :Dollar] = values(mean(TimeSeriesResampler.resample(timeArrayOfDollar[:A], Dates.Week(1))))\n",
    "countAverage[1:5, :]"
   ]
  },
  {
   "cell_type": "code",
   "execution_count": 11,
   "metadata": {},
   "outputs": [],
   "source": [
    "pt = Plots.plot(countAverage[!, :Dates], countAverage[!, :Time], label = \"Time\", background = :transparent)\n",
    "pt = plot!(countAverage[!, :Dates],countAverage[!, :Tick], label = \"Tick\", background = :transparent)\n",
    "pt = plot!(countAverage[!, :Dates],countAverage[!, :Volume], label = \"Volume\", background = :transparent)\n",
    "pt = plot!(countAverage[!, :Dates],countAverage[!, :Dollar], label = \"Dollar\", background = :transparent)\n",
    "savefig(pt, \"Figs/bar_frequency.png\")"
   ]
  },
  {
   "cell_type": "code",
   "execution_count": 5,
   "metadata": {},
   "outputs": [
    {
     "data": {
      "text/html": [
       "<div class=\"data-frame\"><p>10 rows × 7 columns</p><table class=\"data-frame\"><thead><tr><th></th><th>dates</th><th>price</th><th>size</th><th>ret</th><th>label</th><th>volumelabeled</th><th>dollars</th></tr><tr><th></th><th title=\"DateTime\">DateTime</th><th title=\"Float64\">Float64</th><th title=\"Float64\">Float64</th><th title=\"Float64\">Float64</th><th title=\"Float64\">Float64</th><th title=\"Float64\">Float64</th><th title=\"Float64\">Float64</th></tr></thead><tbody><tr><th>1</th><td>2020-03-02T09:00:12</td><td>114.7</td><td>123.0</td><td>8.71878e-5</td><td>1.0</td><td>123.0</td><td>14108.1</td></tr><tr><th>2</th><td>2020-03-02T09:30:00</td><td>115.28</td><td>26670.0</td><td>0.00504393</td><td>1.0</td><td>26670.0</td><td>3.07452e6</td></tr><tr><th>3</th><td>2020-03-02T09:30:07</td><td>115.34</td><td>100.0</td><td>0.000520336</td><td>1.0</td><td>100.0</td><td>11534.0</td></tr><tr><th>4</th><td>2020-03-02T09:30:16</td><td>115.22</td><td>100.0</td><td>-0.00104094</td><td>-1.0</td><td>-100.0</td><td>-11522.0</td></tr><tr><th>5</th><td>2020-03-02T09:30:26</td><td>115.264</td><td>172.0</td><td>0.000379203</td><td>1.0</td><td>172.0</td><td>19825.4</td></tr><tr><th>6</th><td>2020-03-02T09:30:27</td><td>115.253</td><td>557.0</td><td>-9.28349e-5</td><td>-1.0</td><td>-557.0</td><td>-64195.9</td></tr><tr><th>7</th><td>2020-03-02T09:31:00</td><td>115.515</td><td>238.0</td><td>0.00226895</td><td>1.0</td><td>238.0</td><td>27492.5</td></tr><tr><th>8</th><td>2020-03-02T09:31:02</td><td>115.515</td><td>148.0</td><td>0.0</td><td>0.0</td><td>0.0</td><td>0.0</td></tr><tr><th>9</th><td>2020-03-02T09:31:03</td><td>115.42</td><td>100.0</td><td>-0.000821011</td><td>-1.0</td><td>-100.0</td><td>-11542.0</td></tr><tr><th>10</th><td>2020-03-02T09:31:05</td><td>115.454</td><td>340.0</td><td>0.000295399</td><td>1.0</td><td>340.0</td><td>39254.4</td></tr></tbody></table></div>"
      ],
      "text/latex": [
       "\\begin{tabular}{r|ccccccc}\n",
       "\t& dates & price & size & ret & label & volumelabeled & dollars\\\\\n",
       "\t\\hline\n",
       "\t& DateTime & Float64 & Float64 & Float64 & Float64 & Float64 & Float64\\\\\n",
       "\t\\hline\n",
       "\t1 & 2020-03-02T09:00:12 & 114.7 & 123.0 & 8.71878e-5 & 1.0 & 123.0 & 14108.1 \\\\\n",
       "\t2 & 2020-03-02T09:30:00 & 115.28 & 26670.0 & 0.00504393 & 1.0 & 26670.0 & 3.07452e6 \\\\\n",
       "\t3 & 2020-03-02T09:30:07 & 115.34 & 100.0 & 0.000520336 & 1.0 & 100.0 & 11534.0 \\\\\n",
       "\t4 & 2020-03-02T09:30:16 & 115.22 & 100.0 & -0.00104094 & -1.0 & -100.0 & -11522.0 \\\\\n",
       "\t5 & 2020-03-02T09:30:26 & 115.264 & 172.0 & 0.000379203 & 1.0 & 172.0 & 19825.4 \\\\\n",
       "\t6 & 2020-03-02T09:30:27 & 115.253 & 557.0 & -9.28349e-5 & -1.0 & -557.0 & -64195.9 \\\\\n",
       "\t7 & 2020-03-02T09:31:00 & 115.515 & 238.0 & 0.00226895 & 1.0 & 238.0 & 27492.5 \\\\\n",
       "\t8 & 2020-03-02T09:31:02 & 115.515 & 148.0 & 0.0 & 0.0 & 0.0 & 0.0 \\\\\n",
       "\t9 & 2020-03-02T09:31:03 & 115.42 & 100.0 & -0.000821011 & -1.0 & -100.0 & -11542.0 \\\\\n",
       "\t10 & 2020-03-02T09:31:05 & 115.454 & 340.0 & 0.000295399 & 1.0 & 340.0 & 39254.4 \\\\\n",
       "\\end{tabular}\n"
      ],
      "text/plain": [
       "\u001b[1m10×7 DataFrame\u001b[0m\n",
       "\u001b[1m Row \u001b[0m│\u001b[1m dates               \u001b[0m\u001b[1m price   \u001b[0m\u001b[1m size    \u001b[0m\u001b[1m ret          \u001b[0m\u001b[1m label   \u001b[0m\u001b[1m volumelab\u001b[0m ⋯\n",
       "\u001b[1m     \u001b[0m│\u001b[90m DateTime            \u001b[0m\u001b[90m Float64 \u001b[0m\u001b[90m Float64 \u001b[0m\u001b[90m Float64      \u001b[0m\u001b[90m Float64 \u001b[0m\u001b[90m Float64  \u001b[0m ⋯\n",
       "─────┼──────────────────────────────────────────────────────────────────────────\n",
       "   1 │ 2020-03-02T09:00:12  114.7      123.0   8.71878e-5       1.0          1 ⋯\n",
       "   2 │ 2020-03-02T09:30:00  115.28   26670.0   0.00504393       1.0        266\n",
       "   3 │ 2020-03-02T09:30:07  115.34     100.0   0.000520336      1.0          1\n",
       "   4 │ 2020-03-02T09:30:16  115.22     100.0  -0.00104094      -1.0         -1\n",
       "   5 │ 2020-03-02T09:30:26  115.264    172.0   0.000379203      1.0          1 ⋯\n",
       "   6 │ 2020-03-02T09:30:27  115.253    557.0  -9.28349e-5      -1.0         -5\n",
       "   7 │ 2020-03-02T09:31:00  115.515    238.0   0.00226895       1.0          2\n",
       "   8 │ 2020-03-02T09:31:02  115.515    148.0   0.0              0.0\n",
       "   9 │ 2020-03-02T09:31:03  115.42     100.0  -0.000821011     -1.0         -1 ⋯\n",
       "  10 │ 2020-03-02T09:31:05  115.454    340.0   0.000295399      1.0          3\n",
       "\u001b[36m                                                               2 columns omitted\u001b[0m"
      ]
     },
     "metadata": {},
     "output_type": "display_data"
    }
   ],
   "source": [
    "# Select a smaller range\n",
    "dataframe2 = dataframe[(dataframe.dates .>= DateTime(2020, 3, 1) .&& dataframe.dates .<= DateTime(2020, 3, 5)), :]\n",
    "select!(dataframe2, [:dates, :price, :size])\n",
    "unique!(dataframe2)\n",
    "dataframe2.ret = Vector{Union{Float64, Missing}}(log.(dataframe2.price) - log.(circshift(dataframe2.price, 1)))\n",
    "dataframe2.ret[1] = missing\n",
    "dropmissing!(dataframe2)\n",
    "dataframe2.label = sign.(dataframe2.ret)\n",
    "dataframe2.volumelabeled = dataframe2.label .* dataframe2.size\n",
    "dataframe2.dollars = dataframe2.volumelabeled .* dataframe2.price\n",
    "first(dataframe2, 10)"
   ]
  },
  {
   "cell_type": "code",
   "execution_count": 13,
   "metadata": {},
   "outputs": [],
   "source": [
    "ohlcvTime2 = timeBar(dataframe2, 30)\n",
    "ohlcvTick2 = tickBar(dataframe2, 1000, nothing)\n",
    "ohlcvVolume2 = volumeBar(dataframe2, 10000, nothing)\n",
    "ohlcvDollar2 = dollarBar(dataframe2, 500000, nothing);"
   ]
  },
  {
   "cell_type": "code",
   "execution_count": 6,
   "metadata": {},
   "outputs": [
    {
     "data": {
      "text/html": [
       "<div class=\"data-frame\"><p>4 rows × 10 columns (omitted printing of 3 columns)</p><table class=\"data-frame\"><thead><tr><th></th><th>dates</th><th>Open</th><th>High</th><th>Low</th><th>Close</th><th>Volume</th><th>ValueOfTrades</th></tr><tr><th></th><th title=\"DateTime\">DateTime</th><th title=\"Float64\">Float64</th><th title=\"Float64\">Float64</th><th title=\"Float64\">Float64</th><th title=\"Float64\">Float64</th><th title=\"Float64\">Float64</th><th title=\"Float64\">Float64</th></tr></thead><tbody><tr><th>1</th><td>2020-03-02T09:00:12</td><td>114.7</td><td>115.28</td><td>114.7</td><td>115.28</td><td>26793.0</td><td>3.08863e6</td></tr><tr><th>2</th><td>2020-03-02T09:30:07</td><td>115.34</td><td>119.78</td><td>113.96</td><td>119.77</td><td>937632.0</td><td>1.09618e8</td></tr><tr><th>3</th><td>2020-03-03T09:30:00</td><td>119.72</td><td>121.6</td><td>115.401</td><td>121.12</td><td>1.69557e6</td><td>2.01469e8</td></tr><tr><th>4</th><td>2020-03-04T15:52:13</td><td>121.22</td><td>121.43</td><td>121.15</td><td>121.32</td><td>48431.0</td><td>5.87208e6</td></tr></tbody></table></div>"
      ],
      "text/latex": [
       "\\begin{tabular}{r|cccccccc}\n",
       "\t& dates & Open & High & Low & Close & Volume & ValueOfTrades & \\\\\n",
       "\t\\hline\n",
       "\t& DateTime & Float64 & Float64 & Float64 & Float64 & Float64 & Float64 & \\\\\n",
       "\t\\hline\n",
       "\t1 & 2020-03-02T09:00:12 & 114.7 & 115.28 & 114.7 & 115.28 & 26793.0 & 3.08863e6 & $\\dots$ \\\\\n",
       "\t2 & 2020-03-02T09:30:07 & 115.34 & 119.78 & 113.96 & 119.77 & 937632.0 & 1.09618e8 & $\\dots$ \\\\\n",
       "\t3 & 2020-03-03T09:30:00 & 119.72 & 121.6 & 115.401 & 121.12 & 1.69557e6 & 2.01469e8 & $\\dots$ \\\\\n",
       "\t4 & 2020-03-04T15:52:13 & 121.22 & 121.43 & 121.15 & 121.32 & 48431.0 & 5.87208e6 & $\\dots$ \\\\\n",
       "\\end{tabular}\n"
      ],
      "text/plain": [
       "\u001b[1m4×10 DataFrame\u001b[0m\n",
       "\u001b[1m Row \u001b[0m│\u001b[1m dates               \u001b[0m\u001b[1m Open    \u001b[0m\u001b[1m High    \u001b[0m\u001b[1m Low     \u001b[0m\u001b[1m Close   \u001b[0m\u001b[1m Volume        \u001b[0m ⋯\n",
       "\u001b[1m     \u001b[0m│\u001b[90m DateTime            \u001b[0m\u001b[90m Float64 \u001b[0m\u001b[90m Float64 \u001b[0m\u001b[90m Float64 \u001b[0m\u001b[90m Float64 \u001b[0m\u001b[90m Float64       \u001b[0m ⋯\n",
       "─────┼──────────────────────────────────────────────────────────────────────────\n",
       "   1 │ 2020-03-02T09:00:12   114.7    115.28  114.7     115.28   26793.0       ⋯\n",
       "   2 │ 2020-03-02T09:30:07   115.34   119.78  113.96    119.77  937632.0\n",
       "   3 │ 2020-03-03T09:30:00   119.72   121.6   115.401   121.12       1.69557e6\n",
       "   4 │ 2020-03-04T15:52:13   121.22   121.43  121.15    121.32   48431.0\n",
       "\u001b[36m                                                               4 columns omitted\u001b[0m"
      ]
     },
     "metadata": {},
     "output_type": "display_data"
    }
   ],
   "source": [
    "ohlcvInfo, abs_thetas, thresholds = infoBar(dataframe2, \"dollar\", 500)\n",
    "first(ohlcvInfo, 10)"
   ]
  },
  {
   "cell_type": "markdown",
   "metadata": {},
   "source": [
    "# Next part"
   ]
  },
  {
   "cell_type": "code",
   "execution_count": 7,
   "metadata": {},
   "outputs": [
    {
     "data": {
      "text/plain": [
       "\"Data_Prices.csv\""
      ]
     },
     "metadata": {},
     "output_type": "display_data"
    }
   ],
   "source": [
    "stocks = [:AAPL, :MSFT, :GOOG, :AMZN]\n",
    "start = DateTime(2020, 1, 1)\n",
    "allStocks = []\n",
    "for symb in stocks\n",
    "    data = DataFrames.DataFrame(yahoo(symb, YahooOpt(period1 = start)))\n",
    "    priceAdjClose = data.AdjClose\n",
    "    if getindex(stocks, 1) == symb\n",
    "        timestamp = data.timestamp\n",
    "        allStocks = hcat(timestamp, priceAdjClose)\n",
    "    else\n",
    "        allStocks = hcat(allStocks, priceAdjClose)\n",
    "    end\n",
    "end\n",
    "allStocksPrices = DataFrames.DataFrame(allStocks, :auto)\n",
    "allStocksPrices = DataFrames.rename(allStocksPrices, names(allStocksPrices) .=> String.(append!([:Dates], stocks)))\n",
    "CSV.write(\"Data_Prices.csv\", allStocksPrices)"
   ]
  },
  {
   "cell_type": "code",
   "execution_count": 8,
   "metadata": {},
   "outputs": [
    {
     "data": {
      "text/plain": [
       "pctChange (generic function with 1 method)"
      ]
     },
     "metadata": {},
     "output_type": "display_data"
    }
   ],
   "source": [
    "function pctChange(prices::DataFrames.DataFrame)\n",
    "    returns = DataFrames.DataFrame()\n",
    "    for sym in names(prices)[2:end]\n",
    "        x = prices[!, Symbol(sym)]\n",
    "        ret = Array{Float64}(undef, length(x))\n",
    "        ret[1] = NaN\n",
    "        for i ∈ 2:length(x)\n",
    "            ret[i] = (x[i]/x[i-1]) - 1\n",
    "        end\n",
    "        returns[!, Symbol(sym)] = ret\n",
    "    end\n",
    "    return returns\n",
    "end"
   ]
  },
  {
   "cell_type": "code",
   "execution_count": 9,
   "metadata": {},
   "outputs": [
    {
     "data": {
      "text/html": [
       "<div class=\"data-frame\"><p>10 rows × 4 columns</p><table class=\"data-frame\"><thead><tr><th></th><th>AAPL</th><th>MSFT</th><th>GOOG</th><th>AMZN</th></tr><tr><th></th><th title=\"Float64\">Float64</th><th title=\"Float64\">Float64</th><th title=\"Float64\">Float64</th><th title=\"Float64\">Float64</th></tr></thead><tbody><tr><th>1</th><td>NaN</td><td>NaN</td><td>NaN</td><td>NaN</td></tr><tr><th>2</th><td>-0.00972184</td><td>-0.0124518</td><td>-0.00490727</td><td>-0.012139</td></tr><tr><th>3</th><td>0.00796815</td><td>0.00258499</td><td>0.0246572</td><td>0.0148856</td></tr><tr><th>4</th><td>-0.00470304</td><td>-0.00911786</td><td>-0.000624052</td><td>0.00209162</td></tr><tr><th>5</th><td>0.0160863</td><td>0.0159284</td><td>0.00788039</td><td>-0.00780864</td></tr><tr><th>6</th><td>0.021241</td><td>0.0124932</td><td>0.0110445</td><td>0.00479918</td></tr><tr><th>7</th><td>0.0022605</td><td>-0.00462712</td><td>0.00697271</td><td>-0.0094106</td></tr><tr><th>8</th><td>0.0213645</td><td>0.0120243</td><td>0.00664458</td><td>0.00432257</td></tr><tr><th>9</th><td>-0.0135032</td><td>-0.00704317</td><td>-0.00580175</td><td>-0.0115582</td></tr><tr><th>10</th><td>-0.00428562</td><td>0.00647608</td><td>0.0058146</td><td>-0.00396912</td></tr></tbody></table></div>"
      ],
      "text/latex": [
       "\\begin{tabular}{r|cccc}\n",
       "\t& AAPL & MSFT & GOOG & AMZN\\\\\n",
       "\t\\hline\n",
       "\t& Float64 & Float64 & Float64 & Float64\\\\\n",
       "\t\\hline\n",
       "\t1 & NaN & NaN & NaN & NaN \\\\\n",
       "\t2 & -0.00972184 & -0.0124518 & -0.00490727 & -0.012139 \\\\\n",
       "\t3 & 0.00796815 & 0.00258499 & 0.0246572 & 0.0148856 \\\\\n",
       "\t4 & -0.00470304 & -0.00911786 & -0.000624052 & 0.00209162 \\\\\n",
       "\t5 & 0.0160863 & 0.0159284 & 0.00788039 & -0.00780864 \\\\\n",
       "\t6 & 0.021241 & 0.0124932 & 0.0110445 & 0.00479918 \\\\\n",
       "\t7 & 0.0022605 & -0.00462712 & 0.00697271 & -0.0094106 \\\\\n",
       "\t8 & 0.0213645 & 0.0120243 & 0.00664458 & 0.00432257 \\\\\n",
       "\t9 & -0.0135032 & -0.00704317 & -0.00580175 & -0.0115582 \\\\\n",
       "\t10 & -0.00428562 & 0.00647608 & 0.0058146 & -0.00396912 \\\\\n",
       "\\end{tabular}\n"
      ],
      "text/plain": [
       "\u001b[1m10×4 DataFrame\u001b[0m\n",
       "\u001b[1m Row \u001b[0m│\u001b[1m AAPL         \u001b[0m\u001b[1m MSFT         \u001b[0m\u001b[1m GOOG          \u001b[0m\u001b[1m AMZN         \u001b[0m\n",
       "\u001b[1m     \u001b[0m│\u001b[90m Float64      \u001b[0m\u001b[90m Float64      \u001b[0m\u001b[90m Float64       \u001b[0m\u001b[90m Float64      \u001b[0m\n",
       "─────┼─────────────────────────────────────────────────────────\n",
       "   1 │ NaN           NaN           NaN            NaN\n",
       "   2 │  -0.00972184   -0.0124518    -0.00490727    -0.012139\n",
       "   3 │   0.00796815    0.00258499    0.0246572      0.0148856\n",
       "   4 │  -0.00470304   -0.00911786   -0.000624052    0.00209162\n",
       "   5 │   0.0160863     0.0159284     0.00788039    -0.00780864\n",
       "   6 │   0.021241      0.0124932     0.0110445      0.00479918\n",
       "   7 │   0.0022605    -0.00462712    0.00697271    -0.0094106\n",
       "   8 │   0.0213645     0.0120243     0.00664458     0.00432257\n",
       "   9 │  -0.0135032    -0.00704317   -0.00580175    -0.0115582\n",
       "  10 │  -0.00428562    0.00647608    0.0058146     -0.00396912"
      ]
     },
     "metadata": {},
     "output_type": "display_data"
    }
   ],
   "source": [
    "allStocksReturns = pctChange(allStocksPrices)[1:end, :]\n",
    "CSV.write(\"Data_Returns.csv\", allStocksReturns)\n",
    "allStocksReturns[1:10, :]"
   ]
  },
  {
   "cell_type": "markdown",
   "metadata": {},
   "source": [
    "# PCA weight"
   ]
  },
  {
   "cell_type": "code",
   "execution_count": 10,
   "metadata": {},
   "outputs": [
    {
     "data": {
      "text/plain": [
       "4×4 Matrix{Float64}:\n",
       " 1003.3    1466.51    766.848  419.899\n",
       " 1466.51   2491.52   1334.09   746.976\n",
       "  766.848  1334.09    760.354  398.922\n",
       "  419.899   746.976   398.922  649.596"
      ]
     },
     "metadata": {},
     "output_type": "display_data"
    }
   ],
   "source": [
    "covarinace = cov(Matrix(values(allStocks[:, 2:end])))"
   ]
  },
  {
   "cell_type": "code",
   "execution_count": 13,
   "metadata": {},
   "outputs": [
    {
     "data": {
      "text/plain": [
       "4-element Vector{Float64}:\n",
       " -0.004149504016806235\n",
       "  0.010513053367911054\n",
       " -0.014572565793935068\n",
       " -0.00047937106652688565"
      ]
     },
     "metadata": {},
     "output_type": "display_data"
    }
   ],
   "source": [
    "ω = PCAWeights(covarinace, nothing, 0.1)"
   ]
  },
  {
   "cell_type": "markdown",
   "metadata": {},
   "source": [
    "# cusum filter"
   ]
  },
  {
   "cell_type": "code",
   "execution_count": 14,
   "metadata": {},
   "outputs": [
    {
     "data": {
      "text/html": [
       "<div class=\"data-frame\"><p>10 rows × 2 columns</p><table class=\"data-frame\"><thead><tr><th></th><th>Dates</th><th>AAPL</th></tr><tr><th></th><th title=\"Any\">Any</th><th title=\"Any\">Any</th></tr></thead><tbody><tr><th>1</th><td>2020-01-02</td><td>73.6836</td></tr><tr><th>2</th><td>2020-01-03</td><td>72.9672</td></tr><tr><th>3</th><td>2020-01-06</td><td>73.5486</td></tr><tr><th>4</th><td>2020-01-07</td><td>73.2027</td></tr><tr><th>5</th><td>2020-01-08</td><td>74.3803</td></tr><tr><th>6</th><td>2020-01-09</td><td>75.9602</td></tr><tr><th>7</th><td>2020-01-10</td><td>76.1319</td></tr><tr><th>8</th><td>2020-01-13</td><td>77.7584</td></tr><tr><th>9</th><td>2020-01-14</td><td>76.7084</td></tr><tr><th>10</th><td>2020-01-15</td><td>76.3797</td></tr></tbody></table></div>"
      ],
      "text/latex": [
       "\\begin{tabular}{r|cc}\n",
       "\t& Dates & AAPL\\\\\n",
       "\t\\hline\n",
       "\t& Any & Any\\\\\n",
       "\t\\hline\n",
       "\t1 & 2020-01-02 & 73.6836 \\\\\n",
       "\t2 & 2020-01-03 & 72.9672 \\\\\n",
       "\t3 & 2020-01-06 & 73.5486 \\\\\n",
       "\t4 & 2020-01-07 & 73.2027 \\\\\n",
       "\t5 & 2020-01-08 & 74.3803 \\\\\n",
       "\t6 & 2020-01-09 & 75.9602 \\\\\n",
       "\t7 & 2020-01-10 & 76.1319 \\\\\n",
       "\t8 & 2020-01-13 & 77.7584 \\\\\n",
       "\t9 & 2020-01-14 & 76.7084 \\\\\n",
       "\t10 & 2020-01-15 & 76.3797 \\\\\n",
       "\\end{tabular}\n"
      ],
      "text/plain": [
       "\u001b[1m10×2 DataFrame\u001b[0m\n",
       "\u001b[1m Row \u001b[0m│\u001b[1m Dates      \u001b[0m\u001b[1m AAPL    \u001b[0m\n",
       "\u001b[1m     \u001b[0m│\u001b[90m Any        \u001b[0m\u001b[90m Any     \u001b[0m\n",
       "─────┼─────────────────────\n",
       "   1 │ 2020-01-02  73.6836\n",
       "   2 │ 2020-01-03  72.9672\n",
       "   3 │ 2020-01-06  73.5486\n",
       "   4 │ 2020-01-07  73.2027\n",
       "   5 │ 2020-01-08  74.3803\n",
       "   6 │ 2020-01-09  75.9602\n",
       "   7 │ 2020-01-10  76.1319\n",
       "   8 │ 2020-01-13  77.7584\n",
       "   9 │ 2020-01-14  76.7084\n",
       "  10 │ 2020-01-15  76.3797"
      ]
     },
     "metadata": {},
     "output_type": "display_data"
    }
   ],
   "source": [
    "data = allStocksPrices[!, [:Dates, :AAPL]]\n",
    "first(data, 10)"
   ]
  },
  {
   "cell_type": "code",
   "execution_count": 15,
   "metadata": {},
   "outputs": [
    {
     "data": {
      "text/plain": [
       "10-element Vector{Any}:\n",
       " 2020-01-17\n",
       " 2020-02-24\n",
       " 2020-02-27\n",
       " 2020-03-02\n",
       " 2020-03-09\n",
       " 2020-03-12\n",
       " 2020-03-13\n",
       " 2020-03-16\n",
       " 2020-03-20\n",
       " 2020-03-24"
      ]
     },
     "metadata": {},
     "output_type": "display_data"
    }
   ],
   "source": [
    "timeEvents = events(data, 5)\n",
    "first(timeEvents, 10)"
   ]
  },
  {
   "cell_type": "code",
   "execution_count": null,
   "metadata": {},
   "outputs": [],
   "source": []
  }
 ],
 "metadata": {
  "kernelspec": {
   "display_name": "Julia 1.8.1",
   "language": "julia",
   "name": "julia-1.8"
  },
  "language_info": {
   "file_extension": ".jl",
   "mimetype": "application/julia",
   "name": "julia",
   "version": "1.7.2"
  },
  "orig_nbformat": 4
 },
 "nbformat": 4,
 "nbformat_minor": 2
}
