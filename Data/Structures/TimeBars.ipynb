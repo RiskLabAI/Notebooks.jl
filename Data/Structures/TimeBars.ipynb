{
 "cells": [
  {
   "cell_type": "code",
   "execution_count": 6,
   "metadata": {},
   "outputs": [],
   "source": [
    "using CSV, DataFrames\n",
    "include(\"controller/data_structure_controller.jl\");"
   ]
  },
  {
   "cell_type": "code",
   "execution_count": 2,
   "metadata": {},
   "outputs": [],
   "source": [
    "data = CSV.File(\"../ahrom_edited.csv\") |> DataFrame;\n",
    "data.date = DateTime.(data.date, \"yyyy/mm/dd H:M:S.s\");"
   ]
  },
  {
   "cell_type": "markdown",
   "metadata": {},
   "source": [
    "# Time Bars"
   ]
  },
  {
   "cell_type": "code",
   "execution_count": 8,
   "metadata": {},
   "outputs": [
    {
     "name": "stdout",
     "output_type": "stream",
     "text": [
      "batch 1 with size 729726\n"
     ]
    },
    {
     "name": "stdout",
     "output_type": "stream",
     "text": [
      "  1.485545 seconds (11.36 M allocations: 264.160 MiB, 7.25% gc time, 60.67% compilation time)\n"
     ]
    },
    {
     "data": {
      "text/html": [
       "<div><div style = \"float: left;\"><span>786×12 DataFrame</span></div><div style = \"float: right;\"><span style = \"font-style: italic;\">761 rows omitted</span></div><div style = \"clear: both;\"></div></div><div class = \"data-frame\" style = \"overflow-x: scroll;\"><table class = \"data-frame\" style = \"margin-bottom: 6px;\"><thead><tr class = \"header\"><th class = \"rowNumber\" style = \"font-weight: bold; text-align: right;\">Row</th><th style = \"text-align: left;\">Date Time</th><th style = \"text-align: left;\">Tick Number</th><th style = \"text-align: left;\">Open</th><th style = \"text-align: left;\">High</th><th style = \"text-align: left;\">Low</th><th style = \"text-align: left;\">Close</th><th style = \"text-align: left;\">Cumulative Volume</th><th style = \"text-align: left;\">Cumulative Buy Volume</th><th style = \"text-align: left;\">Cumulative Sell Volume</th><th style = \"text-align: left;\">Cumulative Ticks</th><th style = \"text-align: left;\">Cumulative Dollar Value</th><th style = \"text-align: left;\">Threshold</th></tr><tr class = \"subheader headerLastRow\"><th class = \"rowNumber\" style = \"font-weight: bold; text-align: right;\"></th><th title = \"DateTime\" style = \"text-align: left;\">DateTime</th><th title = \"Int64\" style = \"text-align: left;\">Int64</th><th title = \"Float64\" style = \"text-align: left;\">Float64</th><th title = \"Float64\" style = \"text-align: left;\">Float64</th><th title = \"Float64\" style = \"text-align: left;\">Float64</th><th title = \"Float64\" style = \"text-align: left;\">Float64</th><th title = \"Float64\" style = \"text-align: left;\">Float64</th><th title = \"Float64\" style = \"text-align: left;\">Float64</th><th title = \"Float64\" style = \"text-align: left;\">Float64</th><th title = \"Float64\" style = \"text-align: left;\">Float64</th><th title = \"Float64\" style = \"text-align: left;\">Float64</th><th title = \"Float64\" style = \"text-align: left;\">Float64</th></tr></thead><tbody><tr><td class = \"rowNumber\" style = \"font-weight: bold; text-align: right;\">1</td><td style = \"text-align: left;\">2022-06-01T10:00:30</td><td style = \"text-align: right;\">115</td><td style = \"text-align: right;\">13170.0</td><td style = \"text-align: right;\">NaN</td><td style = \"text-align: right;\">NaN</td><td style = \"text-align: right;\">12920.0</td><td style = \"text-align: right;\">694823.0</td><td style = \"text-align: right;\">163269.0</td><td style = \"text-align: right;\">531554.0</td><td style = \"text-align: right;\">115.0</td><td style = \"text-align: right;\">8.99843e9</td><td style = \"text-align: right;\">6.37898e13</td></tr><tr><td class = \"rowNumber\" style = \"font-weight: bold; text-align: right;\">2</td><td style = \"text-align: left;\">2022-06-01T11:00:54</td><td style = \"text-align: right;\">248</td><td style = \"text-align: right;\">12900.0</td><td style = \"text-align: right;\">13390.0</td><td style = \"text-align: right;\">12880.0</td><td style = \"text-align: right;\">13080.0</td><td style = \"text-align: right;\">2.35437e6</td><td style = \"text-align: right;\">1.32162e6</td><td style = \"text-align: right;\">1.03276e6</td><td style = \"text-align: right;\">133.0</td><td style = \"text-align: right;\">3.08685e10</td><td style = \"text-align: right;\">6.37898e13</td></tr><tr><td class = \"rowNumber\" style = \"font-weight: bold; text-align: right;\">3</td><td style = \"text-align: left;\">2022-06-01T12:00:41</td><td style = \"text-align: right;\">372</td><td style = \"text-align: right;\">13080.0</td><td style = \"text-align: right;\">13170.0</td><td style = \"text-align: right;\">13030.0</td><td style = \"text-align: right;\">13070.0</td><td style = \"text-align: right;\">1.63291e6</td><td style = \"text-align: right;\">703736.0</td><td style = \"text-align: right;\">929173.0</td><td style = \"text-align: right;\">124.0</td><td style = \"text-align: right;\">2.13676e10</td><td style = \"text-align: right;\">6.37898e13</td></tr><tr><td class = \"rowNumber\" style = \"font-weight: bold; text-align: right;\">4</td><td style = \"text-align: left;\">2022-06-06T09:05:45</td><td style = \"text-align: right;\">476</td><td style = \"text-align: right;\">13080.0</td><td style = \"text-align: right;\">13200.0</td><td style = \"text-align: right;\">13000.0</td><td style = \"text-align: right;\">13200.0</td><td style = \"text-align: right;\">1.48293e6</td><td style = \"text-align: right;\">936505.0</td><td style = \"text-align: right;\">546428.0</td><td style = \"text-align: right;\">104.0</td><td style = \"text-align: right;\">1.94055e10</td><td style = \"text-align: right;\">6.37902e13</td></tr><tr><td class = \"rowNumber\" style = \"font-weight: bold; text-align: right;\">5</td><td style = \"text-align: left;\">2022-06-06T10:00:03</td><td style = \"text-align: right;\">739</td><td style = \"text-align: right;\">12920.0</td><td style = \"text-align: right;\">13170.0</td><td style = \"text-align: right;\">12220.0</td><td style = \"text-align: right;\">12460.0</td><td style = \"text-align: right;\">3.26525e6</td><td style = \"text-align: right;\">595253.0</td><td style = \"text-align: right;\">2.67e6</td><td style = \"text-align: right;\">263.0</td><td style = \"text-align: right;\">4.14643e10</td><td style = \"text-align: right;\">6.37902e13</td></tr><tr><td class = \"rowNumber\" style = \"font-weight: bold; text-align: right;\">6</td><td style = \"text-align: left;\">2022-06-06T11:00:34</td><td style = \"text-align: right;\">930</td><td style = \"text-align: right;\">12480.0</td><td style = \"text-align: right;\">12580.0</td><td style = \"text-align: right;\">12260.0</td><td style = \"text-align: right;\">12580.0</td><td style = \"text-align: right;\">1.75886e6</td><td style = \"text-align: right;\">935502.0</td><td style = \"text-align: right;\">823357.0</td><td style = \"text-align: right;\">191.0</td><td style = \"text-align: right;\">2.17964e10</td><td style = \"text-align: right;\">6.37902e13</td></tr><tr><td class = \"rowNumber\" style = \"font-weight: bold; text-align: right;\">7</td><td style = \"text-align: left;\">2022-06-06T12:00:45</td><td style = \"text-align: right;\">1030</td><td style = \"text-align: right;\">12570.0</td><td style = \"text-align: right;\">12570.0</td><td style = \"text-align: right;\">12330.0</td><td style = \"text-align: right;\">12420.0</td><td style = \"text-align: right;\">791530.0</td><td style = \"text-align: right;\">191512.0</td><td style = \"text-align: right;\">600018.0</td><td style = \"text-align: right;\">100.0</td><td style = \"text-align: right;\">9.80335e9</td><td style = \"text-align: right;\">6.37902e13</td></tr><tr><td class = \"rowNumber\" style = \"font-weight: bold; text-align: right;\">8</td><td style = \"text-align: left;\">2022-06-07T09:03:00</td><td style = \"text-align: right;\">1153</td><td style = \"text-align: right;\">12420.0</td><td style = \"text-align: right;\">12770.0</td><td style = \"text-align: right;\">12300.0</td><td style = \"text-align: right;\">12770.0</td><td style = \"text-align: right;\">1.10525e6</td><td style = \"text-align: right;\">543882.0</td><td style = \"text-align: right;\">561366.0</td><td style = \"text-align: right;\">123.0</td><td style = \"text-align: right;\">1.36956e10</td><td style = \"text-align: right;\">6.37903e13</td></tr><tr><td class = \"rowNumber\" style = \"font-weight: bold; text-align: right;\">9</td><td style = \"text-align: left;\">2022-06-07T10:00:21</td><td style = \"text-align: right;\">1305</td><td style = \"text-align: right;\">12770.0</td><td style = \"text-align: right;\">12770.0</td><td style = \"text-align: right;\">12370.0</td><td style = \"text-align: right;\">12560.0</td><td style = \"text-align: right;\">1.99117e6</td><td style = \"text-align: right;\">1.57095e6</td><td style = \"text-align: right;\">420220.0</td><td style = \"text-align: right;\">152.0</td><td style = \"text-align: right;\">2.49455e10</td><td style = \"text-align: right;\">6.37903e13</td></tr><tr><td class = \"rowNumber\" style = \"font-weight: bold; text-align: right;\">10</td><td style = \"text-align: left;\">2022-06-07T11:00:30</td><td style = \"text-align: right;\">1469</td><td style = \"text-align: right;\">12560.0</td><td style = \"text-align: right;\">12700.0</td><td style = \"text-align: right;\">12450.0</td><td style = \"text-align: right;\">12450.0</td><td style = \"text-align: right;\">2.9292e6</td><td style = \"text-align: right;\">879546.0</td><td style = \"text-align: right;\">2.04965e6</td><td style = \"text-align: right;\">164.0</td><td style = \"text-align: right;\">3.70056e10</td><td style = \"text-align: right;\">6.37903e13</td></tr><tr><td class = \"rowNumber\" style = \"font-weight: bold; text-align: right;\">11</td><td style = \"text-align: left;\">2022-06-07T12:00:39</td><td style = \"text-align: right;\">1598</td><td style = \"text-align: right;\">12450.0</td><td style = \"text-align: right;\">12510.0</td><td style = \"text-align: right;\">12300.0</td><td style = \"text-align: right;\">12340.0</td><td style = \"text-align: right;\">795006.0</td><td style = \"text-align: right;\">157583.0</td><td style = \"text-align: right;\">637423.0</td><td style = \"text-align: right;\">129.0</td><td style = \"text-align: right;\">9.83513e9</td><td style = \"text-align: right;\">6.37903e13</td></tr><tr><td class = \"rowNumber\" style = \"font-weight: bold; text-align: right;\">12</td><td style = \"text-align: left;\">2022-06-08T09:03:00</td><td style = \"text-align: right;\">1667</td><td style = \"text-align: right;\">12350.0</td><td style = \"text-align: right;\">12450.0</td><td style = \"text-align: right;\">12300.0</td><td style = \"text-align: right;\">12450.0</td><td style = \"text-align: right;\">567640.0</td><td style = \"text-align: right;\">295198.0</td><td style = \"text-align: right;\">272442.0</td><td style = \"text-align: right;\">69.0</td><td style = \"text-align: right;\">7.01422e9</td><td style = \"text-align: right;\">6.37904e13</td></tr><tr><td class = \"rowNumber\" style = \"font-weight: bold; text-align: right;\">13</td><td style = \"text-align: left;\">2022-06-08T10:01:12</td><td style = \"text-align: right;\">1856</td><td style = \"text-align: right;\">12450.0</td><td style = \"text-align: right;\">12750.0</td><td style = \"text-align: right;\">12430.0</td><td style = \"text-align: right;\">12580.0</td><td style = \"text-align: right;\">3.01675e6</td><td style = \"text-align: right;\">972730.0</td><td style = \"text-align: right;\">2.04402e6</td><td style = \"text-align: right;\">189.0</td><td style = \"text-align: right;\">3.79415e10</td><td style = \"text-align: right;\">6.37904e13</td></tr><tr><td style = \"text-align: right;\">&vellip;</td><td style = \"text-align: right;\">&vellip;</td><td style = \"text-align: right;\">&vellip;</td><td style = \"text-align: right;\">&vellip;</td><td style = \"text-align: right;\">&vellip;</td><td style = \"text-align: right;\">&vellip;</td><td style = \"text-align: right;\">&vellip;</td><td style = \"text-align: right;\">&vellip;</td><td style = \"text-align: right;\">&vellip;</td><td style = \"text-align: right;\">&vellip;</td><td style = \"text-align: right;\">&vellip;</td><td style = \"text-align: right;\">&vellip;</td><td style = \"text-align: right;\">&vellip;</td></tr><tr><td class = \"rowNumber\" style = \"font-weight: bold; text-align: right;\">775</td><td style = \"text-align: left;\">2023-03-27T09:03:00</td><td style = \"text-align: right;\">693451</td><td style = \"text-align: right;\">20820.0</td><td style = \"text-align: right;\">20880.0</td><td style = \"text-align: right;\">20570.0</td><td style = \"text-align: right;\">20570.0</td><td style = \"text-align: right;\">1.45117e7</td><td style = \"text-align: right;\">4.02056e6</td><td style = \"text-align: right;\">1.04911e7</td><td style = \"text-align: right;\">1710.0</td><td style = \"text-align: right;\">3.0053e11</td><td style = \"text-align: right;\">6.38156e13</td></tr><tr><td class = \"rowNumber\" style = \"font-weight: bold; text-align: right;\">776</td><td style = \"text-align: left;\">2023-03-27T10:00:02</td><td style = \"text-align: right;\">697563</td><td style = \"text-align: right;\">20570.0</td><td style = \"text-align: right;\">21410.0</td><td style = \"text-align: right;\">20550.0</td><td style = \"text-align: right;\">20980.0</td><td style = \"text-align: right;\">4.41588e7</td><td style = \"text-align: right;\">2.14911e7</td><td style = \"text-align: right;\">2.26676e7</td><td style = \"text-align: right;\">4112.0</td><td style = \"text-align: right;\">9.29689e11</td><td style = \"text-align: right;\">6.38156e13</td></tr><tr><td class = \"rowNumber\" style = \"font-weight: bold; text-align: right;\">777</td><td style = \"text-align: left;\">2023-03-27T11:00:04</td><td style = \"text-align: right;\">701550</td><td style = \"text-align: right;\">20990.0</td><td style = \"text-align: right;\">21760.0</td><td style = \"text-align: right;\">20940.0</td><td style = \"text-align: right;\">21530.0</td><td style = \"text-align: right;\">4.54901e7</td><td style = \"text-align: right;\">2.34313e7</td><td style = \"text-align: right;\">2.20588e7</td><td style = \"text-align: right;\">3987.0</td><td style = \"text-align: right;\">9.75035e11</td><td style = \"text-align: right;\">6.38156e13</td></tr><tr><td class = \"rowNumber\" style = \"font-weight: bold; text-align: right;\">778</td><td style = \"text-align: left;\">2023-03-27T12:00:02</td><td style = \"text-align: right;\">703935</td><td style = \"text-align: right;\">21540.0</td><td style = \"text-align: right;\">21650.0</td><td style = \"text-align: right;\">21060.0</td><td style = \"text-align: right;\">21270.0</td><td style = \"text-align: right;\">1.97142e7</td><td style = \"text-align: right;\">7.14076e6</td><td style = \"text-align: right;\">1.25734e7</td><td style = \"text-align: right;\">2385.0</td><td style = \"text-align: right;\">4.21521e11</td><td style = \"text-align: right;\">6.38156e13</td></tr><tr><td class = \"rowNumber\" style = \"font-weight: bold; text-align: right;\">779</td><td style = \"text-align: left;\">2023-03-28T09:03:00</td><td style = \"text-align: right;\">705441</td><td style = \"text-align: right;\">21260.0</td><td style = \"text-align: right;\">21790.0</td><td style = \"text-align: right;\">21250.0</td><td style = \"text-align: right;\">21790.0</td><td style = \"text-align: right;\">2.19519e7</td><td style = \"text-align: right;\">1.16414e7</td><td style = \"text-align: right;\">1.03105e7</td><td style = \"text-align: right;\">1506.0</td><td style = \"text-align: right;\">4.70401e11</td><td style = \"text-align: right;\">6.38157e13</td></tr><tr><td class = \"rowNumber\" style = \"font-weight: bold; text-align: right;\">780</td><td style = \"text-align: left;\">2023-03-28T10:00:01</td><td style = \"text-align: right;\">710832</td><td style = \"text-align: right;\">21790.0</td><td style = \"text-align: right;\">22370.0</td><td style = \"text-align: right;\">21460.0</td><td style = \"text-align: right;\">21630.0</td><td style = \"text-align: right;\">6.9544e7</td><td style = \"text-align: right;\">3.40171e7</td><td style = \"text-align: right;\">3.5527e7</td><td style = \"text-align: right;\">5391.0</td><td style = \"text-align: right;\">1.51986e12</td><td style = \"text-align: right;\">6.38157e13</td></tr><tr><td class = \"rowNumber\" style = \"font-weight: bold; text-align: right;\">781</td><td style = \"text-align: left;\">2023-03-28T11:00:16</td><td style = \"text-align: right;\">713015</td><td style = \"text-align: right;\">21650.0</td><td style = \"text-align: right;\">21760.0</td><td style = \"text-align: right;\">21350.0</td><td style = \"text-align: right;\">21560.0</td><td style = \"text-align: right;\">2.57276e7</td><td style = \"text-align: right;\">1.15928e7</td><td style = \"text-align: right;\">1.41348e7</td><td style = \"text-align: right;\">2183.0</td><td style = \"text-align: right;\">5.55281e11</td><td style = \"text-align: right;\">6.38157e13</td></tr><tr><td class = \"rowNumber\" style = \"font-weight: bold; text-align: right;\">782</td><td style = \"text-align: left;\">2023-03-28T12:00:00</td><td style = \"text-align: right;\">715005</td><td style = \"text-align: right;\">21560.0</td><td style = \"text-align: right;\">21900.0</td><td style = \"text-align: right;\">21470.0</td><td style = \"text-align: right;\">21700.0</td><td style = \"text-align: right;\">2.37651e7</td><td style = \"text-align: right;\">1.17195e7</td><td style = \"text-align: right;\">1.20456e7</td><td style = \"text-align: right;\">1990.0</td><td style = \"text-align: right;\">5.15744e11</td><td style = \"text-align: right;\">6.38157e13</td></tr><tr><td class = \"rowNumber\" style = \"font-weight: bold; text-align: right;\">783</td><td style = \"text-align: left;\">2023-03-29T09:03:00</td><td style = \"text-align: right;\">716067</td><td style = \"text-align: right;\">21700.0</td><td style = \"text-align: right;\">22300.0</td><td style = \"text-align: right;\">21650.0</td><td style = \"text-align: right;\">22300.0</td><td style = \"text-align: right;\">1.23102e7</td><td style = \"text-align: right;\">6.47145e6</td><td style = \"text-align: right;\">5.8387e6</td><td style = \"text-align: right;\">1062.0</td><td style = \"text-align: right;\">2.67779e11</td><td style = \"text-align: right;\">6.38158e13</td></tr><tr><td class = \"rowNumber\" style = \"font-weight: bold; text-align: right;\">784</td><td style = \"text-align: left;\">2023-03-29T10:00:02</td><td style = \"text-align: right;\">721352</td><td style = \"text-align: right;\">22300.0</td><td style = \"text-align: right;\">22460.0</td><td style = \"text-align: right;\">21830.0</td><td style = \"text-align: right;\">22350.0</td><td style = \"text-align: right;\">8.90627e7</td><td style = \"text-align: right;\">4.83729e7</td><td style = \"text-align: right;\">4.06897e7</td><td style = \"text-align: right;\">5285.0</td><td style = \"text-align: right;\">1.97621e12</td><td style = \"text-align: right;\">6.38158e13</td></tr><tr><td class = \"rowNumber\" style = \"font-weight: bold; text-align: right;\">785</td><td style = \"text-align: left;\">2023-03-29T11:00:05</td><td style = \"text-align: right;\">724828</td><td style = \"text-align: right;\">22350.0</td><td style = \"text-align: right;\">22600.0</td><td style = \"text-align: right;\">22060.0</td><td style = \"text-align: right;\">22320.0</td><td style = \"text-align: right;\">4.82026e7</td><td style = \"text-align: right;\">2.13375e7</td><td style = \"text-align: right;\">2.6865e7</td><td style = \"text-align: right;\">3476.0</td><td style = \"text-align: right;\">1.07795e12</td><td style = \"text-align: right;\">6.38158e13</td></tr><tr><td class = \"rowNumber\" style = \"font-weight: bold; text-align: right;\">786</td><td style = \"text-align: left;\">2023-03-29T12:00:02</td><td style = \"text-align: right;\">727918</td><td style = \"text-align: right;\">22330.0</td><td style = \"text-align: right;\">22740.0</td><td style = \"text-align: right;\">22270.0</td><td style = \"text-align: right;\">22460.0</td><td style = \"text-align: right;\">4.77357e7</td><td style = \"text-align: right;\">2.51418e7</td><td style = \"text-align: right;\">2.25939e7</td><td style = \"text-align: right;\">3090.0</td><td style = \"text-align: right;\">1.07402e12</td><td style = \"text-align: right;\">6.38158e13</td></tr></tbody></table></div>"
      ],
      "text/latex": [
       "\\begin{tabular}{r|cccccccc}\n",
       "\t& Date Time & Tick Number & Open & High & Low & Close & Cumulative Volume & \\\\\n",
       "\t\\hline\n",
       "\t& DateTime & Int64 & Float64 & Float64 & Float64 & Float64 & Float64 & \\\\\n",
       "\t\\hline\n",
       "\t1 & 2022-06-01T10:00:30 & 115 & 13170.0 & NaN & NaN & 12920.0 & 694823.0 & $\\dots$ \\\\\n",
       "\t2 & 2022-06-01T11:00:54 & 248 & 12900.0 & 13390.0 & 12880.0 & 13080.0 & 2.35437e6 & $\\dots$ \\\\\n",
       "\t3 & 2022-06-01T12:00:41 & 372 & 13080.0 & 13170.0 & 13030.0 & 13070.0 & 1.63291e6 & $\\dots$ \\\\\n",
       "\t4 & 2022-06-06T09:05:45 & 476 & 13080.0 & 13200.0 & 13000.0 & 13200.0 & 1.48293e6 & $\\dots$ \\\\\n",
       "\t5 & 2022-06-06T10:00:03 & 739 & 12920.0 & 13170.0 & 12220.0 & 12460.0 & 3.26525e6 & $\\dots$ \\\\\n",
       "\t6 & 2022-06-06T11:00:34 & 930 & 12480.0 & 12580.0 & 12260.0 & 12580.0 & 1.75886e6 & $\\dots$ \\\\\n",
       "\t7 & 2022-06-06T12:00:45 & 1030 & 12570.0 & 12570.0 & 12330.0 & 12420.0 & 791530.0 & $\\dots$ \\\\\n",
       "\t8 & 2022-06-07T09:03:00 & 1153 & 12420.0 & 12770.0 & 12300.0 & 12770.0 & 1.10525e6 & $\\dots$ \\\\\n",
       "\t9 & 2022-06-07T10:00:21 & 1305 & 12770.0 & 12770.0 & 12370.0 & 12560.0 & 1.99117e6 & $\\dots$ \\\\\n",
       "\t10 & 2022-06-07T11:00:30 & 1469 & 12560.0 & 12700.0 & 12450.0 & 12450.0 & 2.9292e6 & $\\dots$ \\\\\n",
       "\t11 & 2022-06-07T12:00:39 & 1598 & 12450.0 & 12510.0 & 12300.0 & 12340.0 & 795006.0 & $\\dots$ \\\\\n",
       "\t12 & 2022-06-08T09:03:00 & 1667 & 12350.0 & 12450.0 & 12300.0 & 12450.0 & 567640.0 & $\\dots$ \\\\\n",
       "\t13 & 2022-06-08T10:01:12 & 1856 & 12450.0 & 12750.0 & 12430.0 & 12580.0 & 3.01675e6 & $\\dots$ \\\\\n",
       "\t14 & 2022-06-08T11:02:05 & 2004 & 12580.0 & 12700.0 & 12420.0 & 12560.0 & 3.74457e6 & $\\dots$ \\\\\n",
       "\t15 & 2022-06-08T12:01:35 & 2094 & 12520.0 & 12590.0 & 12450.0 & 12530.0 & 761683.0 & $\\dots$ \\\\\n",
       "\t16 & 2022-06-11T09:03:00 & 2207 & 12530.0 & 12630.0 & 12530.0 & 12590.0 & 768235.0 & $\\dots$ \\\\\n",
       "\t17 & 2022-06-11T10:01:27 & 2362 & 12590.0 & 12590.0 & 12250.0 & 12370.0 & 2.048e6 & $\\dots$ \\\\\n",
       "\t18 & 2022-06-11T11:00:53 & 2716 & 12370.0 & 12400.0 & 12210.0 & 12310.0 & 1.00774e7 & $\\dots$ \\\\\n",
       "\t19 & 2022-06-11T12:00:26 & 2893 & 12320.0 & 12370.0 & 12200.0 & 12200.0 & 2.63592e6 & $\\dots$ \\\\\n",
       "\t20 & 2022-06-12T09:03:00 & 3089 & 12220.0 & 12250.0 & 12020.0 & 12120.0 & 2.06849e6 & $\\dots$ \\\\\n",
       "\t21 & 2022-06-12T10:00:05 & 3477 & 12120.0 & 12420.0 & 12100.0 & 12340.0 & 9.58366e6 & $\\dots$ \\\\\n",
       "\t22 & 2022-06-12T11:00:03 & 3936 & 12340.0 & 12770.0 & 12300.0 & 12750.0 & 8.57989e6 & $\\dots$ \\\\\n",
       "\t23 & 2022-06-12T12:00:04 & 4360 & 12750.0 & 12750.0 & 12580.0 & 12700.0 & 1.21352e7 & $\\dots$ \\\\\n",
       "\t24 & 2022-06-13T09:03:00 & 4561 & 12700.0 & 13010.0 & 12690.0 & 13010.0 & 1.76232e6 & $\\dots$ \\\\\n",
       "\t$\\dots$ & $\\dots$ & $\\dots$ & $\\dots$ & $\\dots$ & $\\dots$ & $\\dots$ & $\\dots$ &  \\\\\n",
       "\\end{tabular}\n"
      ],
      "text/plain": [
       "\u001b[1m786×12 DataFrame\u001b[0m\n",
       "\u001b[1m Row \u001b[0m│\u001b[1m Date Time           \u001b[0m\u001b[1m Tick Number \u001b[0m\u001b[1m Open    \u001b[0m\u001b[1m High    \u001b[0m\u001b[1m Low     \u001b[0m\u001b[1m Close   \u001b[0m\u001b[1m C\u001b[0m ⋯\n",
       "     │\u001b[90m DateTime            \u001b[0m\u001b[90m Int64       \u001b[0m\u001b[90m Float64 \u001b[0m\u001b[90m Float64 \u001b[0m\u001b[90m Float64 \u001b[0m\u001b[90m Float64 \u001b[0m\u001b[90m F\u001b[0m ⋯\n",
       "─────┼──────────────────────────────────────────────────────────────────────────\n",
       "   1 │ 2022-06-01T10:00:30          115  13170.0    NaN      NaN    12920.0    ⋯\n",
       "   2 │ 2022-06-01T11:00:54          248  12900.0  13390.0  12880.0  13080.0\n",
       "   3 │ 2022-06-01T12:00:41          372  13080.0  13170.0  13030.0  13070.0\n",
       "   4 │ 2022-06-06T09:05:45          476  13080.0  13200.0  13000.0  13200.0\n",
       "   5 │ 2022-06-06T10:00:03          739  12920.0  13170.0  12220.0  12460.0    ⋯\n",
       "   6 │ 2022-06-06T11:00:34          930  12480.0  12580.0  12260.0  12580.0\n",
       "   7 │ 2022-06-06T12:00:45         1030  12570.0  12570.0  12330.0  12420.0\n",
       "   8 │ 2022-06-07T09:03:00         1153  12420.0  12770.0  12300.0  12770.0\n",
       "  ⋮  │          ⋮                ⋮          ⋮        ⋮        ⋮        ⋮       ⋱\n",
       " 780 │ 2023-03-28T10:00:01       710832  21790.0  22370.0  21460.0  21630.0    ⋯\n",
       " 781 │ 2023-03-28T11:00:16       713015  21650.0  21760.0  21350.0  21560.0\n",
       " 782 │ 2023-03-28T12:00:00       715005  21560.0  21900.0  21470.0  21700.0\n",
       " 783 │ 2023-03-29T09:03:00       716067  21700.0  22300.0  21650.0  22300.0\n",
       " 784 │ 2023-03-29T10:00:02       721352  22300.0  22460.0  21830.0  22350.0    ⋯\n",
       " 785 │ 2023-03-29T11:00:05       724828  22350.0  22600.0  22060.0  22320.0\n",
       " 786 │ 2023-03-29T12:00:02       727918  22330.0  22740.0  22270.0  22460.0\n",
       "\u001b[36m                                                  6 columns and 771 rows omitted\u001b[0m"
      ]
     },
     "metadata": {},
     "output_type": "display_data"
    }
   ],
   "source": [
    "@time timeBars = handleInput(\n",
    "    \"TimeBars\",\n",
    "    Dict(=\n",
    "        Symbol(\"resolutionType\") => \"H\",\n",
    "        Symbol(\"resolutionUnits\") => 1,\n",
    "    ),\n",
    "    data,\n",
    "    batchSize=1_000_000,  \n",
    ")\n",
    "\n",
    "timeBars"
   ]
  }
 ],
 "metadata": {
  "kernelspec": {
   "display_name": "Julia 1.8.1",
   "language": "julia",
   "name": "julia-1.8"
  },
  "language_info": {
   "file_extension": ".jl",
   "mimetype": "application/julia",
   "name": "julia",
   "version": "1.8.1"
  },
  "orig_nbformat": 4,
  "vscode": {
   "interpreter": {
    "hash": "2ff50100434cc479892626f133397731c49cdeb5620cb5b4c3a938fe7a88ca82"
   }
  }
 },
 "nbformat": 4,
 "nbformat_minor": 2
}
